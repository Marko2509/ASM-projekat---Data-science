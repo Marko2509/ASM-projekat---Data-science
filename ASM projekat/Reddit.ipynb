{
 "cells": [
  {
   "cell_type": "code",
   "execution_count": 2,
   "id": "914f6f70",
   "metadata": {},
   "outputs": [],
   "source": [
    "import networkx as nx\n",
    "import pandas as pd\n",
    "import numpy as np\n",
    "import matplotlib.pyplot as plt\n",
    "import pickle"
   ]
  },
  {
   "cell_type": "code",
   "execution_count": 158,
   "id": "5c734137",
   "metadata": {},
   "outputs": [
    {
     "data": {
      "text/html": [
       "<style>.container { width:95% !important; }</style>"
      ],
      "text/plain": [
       "<IPython.core.display.HTML object>"
      ]
     },
     "metadata": {},
     "output_type": "display_data"
    },
    {
     "name": "stderr",
     "output_type": "stream",
     "text": [
      "C:\\Users\\Marina\\anaconda3\\lib\\site-packages\\pandas\\core\\reshape\\concat.py:348: DtypeWarning: Columns (11) have mixed types.Specify dtype option on import or set low_memory=False.\n",
      "  objs = list(objs)\n"
     ]
    },
    {
     "name": "stdout",
     "output_type": "stream",
     "text": [
      "            id  \\\n",
      "0        648oo   \n",
      "1        648op   \n",
      "3        648or   \n",
      "4        648os   \n",
      "5        648ot   \n",
      "...        ...   \n",
      "2519847  7amgd   \n",
      "2519848  7amge   \n",
      "2519850  7amgg   \n",
      "2519851  7amgh   \n",
      "2519852  7amgi   \n",
      "\n",
      "                                                                                                            url  \\\n",
      "0                                                        http://www.ignorancedenied.com/viewthread.php?tid=6390   \n",
      "1                                                                           http://www.flascience.org/wp/?p=363   \n",
      "3        http://hosted.ap.org/dynamic/stories/O/ODD_SHOWER_DOG?SITE=AZMES&amp;SECTION=HOME&amp;TEMPLATE=DEFAULT   \n",
      "4                                                         http://www.sltrib.com/opinion/ci_7846101?source=email   \n",
      "5        http://hosted.ap.org/dynamic/stories/O/ODD_RARE_PEARL?SITE=AZMES&amp;SECTION=HOME&amp;TEMPLATE=DEFAULT   \n",
      "...                                                                                                         ...   \n",
      "2519847                                                           http://news.bbc.co.uk/2/hi/health/7699579.stm   \n",
      "2519848                                                       http://www.commondreams.org/headline/2008/10/30-9   \n",
      "2519850                        http://computerblogshots.7dayshootout.com/computers/3-tips-protect-important-pc/   \n",
      "2519851                                  http://www.comedy.com/blog/2008/10/30/the-13-worst-mythical-creatures/   \n",
      "2519852                                                                    http://hot-anal-sex-com.blogspot.com   \n",
      "\n",
      "                                                                             permalink  \\\n",
      "0         /r/reddit.com/comments/648oo/brain_disease_is_present_in_most_seniors_human/   \n",
      "1                 /r/science/comments/648op/three_more_florida_counties_infected_with/   \n",
      "3               /r/reddit.com/comments/648or/nude_couple_grapple_over_dog_near_shower/   \n",
      "4          /r/politics/comments/648os/apparently_bushs_problem_is_that_we_havent_been/   \n",
      "5               /r/reddit.com/comments/648ot/diners_find_rare_pearl_in_plate_of_clams/   \n",
      "...                                                                                ...   \n",
      "2519847    /r/Health/comments/7amgd/light_drinking_no_risk_to_baby_but_pregnant_women/   \n",
      "2519848  /r/BlackOps/comments/7amge/oil_company_bonanza_continues_with_record_profits/   \n",
      "2519850    /r/reddit.com/comments/7amgg/3_tips_to_protect_important_things_on_your_pc/   \n",
      "2519851                     /r/offbeat/comments/7amgh/the_13_worst_mythical_creatures/   \n",
      "2519852         /r/reddit.com/comments/7amgi/porno_adult_movie_hot_videos_movies_sexy/   \n",
      "\n",
      "               author  created_utc   subreddit subreddit_id  num_comments  \\\n",
      "0               DITUS   1199145615  reddit.com         t5_6             1   \n",
      "1              rmuser   1199145634     science      t5_mouw             5   \n",
      "3               zorno   1199145709  reddit.com         t5_6             1   \n",
      "4              rmuser   1199145735    politics     t5_2cneq             2   \n",
      "5               zorno   1199145735  reddit.com         t5_6             0   \n",
      "...               ...          ...         ...          ...           ...   \n",
      "2519847     hunkydude   1225497545      Health     t5_2qh9z             0   \n",
      "2519848  violetplanet   1225497549    BlackOps     t5_2qhwv             0   \n",
      "2519850    justblogit   1225497564  reddit.com         t5_6             1   \n",
      "2519851  guillebravo6   1225497573     offbeat     t5_2qh11             5   \n",
      "2519852     qazamisan   1225497591  reddit.com         t5_6             0   \n",
      "\n",
      "         score  over_18  \n",
      "0            0    False  \n",
      "1           20    False  \n",
      "3            3    False  \n",
      "4            0    False  \n",
      "5            0    False  \n",
      "...        ...      ...  \n",
      "2519847      0    False  \n",
      "2519848      1    False  \n",
      "2519850      0    False  \n",
      "2519851      2    False  \n",
      "2519852      0    False  \n",
      "\n",
      "[2044810 rows x 10 columns]\n"
     ]
    }
   ],
   "source": [
    "from IPython.core.display import display, HTML\n",
    "display(HTML(\"<style>.container { width:95% !important; }</style>\"))\n",
    "\n",
    "import pandas as pd\n",
    "import glob\n",
    "\n",
    "#Ucitavanje podataka o objavama u dataframe\n",
    "path = r'ASM_PZ2_podaci_2122/reddit2008/submissions_2008_asm' # use your path\n",
    "all_files = glob.glob(path + \"/*.csv\")\n",
    "\n",
    "df_from_each_file = (pd.read_csv(f) for f in all_files)\n",
    "df   = pd.concat(df_from_each_file, ignore_index=True)\n",
    "df = df[df.author != '[deleted]']\n",
    "df = df.loc[:, ~df.columns.str.contains('^Unnamed')] #brisanje bezimenih kolona, ovo je prva kolona u svakom csv-u i predstavlja id reda ali se broji otpocetka za svaki csv tako da ne sluzi nicemu\n",
    "df.drop('distinguished', inplace=True, axis=1)\n",
    "df.drop('domain', inplace=True, axis=1)\n",
    "df.drop('stickied', inplace=True, axis=1)\n",
    "df.drop('locked', inplace=True, axis=1)\n",
    "df.drop('hide_score', inplace=True, axis=1)\n",
    "\n",
    "print(df)\n"
   ]
  },
  {
   "cell_type": "code",
   "execution_count": 159,
   "id": "2b3c4c13",
   "metadata": {},
   "outputs": [
    {
     "name": "stdout",
     "output_type": "stream",
     "text": [
      "False\n",
      "False\n"
     ]
    }
   ],
   "source": [
    "print(df['id'].isnull().values.any()) #da li ima praznih \n",
    "print(df['id'].is_unique) #da li su jedinstveni"
   ]
  },
  {
   "cell_type": "code",
   "execution_count": 160,
   "id": "dd578ba0",
   "metadata": {},
   "outputs": [],
   "source": [
    "df['row_id'] = df.index #indeks property je ona hidden kolona sa automatski generisanim brojevima redova\n",
    "#print(df['row_id'].head())\n",
    "#print(df.head())"
   ]
  },
  {
   "cell_type": "code",
   "execution_count": 161,
   "id": "0b0801ff",
   "metadata": {},
   "outputs": [
    {
     "name": "stdout",
     "output_type": "stream",
     "text": [
      "<class 'pandas.core.series.Series'>\n",
      "id\n",
      "6.40E+04    1\n",
      "6.40E+05    1\n",
      "6.40E+06    1\n",
      "6.40E+07    1\n",
      "6.40E+08    1\n",
      "           ..\n",
      "7mq3n       1\n",
      "7mq3o       1\n",
      "7mq3q       1\n",
      "7mq3r       1\n",
      "7mq3v       1\n",
      "Name: row_id, Length: 2044797, dtype: int64\n"
     ]
    }
   ],
   "source": [
    "import numpy as np\n",
    "\n",
    "# Selekcija samo kolona 'id' i 'row_id' i grupisanje po id \n",
    "data_grupisano = df[['id', 'row_id']].groupby('id') #grupise po match id i u svakoj onda moze biti 1 ili vise istih id\n",
    "\n",
    "# agg() radi agregaciju, u ovom slučaju po broju elemenata u grupi (np.size vrati broj elemenata u grupi)\n",
    "data_agregirano = data_grupisano['row_id'].agg(np.size)\n",
    "print(type(data_agregirano))\n",
    "print(data_agregirano)"
   ]
  },
  {
   "cell_type": "code",
   "execution_count": 162,
   "id": "3552915b",
   "metadata": {},
   "outputs": [
    {
     "name": "stdout",
     "output_type": "stream",
     "text": [
      "id\n",
      "6.50E+02    2\n",
      "6.50E+03    2\n",
      "6.50E+04    2\n",
      "6.50E+06    2\n",
      "6.50E+07    2\n",
      "6.50E+08    2\n",
      "6.50E+11    2\n",
      "6.60E+02    2\n",
      "6.60E+03    2\n",
      "6.60E+05    2\n",
      "6.60E+07    2\n",
      "6.60E+09    2\n",
      "6.60E+10    2\n",
      "Name: row_id, dtype: int64\n"
     ]
    }
   ],
   "source": [
    "data_nonunique = data_agregirano[data_agregirano > 1]\n",
    "print(data_nonunique)"
   ]
  },
  {
   "cell_type": "code",
   "execution_count": 163,
   "id": "ffed0350",
   "metadata": {},
   "outputs": [
    {
     "name": "stdout",
     "output_type": "stream",
     "text": [
      "id\n",
      "6.50E+02    2\n",
      "6.50E+03    2\n",
      "6.50E+04    2\n",
      "6.50E+06    2\n",
      "6.50E+07    2\n",
      "6.50E+08    2\n",
      "6.50E+11    2\n",
      "6.60E+02    2\n",
      "6.60E+03    2\n",
      "6.60E+05    2\n",
      "6.60E+07    2\n",
      "6.60E+09    2\n",
      "6.60E+10    2\n",
      "Name: row_id, dtype: int64\n",
      "6.50E+02\n"
     ]
    }
   ],
   "source": [
    "trazeni = data_nonunique[data_nonunique == data_nonunique.max()]\n",
    "print(trazeni)\n",
    "target_match_id = trazeni.keys()[0]\n",
    "print(target_match_id)"
   ]
  },
  {
   "cell_type": "code",
   "execution_count": 164,
   "id": "6eef2751",
   "metadata": {},
   "outputs": [
    {
     "name": "stdout",
     "output_type": "stream",
     "text": [
      "             id  \\\n",
      "35894  6.50E+02   \n",
      "53532  6.50E+02   \n",
      "\n",
      "                                                                                                            url  \\\n",
      "35894  http://arstechnica.com/news.ars/post/20080109-apple-lowers-uk-itunes-prices-points-finger-at-labels.html   \n",
      "53532                                   http://services.inquirer.net/print/print.php?article_id=20080113-112069   \n",
      "\n",
      "                                                                             permalink  \\\n",
      "35894  /r/entertainment/comments/650e0/apple_lowers_uk_itunes_prices_points_finger_at/   \n",
      "53532  /r/reddit.com/comments/65e01/economists_in_global_search_for_keys_to_happiness/   \n",
      "\n",
      "            author  created_utc      subreddit subreddit_id  num_comments  \\\n",
      "35894      fthead9   1199903082  entertainment     t5_2qh0f             0   \n",
      "53532  ScrewDriver   1200269649     reddit.com         t5_6             0   \n",
      "\n",
      "       score  over_18  row_id  \n",
      "35894      2    False   35894  \n",
      "53532      0    False   53532  \n",
      "(2, 11)\n"
     ]
    }
   ],
   "source": [
    "data_target = df[df['id'] == target_match_id]\n",
    "print(data_target)\n",
    "print(data_target.shape)"
   ]
  },
  {
   "cell_type": "code",
   "execution_count": 165,
   "id": "377410f5",
   "metadata": {},
   "outputs": [],
   "source": [
    "# Opet radimo sa početnom tabelom koja nema dodatu kolonu 'id'! Zato drop-ujemo kolonu 'id', posle ćemo je opet dodati.\n",
    "\n",
    "#if 'row_id' in df.columns:\n",
    "#    df = df.drop(['row_id'], axis=1) #axis = 1 znači da traži među labelama kolona, 0 medju redovima\n",
    "#data = data.drop_duplicates() #ovo brise redove koji su skroz identicni\n",
    "#df = df.drop_duplicates(subset='id', keep=\"first\") #ovo brise redove koji imaju nejedinstvenu id kolonu (zadrzava prvi, ostale brise)\n"
   ]
  },
  {
   "cell_type": "code",
   "execution_count": 166,
   "id": "ca29e1fa",
   "metadata": {},
   "outputs": [
    {
     "name": "stdout",
     "output_type": "stream",
     "text": [
      "(2044810, 11)\n",
      "            id  \\\n",
      "0        648oo   \n",
      "1        648op   \n",
      "3        648or   \n",
      "4        648os   \n",
      "5        648ot   \n",
      "...        ...   \n",
      "2519847  7amgd   \n",
      "2519848  7amge   \n",
      "2519850  7amgg   \n",
      "2519851  7amgh   \n",
      "2519852  7amgi   \n",
      "\n",
      "                                                                                                            url  \\\n",
      "0                                                        http://www.ignorancedenied.com/viewthread.php?tid=6390   \n",
      "1                                                                           http://www.flascience.org/wp/?p=363   \n",
      "3        http://hosted.ap.org/dynamic/stories/O/ODD_SHOWER_DOG?SITE=AZMES&amp;SECTION=HOME&amp;TEMPLATE=DEFAULT   \n",
      "4                                                         http://www.sltrib.com/opinion/ci_7846101?source=email   \n",
      "5        http://hosted.ap.org/dynamic/stories/O/ODD_RARE_PEARL?SITE=AZMES&amp;SECTION=HOME&amp;TEMPLATE=DEFAULT   \n",
      "...                                                                                                         ...   \n",
      "2519847                                                           http://news.bbc.co.uk/2/hi/health/7699579.stm   \n",
      "2519848                                                       http://www.commondreams.org/headline/2008/10/30-9   \n",
      "2519850                        http://computerblogshots.7dayshootout.com/computers/3-tips-protect-important-pc/   \n",
      "2519851                                  http://www.comedy.com/blog/2008/10/30/the-13-worst-mythical-creatures/   \n",
      "2519852                                                                    http://hot-anal-sex-com.blogspot.com   \n",
      "\n",
      "                                                                             permalink  \\\n",
      "0         /r/reddit.com/comments/648oo/brain_disease_is_present_in_most_seniors_human/   \n",
      "1                 /r/science/comments/648op/three_more_florida_counties_infected_with/   \n",
      "3               /r/reddit.com/comments/648or/nude_couple_grapple_over_dog_near_shower/   \n",
      "4          /r/politics/comments/648os/apparently_bushs_problem_is_that_we_havent_been/   \n",
      "5               /r/reddit.com/comments/648ot/diners_find_rare_pearl_in_plate_of_clams/   \n",
      "...                                                                                ...   \n",
      "2519847    /r/Health/comments/7amgd/light_drinking_no_risk_to_baby_but_pregnant_women/   \n",
      "2519848  /r/BlackOps/comments/7amge/oil_company_bonanza_continues_with_record_profits/   \n",
      "2519850    /r/reddit.com/comments/7amgg/3_tips_to_protect_important_things_on_your_pc/   \n",
      "2519851                     /r/offbeat/comments/7amgh/the_13_worst_mythical_creatures/   \n",
      "2519852         /r/reddit.com/comments/7amgi/porno_adult_movie_hot_videos_movies_sexy/   \n",
      "\n",
      "               author  created_utc   subreddit subreddit_id  num_comments  \\\n",
      "0               DITUS   1199145615  reddit.com         t5_6             1   \n",
      "1              rmuser   1199145634     science      t5_mouw             5   \n",
      "3               zorno   1199145709  reddit.com         t5_6             1   \n",
      "4              rmuser   1199145735    politics     t5_2cneq             2   \n",
      "5               zorno   1199145735  reddit.com         t5_6             0   \n",
      "...               ...          ...         ...          ...           ...   \n",
      "2519847     hunkydude   1225497545      Health     t5_2qh9z             0   \n",
      "2519848  violetplanet   1225497549    BlackOps     t5_2qhwv             0   \n",
      "2519850    justblogit   1225497564  reddit.com         t5_6             1   \n",
      "2519851  guillebravo6   1225497573     offbeat     t5_2qh11             5   \n",
      "2519852     qazamisan   1225497591  reddit.com         t5_6             0   \n",
      "\n",
      "         score  over_18   row_id  \n",
      "0            0    False        0  \n",
      "1           20    False        1  \n",
      "3            3    False        3  \n",
      "4            0    False        4  \n",
      "5            0    False        5  \n",
      "...        ...      ...      ...  \n",
      "2519847      0    False  2519847  \n",
      "2519848      1    False  2519848  \n",
      "2519850      0    False  2519850  \n",
      "2519851      2    False  2519851  \n",
      "2519852      0    False  2519852  \n",
      "\n",
      "[2044810 rows x 11 columns]\n"
     ]
    }
   ],
   "source": [
    "#if 'id' in df.columns:     #ovo sam zakomentarisala!! jer ce nam trebati posle taj id zbog usernet \n",
    "                            #(ne moze se samo staviti rowid umesto id)\n",
    "#    df = df.drop(['id'], axis = 1)      #ovo sam zakomentarisala!! jer ce nam trebati posle taj id zbog usernet\n",
    "#df['row_id'] = df.index\n",
    "print(df.shape)\n",
    "\n",
    "print(df)"
   ]
  },
  {
   "cell_type": "code",
   "execution_count": 167,
   "id": "ee469181",
   "metadata": {},
   "outputs": [
    {
     "data": {
      "text/plain": [
       "id              False\n",
       "url             False\n",
       "permalink       False\n",
       "author          False\n",
       "created_utc     False\n",
       "subreddit       False\n",
       "subreddit_id    False\n",
       "num_comments    False\n",
       "score           False\n",
       "over_18         False\n",
       "row_id          False\n",
       "dtype: bool"
      ]
     },
     "execution_count": 167,
     "metadata": {},
     "output_type": "execute_result"
    }
   ],
   "source": [
    "df.isna().any() #prazan je distinguished koji sam izbacila"
   ]
  },
  {
   "cell_type": "code",
   "execution_count": 168,
   "id": "c3528f0f",
   "metadata": {},
   "outputs": [
    {
     "name": "stdout",
     "output_type": "stream",
     "text": [
      "id              object\n",
      "url             object\n",
      "permalink       object\n",
      "author          object\n",
      "created_utc      int64\n",
      "subreddit       object\n",
      "subreddit_id    object\n",
      "num_comments     int64\n",
      "score            int64\n",
      "over_18           bool\n",
      "row_id           int64\n",
      "dtype: object\n"
     ]
    }
   ],
   "source": [
    "print(df.dtypes)"
   ]
  },
  {
   "cell_type": "code",
   "execution_count": 169,
   "id": "ee9446b9",
   "metadata": {},
   "outputs": [],
   "source": [
    "import pickle\n",
    "\n",
    "with open(\"ASM_PZ2_podaci_2122/reddit2008/submissions_2008_asm/data_cleaned\", 'wb') as file:  #cuvanje preciscenih podataka\n",
    "    pickle.dump(df, file)"
   ]
  },
  {
   "cell_type": "code",
   "execution_count": 170,
   "id": "52cdaadd",
   "metadata": {
    "scrolled": true
   },
   "outputs": [
    {
     "name": "stderr",
     "output_type": "stream",
     "text": [
      "C:\\Users\\Marina\\anaconda3\\lib\\site-packages\\pandas\\core\\reshape\\concat.py:348: DtypeWarning: Columns (9) have mixed types.Specify dtype option on import or set low_memory=False.\n",
      "  objs = list(objs)\n"
     ]
    },
    {
     "name": "stdout",
     "output_type": "stream",
     "text": [
      "              id               author   link_id   parent_id  created_utc  \\\n",
      "0        c02s9s6                Haven  t3_648oh  t1_c02s9rv   1199145604   \n",
      "2        c02s9s8             lilmiss2  t3_648oh  t1_c02s9rv   1199145620   \n",
      "6        c02s9sc  EverybodysAnAsshole  t3_648et  t1_c02s976   1199145644   \n",
      "7        c02s9sd             generalk  t3_647yd  t1_c02s8md   1199145647   \n",
      "8        c02s9se            seeker135  t3_6483n    t3_6483n   1199145650   \n",
      "...          ...                  ...       ...         ...          ...   \n",
      "7242866  c064gsy         rhythmicidea  t3_7amdg  t1_c064gqo   1225497583   \n",
      "7242867  c064gsz       blackwhitegrey  t3_7ajij    t3_7ajij   1225497586   \n",
      "7242868  c064gt0           Drewster58  t3_7amg7    t3_7amg7   1225497590   \n",
      "7242869  c064gt1               eerock  t3_7akoc    t3_7akoc   1225497593   \n",
      "7242870  c064gt2               mycall  t3_7ajjm    t3_7ajjm   1225497599   \n",
      "\n",
      "           subreddit subreddit_id  score  \n",
      "0         reddit.com         t5_6      4  \n",
      "2         reddit.com         t5_6      2  \n",
      "6         reddit.com         t5_6      2  \n",
      "7        programming      t5_2fwo     13  \n",
      "8           politics     t5_2cneq      4  \n",
      "...              ...          ...    ...  \n",
      "7242866     politics     t5_2cneq      1  \n",
      "7242867   reddit.com         t5_6      0  \n",
      "7242868   reddit.com         t5_6      1  \n",
      "7242869     politics     t5_2cneq      2  \n",
      "7242870    AskReddit     t5_2qh1i      2  \n",
      "\n",
      "[4873690 rows x 8 columns]\n"
     ]
    }
   ],
   "source": [
    "pathComments = r'ASM_PZ2_podaci_2122/reddit2008/comments_2008_asm_v1.1/comments_2008' # use your path\n",
    "all_filesComments = glob.glob(pathComments + \"/*.csv\")\n",
    "\n",
    "df_from_each_fileComments = (pd.read_csv(f) for f in all_filesComments)\n",
    "dfComments   = pd.concat(df_from_each_fileComments, ignore_index=True)\n",
    "dfComments = dfComments[dfComments.author != '[deleted]']\n",
    "dfComments = dfComments.loc[:, ~dfComments.columns.str.contains('^Unnamed')]\n",
    "dfComments.drop('distinguished', inplace=True, axis=1)\n",
    "dfComments.drop('gilded', inplace=True, axis=1)\n",
    "dfComments.drop('controversiality', inplace=True, axis=1)\n",
    "\n",
    "print(dfComments)"
   ]
  },
  {
   "cell_type": "code",
   "execution_count": 171,
   "id": "85181e31",
   "metadata": {},
   "outputs": [
    {
     "name": "stdout",
     "output_type": "stream",
     "text": [
      "True\n",
      "True\n"
     ]
    }
   ],
   "source": [
    "print(dfComments['id'].isnull().values.any()) #da li ima praznih \n",
    "print(dfComments['id'].is_unique)"
   ]
  },
  {
   "cell_type": "code",
   "execution_count": 172,
   "id": "b04725b4",
   "metadata": {},
   "outputs": [
    {
     "data": {
      "text/plain": [
       "id               True\n",
       "author          False\n",
       "link_id         False\n",
       "parent_id       False\n",
       "created_utc     False\n",
       "subreddit       False\n",
       "subreddit_id    False\n",
       "score           False\n",
       "dtype: bool"
      ]
     },
     "execution_count": 172,
     "metadata": {},
     "output_type": "execute_result"
    }
   ],
   "source": [
    "dfComments.isna().any()"
   ]
  },
  {
   "cell_type": "code",
   "execution_count": 173,
   "id": "4c9d8550",
   "metadata": {},
   "outputs": [
    {
     "name": "stdout",
     "output_type": "stream",
     "text": [
      "          id     author   link_id parent_id  created_utc   subreddit  \\\n",
      "1717043  NaN  fuzzybunn  t3_7kef0    t1_k7p   1229661971  reddit.com   \n",
      "\n",
      "        subreddit_id  score  \n",
      "1717043         t5_6      1  \n"
     ]
    }
   ],
   "source": [
    "nan_rows = dfComments[dfComments['id'].isnull()]\n",
    "print(nan_rows)\n"
   ]
  },
  {
   "cell_type": "code",
   "execution_count": 174,
   "id": "3d6cddca",
   "metadata": {},
   "outputs": [
    {
     "name": "stdout",
     "output_type": "stream",
     "text": [
      "              id               author   link_id   parent_id  created_utc  \\\n",
      "0        c02s9s6                Haven  t3_648oh  t1_c02s9rv   1199145604   \n",
      "2        c02s9s8             lilmiss2  t3_648oh  t1_c02s9rv   1199145620   \n",
      "6        c02s9sc  EverybodysAnAsshole  t3_648et  t1_c02s976   1199145644   \n",
      "7        c02s9sd             generalk  t3_647yd  t1_c02s8md   1199145647   \n",
      "8        c02s9se            seeker135  t3_6483n    t3_6483n   1199145650   \n",
      "...          ...                  ...       ...         ...          ...   \n",
      "7242866  c064gsy         rhythmicidea  t3_7amdg  t1_c064gqo   1225497583   \n",
      "7242867  c064gsz       blackwhitegrey  t3_7ajij    t3_7ajij   1225497586   \n",
      "7242868  c064gt0           Drewster58  t3_7amg7    t3_7amg7   1225497590   \n",
      "7242869  c064gt1               eerock  t3_7akoc    t3_7akoc   1225497593   \n",
      "7242870  c064gt2               mycall  t3_7ajjm    t3_7ajjm   1225497599   \n",
      "\n",
      "           subreddit subreddit_id  score   row_id  \n",
      "0         reddit.com         t5_6      4        0  \n",
      "2         reddit.com         t5_6      2        2  \n",
      "6         reddit.com         t5_6      2        6  \n",
      "7        programming      t5_2fwo     13        7  \n",
      "8           politics     t5_2cneq      4        8  \n",
      "...              ...          ...    ...      ...  \n",
      "7242866     politics     t5_2cneq      1  7242866  \n",
      "7242867   reddit.com         t5_6      0  7242867  \n",
      "7242868   reddit.com         t5_6      1  7242868  \n",
      "7242869     politics     t5_2cneq      2  7242869  \n",
      "7242870    AskReddit     t5_2qh1i      2  7242870  \n",
      "\n",
      "[4873690 rows x 9 columns]\n"
     ]
    }
   ],
   "source": [
    "dfComments['row_id'] = dfComments.index\n",
    "#if 'id' in dfComments.columns:   #ovo sam zakomentarisala!! jer ce nam trebati posle taj id zbog usernet\n",
    "#    dfComments = dfComments.drop(['id'], axis = 1) #ovo sam zakomentarisala!! jer ce nam trebati posle taj id zbog usernet\n",
    "print(dfComments)"
   ]
  },
  {
   "cell_type": "code",
   "execution_count": 175,
   "id": "55290955",
   "metadata": {},
   "outputs": [
    {
     "name": "stdout",
     "output_type": "stream",
     "text": [
      "id              object\n",
      "author          object\n",
      "link_id         object\n",
      "parent_id       object\n",
      "created_utc      int64\n",
      "subreddit       object\n",
      "subreddit_id    object\n",
      "score            int64\n",
      "row_id           int64\n",
      "dtype: object\n"
     ]
    }
   ],
   "source": [
    "print(dfComments.dtypes)"
   ]
  },
  {
   "cell_type": "code",
   "execution_count": 176,
   "id": "134d8193",
   "metadata": {},
   "outputs": [],
   "source": [
    "with open(\"ASM_PZ2_podaci_2122/reddit2008/comments_2008_asm_v1.1/comments_2008/data_cleaned\", 'wb') as file:\n",
    "    pickle.dump(dfComments, file)\n",
    "    "
   ]
  },
  {
   "cell_type": "code",
   "execution_count": 180,
   "id": "d84e9185",
   "metadata": {},
   "outputs": [],
   "source": [
    "\n"
   ]
  },
  {
   "cell_type": "code",
   "execution_count": 6,
   "id": "e03e0619",
   "metadata": {},
   "outputs": [],
   "source": [
    "\n",
    "with open(\"ASM_PZ2_podaci_2122/reddit2008/comments_2008_asm_v1.1/comments_2008/data_cleaned\", 'rb') as file:\n",
    "    dfComments = pickle.load(file)\n",
    "    \n",
    "with open(\"ASM_PZ2_podaci_2122/reddit2008/submissions_2008_asm/data_cleaned\", 'rb') as file:\n",
    "    dfSubmissions = pickle.load(file)"
   ]
  },
  {
   "cell_type": "code",
   "execution_count": null,
   "id": "14499fb0",
   "metadata": {},
   "outputs": [],
   "source": []
  },
  {
   "cell_type": "code",
   "execution_count": 124,
   "id": "1cfc83aa",
   "metadata": {},
   "outputs": [
    {
     "name": "stdout",
     "output_type": "stream",
     "text": [
      "Postoji 4359 različitih subreddit-a\n"
     ]
    }
   ],
   "source": [
    "#Broj subreddit-a - provereno za mali skup od prvih 30 redova\n",
    "list_subreddits_sub = set(dfSubmissions['subreddit'].unique()) #moze i po subreddit_id\n",
    "list_subreddits_com = set(dfComments['subreddit'].unique())\n",
    "\n",
    "set_of_subreddits = list_subreddits_sub.union(list_subreddits_com)\n",
    "print(f\"Postoji { len(set_of_subreddits) } različitih subreddit-a\") # formatiranje ispisa pomoću fstringa\n",
    "\n",
    "#5032 sa deleted"
   ]
  },
  {
   "cell_type": "code",
   "execution_count": 183,
   "id": "b7065e91",
   "metadata": {},
   "outputs": [],
   "source": [
    "#dfgr=dfSubmissions.groupby('subreddit')['num_comments'].sum()\n",
    "#trazeni = dfgr[dfgr == dfgr.max()]\n",
    "#print(trazeni)"
   ]
  },
  {
   "cell_type": "code",
   "execution_count": 184,
   "id": "96f4cc74",
   "metadata": {},
   "outputs": [
    {
     "name": "stdout",
     "output_type": "stream",
     "text": [
      "reddit.com 1384707\n",
      "politics 820115\n",
      "programming 357758\n",
      "pics 292555\n",
      "science 281327\n",
      "worldnews 252849\n",
      "WTF 192130\n",
      "funny 184398\n",
      "technology 167204\n",
      "business 157685\n"
     ]
    }
   ],
   "source": [
    "#Najvazniji subredditi po broju komentara - provereno\n",
    "data_grupisano = dfSubmissions.groupby('subreddit')\n",
    "\n",
    "data_agregirano = data_grupisano['num_comments'].agg('sum')\n",
    "w=data_agregirano.nlargest(10)\n",
    "for index, val in w.iteritems():\n",
    "    print(index, val)"
   ]
  },
  {
   "cell_type": "code",
   "execution_count": 7,
   "id": "9d88f399",
   "metadata": {},
   "outputs": [
    {
     "name": "stdout",
     "output_type": "stream",
     "text": [
      "       subreddit  author\n",
      "0     reddit.com  163784\n",
      "1       politics   38377\n",
      "2           pics   29753\n",
      "3     technology   28337\n",
      "4          funny   28186\n",
      "5  entertainment   26361\n",
      "6        science   25855\n",
      "7    programming   25820\n",
      "8       business   25254\n",
      "9      worldnews   24937\n"
     ]
    }
   ],
   "source": [
    "#Najvazniji subredditi po broju korisnika - provereno\n",
    "\n",
    "dfComAndSub=pd.concat([dfSubmissions, dfComments], axis=0)\n",
    "data_grupisano = dfComAndSub.groupby('subreddit') \n",
    "data_grupisano = data_grupisano.agg({\"author\": \"nunique\"}) #nunique Count number of distinct elements\n",
    "\n",
    "#data_agregirano = data_grupisano['author'].agg('count')\n",
    "data_grupisano=data_grupisano.nlargest(10,'author')\n",
    "\n",
    "data_grupisano = data_grupisano.reset_index()\n",
    "\n",
    "print(data_grupisano)\n",
    "#for index, val in w.iteritems():\n",
    "#    print(index, val)\n"
   ]
  },
  {
   "cell_type": "code",
   "execution_count": 186,
   "id": "bd341d31",
   "metadata": {},
   "outputs": [
    {
     "name": "stdout",
     "output_type": "stream",
     "text": [
      "author    148.667814\n",
      "dtype: float64\n"
     ]
    }
   ],
   "source": [
    "#Prosecan broj korisnika po subredditu - provereno\n",
    "\n",
    "data_grupisano = dfComAndSub.groupby('subreddit') \n",
    "\n",
    "data_grupisano = data_grupisano.agg({\"author\": \"nunique\"})\n",
    "print(data_grupisano.mean()) #avg\n"
   ]
  },
  {
   "cell_type": "code",
   "execution_count": 51,
   "id": "a58bdcbc",
   "metadata": {},
   "outputs": [
    {
     "name": "stdout",
     "output_type": "stream",
     "text": [
      "185355\n",
      "gst 18870\n",
      "qgyh2 12238\n",
      "rmuser 9822\n",
      "twolf1 8597\n",
      "IAmperfectlyCalm 8308\n",
      "qazamisan 6927\n",
      "charlatan 5998\n",
      "igeldard 5373\n",
      "noname99 5334\n",
      "democracy101 5332\n"
     ]
    }
   ],
   "source": [
    "#korisnici sa najvećim brojem objava - provereno\n",
    "data_grupisano = dfSubmissions.groupby('author')\n",
    "data_grupisano = data_grupisano['row_id'].agg(np.size)\n",
    "#2. nacin data_grupisano = dfSubmissions.groupby('author').size()\n",
    "data_grupisano=data_grupisano.nlargest(10)\n",
    "#data_grupisano = data_grupisano.reset_index()\n",
    "#print(data_grupisano)\n",
    "for index, val in data_grupisano.iteritems():\n",
    "    print(index, val)\n"
   ]
  },
  {
   "cell_type": "code",
   "execution_count": 188,
   "id": "bb9a0031",
   "metadata": {},
   "outputs": [
    {
     "name": "stdout",
     "output_type": "stream",
     "text": [
      "NoMoreNicksLeft 13480\n",
      "malcontent 12159\n",
      "matts2 11672\n",
      "mexicodoug 9169\n",
      "7oby 9161\n",
      "aletoledo 8085\n",
      "mutatron 7771\n",
      "otakucode 7759\n",
      "redditcensoredme 7468\n",
      "h0dg3s 7439\n"
     ]
    }
   ],
   "source": [
    "# korisnici sa najvećim brojem komentara - provereno\n",
    "data_grupisano = dfComments.groupby('author')\n",
    "data_grupisano = data_grupisano['row_id'].agg(np.size)\n",
    "data_grupisano=data_grupisano.nlargest(10)\n",
    "for index, val in data_grupisano.iteritems():\n",
    "    print(index, val)\n",
    "    \n"
   ]
  },
  {
   "cell_type": "code",
   "execution_count": 189,
   "id": "6f8a156e",
   "metadata": {},
   "outputs": [
    {
     "name": "stdout",
     "output_type": "stream",
     "text": [
      "           author  subreddit\n",
      "0        MrKlaatu        181\n",
      "1        Escafane        154\n",
      "2       omfgninja        122\n",
      "3        codepoet        111\n",
      "4  scientologist2        111\n",
      "5    turkourjurbs        110\n",
      "6     Sylveran-01        107\n",
      "7           b34nz        107\n",
      "8      krugerlive        106\n",
      "9          tuoder        103\n"
     ]
    }
   ],
   "source": [
    "#Koji korisnici su aktivni na najvećem broju sabredita? Na koliko su sabredita aktivni? - provereno\n",
    "data_grupisano = dfComAndSub.groupby('author') \n",
    "data_grupisano = data_grupisano.agg({\"subreddit\": \"nunique\"})\n",
    "data_grupisano=data_grupisano.nlargest(10,'subreddit')\n",
    "data_grupisano = data_grupisano.reset_index()\n",
    "print(data_grupisano)\n",
    "\n",
    "#data_agregirano = data_grupisano['subreddit'].agg('count')\n",
    "#w=data_agregirano.nlargest(5)\n",
    "#for index, val in w.iteritems():\n",
    "#    print(index, val)\n",
    "    \n"
   ]
  },
  {
   "cell_type": "code",
   "execution_count": null,
   "id": "906b8a1a",
   "metadata": {},
   "outputs": [],
   "source": [
    "print(data_intersection_author_com)"
   ]
  },
  {
   "cell_type": "code",
   "execution_count": 8,
   "id": "9fa3a6ba",
   "metadata": {},
   "outputs": [
    {
     "name": "stdout",
     "output_type": "stream",
     "text": [
      "88573\n",
      "185355\n",
      "47279\n",
      "Pearsons correlation: 0.150\n"
     ]
    },
    {
     "data": {
      "image/png": "[encoded data removed]",
      "text/plain": [
       "<Figure size 432x288 with 1 Axes>"
      ]
     },
     "metadata": {
      "needs_background": "light"
     },
     "output_type": "display_data"
    }
   ],
   "source": [
    "#Kako su korelisani brojevi objava i brojevi komentara korisnika? Odrediti Pirsonov koeficijent korelacije i izvršiti vizuelizaciju.\n",
    "#PROVERITI!!!\n",
    "\n",
    "# brojevi komentara korisnika\n",
    "data_grupisanoC = dfComments.groupby('author')\n",
    "data_grupisanoC = data_grupisanoC['row_id'].agg(np.size)\n",
    "data_grupisanoC = data_grupisanoC.reset_index()\n",
    "#print(data_grupisanoC.values)\n",
    "#print(data_grupisanoC.value_counts())\n",
    "list_authors_com = set(data_grupisanoC['author'])\n",
    "print(len(list_authors_com))\n",
    "\n",
    "\n",
    "#brojevi objava korisnika\n",
    "data_grupisanoS = dfSubmissions.groupby('author')\n",
    "data_grupisanoS = data_grupisanoS['row_id'].agg(np.size)\n",
    "data_grupisanoS = data_grupisanoS.reset_index()\n",
    "list_authors_sub = set(data_grupisanoS['author'])\n",
    "print(len(list_authors_sub))\n",
    "\n",
    "#kao prvo moramo da izbacimo znacajan broj autora iz komentara/objava koji nisu u preseku (nisu i komentarisali i objavljivali), \n",
    "#samim tim korelacija je vec vidno smanjena.\n",
    "#broj jedinstvenih korisnika koji su komentarisali:88573\n",
    "#broj jedinstvenih korisnika koji su objavljivali:185355\n",
    "#broj jedinstvenih korisnika koji su komentarisali i objavljivali:47279, dakle ogroman broj korisnika je otpao, nisu korelisani\n",
    "#dalje se dobija koef. korelacija od korisnika koji su komentarisali i objavljivali 0.15 sto opet ukazuje na slabu korelaciju\n",
    "#The coefficient returns a value between -1 and 1 that represents the limits of correlation from a full negative correlation\n",
    "#to a full positive correlation. A value of 0 means no correlation. The value must be interpreted, where often a value below\n",
    "#-0.5 or above 0.5 indicates a notable correlation, and values below those values suggests a less notable correlation.\n",
    "\n",
    "list_intersection=list(list_authors_sub & list_authors_com)\n",
    "print(len(list_intersection))\n",
    "data_intersection_author_com=data_grupisanoC[data_grupisanoC['author'].isin(list_intersection)]\n",
    "data_intersection_author_sub=data_grupisanoS[data_grupisanoS['author'].isin(list_intersection)]\n",
    "#print(data_intersection_author_com)\n",
    "#print(data_intersection_author_sub)\n",
    "\n",
    "#from matplotlib import pyplot\n",
    "#data_intersection_author_com.plot(x='author', y='row_id', style='o')\n",
    "\n",
    "#pyplot.scatter(data_intersection_author_com, data_intersection_author_sub)\n",
    "#pyplot.show()\n",
    "\n",
    "from scipy.stats import pearsonr\n",
    "corr, _ = pearsonr(data_intersection_author_com['row_id'], data_intersection_author_sub['row_id'])\n",
    "print('Pearsons correlation: %.3f' % corr)\n",
    "\n",
    "plt.scatter(data_intersection_author_com['row_id'], data_intersection_author_sub['row_id'])\n",
    "plt.show() # Depending on whether you use IPython or interactive mode, etc.\n",
    "#a trebalo bi da bude jedna prava da su korelisani"
   ]
  },
  {
   "cell_type": "code",
   "execution_count": 10,
   "id": "99932e21",
   "metadata": {},
   "outputs": [
    {
     "name": "stdout",
     "output_type": "stream",
     "text": [
      "            id  \\\n",
      "1470752  6nz1k   \n",
      "2428144  78n1v   \n",
      "135995   675oj   \n",
      "326364   7beo2   \n",
      "1743984  6tvaz   \n",
      "1985077  6z2e2   \n",
      "1072149  6fccd   \n",
      "137102   676ja   \n",
      "2224242  7488a   \n",
      "1087277  6fo4i   \n",
      "\n",
      "                                                                                                            url  \\\n",
      "1470752                                                                               http://hundredpushups.com   \n",
      "2428144                                          http://www.time.com/time/nation/article/0,8599,1822455,00.html   \n",
      "135995   https://www.reddit.com/r/reddit.com/comments/675oj/post_the_funniest_joke_you_know_upmod_the_best_one/   \n",
      "326364                              https://www.reddit.com/r/politics/comments/7beo2/obama_wins_the_presidency/   \n",
      "1743984      https://www.reddit.com/r/politics/comments/6tvaz/im_a_bleedingheart_liberal_but_am_i_the_only_one/   \n",
      "1985077            http://www.nytimes.com/reuters/us/international-usa-politics-palin.html?_r=1&amp;oref=slogin   \n",
      "1072149                                                                 http://www.london-airport-shuttle.co.uk   \n",
      "137102                      http://www.washingtonpost.com/wp-dyn/content/custom/2006/02/02/CU2006020201345.html   \n",
      "2224242                                                                  http://www.msnbc.msn.com/id/26884523/?   \n",
      "1087277                                        https://www.reddit.com/r/reddit.com/comments/6fo4i/ask_a_muslim/   \n",
      "\n",
      "                                                                                permalink  \\\n",
      "1470752        /r/science/comments/6nz1k/got_six_weeks_try_the_hundred_push_ups_training/   \n",
      "2428144              /r/WTF/comments/78n1v/a_black_community_in_oh_goes_50_years_without/   \n",
      "135995   /r/reddit.com/comments/675oj/post_the_funniest_joke_you_know_upmod_the_best_one/   \n",
      "326364                              /r/politics/comments/7beo2/obama_wins_the_presidency/   \n",
      "1743984      /r/politics/comments/6tvaz/im_a_bleedingheart_liberal_but_am_i_the_only_one/   \n",
      "1985077              /r/reddit.com/comments/6z2e2/palin_says_her_daughter_17_is_pregnant/   \n",
      "1072149                              /r/reddit.com/comments/6fccd/airport_dover_transfer/   \n",
      "137102          /r/reddit.com/comments/676ja/new_study_confirms_that_32_of_americans_are/   \n",
      "2224242        /r/politics/comments/7488a/bailout_does_not_pass_vote_206_yea_227_nay_dow/   \n",
      "1087277                                        /r/reddit.com/comments/6fo4i/ask_a_muslim/   \n",
      "\n",
      "                 author  created_utc   subreddit subreddit_id  num_comments  \\\n",
      "1470752           zekel   1213826517     science      t5_mouw         33329   \n",
      "2428144        indorock   1224677051         WTF     t5_2qh61          3657   \n",
      "135995      matiasklein   1201730171  reddit.com         t5_6          2039   \n",
      "326364     willjohnston   1225857637    politics     t5_2cneq          1934   \n",
      "1743984    TheRealStick   1217288193    politics     t5_2cneq          1425   \n",
      "1985077     nucleophile   1220285161  reddit.com         t5_6          1425   \n",
      "1072149         4bernal   1207862319  reddit.com         t5_6          1411   \n",
      "137102            rpi22   1201748070  reddit.com         t5_6          1377   \n",
      "2224242  IM_A_REPTILIAN   1222711101    politics     t5_2cneq          1346   \n",
      "1087277             cup   1208149360  reddit.com         t5_6          1342   \n",
      "\n",
      "         score  over_18   row_id  \n",
      "1470752   1621    False  1470752  \n",
      "2428144   1496    False  2428144  \n",
      "135995    1098    False   135995  \n",
      "326364    8538    False   326364  \n",
      "1743984    788    False  1743984  \n",
      "1985077   1517    False  1985077  \n",
      "1072149      3    False  1072149  \n",
      "137102     669    False   137102  \n",
      "2224242   3361    False  2224242  \n",
      "1087277    269    False  1087277  \n",
      "1470752          /r/science/comments/6nz1k/got_six_weeks_try_the_hundred_push_ups_training/\n",
      "2428144                /r/WTF/comments/78n1v/a_black_community_in_oh_goes_50_years_without/\n",
      "135995     /r/reddit.com/comments/675oj/post_the_funniest_joke_you_know_upmod_the_best_one/\n",
      "326364                                /r/politics/comments/7beo2/obama_wins_the_presidency/\n",
      "1743984        /r/politics/comments/6tvaz/im_a_bleedingheart_liberal_but_am_i_the_only_one/\n",
      "1985077                /r/reddit.com/comments/6z2e2/palin_says_her_daughter_17_is_pregnant/\n",
      "1072149                                /r/reddit.com/comments/6fccd/airport_dover_transfer/\n",
      "137102            /r/reddit.com/comments/676ja/new_study_confirms_that_32_of_americans_are/\n",
      "2224242          /r/politics/comments/7488a/bailout_does_not_pass_vote_206_yea_227_nay_dow/\n",
      "1087277                                          /r/reddit.com/comments/6fo4i/ask_a_muslim/\n",
      "Name: permalink, dtype: object\n"
     ]
    }
   ],
   "source": [
    "#Koje objave poseduju najveći broj komentara i na kojim su sabreditima postavljene? \n",
    "#Prikazati podatke o tim objavama, uključujući to na kojem su sabreditu postavljene i šta \n",
    "#im je sadržaj (ako je polje objave “over 18” postavljeno na false).\n",
    "\n",
    "#print(dfSubmissions)\n",
    "dfSubmissionsSorted=dfSubmissions[dfSubmissions['over_18']==False].sort_values(by=['num_comments'], inplace=False, ascending=False) #ako je inplace true sortira nam u dfSubmissions \n",
    "pd.set_option('max_colwidth', 400)\n",
    "print(dfSubmissionsSorted.head(10))\n",
    "\n",
    "print(dfSubmissionsSorted['permalink'].head(10))\n"
   ]
  },
  {
   "cell_type": "code",
   "execution_count": 192,
   "id": "b834a96d",
   "metadata": {},
   "outputs": [],
   "source": [
    "G = nx.Graph() # pravi praznu mrežu\n",
    "G.add_nodes_from(set_of_subreddits) # dodaje čvorove čije su labele u \"set_of_subreddits\""
   ]
  },
  {
   "cell_type": "code",
   "execution_count": 193,
   "id": "a5056e0a",
   "metadata": {},
   "outputs": [],
   "source": [
    "dict = {}\n",
    "\n",
    "for index, row in dfComAndSub.iterrows():\n",
    "    author=row['author']\n",
    "    subreddit=row['subreddit']\n",
    "    if author in dict:\n",
    "          #dict[author].append(subreddit) #ovo ce cuvati i subbredite koji se ponavljaju, ako nam treba da brojimo za vecu tezinu ako je vise puta objavljivao na istom subredditu\n",
    "        if subreddit not in dict[author]:\n",
    "            dict[author].append(subreddit)\n",
    "    else:\n",
    "          dict[author] = [subreddit]\n",
    "            \n",
    "            \n"
   ]
  },
  {
   "cell_type": "code",
   "execution_count": 194,
   "id": "1344ceac",
   "metadata": {},
   "outputs": [],
   "source": [
    "#sada imamo recnik (hashtable) sa korisnicima i subredditima na kojima su bili aktivni\n",
    "#print(dict)\n",
    "\n",
    "import itertools\n",
    "\n",
    "for key, value in dict.items(): \n",
    "    lista=value\n",
    "    combinations=list(itertools.combinations(lista, 2)) #pravi sve kombinacije bez ponavljanja sa dva elementa \n",
    "    for subreddit1,subreddit2 in combinations:\n",
    "        if (subreddit1, subreddit2) in G.edges:#ako vec postoji ta grana, inkrementiramo tezinu\n",
    "             G.edges[subreddit1, subreddit2]['weight'] += 1 #posto je ovaj graf neusmeren, nebitno ko je prvi cvor, da je usmeren moralo bi se paziti\n",
    "        else: #ako ne postoji postavimo novu granu sa tezinom 1\n",
    "             G.add_edge(subreddit1, subreddit2, weight=1)\n"
   ]
  },
  {
   "cell_type": "code",
   "execution_count": null,
   "id": "aae6e5d1",
   "metadata": {},
   "outputs": [],
   "source": []
  },
  {
   "cell_type": "code",
   "execution_count": 195,
   "id": "b4751088",
   "metadata": {},
   "outputs": [],
   "source": [
    "output_path = \"undirected_count_aggregation.gml\" #SNET\n",
    "\n",
    "nx.write_gml(G, output_path)"
   ]
  },
  {
   "cell_type": "code",
   "execution_count": 227,
   "id": "fea2f1a3",
   "metadata": {},
   "outputs": [],
   "source": [
    "G= nx.read_gml(\"undirected_count_aggregation.gml\")"
   ]
  },
  {
   "cell_type": "code",
   "execution_count": 228,
   "id": "55d97b93",
   "metadata": {},
   "outputs": [
    {
     "name": "stdout",
     "output_type": "stream",
     "text": [
      "Graph with 4359 nodes and 156959 edges\n"
     ]
    }
   ],
   "source": [
    "print(nx.info(G))"
   ]
  },
  {
   "cell_type": "code",
   "execution_count": 23,
   "id": "fd173375",
   "metadata": {},
   "outputs": [
    {
     "name": "stdout",
     "output_type": "stream",
     "text": [
      "0.016525024949303878\n"
     ]
    }
   ],
   "source": [
    "#7) Kolika je gustina mreže?\n",
    "\n",
    "print(nx.density(G))\n",
    "#num=G.number_of_nodes()\n",
    "#numEdges=G.number_of_edges()\n",
    "#maxnum=(num-1)*num/2   #9498261\n",
    "#print(numEdges/maxnum)\n"
   ]
  },
  {
   "cell_type": "markdown",
   "id": "3cc2f402",
   "metadata": {},
   "source": [
    "8) Kolike su prosečne distance u okviru mreže i dijametar mreže?\n",
    "\n",
    "Average Path length: 2.098574623067938\n",
    "\n",
    "Diameter: 5"
   ]
  },
  {
   "cell_type": "markdown",
   "id": "1c3e55f4",
   "metadata": {},
   "source": [
    "U kojoj meri je mreža povezana i centralizovana? Navesti broj i veličine povezanih \n",
    "komponenata i proceniti da li postoji gigantska komponenta. \n"
   ]
  },
  {
   "cell_type": "code",
   "execution_count": 33,
   "id": "157efb52",
   "metadata": {},
   "outputs": [
    {
     "name": "stdout",
     "output_type": "stream",
     "text": [
      "[3524, 3, 3, 3, 2, 2, 2, 2, 2, 2, 2, 2, 2, 2, 2, 2, 2, 2, 2, 2, 1, 1, 1, 1, 1, 1, 1, 1, 1, 1, 1, 1, 1, 1, 1, 1, 1, 1, 1, 1, 1, 1, 1, 1, 1, 1, 1, 1, 1, 1, 1, 1, 1, 1, 1, 1, 1, 1, 1, 1, 1, 1, 1, 1, 1, 1, 1, 1, 1, 1, 1, 1, 1, 1, 1, 1, 1, 1, 1, 1, 1, 1, 1, 1, 1, 1, 1, 1, 1, 1, 1, 1, 1, 1, 1, 1, 1, 1, 1, 1, 1, 1, 1, 1, 1, 1, 1, 1, 1, 1, 1, 1, 1, 1, 1, 1, 1, 1, 1, 1, 1, 1, 1, 1, 1, 1, 1, 1, 1, 1, 1, 1, 1, 1, 1, 1, 1, 1, 1, 1, 1, 1, 1, 1, 1, 1, 1, 1, 1, 1, 1, 1, 1, 1, 1, 1, 1, 1, 1, 1, 1, 1, 1, 1, 1, 1, 1, 1, 1, 1, 1, 1, 1, 1, 1, 1, 1, 1, 1, 1, 1, 1, 1, 1, 1, 1, 1, 1, 1, 1, 1, 1, 1, 1, 1, 1, 1, 1, 1, 1, 1, 1, 1, 1, 1, 1, 1, 1, 1, 1, 1, 1, 1, 1, 1, 1, 1, 1, 1, 1, 1, 1, 1, 1, 1, 1, 1, 1, 1, 1, 1, 1, 1, 1, 1, 1, 1, 1, 1, 1, 1, 1, 1, 1, 1, 1, 1, 1, 1, 1, 1, 1, 1, 1, 1, 1, 1, 1, 1, 1, 1, 1, 1, 1, 1, 1, 1, 1, 1, 1, 1, 1, 1, 1, 1, 1, 1, 1, 1, 1, 1, 1, 1, 1, 1, 1, 1, 1, 1, 1, 1, 1, 1, 1, 1, 1, 1, 1, 1, 1, 1, 1, 1, 1, 1, 1, 1, 1, 1, 1, 1, 1, 1, 1, 1, 1, 1, 1, 1, 1, 1, 1, 1, 1, 1, 1, 1, 1, 1, 1, 1, 1, 1, 1, 1, 1, 1, 1, 1, 1, 1, 1, 1, 1, 1, 1, 1, 1, 1, 1, 1, 1, 1, 1, 1, 1, 1, 1, 1, 1, 1, 1, 1, 1, 1, 1, 1, 1, 1, 1, 1, 1, 1, 1, 1, 1, 1, 1, 1, 1, 1, 1, 1, 1, 1, 1, 1, 1, 1, 1, 1, 1, 1, 1, 1, 1, 1, 1, 1, 1, 1, 1, 1, 1, 1, 1, 1, 1, 1, 1, 1, 1, 1, 1, 1, 1, 1, 1, 1, 1, 1, 1, 1, 1, 1, 1, 1, 1, 1, 1, 1, 1, 1, 1, 1, 1, 1, 1, 1, 1, 1, 1, 1, 1, 1, 1, 1, 1, 1, 1, 1, 1, 1, 1, 1, 1, 1, 1, 1, 1, 1, 1, 1, 1, 1, 1, 1, 1, 1, 1, 1, 1, 1, 1, 1, 1, 1, 1, 1, 1, 1, 1, 1, 1, 1, 1, 1, 1, 1, 1, 1, 1, 1, 1, 1, 1, 1, 1, 1, 1, 1, 1, 1, 1, 1, 1, 1, 1, 1, 1, 1, 1, 1, 1, 1, 1, 1, 1, 1, 1, 1, 1, 1, 1, 1, 1, 1, 1, 1, 1, 1, 1, 1, 1, 1, 1, 1, 1, 1, 1, 1, 1, 1, 1, 1, 1, 1, 1, 1, 1, 1, 1, 1, 1, 1, 1, 1, 1, 1, 1, 1, 1, 1, 1, 1, 1, 1, 1, 1, 1, 1, 1, 1, 1, 1, 1, 1, 1, 1, 1, 1, 1, 1, 1, 1, 1, 1, 1, 1, 1, 1, 1, 1, 1, 1, 1, 1, 1, 1, 1, 1, 1, 1, 1, 1, 1, 1, 1, 1, 1, 1, 1, 1, 1, 1, 1, 1, 1, 1, 1, 1, 1, 1, 1, 1, 1, 1, 1, 1, 1, 1, 1, 1, 1, 1, 1, 1, 1, 1, 1, 1, 1, 1, 1, 1, 1, 1, 1, 1, 1, 1, 1, 1, 1, 1, 1, 1, 1, 1, 1, 1, 1, 1, 1, 1, 1, 1, 1, 1, 1, 1, 1, 1, 1, 1, 1, 1, 1, 1, 1, 1, 1, 1, 1, 1, 1, 1, 1, 1, 1, 1, 1, 1, 1, 1, 1, 1, 1, 1, 1, 1, 1, 1, 1, 1, 1, 1, 1, 1, 1, 1, 1, 1, 1, 1, 1, 1, 1, 1, 1, 1, 1, 1, 1, 1, 1, 1, 1, 1, 1, 1, 1, 1, 1, 1, 1, 1, 1, 1, 1, 1, 1, 1, 1, 1, 1, 1, 1, 1, 1, 1, 1, 1, 1, 1, 1, 1, 1, 1, 1, 1, 1, 1, 1, 1, 1, 1, 1, 1, 1, 1, 1, 1, 1, 1, 1, 1, 1, 1, 1, 1, 1, 1, 1, 1, 1, 1, 1, 1, 1, 1, 1, 1, 1, 1, 1, 1, 1, 1, 1, 1, 1, 1, 1, 1, 1, 1, 1, 1, 1, 1, 1, 1, 1]\n",
      "Broj povezanih komponenti: 814\n",
      "Postoji jedna gigantska komponenta.\n"
     ]
    }
   ],
   "source": [
    "component_size_list = [len(c) for c in sorted(nx.connected_components(G), key=len, reverse=True)] #connected_components(G) izvuce generatore za povezane komponente, sortira se po duzini generatora\n",
    "print(component_size_list) #imamo jednu dominantnu komp, ostale su male\n",
    "print('Broj povezanih komponenti: '+str(len(component_size_list)))\n",
    "print('Postoji jedna gigantska komponenta veličine 3524, 3 komponente veličine 3, 16 veličine 2 i ostale su veličine 1.')"
   ]
  },
  {
   "cell_type": "markdown",
   "id": "cf426c29",
   "metadata": {},
   "source": []
  },
  {
   "cell_type": "code",
   "execution_count": 34,
   "id": "1f7f3477",
   "metadata": {},
   "outputs": [
    {
     "name": "stdout",
     "output_type": "stream",
     "text": [
      "Dominantna komponenta ima 3524 čvorova i 156934 grana\n"
     ]
    }
   ],
   "source": [
    "# ekstrakcija dominantne komponente\n",
    "largest_cc = max(nx.connected_components(G), key=len)\n",
    "S = [G.subgraph(c).copy() for c in nx.connected_components(G)]\n",
    "Gdom = G.subgraph(largest_cc).copy()\n",
    "print(f\"Dominantna komponenta ima {len(Gdom.nodes())} čvorova i {len(Gdom.edges())} grana\")"
   ]
  },
  {
   "cell_type": "code",
   "execution_count": null,
   "id": "1ed13c75",
   "metadata": {},
   "outputs": [],
   "source": [
    "dominant_component_path = \"dominantna_komponenta.net\"\n",
    "nx.write_pajek(Gdom, dominant_component_path)\n",
    "output_path = \"dominantna_komponenta.gml\"\n",
    "nx.write_gml(Gdom, output_path)"
   ]
  },
  {
   "cell_type": "markdown",
   "id": "eb014c9a",
   "metadata": {},
   "source": [
    "10) Koliki je prosečni, a koliki globalni koeficijent klasterizacije mreže? Kakva je raspodela \n",
    "lokalnog koeficijenta klasterizacije njenih čvorova? Da li je klasterisanje izraženo ili ne?\n",
    "Odgovor dati upoređivanjem sa slučajno generisanom Erdos-Renyi mrežom istih \n",
    "dimenzija. "
   ]
  },
  {
   "cell_type": "code",
   "execution_count": null,
   "id": "3d69f907",
   "metadata": {},
   "outputs": [],
   "source": [
    "#iz gephi-ja vrednosti\n",
    "#Average Clustering Coefficient: 0.907\n",
    "    \n",
    "#ER    \n",
    "#erdos_renyi_graph(num, p, seed=None, directed=False)    \n",
    "#Average Clustering Coefficient: 0.017\n"
   ]
  },
  {
   "cell_type": "code",
   "execution_count": 59,
   "id": "2af02fdb",
   "metadata": {},
   "outputs": [
    {
     "data": {
      "text/plain": [
       "0.625005379041094"
      ]
     },
     "execution_count": 59,
     "metadata": {},
     "output_type": "execute_result"
    }
   ],
   "source": [
    "#Prosecni koeficijent klasterizaije za nasu mrezu iz nx (bez weight smo)\n",
    "nx.average_clustering(G)"
   ]
  },
  {
   "cell_type": "code",
   "execution_count": 58,
   "id": "4d99e679",
   "metadata": {},
   "outputs": [
    {
     "name": "stdout",
     "output_type": "stream",
     "text": [
      "0.2673082405054368\n"
     ]
    }
   ],
   "source": [
    "#Globalni koeficijent klasterizacije (3*numOfTriangles/numOfTriads, svi trouglovi/sve triade)\n",
    "glob_koef=nx.transitivity(G)\n",
    "print(glob_koef)"
   ]
  },
  {
   "cell_type": "code",
   "execution_count": 110,
   "id": "189279bd",
   "metadata": {},
   "outputs": [
    {
     "data": {
      "image/png": "[encoded data removed]",
      "text/plain": [
       "<Figure size 700x500 with 1 Axes>"
      ]
     },
     "metadata": {
      "needs_background": "light"
     },
     "output_type": "display_data"
    }
   ],
   "source": [
    "dict=nx.clustering(G).values() #average_clustering je avg ovih vrednosti\n",
    "%matplotlib inline\n",
    "plt.rcParams.update({'figure.figsize':(7,5), 'figure.dpi':100})# Plot Histogram on x\n",
    "x = dict\n",
    "plt.hist(x, bins=100)\n",
    "plt.gca().set(title='Frequency Histogram', ylabel='Frequency',xlabel='Local clustering coefficient');"
   ]
  },
  {
   "cell_type": "code",
   "execution_count": 111,
   "id": "8396e29e",
   "metadata": {},
   "outputs": [],
   "source": [
    "#nas nacin za racunanje klasterizacije (prosek gustina ego mreza svakog cvora) - provera, ne uzimati ovo\n",
    "#list_densities=[]\n",
    "#for n in G.nodes():\n",
    "#    ego=nx.ego_graph(G,n)\n",
    "#    list_densities.append(nx.density(ego))\n"
   ]
  },
  {
   "cell_type": "code",
   "execution_count": 93,
   "id": "c3179c46",
   "metadata": {},
   "outputs": [],
   "source": [
    "#za dominantnu\n",
    "list_densities_dom=[]\n",
    "for n in Gdom.nodes():\n",
    "    ego=nx.ego_graph(Gdom,n)\n",
    "    list_densities_dom.append(nx.density(ego))\n"
   ]
  },
  {
   "cell_type": "code",
   "execution_count": 115,
   "id": "d6549616",
   "metadata": {},
   "outputs": [
    {
     "data": {
      "image/png": "[encoded data removed]",
      "text/plain": [
       "<Figure size 700x500 with 1 Axes>"
      ]
     },
     "metadata": {
      "needs_background": "light"
     },
     "output_type": "display_data"
    }
   ],
   "source": [
    "#print(sum(list_densities_dom)/len(list_densities_dom))\n",
    "#print(sum(value == 0 for value in list_densities_dom))\n",
    "#print(sum(value == 1 for value in list_densities_dom))\n",
    "\n",
    "%matplotlib inline\n",
    "plt.rcParams.update({'figure.figsize':(7,5), 'figure.dpi':100})# Plot Histogram on x\n",
    "x = list_densities\n",
    "plt.hist(x, bins=100)\n",
    "plt.gca().set(title='Frequency Histogram', ylabel='Frequency',xlabel='Local clustering coefficient');"
   ]
  },
  {
   "cell_type": "code",
   "execution_count": 174,
   "id": "1259f60f",
   "metadata": {},
   "outputs": [
    {
     "name": "stdout",
     "output_type": "stream",
     "text": [
      "Max lokalni cc: 0.0011327274855461233\n",
      "Prosečan cc: 0.625005379041094\n"
     ]
    }
   ],
   "source": [
    "#Stepen klasterisanja može se proceniti na osnovu koeficijenta klasterisanja. \n",
    "#subreddit, clustering_coef = zip(*nx.clustering(G, weight = \"weight\").items())  #izracunamo lokalni klastering koeficijent za svaki od cvorova\n",
    "\n",
    "#nenula = [(subr, cc)  for subr, cc in zip(subreddit, clustering_coef) if cc > 0]\n",
    "\n",
    "#df = pd.DataFrame(nenula, columns = [\"subreddit\", \"cc\"])\n",
    "#df.sort_values('cc', inplace = True)\n",
    "\n",
    "#max_lokalni_stepen_klasterisanja = max(clustering_coef)\n",
    "\n",
    "#prosecni_stepen_klasterisanja = nx.average_clustering(G)\n",
    "\n",
    "#print(f\"Max lokalni cc: {max_lokalni_stepen_klasterisanja}\") #u %\n",
    "#print(f\"Prosečan cc: {prosecni_stepen_klasterisanja}\")\n",
    "#print(\"Lokalni stepeni klasterisanja koji nisu nula:\") #jako ih je malo jer je slabo klasterisano, ima malo grana\n",
    "#print(df)"
   ]
  },
  {
   "cell_type": "code",
   "execution_count": 238,
   "id": "60934705",
   "metadata": {},
   "outputs": [
    {
     "name": "stdout",
     "output_type": "stream",
     "text": [
      "Graph with 4359 nodes and 157978 edges\n"
     ]
    }
   ],
   "source": [
    "#Kako bi se ponašala Erdos-Renyi mreža sa koja ima isti broj čvorova n, a verovatnoća formiranja grane je takva da je očekivani broj grana u mreži m? //da bi bio isti br grana kao u nasoj mrezi //ovde postoji verovatnoca postojanja grane\n",
    "m=G.number_of_edges()\n",
    "n=G.number_of_nodes()\n",
    "p = ( 2*float(m) ) / ( n* (n-1) ) \n",
    "er_mreza = nx.erdos_renyi_graph(n,p)"
   ]
  },
  {
   "cell_type": "code",
   "execution_count": 117,
   "id": "6591f93e",
   "metadata": {},
   "outputs": [
    {
     "data": {
      "text/plain": [
       "0.01647895617473764"
      ]
     },
     "execution_count": 117,
     "metadata": {},
     "output_type": "execute_result"
    }
   ],
   "source": [
    "#Prosecni koeficijent klasterizaije za ER iz nx\n",
    "nx.average_clustering(er_mreza)"
   ]
  },
  {
   "cell_type": "code",
   "execution_count": 116,
   "id": "e92f9e83",
   "metadata": {},
   "outputs": [
    {
     "data": {
      "image/png": "[encoded data removed]",
      "text/plain": [
       "<Figure size 700x500 with 1 Axes>"
      ]
     },
     "metadata": {
      "needs_background": "light"
     },
     "output_type": "display_data"
    }
   ],
   "source": [
    "#Lokalni koeficijent klasterizaije za ER\n",
    "dict_er=nx.clustering(er_mreza).values() #average_clustering je avg ovih vrednosti\n",
    "%matplotlib inline\n",
    "plt.rcParams.update({'figure.figsize':(7,5), 'figure.dpi':100})# Plot Histogram on x\n",
    "x = dict_er\n",
    "plt.hist(x, bins=100)\n",
    "plt.gca().set(title='Frequency Histogram for Erdos-Renyi network', xlabel='Local clustering coefficient',ylabel='Frequency');"
   ]
  },
  {
   "cell_type": "markdown",
   "id": "c611ff94",
   "metadata": {},
   "source": [
    "Klasterizacija je veoma izražena kod SNet mreže jer najveći broj čvorova ima veliki koeficijent klasterizacije, \n",
    "dok je kod Ernos-Renyi mreže veoma malo izražena, sa prosečnim stepenom klasterizacije oko 0.0165."
   ]
  },
  {
   "cell_type": "markdown",
   "id": "8a99e0ee",
   "metadata": {},
   "source": [
    "Na osnovu odgovora na pitanja 8 i 10, proceniti da li mreža iskazuje osobine malog sveta.\n",
    "S obzirom na veoma male vrednosti prosečne distance (2) i dijametra(5), može se zaključiti da se do bilo kog čvora može doći u veoma malom broju koraka, što nas dovodi do zaključka da naša mreža pokazuje osobine malog sveta. Takođe, uzimajući u obzir i  veliki stepen klasterizacije čvorova u jezgru, zaključujemo da čak iako smo na periferiji, možemo doći preko jegra do bilo kog drugog čvora u malom broju koraka."
   ]
  },
  {
   "cell_type": "code",
   "execution_count": 120,
   "id": "e1d56a55",
   "metadata": {},
   "outputs": [
    {
     "name": "stdout",
     "output_type": "stream",
     "text": [
      "Koeficijent asortativnosti na osnovu netežinskog stepena čvora: -0.43650592278164835\n",
      "Koeficijent asortativnosti na osnovu težinskog stepena čvora: -0.03227849187951864\n"
     ]
    }
   ],
   "source": [
    "#Izvršiti asortativnu analizu po stepenu čvora i dati odgovor da li je izraženo asortativno mešanje. \n",
    "#U slučaju da je mreža usmerena, analizu izvršiti i po ulaznom i po izlaznom stepenu čvora. Priložiti i vizuelizaciju. \n",
    "\n",
    "#Analiza asortativnosti - meri koliko se cvorovi vezuju sa sebi slicnim cvorovima\n",
    "#U ovoj analizi ćemo prvo sprovesti analizu asortativnosti na osnovu stepena čvora, jer nas interesuje da li se međusobno vezuju čvorovi koji su sličnog stepena, ili habovi (čvorovi velikog stepena) teže da se slabo međusobno vezuju, a mnogo vezuju sa čvorovima malog stepena.\n",
    "#Uvodi se koeficijent asortativnosti r, koji je u opsegu od -1 do 1. Mreža sa r = 1 iskazuje savršeno asortativno mešanje (perfect assortative mixing pattern), kad je r = 0 mreža je neasortativna ili neutralna, dok je u slučaju r = −1 mreža potpuno disasortativna.\n",
    "# asortativnost na osnovu netežinskog stepena čvora\n",
    "r1 = nx.degree_assortativity_coefficient(G)\n",
    "print(f\"Koeficijent asortativnosti na osnovu netežinskog stepena čvora: {r1}\")\n",
    "\n",
    "# asortativnost na osnovu težinskog stepena čvora\n",
    "r2 = nx.degree_assortativity_coefficient(G, weight='weight')\n",
    "print(f\"Koeficijent asortativnosti na osnovu težinskog stepena čvora: {r2}\")\n",
    "\n",
    "#U slučaju netežinskog grafa mreža je disasortativna, odnosno, čvorovi sličnog stepena se retko vezuju međusobno.\n",
    "#U slučaju težinskog grafa mreža je neasortativna(neutralna)."
   ]
  },
  {
   "cell_type": "code",
   "execution_count": 138,
   "id": "69f89647",
   "metadata": {},
   "outputs": [
    {
     "data": {
      "image/png": "[encoded data removed]",
      "text/plain": [
       "<Figure size 700x500 with 1 Axes>"
      ]
     },
     "metadata": {
      "needs_background": "light"
     },
     "output_type": "display_data"
    }
   ],
   "source": [
    "degrees = G.degree()\n",
    "        #prolazi kroz listu svih grana i broji koliko ima cvorova odg stepena\n",
    "_, deg_list = zip(*degrees)\n",
    "\n",
    "plt.figure(1)   \n",
    "\n",
    "# prep axes   \n",
    "\n",
    "plt.xlabel('degree')                                                                                                             \n",
    "plt.xscale('log')                                                                                                                \n",
    "plt.xlim(1, max(deg_list))  \n",
    "\n",
    "y=[]\n",
    "for n in G.nodes():\n",
    "    list_n=[n]\n",
    "    \n",
    "    degree=nx.average_neighbor_degree(G,nodes=list_n)\n",
    "    #print(degree)\n",
    "    #print('ok')\n",
    "    y.append(list(degree.values())[0])\n",
    "\n",
    "plt.ylabel('degree')                                                                                                          \n",
    "plt.yscale('log')                                                                                                                \n",
    "plt.ylim(1, max(y))                                                                                                             \n",
    "                                                                                                                                                                                                    \n",
    "plt.scatter(deg_list, y, marker='.')                                                                                                    \n",
    "plt.show()"
   ]
  },
  {
   "cell_type": "code",
   "execution_count": 140,
   "id": "081d4841",
   "metadata": {},
   "outputs": [
    {
     "data": {
      "image/png": "[encoded data removed]",
      "text/plain": [
       "<Figure size 700x500 with 1 Axes>"
      ]
     },
     "metadata": {
      "needs_background": "light"
     },
     "output_type": "display_data"
    }
   ],
   "source": [
    "degrees = G.degree()\n",
    "        #prolazi kroz listu svih grana i broji koliko ima cvorova odg stepena\n",
    "_, deg_list = zip(*degrees)\n",
    "\n",
    "plt.figure(1)   \n",
    "\n",
    "# prep axes   \n",
    "\n",
    "plt.xlabel('degree')                                                                                                             \n",
    "plt.xscale('log')                                                                                                                \n",
    "plt.xlim(1, max(deg_list))  \n",
    "x=[]\n",
    "y=[]\n",
    "for n in G.nodes():\n",
    "    degreeN=G.degree(n)\n",
    "    for nn in G.neighbors(n):\n",
    "        degreeNN=G.degree(nn)\n",
    "        x.append(degreeN)\n",
    "        y.append(degreeNN)\n",
    "\n",
    "plt.ylabel('degree')                                                                                                          \n",
    "plt.yscale('log')                                                                                                                \n",
    "plt.ylim(1, max(y))                                                                                                             \n",
    "                                                                                                                                                                                                    \n",
    "plt.scatter(x, y, marker='.')                                                                                                    \n",
    "plt.show()"
   ]
  },
  {
   "cell_type": "markdown",
   "id": "6a3d8cef",
   "metadata": {},
   "source": [
    "Na osnovu grafika vidimo... "
   ]
  },
  {
   "cell_type": "code",
   "execution_count": 46,
   "id": "c4990555",
   "metadata": {},
   "outputs": [
    {
     "name": "stdout",
     "output_type": "stream",
     "text": [
      "Broj grana originalne mreže minus broj grana u ER mreži iznosi 272, što je odstupanje od 0.1732936626762403%\n",
      "Counter({70: 219, 71: 214, 72: 213, 74: 211, 68: 205, 73: 203, 75: 174, 66: 170, 69: 167, 77: 167, 67: 167, 78: 164, 76: 163, 64: 147, 65: 141, 79: 139, 80: 126, 81: 117, 63: 106, 61: 104, 82: 95, 62: 91, 84: 87, 59: 76, 83: 75, 85: 69, 60: 67, 58: 58, 86: 54, 87: 48, 57: 45, 88: 38, 56: 33, 89: 25, 55: 24, 54: 21, 90: 18, 52: 15, 91: 15, 92: 14, 53: 14, 49: 8, 51: 7, 93: 7, 50: 6, 48: 5, 95: 5, 94: 5, 97: 3, 96: 3, 45: 2, 47: 2, 99: 1, 41: 1, 102: 1, 46: 1, 98: 1, 104: 1, 100: 1})\n"
     ]
    },
    {
     "data": {
      "image/png": "[encoded data removed]",
      "text/plain": [
       "<Figure size 432x288 with 1 Axes>"
      ]
     },
     "metadata": {
      "needs_background": "light"
     },
     "output_type": "display_data"
    },
    {
     "name": "stdout",
     "output_type": "stream",
     "text": [
      "Counter({70: 219, 71: 214, 72: 213, 74: 211, 68: 205, 73: 203, 75: 174, 66: 170, 69: 167, 77: 167, 67: 167, 78: 164, 76: 163, 64: 147, 65: 141, 79: 139, 80: 126, 81: 117, 63: 106, 61: 104, 82: 95, 62: 91, 84: 87, 59: 76, 83: 75, 85: 69, 60: 67, 58: 58, 86: 54, 87: 48, 57: 45, 88: 38, 56: 33, 89: 25, 55: 24, 54: 21, 90: 18, 52: 15, 91: 15, 92: 14, 53: 14, 49: 8, 51: 7, 93: 7, 50: 6, 48: 5, 95: 5, 94: 5, 97: 3, 96: 3, 45: 2, 47: 2, 99: 1, 41: 1, 102: 1, 46: 1, 98: 1, 104: 1, 100: 1})\n"
     ]
    },
    {
     "data": {
      "image/png": "[encoded data removed]",
      "text/plain": [
       "<Figure size 432x288 with 1 Axes>"
      ]
     },
     "metadata": {
      "needs_background": "light"
     },
     "output_type": "display_data"
    }
   ],
   "source": [
    "#Kako bi se ponašala slučajno generisana mreža sa istim brojem čvorova i grana (Gnm generator iz paketa networkx)?\n",
    "#n = G.number_of_nodes()\n",
    "#m = G.number_of_edges()\n",
    "#Gnm = nx.gnm_random_graph(n, m) \n",
    "\n",
    "#plot_deg_frequency(Gnm, xscale = 'linear', yscale = 'linear')\n",
    "#plot_deg_frequency(Gnm, xscale = 'log', yscale = 'log')\n",
    "\n",
    "#vidimo da  ne lici na nasu mrezu, dakle postoji neka pravilnost u nasoj mrezi, nisu stepeni slucajno raporedjeni\n",
    "\n",
    "#Kako bi se ponašala Erdos-Renyi mreža sa koja ima isti broj čvorova n, a verovatnoća formiranja grane je takva da je očekivani broj grana u mreži m? //da bi bio isti br grana kao u nasoj mrezi //ovde postoji verovatnoca postojanja grane\n",
    "#p = ( 2*float(m) ) / ( n* (n-1) ) \n",
    "#er_mreza = nx.erdos_renyi_graph(n,p)\n",
    "\n",
    "#delta_m = m - er_mreza.number_of_edges()\n",
    "#print(f\"Broj grana originalne mreže minus broj grana u ER mreži iznosi {delta_m}, što je odstupanje od {abs(float(delta_m)) * 100 / m}%\")\n",
    "\n",
    "#plot_deg_frequency(er_mreza, xscale = 'linear', yscale = 'linear')\n",
    "#plot_deg_frequency(er_mreza, xscale = 'log', yscale = 'log')"
   ]
  },
  {
   "cell_type": "code",
   "execution_count": 38,
   "id": "fc27684d",
   "metadata": {},
   "outputs": [],
   "source": [
    "#Raspodela stepena cvora\n",
    "def plot_deg_frequency(G, weighted = False, xscale = \"log\", yscale = \"log\"): #fja\n",
    "\n",
    "    if weighted:\n",
    "        degrees = G.degree(weight=\"weight\")\n",
    "    else:\n",
    "        degrees = G.degree()\n",
    "        \n",
    "        #prolazi kroz listu svih grana i broji koliko ima cvorova odg stepena\n",
    "    _, deg_list = zip(*degrees)\n",
    "    deg_counts = Counter(deg_list)        \n",
    "    print(deg_counts)\n",
    "    x, y = zip(*deg_counts.items())                                                      \n",
    "\n",
    "    plt.figure(1)   \n",
    "\n",
    "    # prep axes   \n",
    "    if weighted:\n",
    "        plt.xlabel('weighted degree')  \n",
    "    else:\n",
    "        plt.xlabel('degree')                                                                                                             \n",
    "    plt.xscale(xscale)                                                                                                                \n",
    "    plt.xlim(1, max(x))  \n",
    "\n",
    "    plt.ylabel('frequency')                                                                                                          \n",
    "    plt.yscale(yscale)                                                                                                                \n",
    "    plt.ylim(1, max(y))                                                                                                             \n",
    "                                                                                                                                                                                                    \n",
    "    plt.scatter(x, y, marker='.')                                                                                                    \n",
    "    plt.show()"
   ]
  },
  {
   "cell_type": "code",
   "execution_count": 43,
   "id": "c4a8fed8",
   "metadata": {},
   "outputs": [
    {
     "name": "stdout",
     "output_type": "stream",
     "text": [
      "Counter({0: 794, 1: 562, 2: 259, 3: 148, 5: 97, 4: 86, 6: 77, 11: 50, 10: 44, 8: 43, 7: 43, 18: 41, 16: 39, 14: 39, 13: 38, 12: 38, 9: 36, 24: 35, 20: 31, 29: 31, 25: 30, 17: 30, 21: 29, 19: 29, 22: 28, 23: 28, 28: 27, 26: 27, 15: 25, 43: 25, 30: 23, 31: 23, 33: 22, 38: 22, 78: 21, 32: 20, 49: 20, 36: 19, 39: 19, 45: 19, 44: 18, 27: 17, 50: 17, 48: 17, 37: 17, 42: 16, 56: 16, 64: 16, 41: 16, 35: 15, 121: 15, 40: 15, 34: 14, 180: 14, 55: 14, 57: 14, 83: 14, 74: 13, 75: 13, 84: 13, 46: 13, 68: 12, 52: 12, 54: 12, 95: 11, 62: 11, 61: 11, 67: 11, 51: 11, 60: 11, 58: 10, 96: 10, 59: 10, 71: 10, 90: 10, 99: 9, 66: 9, 72: 9, 101: 9, 47: 9, 73: 8, 115: 8, 93: 8, 122: 8, 69: 8, 80: 8, 103: 8, 81: 8, 92: 8, 89: 8, 86: 8, 63: 7, 125: 7, 192: 7, 106: 7, 157: 7, 70: 7, 76: 7, 135: 7, 114: 7, 102: 7, 85: 7, 65: 7, 91: 7, 109: 6, 138: 6, 228: 6, 140: 6, 120: 6, 87: 5, 127: 5, 98: 5, 88: 5, 193: 5, 107: 5, 100: 5, 105: 5, 162: 5, 183: 5, 256: 5, 181: 5, 153: 5, 104: 5, 53: 5, 132: 5, 149: 5, 134: 4, 167: 4, 137: 4, 188: 4, 77: 4, 119: 4, 182: 4, 110: 4, 200: 4, 82: 4, 128: 4, 116: 4, 197: 3, 150: 3, 185: 3, 131: 3, 488: 3, 156: 3, 231: 3, 205: 3, 178: 3, 244: 3, 229: 3, 136: 3, 97: 3, 172: 3, 145: 3, 164: 3, 161: 3, 113: 3, 133: 3, 230: 3, 111: 3, 196: 3, 694: 3, 94: 3, 130: 3, 112: 3, 126: 3, 271: 3, 190: 3, 245: 3, 304: 3, 321: 3, 79: 3, 199: 3, 237: 2, 151: 2, 166: 2, 261: 2, 314: 2, 284: 2, 327: 2, 523: 2, 147: 2, 254: 2, 278: 2, 226: 2, 246: 2, 233: 2, 141: 2, 526: 2, 222: 2, 203: 2, 993: 2, 108: 2, 159: 2, 186: 2, 257: 2, 169: 2, 179: 2, 290: 2, 155: 2, 269: 2, 247: 2, 318: 2, 160: 2, 255: 2, 124: 2, 790: 2, 338: 2, 234: 2, 549: 2, 171: 2, 462: 2, 301: 2, 170: 2, 163: 2, 142: 2, 469: 2, 353: 2, 177: 2, 426: 2, 668: 2, 302: 2, 265: 2, 371: 2, 252: 2, 232: 2, 334: 2, 433: 2, 346: 2, 223: 2, 215: 2, 365: 2, 264: 2, 123: 2, 189: 2, 296: 2, 220: 2, 282: 2, 293: 2, 238: 2, 336: 2, 143: 2, 455: 2, 241: 2, 341: 2, 225: 2, 191: 2, 173: 2, 118: 2, 326: 1, 310: 1, 940: 1, 239: 1, 374: 1, 240: 1, 876: 1, 1994: 1, 3143: 1, 344: 1, 1099: 1, 1251: 1, 636: 1, 573: 1, 1333: 1, 146: 1, 386: 1, 361: 1, 980: 1, 629: 1, 291: 1, 187: 1, 641: 1, 492: 1, 637: 1, 263: 1, 1145: 1, 1505: 1, 1095: 1, 519: 1, 494: 1, 577: 1, 370: 1, 176: 1, 217: 1, 266: 1, 955: 1, 194: 1, 309: 1, 515: 1, 950: 1, 401: 1, 404: 1, 2061: 1, 208: 1, 351: 1, 1126: 1, 468: 1, 1169: 1, 287: 1, 356: 1, 1090: 1, 1470: 1, 221: 1, 1621: 1, 333: 1, 1009: 1, 224: 1, 817: 1, 388: 1, 315: 1, 493: 1, 212: 1, 516: 1, 198: 1, 1001: 1, 529: 1, 366: 1, 362: 1, 355: 1, 846: 1, 389: 1, 359: 1, 320: 1, 331: 1, 345: 1, 1132: 1, 920: 1, 748: 1, 381: 1, 360: 1, 473: 1, 428: 1, 786: 1, 491: 1, 1537: 1, 903: 1, 533: 1, 680: 1, 364: 1, 294: 1, 947: 1, 734: 1, 382: 1, 849: 1, 168: 1, 411: 1, 520: 1, 235: 1, 513: 1, 1206: 1, 280: 1, 2123: 1, 174: 1, 576: 1, 518: 1, 1018: 1, 129: 1, 447: 1, 739: 1, 405: 1, 430: 1, 775: 1, 395: 1, 765: 1, 317: 1, 409: 1, 451: 1, 617: 1, 467: 1, 933: 1, 477: 1, 384: 1, 569: 1, 906: 1, 855: 1, 2044: 1, 2171: 1, 1067: 1, 148: 1, 652: 1, 368: 1, 752: 1, 892: 1, 258: 1, 643: 1, 965: 1, 219: 1, 369: 1, 322: 1, 1343: 1, 448: 1, 796: 1, 1503: 1, 312: 1, 466: 1, 323: 1, 379: 1, 658: 1, 394: 1, 363: 1, 1475: 1, 446: 1, 380: 1, 216: 1, 420: 1, 1024: 1, 543: 1, 727: 1, 481: 1, 201: 1, 273: 1, 749: 1, 195: 1, 1060: 1, 1501: 1, 144: 1, 1655: 1, 422: 1, 1044: 1, 202: 1, 251: 1, 400: 1, 585: 1, 2091: 1, 638: 1, 476: 1, 666: 1, 1028: 1, 383: 1, 578: 1, 599: 1, 522: 1, 737: 1, 260: 1, 597: 1, 236: 1, 152: 1, 1085: 1, 139: 1, 1441: 1, 165: 1, 2043: 1, 458: 1, 1688: 1, 279: 1, 427: 1, 696: 1, 670: 1, 354: 1, 452: 1, 390: 1, 567: 1, 463: 1, 627: 1, 414: 1, 227: 1, 311: 1, 2105: 1, 210: 1, 204: 1, 949: 1, 594: 1, 2221: 1, 456: 1, 986: 1, 281: 1, 117: 1, 490: 1, 461: 1, 348: 1, 2211: 1, 595: 1, 660: 1, 1425: 1, 630: 1, 213: 1, 596: 1, 510: 1, 248: 1, 1428: 1, 505: 1})\n"
     ]
    },
    {
     "data": {
      "image/png": "[encoded data removed]",
      "text/plain": [
       "<Figure size 432x288 with 1 Axes>"
      ]
     },
     "metadata": {
      "needs_background": "light"
     },
     "output_type": "display_data"
    }
   ],
   "source": [
    "plot_deg_frequency(G) #Isplotujmo raspodelu netežinskog stepena čvora kao scatterplot."
   ]
  },
  {
   "cell_type": "code",
   "execution_count": 44,
   "id": "120388a7",
   "metadata": {},
   "outputs": [
    {
     "name": "stdout",
     "output_type": "stream",
     "text": [
      "Counter({0: 794, 1: 557, 2: 252, 3: 146, 5: 94, 4: 81, 6: 77, 11: 47, 7: 47, 18: 42, 10: 41, 14: 39, 13: 38, 8: 38, 21: 37, 24: 35, 12: 34, 19: 33, 16: 31, 9: 30, 25: 30, 17: 27, 29: 26, 28: 26, 22: 25, 43: 25, 20: 24, 26: 24, 23: 23, 38: 23, 15: 23, 64: 23, 27: 22, 40: 21, 31: 20, 78: 19, 34: 18, 45: 18, 36: 16, 30: 16, 44: 16, 57: 16, 39: 15, 32: 14, 67: 14, 35: 14, 121: 14, 33: 14, 48: 14, 52: 13, 49: 13, 61: 12, 59: 12, 51: 12, 41: 12, 56: 12, 76: 12, 50: 11, 54: 11, 37: 11, 46: 11, 42: 10, 74: 10, 85: 10, 90: 10, 83: 10, 94: 9, 180: 9, 79: 8, 106: 8, 55: 8, 53: 8, 120: 8, 68: 8, 112: 7, 75: 7, 117: 7, 181: 7, 71: 7, 110: 7, 65: 6, 107: 6, 58: 6, 98: 6, 185: 6, 114: 6, 89: 6, 62: 6, 73: 6, 47: 6, 153: 5, 101: 5, 199: 5, 69: 5, 81: 5, 167: 5, 60: 5, 152: 5, 127: 5, 72: 5, 80: 5, 133: 5, 176: 5, 102: 5, 128: 5, 77: 5, 214: 5, 91: 5, 235: 5, 86: 5, 124: 5, 104: 5, 63: 4, 82: 4, 203: 4, 84: 4, 99: 4, 177: 4, 108: 4, 92: 4, 242: 4, 175: 4, 160: 4, 219: 4, 105: 4, 159: 4, 66: 4, 221: 4, 100: 4, 118: 4, 149: 4, 163: 4, 238: 4, 178: 3, 327: 3, 162: 3, 205: 3, 115: 3, 171: 3, 179: 3, 653: 3, 263: 3, 122: 3, 135: 3, 93: 3, 116: 3, 70: 3, 125: 3, 129: 3, 217: 3, 150: 3, 508: 3, 173: 3, 161: 3, 245: 3, 172: 3, 126: 3, 215: 3, 190: 3, 145: 3, 338: 3, 289: 3, 123: 3, 147: 3, 143: 3, 184: 3, 141: 3, 189: 3, 97: 3, 243: 3, 136: 3, 88: 3, 157: 3, 103: 3, 976: 2, 154: 2, 1487: 2, 504: 2, 582: 2, 142: 2, 285: 2, 113: 2, 96: 2, 513: 2, 169: 2, 216: 2, 202: 2, 207: 2, 476: 2, 165: 2, 1304: 2, 230: 2, 249: 2, 280: 2, 329: 2, 218: 2, 320: 2, 231: 2, 282: 2, 308: 2, 137: 2, 379: 2, 469: 2, 725: 2, 1856: 2, 228: 2, 270: 2, 314: 2, 413: 2, 276: 2, 290: 2, 146: 2, 380: 2, 274: 2, 209: 2, 587: 2, 499: 2, 1791: 2, 400: 2, 291: 2, 164: 2, 328: 2, 564: 2, 438: 2, 144: 2, 155: 2, 192: 2, 523: 2, 284: 2, 339: 2, 398: 2, 197: 2, 377: 2, 269: 2, 151: 2, 254: 2, 119: 2, 433: 2, 191: 2, 1794: 2, 87: 2, 294: 2, 593: 2, 224: 2, 2850: 2, 182: 2, 170: 2, 196: 2, 278: 2, 482: 2, 298: 2, 385: 2, 295: 2, 275: 2, 303: 2, 111: 2, 259: 2, 2005: 2, 1528: 1, 253: 1, 1369: 1, 755: 1, 29546: 1, 2123: 1, 367: 1, 1395: 1, 158: 1, 313: 1, 21026: 1, 226605: 1, 204: 1, 281: 1, 3340: 1, 911: 1, 818: 1, 393800: 1, 1012: 1, 1879: 1, 38926: 1, 1384: 1, 1455: 1, 773: 1, 901: 1, 63739: 1, 430: 1, 6260: 1, 5960: 1, 83310: 1, 1944: 1, 5199: 1, 1833: 1, 1237: 1, 34282: 1, 9741: 1, 1078: 1, 667: 1, 419: 1, 706: 1, 668: 1, 555: 1, 9791: 1, 488: 1, 1108: 1, 890: 1, 316: 1, 540: 1, 465: 1, 495: 1, 676: 1, 6309: 1, 411: 1, 3936: 1, 31918: 1, 1329: 1, 10650: 1, 679: 1, 415: 1, 370: 1, 637: 1, 559: 1, 1526: 1, 841: 1, 821: 1, 57136: 1, 333: 1, 166: 1, 105846: 1, 450: 1, 5124: 1, 223: 1, 545: 1, 198: 1, 51802: 1, 6609: 1, 3162: 1, 5971: 1, 403: 1, 1235: 1, 300: 1, 835: 1, 865: 1, 847: 1, 24946: 1, 934: 1, 1351: 1, 374: 1, 1577: 1, 6242: 1, 25875: 1, 3054: 1, 3260: 1, 475: 1, 716: 1, 919: 1, 259157: 1, 1719: 1, 699: 1, 486: 1, 624: 1, 10807: 1, 2969: 1, 48956: 1, 2901: 1, 58780: 1, 1098: 1, 345: 1, 2100: 1, 1471: 1, 12670: 1, 857: 1, 1888: 1, 5845: 1, 1451: 1, 45781: 1, 123182: 1, 5176: 1, 715: 1, 130758: 1, 277: 1, 1158: 1, 2233: 1, 35662: 1, 342: 1, 521: 1, 551: 1, 494: 1, 156: 1, 16072: 1, 432: 1, 3108: 1, 1386: 1, 2765: 1, 5119: 1, 2652: 1, 1005: 1, 4996: 1, 2099: 1, 248: 1, 503: 1, 369: 1, 36105: 1, 371: 1, 5156: 1, 255: 1, 3838: 1, 2882: 1, 208: 1, 3780: 1, 2446: 1, 457: 1, 25850: 1, 304: 1, 7942: 1, 2664: 1, 1651: 1, 2146: 1, 391: 1, 225: 1, 260: 1, 1162: 1, 3071: 1, 53646: 1, 993: 1, 1353: 1, 236: 1, 535: 1, 195: 1, 23546: 1, 14970: 1, 2210: 1, 279: 1, 768: 1, 3391: 1, 844: 1, 803: 1, 1671: 1, 9864: 1, 5472: 1, 4314: 1, 644: 1, 23880: 1, 4321: 1, 3015: 1, 116504: 1, 2109: 1, 30568: 1, 1745: 1, 6348: 1, 764: 1, 589: 1, 14306: 1, 4084: 1, 2550: 1, 643: 1, 1496: 1, 2884: 1, 30424: 1, 610: 1, 14246: 1, 1891: 1, 22924: 1, 616: 1, 267: 1, 2336: 1, 4244: 1, 665: 1, 4670: 1, 50687: 1, 258: 1, 989: 1, 292942: 1, 846: 1, 497: 1, 5528: 1, 7340: 1, 420: 1, 381: 1, 36483: 1, 210: 1, 325: 1, 272: 1, 951: 1, 2692: 1, 2242: 1, 12126: 1, 1573: 1, 3378: 1, 468: 1, 388: 1, 3490: 1, 17870: 1, 2090: 1, 479: 1, 880: 1, 1093: 1, 15866: 1, 971: 1, 1519: 1, 810: 1, 257: 1, 296: 1, 2116: 1, 727: 1, 421: 1, 2677: 1, 9620: 1, 669: 1, 446: 1, 233: 1, 1032: 1, 23155: 1, 435: 1, 5830: 1, 2717: 1, 20282: 1, 229: 1, 6123: 1, 24241: 1, 292: 1, 18059: 1, 272233: 1, 305740: 1, 41491: 1, 9623: 1, 3915: 1, 17347: 1, 25751: 1, 881: 1, 714: 1, 516: 1, 750: 1, 10294: 1, 34487: 1, 1165: 1, 506: 1, 836: 1, 266: 1, 1844: 1, 2618: 1, 69803: 1, 2515: 1, 19378: 1, 111978: 1, 1458: 1, 4419: 1, 466: 1, 866: 1, 1556: 1, 2046: 1, 9607: 1, 3849: 1, 671: 1, 2187: 1, 2417: 1, 1399: 1, 4041: 1, 897: 1, 107225: 1, 613: 1, 309: 1, 2125: 1, 187: 1, 2756: 1, 5312: 1, 1137: 1, 756: 1, 3305: 1, 612: 1, 34026: 1, 6182: 1, 4217: 1, 14613: 1, 528: 1, 5058: 1, 4710: 1, 1750: 1, 592: 1, 1781: 1, 815: 1, 14954: 1, 336: 1, 424: 1, 131: 1, 47250: 1, 358: 1, 131301: 1, 166653: 1, 227: 1, 5045: 1, 2189: 1, 206: 1, 41901: 1, 5270: 1, 6797: 1, 1118: 1, 1551: 1, 1439: 1, 443: 1, 3344: 1, 9468: 1, 1292: 1, 270770: 1, 10401: 1, 4373: 1, 10795: 1, 42299: 1, 2619: 1, 5684: 1, 5763: 1, 1200: 1, 6722: 1, 982: 1, 14779: 1, 1102: 1, 7339: 1, 711: 1, 139: 1, 364: 1, 46179: 1, 1530: 1, 426: 1, 115468: 1, 2946: 1, 13510: 1, 302: 1, 230749: 1, 3623: 1, 39971: 1, 176738: 1, 775: 1, 1069: 1, 256: 1, 3669: 1, 553: 1, 11106: 1, 95: 1, 11743: 1, 732: 1, 2609: 1, 1531: 1, 4329: 1, 2519: 1, 678: 1, 4721: 1, 409: 1, 2567: 1, 9262: 1, 519: 1, 321: 1, 464: 1, 887: 1, 2672: 1, 972: 1, 801: 1, 585: 1, 511: 1, 288341: 1, 343: 1, 771: 1, 2066: 1, 337: 1, 1409: 1, 777: 1, 27570: 1, 404: 1, 350: 1, 2859: 1, 819: 1, 232: 1, 10119: 1, 277890: 1, 600: 1, 6669: 1, 30749: 1, 2318: 1, 226: 1, 5368: 1, 3806: 1, 1144: 1, 322330: 1, 10985: 1, 524: 1, 14790: 1, 86653: 1, 9735: 1, 355: 1, 6087: 1, 7826: 1, 348: 1, 1161: 1, 807: 1, 211: 1, 174: 1, 103354: 1, 3822: 1, 264: 1, 109: 1, 5888: 1, 1071: 1})\n"
     ]
    },
    {
     "data": {
      "image/png": "[encoded data removed]",
      "text/plain": [
       "<Figure size 432x288 with 1 Axes>"
      ]
     },
     "metadata": {
      "needs_background": "light"
     },
     "output_type": "display_data"
    }
   ],
   "source": [
    "plot_deg_frequency(G, weighted = True) #Pošto je mreža težinska, treba ispitati i raspodelu težinskog stepena čvora."
   ]
  },
  {
   "cell_type": "code",
   "execution_count": 144,
   "id": "cc973472",
   "metadata": {},
   "outputs": [
    {
     "data": {
      "image/png": "[encoded data removed]",
      "text/plain": [
       "<Figure size 700x500 with 1 Axes>"
      ]
     },
     "metadata": {
      "needs_background": "light"
     },
     "output_type": "display_data"
    }
   ],
   "source": [
    "#Analiza i fitovanje power law mrežnog modela\n",
    "\n",
    "#na log-log grafiku kumulativne raspodele stepena čvora bi opet trebalo da dobijemo pravu, samo sa manjim nagibom i manjim šumom u repu!\n",
    "degree_sequence = sorted([d for n, d in G.degree()], reverse=True) #prodjemo kroz cvorove i njihove stepenove\n",
    "degreeCount = Counter(degree_sequence)\n",
    "deg, cnt = zip(*degreeCount.items())\n",
    "\n",
    "max_deg = max(deg) # hoćemo po jedan bin za svaki stepen čvora #max stepen cvorova\n",
    "\n",
    "# izračunavanje histograma\n",
    "values, base = np.histogram(deg, bins = max_deg) #za svaki stepen po jedan bin da iscrta\n",
    "\n",
    "# kumulativna suma (inkluzivna prefiksna suma)\n",
    "cumulative = np.cumsum(values)\n",
    "\n",
    "# plotovanje komplementarne kumulativne raspodele stepena čvora P(X>x)\n",
    "plt.plot(base[:-1], [float(x)/len(dfComAndSub) for x in len(dfComAndSub) - cumulative], c='blue')\n",
    "\n",
    "plt.show()"
   ]
  },
  {
   "cell_type": "code",
   "execution_count": 142,
   "id": "23c6a593",
   "metadata": {},
   "outputs": [
    {
     "name": "stdout",
     "output_type": "stream",
     "text": [
      "Requirement already satisfied: powerlaw in c:\\users\\marina\\anaconda3\\lib\\site-packages (1.5)\n",
      "Requirement already satisfied: numpy in c:\\users\\marina\\anaconda3\\lib\\site-packages (from powerlaw) (1.20.3)\n",
      "Requirement already satisfied: mpmath in c:\\users\\marina\\anaconda3\\lib\\site-packages (from powerlaw) (1.2.1)\n",
      "Requirement already satisfied: scipy in c:\\users\\marina\\anaconda3\\lib\\site-packages (from powerlaw) (1.7.1)\n",
      "Requirement already satisfied: matplotlib in c:\\users\\marina\\anaconda3\\lib\\site-packages (from powerlaw) (3.4.3)\n",
      "Requirement already satisfied: pyparsing>=2.2.1 in c:\\users\\marina\\anaconda3\\lib\\site-packages (from matplotlib->powerlaw) (3.0.4)\n",
      "Requirement already satisfied: cycler>=0.10 in c:\\users\\marina\\anaconda3\\lib\\site-packages (from matplotlib->powerlaw) (0.10.0)\n",
      "Requirement already satisfied: kiwisolver>=1.0.1 in c:\\users\\marina\\anaconda3\\lib\\site-packages (from matplotlib->powerlaw) (1.3.1)\n",
      "Requirement already satisfied: pillow>=6.2.0 in c:\\users\\marina\\anaconda3\\lib\\site-packages (from matplotlib->powerlaw) (8.4.0)\n",
      "Requirement already satisfied: python-dateutil>=2.7 in c:\\users\\marina\\anaconda3\\lib\\site-packages (from matplotlib->powerlaw) (2.8.2)\n",
      "Requirement already satisfied: six in c:\\users\\marina\\anaconda3\\lib\\site-packages (from cycler>=0.10->matplotlib->powerlaw) (1.16.0)\n"
     ]
    },
    {
     "name": "stderr",
     "output_type": "stream",
     "text": [
      "WARNING: You are using pip version 22.0.4; however, version 22.2.2 is available.\n",
      "You should consider upgrading via the 'C:\\Users\\Marina\\anaconda3\\python.exe -m pip install --upgrade pip' command.\n"
     ]
    }
   ],
   "source": [
    "!pip install powerlaw\n",
    "import powerlaw"
   ]
  },
  {
   "cell_type": "code",
   "execution_count": 148,
   "id": "ad84b32d",
   "metadata": {},
   "outputs": [
    {
     "name": "stderr",
     "output_type": "stream",
     "text": [
      "Values less than or equal to 0 in data. Throwing out 0 or negative values\n"
     ]
    },
    {
     "name": "stdout",
     "output_type": "stream",
     "text": [
      "Calculating best minimal value for power law fit\n",
      "2.2464911508648253\n",
      "156.0\n",
      "0.056025610831647574\n",
      "Loglikelihood ratio: 22.582676543743453\n",
      "Statistical significance: 0.0730904396689174\n"
     ]
    },
    {
     "name": "stderr",
     "output_type": "stream",
     "text": [
      "Assuming nested distributions\n",
      "Assuming nested distributions\n"
     ]
    },
    {
     "name": "stdout",
     "output_type": "stream",
     "text": [
      "Loglikelihood ratio: -15.613893371177623\n",
      "Statistical significance: 2.2945806810170666e-08\n",
      "Loglikelihood ratio: 15.613893371177623\n",
      "Statistical significance: 2.2945806810170666e-08\n",
      "Loglikelihood ratio: 2.969746142067878\n",
      "Statistical significance: 0.0014922213063029786\n",
      "Loglikelihood ratio: 1.6226464808631436\n",
      "Statistical significance: 0.00964979892212571\n",
      "Loglikelihood ratio: 2.969746142067878\n",
      "Statistical significance: 0.0014922213063029786\n",
      "Calculating best minimal value for power law fit\n",
      "xmin progress: 00%\r",
      "xmin progress: 00%\r",
      "xmin progress: 00%\r",
      "xmin progress: 00%\r",
      "xmin progress: 00%\r",
      "xmin progress: 01%\r",
      "xmin progress: 01%\r",
      "xmin progress: 01%\r",
      "xmin progress: 01%\r",
      "xmin progress: 01%\r",
      "xmin progress: 02%\r",
      "xmin progress: 02%\r",
      "xmin progress: 02%\r",
      "xmin progress: 02%\r",
      "xmin progress: 02%\r",
      "xmin progress: 03%\r",
      "xmin progress: 03%\r",
      "xmin progress: 03%\r",
      "xmin progress: 03%\r",
      "xmin progress: 03%\r",
      "xmin progress: 04%\r",
      "xmin progress: 04%\r",
      "xmin progress: 04%\r",
      "xmin progress: 04%\r",
      "xmin progress: 05%\r",
      "xmin progress: 05%\r",
      "xmin progress: 05%\r",
      "xmin progress: 05%\r",
      "xmin progress: 05%\r",
      "xmin progress: 06%\r",
      "xmin progress: 06%\r",
      "xmin progress: 06%\r",
      "xmin progress: 06%\r",
      "xmin progress: 06%\r",
      "xmin progress: 07%\r",
      "xmin progress: 07%\r",
      "xmin progress: 07%\r",
      "xmin progress: 07%\r",
      "xmin progress: 07%\r",
      "xmin progress: 08%\r",
      "xmin progress: 08%\r",
      "xmin progress: 08%\r",
      "xmin progress: 08%\r",
      "xmin progress: 08%\r",
      "xmin progress: 09%\r",
      "xmin progress: 09%\r",
      "xmin progress: 09%\r",
      "xmin progress: 09%\r",
      "xmin progress: 10%\r",
      "xmin progress: 10%\r",
      "xmin progress: 10%\r",
      "xmin progress: 10%\r",
      "xmin progress: 10%\r",
      "xmin progress: 11%\r",
      "xmin progress: 11%\r",
      "xmin progress: 11%\r",
      "xmin progress: 11%\r",
      "xmin progress: 11%\r",
      "xmin progress: 12%\r",
      "xmin progress: 12%\r",
      "xmin progress: 12%\r",
      "xmin progress: 12%\r",
      "xmin progress: 12%\r",
      "xmin progress: 13%\r",
      "xmin progress: 13%\r",
      "xmin progress: 13%\r",
      "xmin progress: 13%\r",
      "xmin progress: 14%\r",
      "xmin progress: 14%\r",
      "xmin progress: 14%\r",
      "xmin progress: 14%\r",
      "xmin progress: 14%\r",
      "xmin progress: 15%\r",
      "xmin progress: 15%\r",
      "xmin progress: 15%\r",
      "xmin progress: 15%\r",
      "xmin progress: 15%\r",
      "xmin progress: 16%\r",
      "xmin progress: 16%\r",
      "xmin progress: 16%\r",
      "xmin progress: 16%\r",
      "xmin progress: 16%\r",
      "xmin progress: 17%\r",
      "xmin progress: 17%\r",
      "xmin progress: 17%\r",
      "xmin progress: 17%\r",
      "xmin progress: 17%\r",
      "xmin progress: 18%\r",
      "xmin progress: 18%\r",
      "xmin progress: 18%\r",
      "xmin progress: 18%\r",
      "xmin progress: 19%\r",
      "xmin progress: 19%\r",
      "xmin progress: 19%\r",
      "xmin progress: 19%\r",
      "xmin progress: 19%\r",
      "xmin progress: 20%\r",
      "xmin progress: 20%\r",
      "xmin progress: 20%\r",
      "xmin progress: 20%\r",
      "xmin progress: 20%\r",
      "xmin progress: 21%\r",
      "xmin progress: 21%\r",
      "xmin progress: 21%\r",
      "xmin progress: 21%\r",
      "xmin progress: 21%\r",
      "xmin progress: 22%\r",
      "xmin progress: 22%\r",
      "xmin progress: 22%\r",
      "xmin progress: 22%\r",
      "xmin progress: 23%\r",
      "xmin progress: 23%\r",
      "xmin progress: 23%\r",
      "xmin progress: 23%\r",
      "xmin progress: 23%\r",
      "xmin progress: 24%\r",
      "xmin progress: 24%\r",
      "xmin progress: 24%\r",
      "xmin progress: 24%\r",
      "xmin progress: 24%\r",
      "xmin progress: 25%\r",
      "xmin progress: 25%\r",
      "xmin progress: 25%\r",
      "xmin progress: 25%\r",
      "xmin progress: 25%\r",
      "xmin progress: 26%\r",
      "xmin progress: 26%\r",
      "xmin progress: 26%\r",
      "xmin progress: 26%\r",
      "xmin progress: 26%\r",
      "xmin progress: 27%\r",
      "xmin progress: 27%\r",
      "xmin progress: 27%\r",
      "xmin progress: 27%\r",
      "xmin progress: 28%\r",
      "xmin progress: 28%\r",
      "xmin progress: 28%\r",
      "xmin progress: 28%\r",
      "xmin progress: 28%\r",
      "xmin progress: 29%\r",
      "xmin progress: 29%\r",
      "xmin progress: 29%\r",
      "xmin progress: 29%\r",
      "xmin progress: 29%\r",
      "xmin progress: 30%\r",
      "xmin progress: 30%\r",
      "xmin progress: 30%\r",
      "xmin progress: 30%\r",
      "xmin progress: 30%\r",
      "xmin progress: 31%\r",
      "xmin progress: 31%\r",
      "xmin progress: 31%\r",
      "xmin progress: 31%\r",
      "xmin progress: 32%\r",
      "xmin progress: 32%\r",
      "xmin progress: 32%\r",
      "xmin progress: 32%\r",
      "xmin progress: 32%\r",
      "xmin progress: 33%\r",
      "xmin progress: 33%\r",
      "xmin progress: 33%\r",
      "xmin progress: 33%\r",
      "xmin progress: 33%\r",
      "xmin progress: 34%\r",
      "xmin progress: 34%\r",
      "xmin progress: 34%\r",
      "xmin progress: 34%\r",
      "xmin progress: 34%\r",
      "xmin progress: 35%\r",
      "xmin progress: 35%\r",
      "xmin progress: 35%\r",
      "xmin progress: 35%\r",
      "xmin progress: 35%\r",
      "xmin progress: 36%\r",
      "xmin progress: 36%\r",
      "xmin progress: 36%\r",
      "xmin progress: 36%\r",
      "xmin progress: 37%\r",
      "xmin progress: 37%\r",
      "xmin progress: 37%\r",
      "xmin progress: 37%\r"
     ]
    },
    {
     "name": "stderr",
     "output_type": "stream",
     "text": [
      "Values less than or equal to 0 in data. Throwing out 0 or negative values\n"
     ]
    },
    {
     "name": "stdout",
     "output_type": "stream",
     "text": [
      "1.579835812382946%\n",
      "156.0\n"
     ]
    }
   ],
   "source": [
    "results = powerlaw.Fit(degree_sequence)\n",
    "print(results.power_law.alpha)#ono alfa u formuli\n",
    "print(results.power_law.xmin) #od koje vr pocinje powerlaw za ove podatke, ostatak je odsekao\n",
    "print(results.power_law.sigma) #koliko odstupaju podaci, treba sto manje, da bude sto bolje fitovano\n",
    "\n",
    "R, p = results.distribution_compare('power_law', 'exponential') #da li neka druga distribucija fituje bolje, treba da uporedimo nekoliko i ako powerlaw fituje najbolje, mozemo smatrati da je to powerlaw raspodela\n",
    "print(f\"Loglikelihood ratio: {R}\") #ako je pozitivno verovatnije je da su podaci po prvoj (powerlaw) raspodeli, ako je neg. po drugoj, sto je vece, veca je verovatnoca\n",
    "print(f\"Statistical significance: {p}\") #pretpostavimo da nije powerlaw nego random, p predstavlja koja je verovatnoca da random izvlacenjem podataka dobijemo da izleda isto tako slika, ako je velika verovatnoca, to je velika sansa da zaista nema powerlaw efekta \n",
    "# ako je mala sansa da random podacima dobijemo ovako, to znaci da vrv ima powerlaw\n",
    "#u slucaju kada ovako ima dva parametra malo p znaci da je mala verovtanoca da je promasio da je prvi arg. bolji od drugog, sto je manja verovatnoca to smo sigurniji da je prvi model bolji od drugog\n",
    "\n",
    "R, p = results.distribution_compare('power_law', 'truncated_power_law') #truncated je da li treba odseci deo i fitovati ostatak\n",
    "print(f\"Loglikelihood ratio: {R}\")\n",
    "print(f\"Statistical significance: {p}\") #99,5 % - preklapaju se u velioj kolicini\n",
    "\n",
    "R, p = results.distribution_compare('truncated_power_law', 'power_law') #truncated je da li treba odseci deo i fitovati ostatak\n",
    "print(f\"Loglikelihood ratio: {R}\")\n",
    "print(f\"Statistical significance: {p}\") #99,5 % - preklapaju se u velioj kolicini\n",
    "\n",
    "R, p = results.distribution_compare('truncated_power_law', 'lognormal_positive') #truncated je da li treba odseci deo i fitovati ostatak\n",
    "print(f\"Loglikelihood ratio: {R}\")\n",
    "print(f\"Statistical significance: {p}\") #99,5 % - preklapaju se u velioj kolicini\n",
    "\n",
    "R, p = results.distribution_compare('truncated_power_law', 'stretched_exponential') #truncated je da li treba odseci deo i fitovati ostatak\n",
    "print(f\"Loglikelihood ratio: {R}\")\n",
    "print(f\"Statistical significance: {p}\") #99,5 % - preklapaju se u velioj kolicini\n",
    "\n",
    "R, p = results.distribution_compare('truncated_power_law', 'lognormal') #truncated je da li treba odseci deo i fitovati ostatak\n",
    "print(f\"Loglikelihood ratio: {R}\")\n",
    "print(f\"Statistical significance: {p}\") #99,5 % - preklapaju se u velioj kolicini\n",
    "\n",
    "results = powerlaw.Fit(degree_sequence)\n",
    "print(results.truncated_power_law.alpha)#ono alfa u formuli\n",
    "print(results.truncated_power_law.xmin) #od koje vr pocinje powerlaw za ove podatke, ostatak je odsekao\n",
    "#print(results.truncated_power_law.sigma)  #ne postoji za truncated"
   ]
  },
  {
   "cell_type": "markdown",
   "id": "8e9dec58",
   "metadata": {},
   "source": [
    "Poređenjem sa drugim distribucijama (power law, exponential, lognormal,...) dobijamo da mreža prati najbolje truncated power law raspodelu."
   ]
  },
  {
   "cell_type": "markdown",
   "id": "ed299e19",
   "metadata": {},
   "source": [
    "Odrediti najvažnije habove i autoritete u mreži. Kako su oni raspoređeni i ugrađeni u \n",
    "mrežu, da li su na periferiji ili u jezgru mreže?\n",
    "\n",
    "S obzirom da je graf neusmeren, habovi i autoriteti predstavljaju istu stvar i gleda se samo stepen čvora. Najbitniji su sledeći: 'reddit.com', 3143\n",
    "'technology', 2221\n",
    "'politics', 2211\n",
    "'pics', 2171\n",
    "'funny', 2123\n",
    "'science', 2105\n",
    "'worldnews', 2091\n",
    "'entertainment', 2061\n",
    "'WTF', 2044\n",
    "'programming', 2043"
   ]
  },
  {
   "cell_type": "code",
   "execution_count": 162,
   "id": "0c1fc06d",
   "metadata": {},
   "outputs": [
    {
     "name": "stdout",
     "output_type": "stream",
     "text": [
      "[('reddit.com', 3143), ('technology', 2221), ('politics', 2211), ('pics', 2171), ('funny', 2123), ('science', 2105), ('worldnews', 2091), ('entertainment', 2061), ('WTF', 2044), ('programming', 2043)]\n"
     ]
    }
   ],
   "source": [
    "degrees = [(node,val) for (node, val) in G.degree()]\n",
    "largest_degrees=sorted(degrees, key=lambda x: x[1], reverse=True)[0:10]\n",
    "print(largest_degrees)"
   ]
  },
  {
   "cell_type": "code",
   "execution_count": 172,
   "id": "f343d612",
   "metadata": {},
   "outputs": [
    {
     "name": "stdout",
     "output_type": "stream",
     "text": [
      "{'reddit.com': 3}\n",
      "{'technology': 3}\n",
      "{'politics': 3}\n",
      "{'pics': 3}\n",
      "{'funny': 3}\n",
      "{'science': 3}\n",
      "{'worldnews': 3}\n",
      "{'entertainment': 3}\n",
      "{'WTF': 3}\n",
      "{'programming': 3}\n"
     ]
    }
   ],
   "source": [
    "for i in range(0,10):\n",
    "    ex=nx.eccentricity(Gdom,v=largest_degrees[i])\n",
    "    print(ex)"
   ]
  },
  {
   "cell_type": "markdown",
   "id": "acc30eef",
   "metadata": {},
   "source": [
    "Ekscentričnost najvažnijih habova iznosi 3, dok dijametar mreže iznosi 5, \n",
    "što ukazuje da se oni nalaze bliže jezgru grafa jer se nalaze približno na polovini dijametra."
   ]
  },
  {
   "cell_type": "code",
   "execution_count": 177,
   "id": "9d0c3380",
   "metadata": {},
   "outputs": [],
   "source": [
    "#Analiza različitih tipova centralnosti\n",
    "input_path = \"dominantna_komponenta.gml\"\n",
    "Gdom = nx.read_gml(input_path)"
   ]
  },
  {
   "cell_type": "code",
   "execution_count": 176,
   "id": "b5094eea",
   "metadata": {},
   "outputs": [
    {
     "name": "stdout",
     "output_type": "stream",
     "text": [
      "                       DC        CC            BC           EVC\n",
      "redditdev        0.092535  0.515813  1.004898e-04  8.354932e-04\n",
      "todayilearned    0.030940  0.497599  1.530901e-06  1.587024e-04\n",
      "sawwit           0.022140  0.494456  0.000000e+00  1.983423e-05\n",
      "clink            0.000284  0.474286  0.000000e+00  2.042550e-06\n",
      "confessions      0.055918  0.505452  9.412762e-06  5.246000e-04\n",
      "...                   ...       ...           ...           ...\n",
      "johncabellreads  0.001703  0.479777  0.000000e+00  6.777598e-06\n",
      "business2        0.033494  0.498585  7.410412e-07  4.685782e-05\n",
      "cherrysave       0.000852  0.479646  0.000000e+00  4.684686e-06\n",
      "celebrity        0.065853  0.508590  5.092726e-05  6.285869e-04\n",
      "shtruc           0.000284  0.326325  0.000000e+00  1.242337e-10\n",
      "\n",
      "[3524 rows x 4 columns]\n"
     ]
    }
   ],
   "source": [
    "#metrike su pravljene za mreže koje su jedna povezana komponenta).\n",
    "def calculate_centralities(G):\n",
    "\n",
    "    DC_dict = nx.degree_centrality(G) #centr. po stepenu\n",
    "    CC_dict = nx.closeness_centrality(G) #centr. po blizini\n",
    "    BC_dict = nx.betweenness_centrality(G) #relaciona centr.\n",
    "    EVC_dict = nx.eigenvector_centrality(G, weight='weight') #po svojstvenom vektoru\n",
    "\n",
    "    df1 = pd.DataFrame.from_dict(DC_dict, orient='index', columns=['DC'])\n",
    "    df2 = pd.DataFrame.from_dict(CC_dict, orient='index', columns=['CC'])\n",
    "    df3 = pd.DataFrame.from_dict(BC_dict, orient='index', columns=['BC'])\n",
    "    df4 = pd.DataFrame.from_dict(EVC_dict, orient='index', columns=['EVC'])\n",
    "    df = pd.concat([df1, df2, df3, df4], axis=1)\n",
    "    return df\n",
    "\n",
    "dataCentralitiesSNet=[]\n",
    "dataCentralitiesSNet = calculate_centralities(Gdom)\n",
    "print(dataCentralitiesSNet)"
   ]
  },
  {
   "cell_type": "code",
   "execution_count": 178,
   "id": "022b3c89",
   "metadata": {},
   "outputs": [
    {
     "name": "stdout",
     "output_type": "stream",
     "text": [
      "                     DC\n",
      "reddit.com     0.892137\n",
      "technology     0.630429\n",
      "politics       0.627590\n",
      "pics           0.616236\n",
      "funny          0.602611\n",
      "science        0.597502\n",
      "worldnews      0.593528\n",
      "entertainment  0.585013\n",
      "WTF            0.580187\n",
      "programming    0.579903\n"
     ]
    }
   ],
   "source": [
    "#Centralnost po stepenu - stepen čvora normalizovan maksimalnim mogućim stepenom čvora tj n-1. \n",
    "#U slučaju usmerenog grafa, ulazni i izlazni stepen čvora odgovaraju ulaznoj i izlaznoj centralnosti po stepenu. \n",
    "df_dc = pd.DataFrame({'DC':dataCentralitiesSNet['DC']})\n",
    "df_dc.sort_values(by='DC', ascending=False, inplace = True)\n",
    "print(df_dc.head(10)) #najvecih 10 uzimamo da analiziramo"
   ]
  },
  {
   "cell_type": "code",
   "execution_count": 179,
   "id": "771662f9",
   "metadata": {},
   "outputs": [
    {
     "name": "stdout",
     "output_type": "stream",
     "text": [
      "                     CC\n",
      "reddit.com     0.901946\n",
      "technology     0.728344\n",
      "politics       0.726092\n",
      "pics           0.720155\n",
      "funny          0.712581\n",
      "science        0.710139\n",
      "worldnews      0.708425\n",
      "entertainment  0.704037\n",
      "WTF            0.701374\n",
      "programming    0.700816\n"
     ]
    }
   ],
   "source": [
    "#Centralnost po bliskosti - koliko je čvor *udaljen* od drugih u mreži. Čvorovi koji su centralniji su bolji izvori širenja informacija.  \n",
    "#recipročna vrednost sume najkraćih rastojanja od posmatranog čvora do ostalih sa kojima je povezan, normalizovana sa N-1\n",
    "df_cc = pd.DataFrame({'CC':dataCentralitiesSNet['CC']})\n",
    "df_cc.sort_values(by='CC', ascending=False, inplace = True)\n",
    "print(df_cc.head(10)) #dovoljno je da budu povezani sa jednim cvorom koji je blizak sa dosta njih i imace dobru centr., br hopova +1"
   ]
  },
  {
   "cell_type": "code",
   "execution_count": 200,
   "id": "7cf059c7",
   "metadata": {},
   "outputs": [
    {
     "name": "stdout",
     "output_type": "stream",
     "text": [
      "                     BC\n",
      "reddit.com     0.240906\n",
      "technology     0.032263\n",
      "programming    0.028514\n",
      "politics       0.028131\n",
      "business       0.026983\n",
      "entertainment  0.024673\n",
      "pics           0.024575\n",
      "worldnews      0.021995\n",
      "funny          0.021117\n",
      "science        0.020857\n"
     ]
    }
   ],
   "source": [
    "#Relaciona centralnost (betweenness centrality) govori na koliko se najkraćih putanja između drugih čvorova neki čvor nalazi\n",
    "# u odnosu na ukupan broj takvih najkraćih puteva\n",
    "#U slučaju socijalne mreže, akter sa visokom relacionom centralnošću kontrološe tok informacija i predstavlja kandidata za brokerski čvor\n",
    "df_bc = pd.DataFrame({'BC':dataCentralitiesSNet['BC']})\n",
    "df_bc.sort_values(by='BC', ascending=False, inplace = True)\n",
    "print(df_bc.head(10)) #povezani su sa subredditima iz raznih drugih oblasti, i onda ako drugi nisu povezani sa ostalima svi najkraci putevi idu preko njih"
   ]
  },
  {
   "cell_type": "code",
   "execution_count": 206,
   "id": "b3a827d0",
   "metadata": {},
   "outputs": [
    {
     "name": "stdout",
     "output_type": "stream",
     "text": [
      "                    EVC\n",
      "reddit.com     0.374686\n",
      "politics       0.312672\n",
      "pics           0.291855\n",
      "funny          0.279569\n",
      "science        0.273052\n",
      "technology     0.263950\n",
      "worldnews      0.258876\n",
      "WTF            0.257430\n",
      "entertainment  0.247074\n",
      "programming    0.220670\n"
     ]
    }
   ],
   "source": [
    "#Centralnost po sopstvenom vektoru - koliko je uticajan čvor u mreži. \n",
    "#Ideja je da su čvorovi povezani sa manje uticajnim susedima više uticajni (//bitniji su od njih, ovo je alternativna verzija(bonacich//) \n",
    "#i da je uticajnost čvora proporcionalna zbiru uticajnosti njegovih suseda (//vise uticajan, mocan ako su oni vise uticajni, kontradiktorno malo u odnosu na onaj prvi deo..//)\n",
    "df_evc = pd.DataFrame({'EVC':dataCentralitiesSNet['EVC']})\n",
    "df_evc.sort_values(by='EVC', ascending=False, inplace = True)\n",
    "print(df_evc.head(10)) #puno se pojavljuju i medjusobno su povezani"
   ]
  },
  {
   "cell_type": "markdown",
   "id": "b6a2d4ed",
   "metadata": {},
   "source": [
    "Najvažniji čvorovi po ovoj centralnosti govore o tome da su povezani sa manje uticajnim susedima.\n",
    "Čvor je uticajniji ukoliko njegovi susedi takođe imaju veliki broj suseda do velikog broja aktera.\n",
    "Čvor je moćniji ukoliko njegovi susedi nemaju veliki broj svojih suseda"
   ]
  },
  {
   "cell_type": "code",
   "execution_count": 198,
   "id": "a79bfa10",
   "metadata": {},
   "outputs": [
    {
     "name": "stdout",
     "output_type": "stream",
     "text": [
      "(5.451924710308545e-06+0j)\n"
     ]
    }
   ],
   "source": [
    "#Katz centralnost\n",
    "\n",
    "#Katz centralnost uzima u obzir putanje svih mogućih dužina koje spajaju dva čvora i uvodi podesivi parametar slabljenja  𝛼\n",
    "#nedirektni susedi i ta povezanost treba da doprinosi centralnosti ali sa nekim koef. slabljenja\n",
    "#Ako je G usmeren, vraća ulazne Katz centralnosti, za izlazne Katz centralnosti treba prvo uraditi G.reverse().\n",
    "#Da bi vrednost centralnosti konvergirala, mora važiti 0 < alpha < 1/lambda_max, gde je lambda_max najveća sopstvena vrednost matrice susednosti. \n",
    "#ove centralnosti pogotovo poslednje dve ne rade kada ima ovako vise od jedne povezane komponente!!\n",
    "\n",
    "lambda_max =  max(nx.adjacency_spectrum(Gdom))\n",
    "print(1/lambda_max)"
   ]
  },
  {
   "cell_type": "code",
   "execution_count": 197,
   "id": "845c7cf4",
   "metadata": {},
   "outputs": [
    {
     "name": "stdout",
     "output_type": "stream",
     "text": [
      "               Katz_Beta\n",
      "reddit.com      0.274342\n",
      "politics        0.230443\n",
      "pics            0.216083\n",
      "funny           0.207448\n",
      "science         0.202978\n",
      "technology      0.196527\n",
      "worldnews       0.192860\n",
      "WTF             0.192017\n",
      "entertainment   0.184611\n",
      "programming     0.165985\n"
     ]
    }
   ],
   "source": [
    "#Katz, svi subredditi imaju parametar beta=1\n",
    "\n",
    "dataCentralitiesSNet.drop('Katz_Beta', inplace=True, axis=1)\n",
    "\n",
    "betadict={}\n",
    "for subreddit in Gdom.nodes():\n",
    "    betadict[subreddit] = 1\n",
    "    \n",
    "KatzC_dictBeta = nx.katz_centrality(Gdom, alpha=0.000005, beta=betadict, max_iter=1000, tol=1e-06, nstart=None, normalized=True, weight='weight')\n",
    "df_katzc = pd.DataFrame.from_dict(KatzC_dictBeta, orient='index', columns=['Katz_Beta'])\n",
    "dataCentralitiesSNet['Katz_Beta']=df_katzc\n",
    "\n",
    "df_katzc = pd.DataFrame({'Katz_Beta':dataCentralitiesSNet['Katz_Beta']})\n",
    "df_katzc.sort_values(by='Katz_Beta', ascending=False, inplace = True)\n",
    "print(df_katzc.head(10))"
   ]
  },
  {
   "cell_type": "code",
   "execution_count": 196,
   "id": "3fb3e317",
   "metadata": {},
   "outputs": [
    {
     "name": "stdout",
     "output_type": "stream",
     "text": [
      "                   Katz\n",
      "reddit.com     0.020481\n",
      "politics       0.019824\n",
      "pics           0.019665\n",
      "funny          0.019546\n",
      "science        0.019502\n",
      "technology     0.019405\n",
      "WTF            0.019352\n",
      "worldnews      0.019341\n",
      "entertainment  0.019232\n",
      "programming    0.018969\n"
     ]
    }
   ],
   "source": [
    "#Katz centralnost, svi beta=1 ali prosledjen broj umesto recnika\n",
    "dataCentralitiesSNet.drop('Katz', inplace=True, axis=1)\n",
    "\n",
    "\n",
    "KatzC_dict = nx.katz_centrality(Gdom, alpha=0.0000005, beta=1.0, max_iter=1000, tol=1e-06, nstart=None, normalized=True, weight='weight') #//treba da probamo alfa za npr desetak tacaka u dozvoljenomg opsegu i vidimo, meni ispadaju iste vrednosti za sve vr alfa manje od 0.000005, vece ne sme zbog lambda max\n",
    "df_katzc = pd.DataFrame.from_dict(KatzC_dict, orient='index', columns=['Katz'])\n",
    "dataCentralitiesSNet = pd.concat([dataCentralitiesSNet,df_katzc], axis=1)\n",
    "\n",
    "df_katzc = pd.DataFrame({'Katz':dataCentralitiesSNet['Katz']})\n",
    "df_katzc.sort_values(by='Katz', ascending=False, inplace = True)\n",
    "print(df_katzc.head(10))"
   ]
  },
  {
   "cell_type": "code",
   "execution_count": 191,
   "id": "6dd59240",
   "metadata": {},
   "outputs": [
    {
     "name": "stdout",
     "output_type": "stream",
     "text": [
      "               Katz_Beta\n",
      "reddit.com      0.374045\n",
      "politics        0.262970\n",
      "pics            0.245130\n",
      "funny           0.235010\n",
      "science         0.229711\n",
      "technology      0.222641\n",
      "worldnews       0.218074\n",
      "WTF             0.216820\n",
      "entertainment   0.208948\n",
      "programming     0.187157\n"
     ]
    }
   ],
   "source": [
    "#Katz sa razlicitim beta za reddit.com, sa weight\n",
    "\n",
    "dataCentralitiesSNet.drop('Katz_Beta', inplace=True, axis=1)\n",
    "\n",
    "betadict={}\n",
    "for subreddit in Gdom.nodes():\n",
    "    betadict[subreddit] = 0.1\n",
    "    \n",
    "betadict['reddit.com'] = 1\n",
    "KatzC_dictBeta = nx.katz_centrality(Gdom, alpha=0.000005, beta=betadict, max_iter=1000, tol=1e-06, nstart=None, normalized=True, weight='weight')\n",
    "df_katzc = pd.DataFrame.from_dict(KatzC_dictBeta, orient='index', columns=['Katz_Beta'])\n",
    "dataCentralitiesSNet['Katz_Beta']=df_katzc\n",
    "\n",
    "df_katzc = pd.DataFrame({'Katz_Beta':dataCentralitiesSNet['Katz_Beta']})\n",
    "df_katzc.sort_values(by='Katz_Beta', ascending=False, inplace = True)\n",
    "print(df_katzc.head(10))"
   ]
  },
  {
   "cell_type": "code",
   "execution_count": 192,
   "id": "64bbe69b",
   "metadata": {},
   "outputs": [
    {
     "name": "stdout",
     "output_type": "stream",
     "text": [
      "               Katz_Beta\n",
      "reddit.com      0.166313\n",
      "technology      0.016790\n",
      "politics        0.016790\n",
      "pics            0.016786\n",
      "funny           0.016782\n",
      "science         0.016781\n",
      "worldnews       0.016780\n",
      "entertainment   0.016777\n",
      "WTF             0.016776\n",
      "programming     0.016776\n"
     ]
    }
   ],
   "source": [
    "#Katz sa razlicitim beta za reddit.com, bez weight\n",
    "\n",
    "dataCentralitiesSNet.drop('Katz_Beta', inplace=True, axis=1)\n",
    "\n",
    "betadict={}\n",
    "for subreddit in Gdom.nodes():\n",
    "    betadict[subreddit] = 0.1\n",
    "    \n",
    "betadict['reddit.com'] = 1 \n",
    "KatzC_dictBeta = nx.katz_centrality(Gdom, alpha=0.000005, beta=betadict, max_iter=1000, tol=1e-06, nstart=None, normalized=True, weight=None)\n",
    "df_katzc = pd.DataFrame.from_dict(KatzC_dictBeta, orient='index', columns=['Katz_Beta'])\n",
    "dataCentralitiesSNet['Katz_Beta']=df_katzc\n",
    "\n",
    "df_katzc = pd.DataFrame({'Katz_Beta':dataCentralitiesSNet['Katz_Beta']})\n",
    "df_katzc.sort_values(by='Katz_Beta', ascending=False, inplace = True)\n",
    "print(df_katzc.head(10))"
   ]
  },
  {
   "cell_type": "code",
   "execution_count": 199,
   "id": "6a970e64",
   "metadata": {},
   "outputs": [
    {
     "name": "stdout",
     "output_type": "stream",
     "text": [
      "               Katz_Beta\n",
      "reddit.com      0.167726\n",
      "politics        0.019152\n",
      "pics            0.018866\n",
      "funny           0.018753\n",
      "science         0.018700\n",
      "technology      0.018673\n",
      "worldnews       0.018577\n",
      "WTF             0.018554\n",
      "entertainment   0.018545\n",
      "business        0.018334\n"
     ]
    }
   ],
   "source": [
    "#Katz sa razlicitim beta za reddit.com, sa weight, alfa=0.00000025\n",
    "\n",
    "dataCentralitiesSNet.drop('Katz_Beta', inplace=True, axis=1)\n",
    "\n",
    "betadict={}\n",
    "for subreddit in Gdom.nodes():\n",
    "    betadict[subreddit] = 0.1\n",
    "    \n",
    "betadict['reddit.com'] = 1 \n",
    "KatzC_dictBeta = nx.katz_centrality(Gdom, alpha=0.00000025, beta=betadict, max_iter=1000, tol=1e-06, nstart=None, normalized=True, weight='weight')\n",
    "df_katzc = pd.DataFrame.from_dict(KatzC_dictBeta, orient='index', columns=['Katz_Beta'])\n",
    "dataCentralitiesSNet['Katz_Beta']=df_katzc\n",
    "\n",
    "df_katzc = pd.DataFrame({'Katz_Beta':dataCentralitiesSNet['Katz_Beta']})\n",
    "df_katzc.sort_values(by='Katz_Beta', ascending=False, inplace = True)\n",
    "print(df_katzc.head(10))"
   ]
  },
  {
   "cell_type": "code",
   "execution_count": 202,
   "id": "bb0dfec5",
   "metadata": {},
   "outputs": [
    {
     "name": "stdout",
     "output_type": "stream",
     "text": [
      "                     DC        CC        BC       EVC      Katz  Katz_Beta  \\\n",
      "reddit.com     0.892137  0.901946  0.368655  0.374686  0.020481   0.167726   \n",
      "politics       0.627590  0.726092  0.043049  0.312672  0.019824   0.019152   \n",
      "technology     0.630429  0.728344  0.049371  0.263950  0.019405   0.018673   \n",
      "pics           0.616236  0.720155  0.037606  0.291855  0.019665   0.018866   \n",
      "funny          0.602611  0.712581  0.032315  0.279569  0.019546   0.018753   \n",
      "science        0.597502  0.710139  0.031917  0.273052  0.019502   0.018700   \n",
      "worldnews      0.593528  0.708425  0.033658  0.258876  0.019341   0.018577   \n",
      "programming    0.579903  0.700816  0.043635  0.220670  0.018969   0.018298   \n",
      "entertainment  0.585013  0.704037  0.037757  0.247074  0.019232   0.018545   \n",
      "WTF            0.580187  0.701374  0.028495  0.257430  0.019352   0.018554   \n",
      "\n",
      "               DC_rank  CC_rank  BC_rank  EVC_rank  Katz_rank  composite_rank  \n",
      "reddit.com         1.0      1.0      1.0       1.0        1.0             1.0  \n",
      "politics           3.0      3.0      4.0       2.0        2.0           144.0  \n",
      "technology         2.0      2.0      2.0       6.0        6.0           288.0  \n",
      "pics               4.0      4.0      7.0       3.0        3.0          1008.0  \n",
      "funny              5.0      5.0      9.0       4.0        4.0          3600.0  \n",
      "science            6.0      6.0     10.0       5.0        5.0          9000.0  \n",
      "worldnews          7.0      7.0      8.0       7.0        8.0         21952.0  \n",
      "programming       10.0     10.0      3.0      10.0       10.0         30000.0  \n",
      "entertainment      8.0      8.0      6.0       9.0        9.0         31104.0  \n",
      "WTF                9.0      9.0     11.0       8.0        7.0         49896.0  \n"
     ]
    }
   ],
   "source": [
    "#Kompozitni rang\n",
    "#𝑐𝑜𝑚𝑝𝑜𝑠𝑖𝑡𝑒_𝑟𝑎𝑛𝑘=𝐷𝐶_𝑟𝑎𝑛𝑘∗𝐶𝐶_𝑟𝑎𝑛𝑘∗𝐵𝐶_𝑟𝑎𝑛𝑘∗𝐸𝑉𝐶_𝑟𝑎𝑛𝑘*Katz_rank\n",
    "df_ = dataCentralitiesSNet\n",
    "labele = ['DC', 'CC', 'BC', 'EVC','Katz']\n",
    "for metric in labele:\n",
    "    df_[f\"{metric}_rank\"] = dataCentralitiesSNet[f\"{metric}\"].rank(ascending=False) \n",
    "    \n",
    "df_['composite_rank'] = df_['DC_rank'] * df_['CC_rank'] * df_['BC_rank'] * df_['EVC_rank'] * df_['Katz_rank']\n",
    "\n",
    "df_=df_.sort_values(['composite_rank'], ascending = True)\n",
    "print(df_.head(10))"
   ]
  },
  {
   "cell_type": "code",
   "execution_count": null,
   "id": "b1029298",
   "metadata": {},
   "outputs": [],
   "source": []
  },
  {
   "cell_type": "code",
   "execution_count": null,
   "id": "e485ff66",
   "metadata": {},
   "outputs": [],
   "source": [
    "#SPEKTRALNA ANALIZA\n",
    "#//pronalazi dobru podelu grafova, za pronalazenje komuna\n",
    "#//izvodi zakljucke o grafovima na osnovu specigicnih matricnih reprezentacija,\n",
    "#//spektar matrice je skup sopstvenih vrednosti matrice\n",
    "#//neke beleske za ovo imas u folderu spektralna analiza prezentacija\n",
    "#//velika slozenost, dobro za manje mreze\n",
    "#//dobro za odjredjivanja broja komuna i podelu na komune, pogotovo kad su komune nejednake velicine, tolerise\n",
    "#//predstavlja optimizaciju Ratio cut, radi posle s k-means\n",
    "#//koristi matricu slicnosti, odnosno u slucaju grafova tezine odnosno matricu susednosti\n",
    "#//ovde ima dosta matematike koja nam ne treba, mozda pitati pedju da posalje skracenu verziju\n",
    "#//bitni su ovi grafici (1, 2, 4, i 5.)\n"
   ]
  },
  {
   "cell_type": "code",
   "execution_count": 205,
   "id": "cbab7e14",
   "metadata": {},
   "outputs": [],
   "source": [
    "from scipy import linalg\n",
    "#from docx import Document #//baca gresku ovo\n",
    "import math #?\n",
    "import sympy\n",
    "from sklearn.cluster import SpectralClustering"
   ]
  },
  {
   "cell_type": "code",
   "execution_count": 207,
   "id": "1aa5f3e3",
   "metadata": {},
   "outputs": [],
   "source": [
    "def plot_scatterplot(x_data, y_data, x_label, y_label, title):\n",
    "    fig, ax = plt.subplots()\n",
    "    ax.scatter(x_data, y_data) \n",
    "    ax.set_ylabel(y_label, fontsize=15)\n",
    "    ax.set_xlabel(x_label, fontsize=15)\n",
    "    ax.set_title(title)\n",
    "    plt.savefig(f\"{title}.svg\")\n",
    "    plt.show() \n",
    "\n",
    "def plot_scatterplot2(x_data, y_data, x_label, y_label, title, file_name):\n",
    "    fig, ax = plt.subplots()\n",
    "    ax.scatter(x_data, y_data) \n",
    "    ax.set_ylabel(y_label, fontsize=15)\n",
    "    ax.set_xlabel(x_label, fontsize=15)\n",
    "    ax.set_title(title)\n",
    "    plt.savefig(f\"{file_name}.svg\")\n",
    "    plt.show() "
   ]
  },
  {
   "cell_type": "code",
   "execution_count": 208,
   "id": "ad5b5b2a",
   "metadata": {},
   "outputs": [],
   "source": [
    "G2 = Gdom"
   ]
  },
  {
   "cell_type": "code",
   "execution_count": 212,
   "id": "67081a18",
   "metadata": {},
   "outputs": [],
   "source": [
    "def in_range(value, target, tolerated_error):\n",
    "    return abs(value-target) < tolerated_error\n",
    "\n",
    "def filter_matrix(m, tolerated_error):\n",
    "    new_matrix = []\n",
    "    for row in m:\n",
    "        new_row = []\n",
    "        for value in row:\n",
    "            if in_range(0 , value, tolerated_error):\n",
    "                new_row.append(0.0)\n",
    "            else:\n",
    "                new_row.append(value)\n",
    "        new_matrix.append(new_row)\n",
    "    return new_matrix"
   ]
  },
  {
   "cell_type": "code",
   "execution_count": 213,
   "id": "eac6fbd9",
   "metadata": {},
   "outputs": [
    {
     "name": "stdout",
     "output_type": "stream",
     "text": [
      "     k      lambda_k\n",
      "0    1 -2.620506e-11\n",
      "1    2  2.681532e-01\n",
      "2    3  5.110828e-01\n",
      "3    4  5.758798e-01\n",
      "4    5  7.384283e-01\n",
      "5    6  7.639315e-01\n",
      "6    7  7.643149e-01\n",
      "7    8  8.297834e-01\n",
      "8    9  8.362588e-01\n",
      "9   10  8.379027e-01\n",
      "10  11  8.416228e-01\n",
      "11  12  9.072753e-01\n",
      "12  13  9.099429e-01\n",
      "13  14  9.293559e-01\n",
      "14  15  9.371039e-01\n",
      "15  16  9.415129e-01\n",
      "16  17  9.616547e-01\n",
      "17  18  9.654971e-01\n",
      "18  19  9.706613e-01\n",
      "19  20  9.738569e-01\n",
      "20  21  9.824536e-01\n",
      "21  22  9.835595e-01\n",
      "22  23  9.848467e-01\n",
      "23  24  9.886509e-01\n",
      "24  25  9.933860e-01\n",
      "25  26  9.937786e-01\n",
      "26  27  9.939394e-01\n",
      "27  28  9.953147e-01\n",
      "28  29  9.958993e-01\n",
      "29  30  9.960289e-01\n"
     ]
    },
    {
     "name": "stderr",
     "output_type": "stream",
     "text": [
      "C:\\Users\\Marina\\anaconda3\\lib\\site-packages\\numpy\\core\\_asarray.py:171: ComplexWarning: Casting complex values to real discards the imaginary part\n",
      "  return array(a, dtype, copy=False, order=order, subok=True)\n"
     ]
    },
    {
     "data": {
      "image/png": "[encoded data removed]",
      "text/plain": [
       "<Figure size 700x500 with 1 Axes>"
      ]
     },
     "metadata": {
      "needs_background": "light"
     },
     "output_type": "display_data"
    },
    {
     "data": {
      "image/png": "[encoded data removed]",
      "text/plain": [
       "<Figure size 700x500 with 1 Axes>"
      ]
     },
     "metadata": {
      "needs_background": "light"
     },
     "output_type": "display_data"
    }
   ],
   "source": [
    "#//uzima se samo dominantna komponenta, ne ceo graf, ako ona pokriva preko posto cvorova, gleda se samo ona \n",
    "#ili ako ostale imaju mali broj cvorova, krnje\n",
    "#//ako postoji vise gigantskih, racuna se za svaku posebno\n",
    "#//to vazi i za centralnosti\n",
    "#//gledaju su ovde gde su najveci skokovi, to je kod tacke 12, tako da bi podela na 12 bila verovatno najbolja\n",
    "\n",
    "dominant_component = G2 #vec je dominantna\n",
    "\n",
    "L_dom = nx.laplacian_matrix(dominant_component).toarray()\n",
    "\n",
    "eigenvalues = linalg.eigvals(L_dom) # TODO: change to .eigenvalsh because we know the matrix is symmetric\n",
    "eigenvalues.sort()\n",
    "enumerator = np.array(range(1, len(eigenvalues)+1))\n",
    "df_eig = pd.DataFrame(list(zip(enumerator, eigenvalues)))\n",
    "\n",
    "# write eigenvalue table\n",
    "df_eig30 = df_eig[:30]\n",
    "df_eig30.columns = ['k', 'lambda_k']\n",
    "df_eig30 = df_eig30.astype({'k': 'int32', 'lambda_k':'float'})\n",
    "print(df_eig30)\n",
    "\n",
    "#doc = Document() #//ne radi mi zbog importa nista ovo\n",
    "#doc = docx.Document('tabela_eig.docx') #//bilo i njemu zakomentarisano\n",
    "#t = doc.add_table(df_eig30.shape[0]+1, df_eig30.shape[1])\n",
    "#t.cell(0,0).text = r'$k$'\n",
    "#t.cell(0,1).text = r'$\\lambda_k$'\n",
    "#for i in range(df_eig30.shape[0]):\n",
    "#    for j in range(df_eig30.shape[-1]):\n",
    "#        t.cell(i+1,j).text = str(df_eig30.values[i,j])\n",
    "#doc.save('etf/tabela_eig_dominantna_komponenta.docx')\n",
    "\n",
    "\n",
    "plot_scatterplot(enumerator, eigenvalues, r'$k$', r'$\\lambda_k$', 'Ceo spektar graf laplasijana dominantne komponente')\n",
    "\n",
    "df_eig_30 = df_eig[:30]\n",
    "plot_scatterplot(df_eig_30.iloc[:,0], df_eig_30.iloc[:,1], r'$k$', r'$\\lambda_k$', 'Prvih 30 sopstvenih vrednosti graf laplasijana dom. komponente')\n"
   ]
  },
  {
   "cell_type": "code",
   "execution_count": 214,
   "id": "78776db2",
   "metadata": {},
   "outputs": [
    {
     "name": "stderr",
     "output_type": "stream",
     "text": [
      "C:\\Users\\Marina\\anaconda3\\lib\\site-packages\\pandas\\core\\dtypes\\cast.py:1201: ComplexWarning: Casting complex values to real discards the imaginary part\n",
      "  return arr.astype(dtype, copy=True)\n"
     ]
    },
    {
     "data": {
      "image/png": "[encoded data removed]",
      "text/plain": [
       "<Figure size 700x500 with 1 Axes>"
      ]
     },
     "metadata": {
      "needs_background": "light"
     },
     "output_type": "display_data"
    },
    {
     "data": {
      "image/png": "[encoded data removed]",
      "text/plain": [
       "<Figure size 700x500 with 1 Axes>"
      ]
     },
     "metadata": {
      "needs_background": "light"
     },
     "output_type": "display_data"
    }
   ],
   "source": [
    "# eigengap\n",
    "\n",
    "df_gap = df_eig.iloc[:,1].diff()\n",
    "df_gap = df_gap.astype(np.float64)\n",
    "\n",
    "df_gap = df_gap[1:]\n",
    "enumerator_column = np.array(range(1, len(df_gap)+1))\n",
    "\n",
    "df_gap = pd.DataFrame(list(zip(enumerator_column, df_gap)))\n",
    "  \n",
    "plot_scatterplot(df_gap.iloc[:,0], df_gap.iloc[:,1], r'$k$', r'$\\lambda_{k+1}-\\lambda_k$','Eigengap dominantne komponente')\n",
    "\n",
    "plot_scatterplot2(df_gap.iloc[:30,0], df_gap.iloc[:30,1], r'$k$', r'$\\lambda_{k+1}-\\lambda_k$','Eigengap prvih 30 sopstvenih vrednosti \\n graf laplasijana dominantne komponente', 'Eigengap prvih 30 sopstvenih vrednosti graf laplasijana dominantne komponente')"
   ]
  },
  {
   "cell_type": "code",
   "execution_count": 215,
   "id": "6694f3d0",
   "metadata": {},
   "outputs": [
    {
     "name": "stdout",
     "output_type": "stream",
     "text": [
      "Podela na 2: velicine komponenata su [3.521e+03 3.000e+00]\n",
      "Podela na 3: velicine komponenata su [3.516e+03 3.000e+00 5.000e+00]\n",
      "Podela na 4: velicine komponenata su [3.462e+03 3.000e+00 5.000e+00 5.400e+01]\n",
      "Podela na 5: velicine komponenata su [3.455e+03 3.000e+00 7.000e+00 5.000e+00 5.400e+01]\n",
      "Podela na 6: velicine komponenata su [3.448e+03 3.000e+00 7.000e+00 7.000e+00 5.000e+00 5.400e+01]\n",
      "Podela na 7: velicine komponenata su [3.442e+03 3.000e+00 7.000e+00 7.000e+00 5.000e+00 6.000e+00 5.400e+01]\n",
      "Podela na 8: velicine komponenata su [3.438e+03 4.000e+00 3.000e+00 7.000e+00 7.000e+00 5.000e+00 6.000e+00\n",
      " 5.400e+01]\n",
      "Podela na 9: velicine komponenata su [3.428e+03 4.000e+00 3.000e+00 7.000e+00 7.000e+00 5.000e+00 6.000e+00\n",
      " 1.000e+01 5.400e+01]\n",
      "Podela na 10: velicine komponenata su [3.428e+03 4.000e+00 3.000e+00 7.000e+00 6.000e+00 7.000e+00 5.000e+00\n",
      " 6.000e+00 5.400e+01 4.000e+00]\n",
      "Podela na 11: velicine komponenata su [3.412e+03 4.000e+00 3.000e+00 3.000e+00 7.000e+00 7.000e+00 5.000e+00\n",
      " 6.000e+00 1.600e+01 5.400e+01 7.000e+00]\n",
      "Podela na 12: velicine komponenata su [3.412e+03 4.000e+00 3.000e+00 3.000e+00 7.000e+00 7.000e+00 5.000e+00\n",
      " 6.000e+00 4.000e+00 1.600e+01 5.400e+01 3.000e+00]\n",
      "Podela na 13: velicine komponenata su [3.4e+03 1.2e+01 4.0e+00 3.0e+00 3.0e+00 7.0e+00 7.0e+00 5.0e+00 6.0e+00\n",
      " 4.0e+00 1.6e+01 3.0e+00 5.4e+01]\n",
      "Podela na 14: velicine komponenata su [3.396e+03 1.200e+01 4.000e+00 3.000e+00 3.000e+00 7.000e+00 4.000e+00\n",
      " 7.000e+00 5.000e+00 6.000e+00 4.000e+00 1.600e+01 5.400e+01 3.000e+00]\n",
      "Podela na 15: velicine komponenata su [3.392e+03 1.200e+01 4.000e+00 4.000e+00 3.000e+00 3.000e+00 7.000e+00\n",
      " 4.000e+00 4.000e+00 7.000e+00 5.000e+00 6.000e+00 1.600e+01 5.400e+01\n",
      " 3.000e+00]\n",
      "Podela na 16: velicine komponenata su [3.387e+03 1.200e+01 4.000e+00 5.000e+00 4.000e+00 3.000e+00 3.000e+00\n",
      " 7.000e+00 4.000e+00 7.000e+00 5.000e+00 4.000e+00 6.000e+00 1.600e+01\n",
      " 5.400e+01 3.000e+00]\n",
      "Podela na 17: velicine komponenata su [3.377e+03 1.200e+01 4.000e+00 5.000e+00 4.000e+00 3.000e+00 1.000e+01\n",
      " 3.000e+00 7.000e+00 4.000e+00 7.000e+00 5.000e+00 6.000e+00 4.000e+00\n",
      " 1.600e+01 5.400e+01 3.000e+00]\n",
      "Podela na 18: velicine komponenata su [3.356e+03 1.200e+01 4.000e+00 5.000e+00 4.000e+00 3.000e+00 3.000e+00\n",
      " 1.000e+01 7.000e+00 4.000e+00 7.000e+00 5.000e+00 6.000e+00 4.000e+00\n",
      " 2.100e+01 1.600e+01 3.000e+00 5.400e+01]\n",
      "Podela na 19: velicine komponenata su [3.342e+03 1.200e+01 4.000e+00 5.000e+00 4.000e+00 3.000e+00 3.000e+00\n",
      " 1.000e+01 7.000e+00 4.000e+00 1.400e+01 7.000e+00 5.000e+00 6.000e+00\n",
      " 4.000e+00 2.100e+01 1.600e+01 5.400e+01 3.000e+00]\n",
      "Podela na 20: velicine komponenata su [3.342e+03 1.200e+01 4.000e+00 5.000e+00 4.000e+00 3.000e+00 3.000e+00\n",
      " 7.000e+00 1.000e+01 4.000e+00 1.400e+01 7.000e+00 5.000e+00 6.000e+00\n",
      " 3.000e+00 3.500e+01 1.600e+01 2.100e+01 4.000e+00 1.900e+01]\n",
      "Podela na 21: velicine komponenata su [3.338e+03 1.200e+01 4.000e+00 5.000e+00 4.000e+00 3.000e+00 3.000e+00\n",
      " 1.000e+01 4.000e+00 7.000e+00 4.000e+00 1.400e+01 7.000e+00 5.000e+00\n",
      " 6.000e+00 1.900e+01 4.000e+00 2.100e+01 1.600e+01 3.000e+00 3.500e+01]\n",
      "Podela na 22: velicine komponenata su [3.33e+03 1.20e+01 4.00e+00 8.00e+00 5.00e+00 1.00e+01 4.00e+00 3.00e+00\n",
      " 3.00e+00 4.00e+00 7.00e+00 4.00e+00 1.40e+01 7.00e+00 5.00e+00 6.00e+00\n",
      " 4.00e+00 1.90e+01 2.10e+01 1.60e+01 3.00e+00 3.50e+01]\n",
      "Podela na 23: velicine komponenata su [3.328e+03 1.200e+01 4.000e+00 8.000e+00 5.000e+00 4.000e+00 3.000e+00\n",
      " 1.000e+01 3.000e+00 4.000e+00 7.000e+00 3.000e+00 1.400e+01 4.000e+00\n",
      " 7.000e+00 5.000e+00 4.000e+00 6.000e+00 1.900e+01 2.100e+01 3.000e+00\n",
      " 3.500e+01 1.500e+01]\n",
      "Podela na 24: velicine komponenata su [3.328e+03 1.200e+01 2.000e+00 4.000e+00 8.000e+00 5.000e+00 4.000e+00\n",
      " 1.000e+01 3.000e+00 3.000e+00 4.000e+00 7.000e+00 4.000e+00 1.400e+01\n",
      " 3.000e+00 7.000e+00 4.000e+00 5.000e+00 6.000e+00 1.900e+01 2.100e+01\n",
      " 3.000e+00 3.500e+01 1.300e+01]\n",
      "Podela na 25: velicine komponenata su [3.325e+03 1.200e+01 3.000e+00 4.000e+00 2.000e+00 5.000e+00 8.000e+00\n",
      " 4.000e+00 1.000e+01 3.000e+00 3.000e+00 4.000e+00 7.000e+00 1.400e+01\n",
      " 4.000e+00 3.000e+00 5.000e+00 7.000e+00 6.000e+00 1.900e+01 3.000e+00\n",
      " 2.100e+01 4.000e+00 3.500e+01 1.300e+01]\n",
      "Podela na 26: velicine komponenata su [3.308e+03 2.000e+00 2.000e+00 4.000e+00 8.000e+00 5.000e+00 3.000e+00\n",
      " 4.000e+00 1.000e+01 3.000e+00 3.000e+00 4.000e+00 7.000e+00 4.000e+00\n",
      " 3.000e+00 7.000e+00 1.400e+01 5.000e+00 6.000e+00 3.000e+00 1.900e+01\n",
      " 2.100e+01 4.000e+00 3.500e+01 2.700e+01 1.300e+01]\n",
      "Podela na 27: velicine komponenata su [3.308e+03 2.000e+00 2.000e+00 2.000e+00 4.000e+00 8.000e+00 5.000e+00\n",
      " 3.000e+00 4.000e+00 1.000e+01 3.000e+00 3.000e+00 4.000e+00 7.000e+00\n",
      " 4.000e+00 3.000e+00 7.000e+00 1.400e+01 5.000e+00 6.000e+00 4.000e+00\n",
      " 2.100e+01 3.000e+00 1.900e+01 2.700e+01 1.300e+01 3.300e+01]\n",
      "Podela na 28: velicine komponenata su [3.276e+03 2.000e+00 2.000e+00 2.000e+00 4.000e+00 8.000e+00 5.000e+00\n",
      " 3.000e+00 4.000e+00 1.000e+01 3.000e+00 3.000e+00 4.000e+00 7.000e+00\n",
      " 4.000e+00 3.000e+00 3.200e+01 1.400e+01 7.000e+00 5.000e+00 6.000e+00\n",
      " 4.000e+00 2.100e+01 3.000e+00 1.900e+01 2.700e+01 1.300e+01 3.300e+01]\n",
      "Podela na 29: velicine komponenata su [3.274e+03 2.000e+00 2.000e+00 2.000e+00 4.000e+00 8.000e+00 5.000e+00\n",
      " 3.000e+00 4.000e+00 1.000e+01 3.000e+00 3.000e+00 4.000e+00 7.000e+00\n",
      " 4.000e+00 3.000e+00 2.800e+01 1.400e+01 7.000e+00 5.000e+00 6.000e+00\n",
      " 4.000e+00 2.100e+01 3.000e+00 1.900e+01 6.000e+00 2.700e+01 1.300e+01\n",
      " 3.300e+01]\n"
     ]
    }
   ],
   "source": [
    "#//deo koji radi klasterisanje!!\n",
    "\n",
    "for k in range(2, 30):\n",
    "    \n",
    "    #//prima broj klastera (n_cluster), a fit matricu slicnosti, odn. ako su tezine u pitanju matricu susednosti iz networkx\n",
    "    clustering = SpectralClustering(n_clusters=k,\n",
    "    assign_labels=\"discretize\", affinity=\"precomputed\").fit(nx.adjacency_matrix(dominant_component))\n",
    "\n",
    "    colors = clustering.labels_\n",
    "    c_string = []\n",
    "    for c in colors:\n",
    "        c_string.append(str(c))\n",
    "\n",
    "    G = nx.Graph()\n",
    "    for c, label in zip(c_string, dominant_component.nodes()):\n",
    "        G.add_node(label, color=c)\n",
    "\n",
    "    for edge in dominant_component.edges(data=True):\n",
    "        #print(edge)\n",
    "        G.add_edge(edge[0], edge[1], weight=edge[2]['weight'])\n",
    "\n",
    "    nx.write_gml(G, \"spectral.gml\")\n",
    "    \n",
    "    csizes = np.zeros(k)\n",
    "    for c in colors:\n",
    "        csizes[int(c)] += 1\n",
    "    \n",
    "    print(f\"Podela na {k}: velicine komponenata su {csizes}\")\n",
    "    "
   ]
  },
  {
   "cell_type": "markdown",
   "id": "2b151eb5",
   "metadata": {},
   "source": [
    "Na osnovu spektralne analize procenjujemo da je dobar izbor za broj komuna 2, 3, 5, 7, 11"
   ]
  },
  {
   "cell_type": "code",
   "execution_count": null,
   "id": "6893c5bf",
   "metadata": {},
   "outputs": [],
   "source": [
    "Sprovesti klasterisanje Luvenskom metodom (maksimizacijom modularnosti) u alatu \n",
    "Gephi za tri različite vrednosti parametra rezolucije. Konstruisati vizuelizacije i \n",
    "diskutovati izbor parametra rezolucije na dobijeno klasterisanje (broj i veličina klastera).\n",
    "Resolution: 0.1\n",
    "Modularity: -0.016\n",
    "Modularity with resolution: -0.026\n",
    "Number of Communities: 147\n",
    "Ima 147 klastera, od toga se veličinom ističe jedan klaster sa oko 650 čvorova u njemu\n",
    "    \n",
    "Resolution: 0.5\n",
    "Modularity: 0.011\n",
    "Modularity with resolution: -0.030\n",
    "Number of Communities: 24\n",
    "Ima 24 klastera, od toga se veličinom ističu tri klastera sa oko 500, 700, 750 čvorova u njemu\n",
    "\n",
    "    \n",
    "Resolution: 1.0\n",
    "Modularity: 0.104\n",
    "Modularity with resolution: 0.104\n",
    "Number of Communities: 55\n",
    "Ima 55 klastera, od toga se veličinom ističu dva klastera sa oko 1450 i 1700 čvorova u njemu \n",
    "    \n",
    "Resolution: 3.0\n",
    "Modularity: 0.000\n",
    "Modularity with resolution: 2.000\n",
    "Number of Communities: 6\n",
    "Ima 24 klastera, od toga se veličinom ističe jedan klaster sa oko 3500 čvorova u njemu\n"
   ]
  },
  {
   "cell_type": "markdown",
   "id": "dec19306",
   "metadata": {},
   "source": [
    "Čvorovi sa najvećim stepenom za dva najveća klastera za rezoluciju 1.0 putem Luvenske metode prikazana su na sledećim slikama:.."
   ]
  },
  {
   "cell_type": "markdown",
   "id": "ec5ca718",
   "metadata": {},
   "source": [
    "Ko su akteri koji se mogu okarakterisati kao ključni brokeri (mostovi) u mreži? Šta ih čini \n",
    "brokerima?\n",
    "\n",
    "Čvorovi sa najvećom relacionom centralnošću:\n",
    "reddit.com     0.901946\n",
    "technology     0.728344\n",
    "politics       0.726092\n",
    "pics           0.720155\n",
    "funny          0.712581\n",
    "science        0.710139\n",
    "worldnews      0.708425\n",
    "entertainment  0.704037\n",
    "WTF            0.701374\n",
    "programming    0.700816"
   ]
  },
  {
   "cell_type": "markdown",
   "id": "d10456b3",
   "metadata": {},
   "source": [
    "I čvorovi koji su se pojavljuju u najvećem broju mostova iz funkcije networkx:\n",
    "\n",
    "('reddit.com', 357),\n",
    " ('business', 21),\n",
    " ('programming', 15),\n",
    " ('Chinese', 13),\n",
    " ('politics', 9),\n",
    " ('technology', 9),\n",
    " ('entertainment', 8),\n",
    " ('worldnews', 7),\n",
    " ('pics', 7),\n",
    " ('science', 6)"
   ]
  },
  {
   "cell_type": "code",
   "execution_count": 234,
   "id": "37bd3bf0",
   "metadata": {},
   "outputs": [
    {
     "data": {
      "text/plain": [
       "[('reddit.com', 357),\n",
       " ('business', 21),\n",
       " ('programming', 15),\n",
       " ('Chinese', 13),\n",
       " ('politics', 9),\n",
       " ('technology', 9),\n",
       " ('entertainment', 8),\n",
       " ('worldnews', 7),\n",
       " ('pics', 7),\n",
       " ('science', 6),\n",
       " ('WTF', 5),\n",
       " ('nsfw', 4),\n",
       " ('funny', 4),\n",
       " ('gossip', 3),\n",
       " ('es', 3),\n",
       " ('dezvoltarepersonala', 3),\n",
       " ('AskReddit', 2),\n",
       " ('de', 2),\n",
       " ('Peiman', 2),\n",
       " ('ads', 2)]"
      ]
     },
     "execution_count": 234,
     "metadata": {},
     "output_type": "execute_result"
    }
   ],
   "source": [
    "mostovi = list(nx.bridges(Gdom))\n",
    "cvorovi_mosta = []\n",
    "\n",
    "for grana in mostovi:\n",
    "    cvorovi_mosta.append(grana[0])\n",
    "    cvorovi_mosta.append(grana[1])\n",
    "    \n",
    "from collections import Counter\n",
    "Counter(cvorovi_mosta).most_common()[0:20]"
   ]
  },
  {
   "cell_type": "code",
   "execution_count": 232,
   "id": "de5bbc70",
   "metadata": {},
   "outputs": [],
   "source": [
    "#contr=nx.constraint(Gdom,weight='weight') \n",
    "#sluzilo bi za odredjivanje brokera(mala vrednost znaci da je broker, ali izvrsavanje traje predugo..."
   ]
  },
  {
   "cell_type": "code",
   "execution_count": 280,
   "id": "359815ea",
   "metadata": {},
   "outputs": [],
   "source": [
    "#USERNET\n",
    "#ovde cemo prolaziti kroz sve komentare, dohv autora, dohv parent_id i onda traziti ga medju svim id u objavama \n",
    "#i komentarima\n",
    "#u dokumentaciji ne pise lepo za parent_id, dopunjeno je oznakom t3_ ili t1_ pa tek onda ide id objave/komentara!!\n",
    "#t3 znaci da je to komentar na objavu (i da je ista vr kao link id jer on vodi ka objavi na kojoj je komentar),\n",
    "#a t1 da je komentar na komentar\n",
    "#mora se vratiti izbrisana kolona id! i onda kad nadjemo poklapanje dohvatimo njegovog autora i napravimo granu izmedju njih dvojice\n",
    "#usmerena, agregacija brojanjem\n",
    "#nekoliko problema jos: kolona id za objave nije bila jedinstvena,    kolona id za komentare je sadrzala jedno null polje ->\n",
    "#na te objave se ne odnosi nijedan komentar iz tabele komentari pa nisu od znacaja\n",
    "#i svi redovi gde je autor bio deleted su obrisani, a time i te objave/komentari -> to nam ne bi ni znacilo jer odatle ne \n",
    "#mozemo dohvatiti autora\n",
    "\n",
    "with open(\"ASM_PZ2_podaci_2122/reddit2008/comments_2008_asm_v1.1/comments_2008/data_cleaned\", 'rb') as file:\n",
    "    dfComments = pickle.load(file)\n",
    "    \n",
    "with open(\"ASM_PZ2_podaci_2122/reddit2008/submissions_2008_asm/data_cleaned\", 'rb') as file:\n",
    "    dfSubmissions = pickle.load(file)\n",
    "    \n",
    "GUsernet = nx.DiGraph() #DiGraph treba\n",
    "list_authors_sub = set(dfSubmissions['author'].unique())\n",
    "list_authors_com = set(dfComments['author'].unique())\n",
    "set_of_authors = list_authors_sub.union(list_authors_com)\n",
    "GUsernet.add_nodes_from(set_of_authors) \n"
   ]
  },
  {
   "cell_type": "code",
   "execution_count": 281,
   "id": "89b08eaf",
   "metadata": {},
   "outputs": [
    {
     "name": "stdout",
     "output_type": "stream",
     "text": [
      "10000\n",
      "20000\n",
      "30000\n",
      "40000\n",
      "50000\n",
      "60000\n",
      "70000\n",
      "80000\n",
      "90000\n",
      "100000\n",
      "110000\n",
      "120000\n",
      "130000\n",
      "140000\n",
      "150000\n",
      "160000\n",
      "170000\n",
      "180000\n",
      "190000\n",
      "200000\n",
      "210000\n",
      "220000\n",
      "230000\n",
      "240000\n",
      "250000\n",
      "260000\n",
      "270000\n",
      "280000\n",
      "290000\n",
      "300000\n",
      "310000\n",
      "320000\n",
      "330000\n",
      "340000\n",
      "350000\n",
      "360000\n",
      "370000\n",
      "380000\n",
      "390000\n",
      "400000\n",
      "410000\n",
      "420000\n",
      "430000\n",
      "440000\n",
      "450000\n",
      "460000\n",
      "470000\n",
      "480000\n",
      "490000\n",
      "500000\n",
      "510000\n",
      "520000\n",
      "530000\n",
      "540000\n",
      "550000\n",
      "560000\n",
      "570000\n",
      "580000\n",
      "590000\n",
      "600000\n",
      "610000\n",
      "620000\n",
      "630000\n",
      "640000\n",
      "650000\n",
      "660000\n",
      "670000\n",
      "680000\n",
      "690000\n",
      "700000\n",
      "710000\n",
      "720000\n",
      "730000\n",
      "740000\n",
      "750000\n",
      "760000\n",
      "770000\n",
      "780000\n",
      "790000\n",
      "800000\n",
      "810000\n",
      "820000\n",
      "830000\n",
      "840000\n",
      "850000\n",
      "860000\n",
      "870000\n",
      "880000\n",
      "890000\n",
      "900000\n",
      "910000\n",
      "920000\n",
      "930000\n",
      "940000\n",
      "950000\n",
      "960000\n",
      "970000\n",
      "980000\n",
      "990000\n",
      "1000000\n",
      "1010000\n",
      "1020000\n",
      "1030000\n",
      "1040000\n",
      "1050000\n",
      "1060000\n",
      "1070000\n",
      "1080000\n",
      "1090000\n",
      "1100000\n",
      "1110000\n",
      "1120000\n",
      "1130000\n",
      "1140000\n",
      "1150000\n",
      "1160000\n",
      "1170000\n",
      "1180000\n",
      "1190000\n",
      "1200000\n",
      "1210000\n",
      "1220000\n",
      "1230000\n",
      "1240000\n",
      "1250000\n",
      "1260000\n",
      "1270000\n",
      "1280000\n",
      "1290000\n",
      "1300000\n",
      "1310000\n",
      "1320000\n",
      "1330000\n",
      "1340000\n",
      "1350000\n",
      "1360000\n",
      "1370000\n",
      "1380000\n",
      "1390000\n",
      "1400000\n",
      "1410000\n",
      "1420000\n",
      "1430000\n",
      "1440000\n",
      "1450000\n",
      "1460000\n",
      "1470000\n",
      "1480000\n",
      "1490000\n",
      "1500000\n",
      "1510000\n",
      "1520000\n",
      "1530000\n",
      "1540000\n",
      "1550000\n",
      "1560000\n",
      "1570000\n",
      "1580000\n",
      "1590000\n",
      "1600000\n",
      "1610000\n",
      "1620000\n",
      "1630000\n",
      "1640000\n",
      "1650000\n",
      "1660000\n",
      "1670000\n",
      "1680000\n",
      "1690000\n",
      "1700000\n",
      "1710000\n",
      "1720000\n",
      "1730000\n",
      "1740000\n",
      "1750000\n",
      "1760000\n",
      "1770000\n",
      "1780000\n",
      "1790000\n",
      "1800000\n",
      "1810000\n",
      "1820000\n",
      "1830000\n",
      "1840000\n",
      "1850000\n",
      "1860000\n",
      "1870000\n",
      "1880000\n",
      "1890000\n",
      "1900000\n",
      "1910000\n",
      "1920000\n",
      "1930000\n",
      "1940000\n",
      "1950000\n",
      "1960000\n",
      "1970000\n",
      "1980000\n",
      "1990000\n",
      "2000000\n",
      "2010000\n",
      "2020000\n",
      "2030000\n",
      "2040000\n",
      "2050000\n",
      "2060000\n",
      "2070000\n",
      "2080000\n",
      "2090000\n",
      "2100000\n",
      "2110000\n",
      "2120000\n",
      "2130000\n",
      "2140000\n",
      "2150000\n",
      "2160000\n",
      "2170000\n",
      "2180000\n",
      "2190000\n",
      "2200000\n",
      "2210000\n",
      "2220000\n",
      "2230000\n",
      "2240000\n",
      "2250000\n",
      "2260000\n",
      "2270000\n",
      "2280000\n",
      "2290000\n",
      "2300000\n",
      "2310000\n",
      "2320000\n",
      "2330000\n",
      "2340000\n",
      "2350000\n",
      "2360000\n",
      "2370000\n",
      "2380000\n",
      "2390000\n",
      "2400000\n",
      "2410000\n",
      "2420000\n",
      "2430000\n",
      "2440000\n",
      "2450000\n",
      "2460000\n",
      "2470000\n",
      "2480000\n",
      "2490000\n",
      "2500000\n",
      "2510000\n",
      "2520000\n",
      "2530000\n",
      "2540000\n",
      "2550000\n",
      "2560000\n",
      "2570000\n",
      "2580000\n",
      "2590000\n",
      "2600000\n",
      "2610000\n",
      "2620000\n",
      "2630000\n",
      "2640000\n",
      "2650000\n",
      "2660000\n",
      "2670000\n",
      "2680000\n",
      "2690000\n",
      "2700000\n",
      "2710000\n",
      "2720000\n",
      "2730000\n",
      "2740000\n",
      "2750000\n",
      "2760000\n",
      "2770000\n",
      "2780000\n",
      "2790000\n",
      "2800000\n",
      "2810000\n",
      "2820000\n",
      "2830000\n",
      "2840000\n",
      "2850000\n",
      "2860000\n",
      "2870000\n",
      "2880000\n",
      "2890000\n",
      "2900000\n",
      "2910000\n",
      "2920000\n",
      "2930000\n",
      "2940000\n",
      "2950000\n",
      "2960000\n",
      "2970000\n",
      "2980000\n",
      "2990000\n",
      "3000000\n",
      "3010000\n",
      "3020000\n",
      "3030000\n",
      "3040000\n",
      "3050000\n",
      "3060000\n",
      "3070000\n",
      "3080000\n",
      "3090000\n",
      "3100000\n",
      "3110000\n",
      "3120000\n",
      "3130000\n",
      "3140000\n",
      "3150000\n",
      "3160000\n",
      "3170000\n",
      "3180000\n",
      "3190000\n",
      "3200000\n",
      "3210000\n",
      "3220000\n",
      "3230000\n",
      "3240000\n",
      "3250000\n",
      "3260000\n",
      "3270000\n",
      "3280000\n",
      "3290000\n",
      "3300000\n",
      "3310000\n",
      "3320000\n",
      "3330000\n",
      "3340000\n",
      "3350000\n",
      "3360000\n",
      "3370000\n",
      "3380000\n",
      "3390000\n",
      "3400000\n",
      "3410000\n",
      "3420000\n",
      "3430000\n",
      "3440000\n",
      "3450000\n",
      "3460000\n",
      "3470000\n",
      "3480000\n",
      "3490000\n",
      "3500000\n",
      "3510000\n",
      "3520000\n",
      "3530000\n",
      "3540000\n",
      "3550000\n",
      "3560000\n",
      "3570000\n",
      "3580000\n",
      "3590000\n",
      "3600000\n",
      "3610000\n",
      "3620000\n",
      "3630000\n",
      "3640000\n",
      "3650000\n",
      "3660000\n",
      "3670000\n",
      "3680000\n",
      "3690000\n",
      "3700000\n",
      "3710000\n",
      "3720000\n",
      "3730000\n",
      "3740000\n",
      "3750000\n",
      "3760000\n",
      "3770000\n",
      "3780000\n",
      "3790000\n",
      "3800000\n",
      "3810000\n",
      "3820000\n",
      "3830000\n",
      "3840000\n",
      "3850000\n",
      "3860000\n",
      "3870000\n",
      "3880000\n",
      "3890000\n",
      "3900000\n",
      "3910000\n",
      "3920000\n",
      "3930000\n",
      "3940000\n",
      "3950000\n",
      "3960000\n",
      "3970000\n",
      "3980000\n",
      "3990000\n",
      "4000000\n",
      "4010000\n",
      "4020000\n",
      "4030000\n",
      "4040000\n",
      "4050000\n",
      "4060000\n",
      "4070000\n",
      "4080000\n",
      "4090000\n",
      "4100000\n",
      "4110000\n",
      "4120000\n",
      "4130000\n",
      "4140000\n",
      "4150000\n",
      "4160000\n",
      "4170000\n",
      "4180000\n",
      "4190000\n",
      "4200000\n",
      "4210000\n",
      "4220000\n",
      "4230000\n",
      "4240000\n",
      "4250000\n",
      "4260000\n",
      "4270000\n",
      "4280000\n",
      "4290000\n",
      "4300000\n",
      "4310000\n",
      "4320000\n",
      "4330000\n",
      "4340000\n",
      "4350000\n",
      "4360000\n",
      "4370000\n",
      "4380000\n",
      "4390000\n",
      "4400000\n",
      "4410000\n",
      "4420000\n",
      "4430000\n",
      "4440000\n",
      "4450000\n",
      "4460000\n",
      "4470000\n",
      "4480000\n",
      "4490000\n",
      "4500000\n",
      "4510000\n",
      "4520000\n",
      "4530000\n",
      "4540000\n",
      "4550000\n",
      "4560000\n",
      "4570000\n",
      "4580000\n",
      "4590000\n",
      "4600000\n",
      "4610000\n",
      "4620000\n",
      "4630000\n",
      "4640000\n",
      "4650000\n",
      "4660000\n",
      "4670000\n",
      "4680000\n",
      "4690000\n",
      "4700000\n",
      "4710000\n",
      "4720000\n",
      "4730000\n",
      "4740000\n",
      "4750000\n",
      "4760000\n",
      "4770000\n",
      "4780000\n",
      "4790000\n",
      "4800000\n",
      "4810000\n",
      "4820000\n",
      "4830000\n",
      "4840000\n",
      "4850000\n",
      "4860000\n",
      "4870000\n"
     ]
    }
   ],
   "source": [
    "\n",
    "dfSubmissions.set_index('id',inplace=True)\n",
    "dfComments.set_index('id',inplace=True)\n",
    "i=0\n",
    "for index, row in dfComments.iterrows():\n",
    "    i=i+1\n",
    "    if (i%10000)==0:\n",
    "        print(i)\n",
    "    author1=row['author'] \n",
    "    parent_id=row['parent_id']\n",
    "    tip=parent_id[1:2]\n",
    "    id=parent_id[3:]\n",
    "    authors2=[]\n",
    "    author2=''\n",
    "    if tip=='3':\n",
    "        try:\n",
    "            row2=dfSubmissions.loc[id]\n",
    "            author2=row2['author']\n",
    "        except KeyError:\n",
    "            author2=''\n",
    "        if author2!='':\n",
    "            if (author1, author2) in GUsernet.edges:\n",
    "                 GUsernet.edges[author1, author2]['weight'] += 1 \n",
    "            else: \n",
    "                 GUsernet.add_edge(author1, author2, weight=1)\n",
    "        \n",
    "    else:\n",
    "        if tip=='1':\n",
    "            try:\n",
    "                row2=dfComments.loc[id]\n",
    "                author2=row2['author']\n",
    "            except KeyError:\n",
    "                author2=''\n",
    "            if author2!='':\n",
    "                if (author1, author2) in GUsernet.edges:\n",
    "                     GUsernet.edges[author1, author2]['weight'] += 1 \n",
    "                else: \n",
    "                     GUsernet.add_edge(author1, author2, weight=1)\n",
    "                        \n",
    "dfComments = dfComments.reset_index()  # make sure indexes pair with number of rows\n",
    "dfSubmissions = dfSubmissions.reset_index()  # make sure indexes pair with number of rows\n"
   ]
  },
  {
   "cell_type": "code",
   "execution_count": 344,
   "id": "f8e886b4",
   "metadata": {},
   "outputs": [],
   "source": [
    "dfCommentsSmall=dfComments.head(10000)\n",
    "\n",
    "dfSubmissions.set_index('id',inplace=True)\n",
    "dfComments.set_index('id',inplace=True)\n",
    "def findAuthor5(parent_id):\n",
    "    tip=parent_id[1:2]\n",
    "    id=parent_id[3:]\n",
    "    author2=''\n",
    "    if tip=='3':\n",
    "        try:\n",
    "            row2=dfSubmissions.loc[id]\n",
    "            return row2['author']\n",
    "        except KeyError:\n",
    "            return None\n",
    "        \n",
    "        \n",
    "    else:\n",
    "        if tip=='1':\n",
    "            try:\n",
    "                row2=dfComments.loc[id]\n",
    "                return row2['author']\n",
    "            except KeyError:\n",
    "                return None\n",
    "                \n",
    "for index, row in dfCommentsSmall.iterrows():\n",
    "    author1=row['author'] \n",
    "    parent_id=row['parent_id']\n",
    "    author2=findAuthor5(parent_id)\n",
    "    \n",
    "                        \n",
    "dfComments = dfComments.reset_index()  # make sure indexes pair with number of rows\n",
    "dfSubmissions = dfSubmissions.reset_index()  # make sure indexes pair with number of rows\n"
   ]
  },
  {
   "cell_type": "code",
   "execution_count": 342,
   "id": "b0b4e5a6",
   "metadata": {},
   "outputs": [
    {
     "name": "stdout",
     "output_type": "stream",
     "text": [
      "            id  level_0    index  \\\n",
      "0        648oo        0        0   \n",
      "1        648op        1        1   \n",
      "2        648or        2        2   \n",
      "3        648os        3        3   \n",
      "4        648ot        4        4   \n",
      "...        ...      ...      ...   \n",
      "2044805  7amgd  2044805  2044805   \n",
      "2044806  7amge  2044806  2044806   \n",
      "2044807  7amgg  2044807  2044807   \n",
      "2044808  7amgh  2044808  2044808   \n",
      "2044809  7amgi  2044809  2044809   \n",
      "\n",
      "                                                 permalink        author  \\\n",
      "0        /r/reddit.com/comments/648oo/brain_disease_is_...         DITUS   \n",
      "1        /r/science/comments/648op/three_more_florida_c...        rmuser   \n",
      "2        /r/reddit.com/comments/648or/nude_couple_grapp...         zorno   \n",
      "3        /r/politics/comments/648os/apparently_bushs_pr...        rmuser   \n",
      "4        /r/reddit.com/comments/648ot/diners_find_rare_...         zorno   \n",
      "...                                                    ...           ...   \n",
      "2044805  /r/Health/comments/7amgd/light_drinking_no_ris...     hunkydude   \n",
      "2044806  /r/BlackOps/comments/7amge/oil_company_bonanza...  violetplanet   \n",
      "2044807  /r/reddit.com/comments/7amgg/3_tips_to_protect...    justblogit   \n",
      "2044808  /r/offbeat/comments/7amgh/the_13_worst_mythica...  guillebravo6   \n",
      "2044809  /r/reddit.com/comments/7amgi/porno_adult_movie...     qazamisan   \n",
      "\n",
      "          subreddit  num_comments  over_18   row_id  \n",
      "0        reddit.com             1    False        0  \n",
      "1           science             5    False        1  \n",
      "2        reddit.com             1    False        3  \n",
      "3          politics             2    False        4  \n",
      "4        reddit.com             0    False        5  \n",
      "...             ...           ...      ...      ...  \n",
      "2044805      Health             0    False  2519847  \n",
      "2044806    BlackOps             0    False  2519848  \n",
      "2044807  reddit.com             1    False  2519850  \n",
      "2044808     offbeat             5    False  2519851  \n",
      "2044809  reddit.com             0    False  2519852  \n",
      "\n",
      "[2044810 rows x 9 columns]\n",
      "              id  level_0    index               author   parent_id  \\\n",
      "0        c02s9s6        0        0                Haven  t1_c02s9rv   \n",
      "1        c02s9s8        1        1             lilmiss2  t1_c02s9rv   \n",
      "2        c02s9sc        2        2  EverybodysAnAsshole  t1_c02s976   \n",
      "3        c02s9sd        3        3             generalk  t1_c02s8md   \n",
      "4        c02s9se        4        4            seeker135    t3_6483n   \n",
      "...          ...      ...      ...                  ...         ...   \n",
      "4873685  c064gsy  4873685  4873685         rhythmicidea  t1_c064gqo   \n",
      "4873686  c064gsz  4873686  4873686       blackwhitegrey    t3_7ajij   \n",
      "4873687  c064gt0  4873687  4873687           Drewster58    t3_7amg7   \n",
      "4873688  c064gt1  4873688  4873688               eerock    t3_7akoc   \n",
      "4873689  c064gt2  4873689  4873689               mycall    t3_7ajjm   \n",
      "\n",
      "           subreddit   row_id  \n",
      "0         reddit.com        0  \n",
      "1         reddit.com        2  \n",
      "2         reddit.com        6  \n",
      "3        programming        7  \n",
      "4           politics        8  \n",
      "...              ...      ...  \n",
      "4873685     politics  7242866  \n",
      "4873686   reddit.com  7242867  \n",
      "4873687   reddit.com  7242868  \n",
      "4873688     politics  7242869  \n",
      "4873689    AskReddit  7242870  \n",
      "\n",
      "[4873690 rows x 7 columns]\n"
     ]
    }
   ],
   "source": [
    "\n",
    "dfComments.drop('subreddit_id', inplace=True, axis=1)\n",
    "print(dfSubmissions)\n",
    "print(dfComments)\n"
   ]
  },
  {
   "cell_type": "code",
   "execution_count": 329,
   "id": "15149769",
   "metadata": {},
   "outputs": [],
   "source": [
    "def funkcija():\n",
    "    global dfSubmissions\n",
    "    global dfComments\n",
    "    global dfCommentsSmall\n",
    "    dfSubmissions.set_index('id',inplace=True)\n",
    "    dfComments.set_index('id',inplace=True)\n",
    "    for index, row in dfCommentsSmall.iterrows():\n",
    "        author1=row['author'] \n",
    "        parent_id=row['parent_id']\n",
    "        author2=findAuthor5(parent_id)\n",
    "    dfComments = dfComments.reset_index()  # make sure indexes pair with number of rows\n",
    "    dfSubmissions = dfSubmissions.reset_index()  # make sure indexes pair with number of rows\n"
   ]
  },
  {
   "cell_type": "code",
   "execution_count": 315,
   "id": "42837b30",
   "metadata": {},
   "outputs": [],
   "source": [
    "\n",
    "dfSubmissions.set_index('id',inplace=True)\n",
    "dfComments.set_index('id',inplace=True)\n",
    "dfCommentsSmall=dfComments.head(10000)\n",
    "\n",
    "for index, row in dfCommentsSmall.iterrows():\n",
    "    author1=row['author'] \n",
    "    parent_id=row['parent_id']\n",
    "    author2=findAuthor(parent_id)\n",
    "\n",
    "    \n",
    "def findAuthor(id):\n",
    "    id=id[3:]\n",
    "    tip=id[1:2]\n",
    "\n",
    "    if tip=='3':\n",
    "        try:\n",
    "            row2=dfSubmissions.loc[id]\n",
    "            return row2['author']\n",
    "        except KeyError:\n",
    "            return None\n",
    "        \n",
    "    else:\n",
    "        if tip=='1':\n",
    "            try:\n",
    "                row2=dfComments.loc[id]\n",
    "                return row2['author']\n",
    "            except KeyError:\n",
    "                return None\n",
    "            \n",
    "dfComments = dfComments.reset_index()  # make sure indexes pair with number of rows\n",
    "dfSubmissions = dfSubmissions.reset_index()  # make sure indexes pair with number of rows\n"
   ]
  },
  {
   "cell_type": "code",
   "execution_count": 302,
   "id": "c5cc5755",
   "metadata": {},
   "outputs": [],
   "source": [
    "sData=dfSubmissions\n",
    "cData=dfComments\n",
    "dfCommentsSmall=dfComments.head(1000)\n",
    "UserNet2=nx.DiGraph()\n",
    "temp=pd.concat([sData,cData])\n",
    "temp.set_index('id',inplace=True)\n",
    "\n",
    "def findAuthor(id):\n",
    "    id=id[3:]\n",
    "    try:\n",
    "            row=temp.loc[id]\n",
    "            return row['author']\n",
    "    except KeyError:\n",
    "            return None\n",
    "\n",
    "for index, row in dfCommentsSmall.iterrows():\n",
    "\n",
    "    author1=row['author'] \n",
    "    parent_id=row['parent_id']\n",
    "    author2=findAuthor(parent_id)\n",
    "    \n",
    "    \n"
   ]
  },
  {
   "cell_type": "code",
   "execution_count": 301,
   "id": "982e76bd",
   "metadata": {},
   "outputs": [
    {
     "name": "stdout",
     "output_type": "stream",
     "text": [
      "         55 function calls in 0.152 seconds\n",
      "\n",
      "   Ordered by: standard name\n",
      "\n",
      "   ncalls  tottime  percall  cumtime  percall filename:lineno(function)\n",
      "        1    0.000    0.000    0.152    0.152 2016285515.py:8(findAuthor)\n",
      "        1    0.001    0.001    0.004    0.004 <__array_function__ internals>:2(where)\n",
      "        1    0.000    0.000    0.152    0.152 <string>:1(<module>)\n",
      "        1    0.000    0.000    0.000    0.000 base.py:2130(is_floating)\n",
      "        1    0.000    0.000    0.152    0.152 base.py:3317(get_loc)\n",
      "        1    0.000    0.000    0.000    0.000 base.py:3667(_get_partial_string_timestamp_match_key)\n",
      "        1    0.000    0.000    0.000    0.000 base.py:5695(_maybe_cast_indexer)\n",
      "        1    0.000    0.000    0.000    0.000 base.py:774(<lambda>)\n",
      "        1    0.000    0.000    0.000    0.000 common.py:100(is_bool_indexer)\n",
      "        1    0.000    0.000    0.000    0.000 common.py:155(cast_scalar_indexer)\n",
      "        1    0.000    0.000    0.000    0.000 common.py:346(apply_if_callable)\n",
      "        1    0.000    0.000    0.152    0.152 generic.py:3634(xs)\n",
      "        2    0.000    0.000    0.000    0.000 generic.py:43(_check)\n",
      "        3    0.000    0.000    0.000    0.000 generic.py:542(_get_axis_number)\n",
      "        1    0.000    0.000    0.000    0.000 generic.py:5489(__setattr__)\n",
      "        1    0.000    0.000    0.000    0.000 generic.py:5544(_protect_consolidate)\n",
      "        1    0.000    0.000    0.000    0.000 generic.py:5558(_consolidate_inplace)\n",
      "        2    0.000    0.000    0.000    0.000 generic.py:556(_get_axis)\n",
      "        1    0.000    0.000    0.000    0.000 generic.py:5562(f)\n",
      "        1    0.000    0.000    0.000    0.000 indexers.py:66(is_list_like_indexer)\n",
      "        1    0.000    0.000    0.152    0.152 indexing.py:1111(_get_label)\n",
      "        1    0.000    0.000    0.152    0.152 indexing.py:1132(_getitem_axis)\n",
      "        1    0.000    0.000    0.000    0.000 indexing.py:270(loc)\n",
      "        1    0.000    0.000    0.152    0.152 indexing.py:918(__getitem__)\n",
      "        1    0.000    0.000    0.000    0.000 indexing.py:965(_validate_key)\n",
      "        1    0.000    0.000    0.000    0.000 inference.py:184(is_array_like)\n",
      "        1    0.000    0.000    0.000    0.000 managers.py:468(is_consolidated)\n",
      "        1    0.000    0.000    0.000    0.000 managers.py:606(consolidate)\n",
      "        1    0.000    0.000    0.000    0.000 multiarray.py:321(where)\n",
      "        1    0.000    0.000    0.000    0.000 {built-in method builtins.callable}\n",
      "        1    0.000    0.000    0.152    0.152 {built-in method builtins.exec}\n",
      "        2    0.000    0.000    0.000    0.000 {built-in method builtins.getattr}\n",
      "        8    0.000    0.000    0.000    0.000 {built-in method builtins.isinstance}\n",
      "        2    0.000    0.000    0.000    0.000 {built-in method builtins.len}\n",
      "        1    0.003    0.003    0.003    0.003 {built-in method numpy.core._multiarray_umath.implement_array_function}\n",
      "        1    0.000    0.000    0.000    0.000 {method 'disable' of '_lsprof.Profiler' objects}\n",
      "        1    0.148    0.148    0.151    0.151 {method 'get_loc' of 'pandas._libs.index.IndexEngine' objects}\n",
      "        1    0.000    0.000    0.000    0.000 {pandas._libs.lib.is_float}\n",
      "        1    0.000    0.000    0.000    0.000 {pandas._libs.lib.is_iterator}\n",
      "        2    0.000    0.000    0.000    0.000 {pandas._libs.lib.is_list_like}\n",
      "        1    0.000    0.000    0.000    0.000 {pandas._libs.lib.item_from_zerodim}\n",
      "\n",
      "\n"
     ]
    }
   ],
   "source": [
    "\n",
    "import cProfile\n",
    "arg1='t1_c02s9rv'\n",
    "cProfile.run('findAuthor(arg1)', filename=None, sort=-1)\n"
   ]
  },
  {
   "cell_type": "code",
   "execution_count": 314,
   "id": "588c4927",
   "metadata": {},
   "outputs": [
    {
     "name": "stdout",
     "output_type": "stream",
     "text": [
      "         4 function calls in 0.000 seconds\n",
      "\n",
      "   Ordered by: standard name\n",
      "\n",
      "   ncalls  tottime  percall  cumtime  percall filename:lineno(function)\n",
      "        1    0.000    0.000    0.000    0.000 1015595011.py:11(findAuthor)\n",
      "        1    0.000    0.000    0.000    0.000 <string>:1(<module>)\n",
      "        1    0.000    0.000    0.000    0.000 {built-in method builtins.exec}\n",
      "        1    0.000    0.000    0.000    0.000 {method 'disable' of '_lsprof.Profiler' objects}\n",
      "\n",
      "\n"
     ]
    }
   ],
   "source": [
    "\n",
    "import cProfile\n",
    "arg1='t1_c02s9rv'\n",
    "cProfile.run('findAuthor(arg1)', filename=None, sort=-1)\n"
   ]
  },
  {
   "cell_type": "code",
   "execution_count": 331,
   "id": "f4e454e2",
   "metadata": {},
   "outputs": [
    {
     "name": "stdout",
     "output_type": "stream",
     "text": [
      "         4064260 function calls (4017602 primitive calls) in 119.341 seconds\n",
      "\n",
      "   Ordered by: standard name\n",
      "\n",
      "   ncalls  tottime  percall  cumtime  percall filename:lineno(function)\n",
      "    10000    0.035    0.000  117.505    0.012 1696332700.py:5(findAuthor5)\n",
      "        1    0.338    0.338  119.340  119.340 339320906.py:1(funkcija)\n",
      "        4    0.000    0.000    0.000    0.000 <__array_function__ internals>:2(argsort)\n",
      "        4    0.000    0.000    0.000    0.000 <__array_function__ internals>:2(atleast_2d)\n",
      "        2    0.000    0.000    0.000    0.000 <__array_function__ internals>:2(bincount)\n",
      "       12    0.000    0.000    0.332    0.028 <__array_function__ internals>:2(concatenate)\n",
      "        6    0.000    0.000    0.005    0.001 <__array_function__ internals>:2(copyto)\n",
      "        4    0.000    0.000    0.000    0.000 <__array_function__ internals>:2(insert)\n",
      "        4    0.000    0.000    0.000    0.000 <__array_function__ internals>:2(moveaxis)\n",
      "        6    0.000    0.000    0.000    0.000 <__array_function__ internals>:2(ndim)\n",
      "        4    0.000    0.000    0.332    0.083 <__array_function__ internals>:2(vstack)\n",
      "     3502    0.012    0.000    2.658    0.001 <__array_function__ internals>:2(where)\n",
      "    16658    0.015    0.000    0.021    0.000 <frozen importlib._bootstrap>:1033(_handle_fromlist)\n",
      "        1    0.001    0.001  119.340  119.340 <string>:1(<module>)\n",
      "       11    0.000    0.000    0.000    0.000 _asarray.py:110(asanyarray)\n",
      "    26/24    0.000    0.000    0.000    0.000 _asarray.py:23(asarray)\n",
      "        8    0.000    0.000    0.000    0.000 _asarray.py:293(require)\n",
      "        8    0.000    0.000    0.000    0.000 _asarray.py:382(<setcomp>)\n",
      "        4    0.000    0.000    0.000    0.000 _decorators.py:214(_format_argument_list)\n",
      "        4    0.000    0.000    0.391    0.098 _decorators.py:302(wrapper)\n",
      "       18    0.000    0.000    0.000    0.000 _dtype.py:24(_kind_name)\n",
      "       18    0.000    0.000    0.000    0.000 _dtype.py:307(_name_includes_bit_suffix)\n",
      "       18    0.000    0.000    0.000    0.000 _dtype.py:321(_name_get)\n",
      "       12    0.000    0.000    0.000    0.000 _methods.py:37(_amax)\n",
      "       12    0.000    0.000    0.000    0.000 _methods.py:53(_any)\n",
      "        1    0.000    0.000    0.000    0.000 _methods.py:59(_all)\n",
      "        4    0.000    0.000    0.000    0.000 _validators.py:213(validate_bool_kwarg)\n",
      "       12    0.000    0.000    0.000    0.000 abc.py:117(__instancecheck__)\n",
      "        6    0.000    0.000    0.000    0.000 base.py:1449(name)\n",
      "     6645    0.010    0.000    0.398    0.000 base.py:145(interleaved_dtype)\n",
      "        2    0.000    0.000    0.000    0.000 base.py:2018(is_unique)\n",
      "    36648    0.017    0.000    0.123    0.000 base.py:2130(is_floating)\n",
      "        6    0.000    0.000    0.000    0.000 base.py:220(disallow_kwargs)\n",
      "        6    0.000    0.000    0.107    0.018 base.py:2382(inferred_type)\n",
      "        2    0.000    0.000    0.000    0.000 base.py:2389(_is_all_dates)\n",
      "    36648    0.050    0.000  114.845    0.003 base.py:3317(get_loc)\n",
      "     6644    0.006    0.000    0.019    0.000 base.py:34(__len__)\n",
      "    10000    0.002    0.000    0.002    0.000 base.py:3667(_get_partial_string_timestamp_match_key)\n",
      "      8/6    0.000    0.000    0.007    0.001 base.py:375(__new__)\n",
      "       16    0.000    0.000    0.000    0.000 base.py:41(shape)\n",
      "       48    0.000    0.000    0.000    0.000 base.py:43(<genexpr>)\n",
      "       24    0.000    0.000    0.000    0.000 base.py:4379(_values)\n",
      "        6    0.000    0.000    0.000    0.000 base.py:4405(_get_engine_target)\n",
      "        2    0.000    0.000    0.000    0.000 base.py:4493(_validate_fill_value)\n",
      "        4    0.000    0.000    0.000    0.000 base.py:45(_validate_set_axis)\n",
      "        8    0.000    0.000    0.000    0.000 base.py:4537(__contains__)\n",
      "     6648    0.014    0.000    0.022    0.000 base.py:4587(__getitem__)\n",
      "        4    0.000    0.000    0.000    0.000 base.py:484(<genexpr>)\n",
      "        6    0.000    0.000    0.000    0.000 base.py:497(_ensure_array)\n",
      "        6    0.000    0.000    0.000    0.000 base.py:511(_dtype_to_subclass)\n",
      "    26644    0.029    0.000    0.072    0.000 base.py:5174(_get_values_for_loc)\n",
      "    36648    0.033    0.000    0.178    0.000 base.py:5695(_maybe_cast_indexer)\n",
      "        2    0.000    0.000    0.001    0.000 base.py:5956(insert)\n",
      "       12    0.000    0.000    0.000    0.000 base.py:605(_simple_new)\n",
      "        2    0.000    0.000    0.006    0.003 base.py:6239(ensure_index_from_sequences)\n",
      "    16648    0.007    0.000    0.009    0.000 base.py:6279(ensure_index)\n",
      "        2    0.000    0.000    0.000    0.000 base.py:628(_constructor)\n",
      "        2    0.000    0.000    0.000    0.000 base.py:6375(default_index)\n",
      "    16654    0.012    0.000    0.024    0.000 base.py:6381(maybe_extract_name)\n",
      "        4    0.000    0.000    0.006    0.001 base.py:6397(_maybe_cast_data_without_dtype)\n",
      "        4    0.000    0.000    0.000    0.000 base.py:707(_view)\n",
      "       14    0.000    0.000    0.000    0.000 base.py:756(_reset_identity)\n",
      "        2    0.000    0.000    0.000    0.000 base.py:763(_cleanup)\n",
      "        6    0.000    0.000    0.000    0.000 base.py:767(_engine)\n",
      "     3510    0.001    0.000    0.001    0.000 base.py:774(<lambda>)\n",
      "    39978    0.018    0.000    0.023    0.000 base.py:794(__len__)\n",
      "        2    0.000    0.000    0.000    0.000 base.py:800(__array__)\n",
      "        2    0.000    0.000    0.000    0.000 base.py:818(dtype)\n",
      "        4    0.000    0.000    0.000    0.000 base.py:848(view)\n",
      "       12    0.000    0.000    0.000    0.000 blocks.py:165(_consolidate_key)\n",
      "     6644    0.007    0.000    0.008    0.000 blocks.py:170(is_view)\n",
      "    16652    0.031    0.000    0.101    0.000 blocks.py:1858(maybe_coerce_values)\n",
      "    16650    0.042    0.000    0.126    0.000 blocks.py:1890(get_block_type)\n",
      "    16650    0.062    0.000    0.358    0.000 blocks.py:1931(new_block)\n",
      "    16650    0.022    0.000    0.037    0.000 blocks.py:1946(check_ndim)\n",
      "    16650    0.010    0.000    0.030    0.000 blocks.py:1988(extract_pandas_array)\n",
      "       10    0.000    0.000    0.000    0.000 blocks.py:2010(extend_blocks)\n",
      "        2    0.000    0.000    0.000    0.000 blocks.py:2026(ensure_block_shape)\n",
      "        2    0.000    0.000    0.004    0.002 blocks.py:221(get_values)\n",
      "    15571    0.005    0.000    0.005    0.000 blocks.py:238(mgr_locs)\n",
      "        5    0.000    0.000    0.000    0.000 blocks.py:242(mgr_locs)\n",
      "        5    0.000    0.000    0.000    0.000 blocks.py:261(make_block_same_class)\n",
      "       12    0.000    0.000    0.000    0.000 blocks.py:293(_slice)\n",
      "       12    0.000    0.000    0.000    0.000 blocks.py:326(getitem_block_columns)\n",
      "       12    0.000    0.000    0.000    0.000 blocks.py:340(shape)\n",
      "       21    0.000    0.000    0.000    0.000 blocks.py:344(dtype)\n",
      "    70918    0.033    0.000    0.033    0.000 blocks.py:348(iget)\n",
      "        5    0.000    0.000    0.296    0.059 blocks.py:645(copy)\n",
      "    10002    0.039    0.000    0.071    0.000 cast.py:1483(maybe_infer_to_datetimelike)\n",
      "     6645    0.070    0.000    0.388    0.000 cast.py:1790(find_common_type)\n",
      "    13290    0.009    0.000    0.035    0.000 cast.py:1814(<genexpr>)\n",
      "    22173    0.007    0.000    0.009    0.000 cast.py:1820(<genexpr>)\n",
      "    13290    0.005    0.000    0.012    0.000 cast.py:1829(<genexpr>)\n",
      "    13290    0.004    0.000    0.009    0.000 cast.py:1831(<genexpr>)\n",
      "    17697    0.007    0.000    0.064    0.000 cast.py:1836(<genexpr>)\n",
      "        2    0.000    0.000    0.000    0.000 cast.py:1969(construct_1d_object_array_from_listlike)\n",
      "        2    0.000    0.000    0.000    0.000 cast.py:2156(can_hold_element)\n",
      "    10002    0.013    0.000    0.041    0.000 common.py:100(is_bool_indexer)\n",
      "        4    0.000    0.000    0.000    0.000 common.py:116(ensure_python_int)\n",
      "     8890    0.011    0.000    0.029    0.000 common.py:1230(is_float_dtype)\n",
      "    11054    0.020    0.000    0.057    0.000 common.py:1264(is_bool_dtype)\n",
      "    16652    0.006    0.000    0.008    0.000 common.py:1409(is_1d_only_ea_dtype)\n",
      "    11054    0.009    0.000    0.015    0.000 common.py:1420(is_extension_array_dtype)\n",
      "    17774    0.005    0.000    0.005    0.000 common.py:144(classes)\n",
      "    17774    0.006    0.000    0.008    0.000 common.py:146(<lambda>)\n",
      "       16    0.000    0.000    0.000    0.000 common.py:1474(is_ea_or_datetimelike_dtype)\n",
      "     2238    0.003    0.000    0.006    0.000 common.py:1487(is_complex_dtype)\n",
      "     4488    0.002    0.000    0.002    0.000 common.py:149(classes_and_not_datetimelike)\n",
      "     4488    0.004    0.000    0.005    0.000 common.py:154(<lambda>)\n",
      "    24346    0.011    0.000    0.017    0.000 common.py:1543(get_dtype)\n",
      "    43294    0.021    0.000    0.028    0.000 common.py:155(cast_scalar_indexer)\n",
      "    22262    0.019    0.000    0.036    0.000 common.py:1578(_is_dtype_type)\n",
      "     6646    0.007    0.000    0.017    0.000 common.py:160(is_object_dtype)\n",
      "    16646    0.015    0.000    0.051    0.000 common.py:1718(validate_all_hashable)\n",
      "    33292    0.013    0.000    0.024    0.000 common.py:1737(<genexpr>)\n",
      "    23298    0.016    0.000    0.028    0.000 common.py:1744(pandas_dtype)\n",
      "    16650    0.034    0.000    0.059    0.000 common.py:190(is_sparse)\n",
      "        2    0.000    0.000    0.000    0.000 common.py:196(all_none)\n",
      "        4    0.000    0.000    0.000    0.000 common.py:200(<genexpr>)\n",
      "        8    0.000    0.000    0.000    0.000 common.py:224(asarray_tuplesafe)\n",
      "     6645    0.006    0.000    0.007    0.000 common.py:314(is_datetime64_dtype)\n",
      "    36646    0.014    0.000    0.020    0.000 common.py:346(apply_if_callable)\n",
      "     6645    0.003    0.000    0.004    0.000 common.py:388(is_timedelta64_dtype)\n",
      "    16646    0.009    0.000    0.029    0.000 common.py:526(require_length_match)\n",
      "     6646    0.012    0.000    0.026    0.000 common.py:574(is_dtype_equal)\n",
      "     4476    0.007    0.000    0.019    0.000 common.py:673(is_integer_dtype)\n",
      "        6    0.000    0.000    0.000    0.000 common.py:725(is_signed_integer_dtype)\n",
      "        6    0.000    0.000    0.000    0.000 common.py:779(is_unsigned_integer_dtype)\n",
      "    16644    0.020    0.000    0.138    0.000 config.py:114(_get_option)\n",
      "    16644    0.014    0.000    0.151    0.000 config.py:242(__call__)\n",
      "    16644    0.008    0.000    0.008    0.000 config.py:547(_select_options)\n",
      "    16644    0.025    0.000    0.031    0.000 config.py:565(_get_root)\n",
      "    33288    0.026    0.000    0.026    0.000 config.py:579(_get_deprecated_option)\n",
      "    16644    0.007    0.000    0.014    0.000 config.py:606(_translate_key)\n",
      "    16644    0.009    0.000    0.027    0.000 config.py:618(_warn_if_deprecated)\n",
      "    16644    0.033    0.000    0.086    0.000 config.py:96(_get_single_key)\n",
      "    33300    0.020    0.000    0.110    0.000 construction.py:369(extract_array)\n",
      "    29946    0.021    0.000    0.024    0.000 construction.py:431(ensure_wrapped_if_datetimelike)\n",
      "    16648    0.079    0.000    0.443    0.000 construction.py:463(sanitize_array)\n",
      "    16648    0.016    0.000    0.030    0.000 construction.py:605(_sanitize_ndim)\n",
      "    16648    0.009    0.000    0.012    0.000 construction.py:642(_sanitize_str_dtypes)\n",
      "    16648    0.008    0.000    0.010    0.000 construction.py:662(_maybe_repeat)\n",
      "    16648    0.038    0.000    0.226    0.000 construction.py:673(_try_cast)\n",
      "    16644    0.014    0.000    0.026    0.000 construction.py:780(is_empty_data)\n",
      "    16648    0.015    0.000    0.015    0.000 flags.py:47(__init__)\n",
      "        6    0.000    0.000    0.000    0.000 flags.py:51(allows_duplicate_labels)\n",
      "        4    0.000    0.000    0.000    0.000 flags.py:83(allows_duplicate_labels)\n",
      "        1    0.000    0.000    0.007    0.007 frame.py:10589(values)\n",
      "    10001    0.030    0.000    0.887    0.000 frame.py:1218(iterrows)\n",
      "        4    0.000    0.000    0.000    0.000 frame.py:1352(__len__)\n",
      "        2    0.000    0.000    0.000    0.000 frame.py:3418(__getitem__)\n",
      "        2    0.000    0.000    0.000    0.000 frame.py:3837(_ensure_valid_index)\n",
      "        2    0.000    0.000    0.000    0.000 frame.py:3860(_box_col_values)\n",
      "        8    0.000    0.000    0.000    0.000 frame.py:3873(_clear_item_cache)\n",
      "        2    0.000    0.000    0.000    0.000 frame.py:3876(_get_item_cache)\n",
      "        2    0.000    0.000    0.084    0.042 frame.py:4361(insert)\n",
      "        2    0.000    0.000    0.083    0.041 frame.py:4489(_sanitize_column)\n",
      "        2    0.000    0.000    0.008    0.004 frame.py:5322(set_index)\n",
      "        2    0.000    0.000    0.383    0.191 frame.py:5589(reset_index)\n",
      "        2    0.000    0.000    0.000    0.000 frame.py:564(_constructor)\n",
      "        2    0.000    0.000    0.000    0.000 frame.py:573(__init__)\n",
      "        2    0.000    0.000    0.000    0.000 frame.py:780(axes)\n",
      "        4    0.000    0.000    0.000    0.000 fromnumeric.py:1000(_argsort_dispatcher)\n",
      "        4    0.000    0.000    0.000    0.000 fromnumeric.py:1004(argsort)\n",
      "        6    0.000    0.000    0.000    0.000 fromnumeric.py:3102(_ndim_dispatcher)\n",
      "        6    0.000    0.000    0.000    0.000 fromnumeric.py:3106(ndim)\n",
      "        4    0.000    0.000    0.000    0.000 fromnumeric.py:52(_wrapfunc)\n",
      "        4    0.000    0.000    0.000    0.000 function_base.py:4491(_insert_dispatcher)\n",
      "        4    0.000    0.000    0.000    0.000 function_base.py:4495(insert)\n",
      "        2    0.000    0.000    0.000    0.000 generic.py:1930(__contains__)\n",
      "    16648    0.046    0.000    0.061    0.000 generic.py:233(__init__)\n",
      "        4    0.000    0.000    0.000    0.000 generic.py:324(attrs)\n",
      "       10    0.000    0.000    0.000    0.000 generic.py:345(flags)\n",
      "    10000    0.088    0.000  117.209    0.012 generic.py:3634(xs)\n",
      "     6644    0.006    0.000    0.011    0.000 generic.py:3837(_set_is_copy)\n",
      "        2    0.000    0.000    0.001    0.001 generic.py:3937(__delitem__)\n",
      "        4    0.000    0.000    0.000    0.000 generic.py:3975(_check_inplace_and_allows_duplicate_labels)\n",
      "     6644    0.006    0.000    0.023    0.000 generic.py:4003(_is_view)\n",
      "   147630    0.055    0.000    0.075    0.000 generic.py:43(_check)\n",
      "     6644    0.006    0.000    0.015    0.000 generic.py:437(_validate_dtype)\n",
      "    30000    0.009    0.000    0.009    0.000 generic.py:542(_get_axis_number)\n",
      "        4    0.000    0.000    0.000    0.000 generic.py:5435(__finalize__)\n",
      "    16646    0.019    0.000    0.019    0.000 generic.py:5473(__getattr__)\n",
      "    33301    0.243    0.000    0.364    0.000 generic.py:5489(__setattr__)\n",
      "    10001    0.018    0.000    1.046    0.000 generic.py:5544(_protect_consolidate)\n",
      "    10001    0.009    0.000    1.055    0.000 generic.py:5558(_consolidate_inplace)\n",
      "    20000    0.021    0.000    0.028    0.000 generic.py:556(_get_axis)\n",
      "    10001    0.011    0.000    1.024    0.000 generic.py:5562(f)\n",
      "        2    0.000    0.000    0.296    0.148 generic.py:5827(copy)\n",
      "        2    0.000    0.000    0.000    0.000 generic.py:631(_info_axis)\n",
      "     6646    0.003    0.000    0.003    0.000 generic.py:655(ndim)\n",
      "        4    0.000    0.000    0.000    0.000 generic.py:764(_set_axis)\n",
      "        2    0.000    0.000    0.000    0.000 index_tricks.py:317(__getitem__)\n",
      "        2    0.000    0.000    0.000    0.000 indexers.py:249(maybe_convert_indices)\n",
      "    10000    0.004    0.000    0.006    0.000 indexers.py:66(is_list_like_indexer)\n",
      "    10000    0.012    0.000  117.220    0.012 indexing.py:1111(_get_label)\n",
      "    10000    0.047    0.000  117.348    0.012 indexing.py:1132(_getitem_axis)\n",
      "    10000    0.006    0.000    0.006    0.000 indexing.py:270(loc)\n",
      "    10000    0.020    0.000  117.373    0.012 indexing.py:918(__getitem__)\n",
      "    10000    0.006    0.000    0.008    0.000 indexing.py:965(_validate_key)\n",
      "    10000    0.004    0.000    0.008    0.000 inference.py:184(is_array_like)\n",
      "    33302    0.017    0.000    0.023    0.000 inference.py:321(is_hashable)\n",
      "        2    0.000    0.000    0.002    0.001 managers.py:1144(insert)\n",
      "        2    0.000    0.000    0.001    0.001 managers.py:1197(idelete)\n",
      "        1    0.000    0.000    0.007    0.007 managers.py:1411(as_array)\n",
      "        1    0.001    0.001    0.007    0.007 managers.py:1478(_interleave)\n",
      "        1    0.000    0.000    0.000    0.000 managers.py:1486(<listcomp>)\n",
      "    16646    0.019    0.000    0.023    0.000 managers.py:1539(__init__)\n",
      "    16644    0.034    0.000    0.432    0.000 managers.py:1569(from_array)\n",
      "        6    0.000    0.000    0.000    0.000 managers.py:158(blknos)\n",
      "    26646    0.007    0.000    0.007    0.000 managers.py:1619(_block)\n",
      "    26646    0.017    0.000    0.024    0.000 managers.py:1674(internal_values)\n",
      "        6    0.000    0.000    0.000    0.000 managers.py:174(blklocs)\n",
      "        2    0.000    0.000    0.809    0.404 managers.py:1964(_consolidate)\n",
      "       24    0.000    0.000    0.000    0.000 managers.py:1969(<lambda>)\n",
      "        5    0.476    0.095    0.809    0.162 managers.py:1981(_merge_blocks)\n",
      "        4    0.000    0.000    0.000    0.000 managers.py:1992(<listcomp>)\n",
      "        4    0.000    0.000    0.000    0.000 managers.py:2001(<listcomp>)\n",
      "        2    0.000    0.000    0.000    0.000 managers.py:2018(_fast_count_smallints)\n",
      "        2    0.000    0.000    0.000    0.000 managers.py:2025(_preprocess_slice_or_indexer)\n",
      "        4    0.000    0.000    0.000    0.000 managers.py:214(set_axis)\n",
      "        3    0.000    0.000    0.000    0.000 managers.py:219(is_single_block)\n",
      "        4    0.000    0.000    0.000    0.000 managers.py:224(_rebuild_blknos_and_blklocs)\n",
      "     6654    0.003    0.000    0.003    0.000 managers.py:245(items)\n",
      "        2    0.000    0.000    0.296    0.148 managers.py:276(apply)\n",
      "        2    0.000    0.000    0.000    0.000 managers.py:305(<dictcomp>)\n",
      "    10005    0.005    0.000    0.005    0.000 managers.py:468(is_consolidated)\n",
      "        6    0.000    0.000    0.000    0.000 managers.py:476(_consolidate_check)\n",
      "        6    0.000    0.000    0.000    0.000 managers.py:477(<listcomp>)\n",
      "     6644    0.008    0.000    0.017    0.000 managers.py:490(is_view)\n",
      "        2    0.000    0.000    0.296    0.148 managers.py:574(copy)\n",
      "        4    0.000    0.000    0.000    0.000 managers.py:592(copy_func)\n",
      "        2    0.000    0.000    0.000    0.000 managers.py:595(<listcomp>)\n",
      "    10001    0.006    0.000    0.820    0.000 managers.py:606(consolidate)\n",
      "        4    0.000    0.000    0.809    0.202 managers.py:622(_consolidate_inplace)\n",
      "        2    0.000    0.000    0.001    0.000 managers.py:696(_slice_take_blocks_ax0)\n",
      "        6    0.000    0.000    0.000    0.000 managers.py:884(__init__)\n",
      "        6    0.000    0.000    0.000    0.000 managers.py:892(<genexpr>)\n",
      "        2    0.000    0.000    0.000    0.000 managers.py:916(_verify_integrity)\n",
      "       14    0.000    0.000    0.000    0.000 managers.py:918(<genexpr>)\n",
      "        2    0.000    0.000    0.000    0.000 managers.py:929(from_blocks)\n",
      "     6644    0.120    0.000    0.622    0.000 managers.py:939(fast_xs)\n",
      "     6644    0.010    0.000    0.010    0.000 managers.py:954(<listcomp>)\n",
      "        2    0.000    0.000    0.000    0.000 managers.py:977(iget)\n",
      "        2    0.000    0.000    0.000    0.000 missing.py:144(_isna)\n",
      "        2    0.000    0.000    0.000    0.000 missing.py:606(is_valid_na_for_dtype)\n",
      "        2    0.000    0.000    0.000    0.000 missing.py:61(isna)\n",
      "        6    0.000    0.000    0.000    0.000 multiarray.py:1054(copyto)\n",
      "       12    0.000    0.000    0.000    0.000 multiarray.py:143(concatenate)\n",
      "     3502    0.002    0.000    0.002    0.000 multiarray.py:321(where)\n",
      "        2    0.000    0.000    0.000    0.000 multiarray.py:863(bincount)\n",
      "        8    0.000    0.000    0.000    0.000 numeric.py:1341(normalize_axis_tuple)\n",
      "        8    0.000    0.000    0.000    0.000 numeric.py:1391(<listcomp>)\n",
      "        4    0.000    0.000    0.000    0.000 numeric.py:1400(_moveaxis_dispatcher)\n",
      "        4    0.000    0.000    0.000    0.000 numeric.py:1404(moveaxis)\n",
      "        4    0.000    0.000    0.000    0.000 numeric.py:1467(<listcomp>)\n",
      "        2    0.000    0.000    0.000    0.000 numeric.py:176(_validate_dtype)\n",
      "        6    0.000    0.000    0.005    0.001 numeric.py:288(full)\n",
      "        2    0.000    0.000    0.000    0.000 numeric.py:296(_is_all_dates)\n",
      "       14    0.000    0.000    0.000    0.000 numerictypes.py:285(issubclass_)\n",
      "        7    0.000    0.000    0.000    0.000 numerictypes.py:359(issubdtype)\n",
      "     8818    0.082    0.000    0.114    0.000 numerictypes.py:575(_can_coerce_all)\n",
      "    83753    0.023    0.000    0.023    0.000 numerictypes.py:584(<listcomp>)\n",
      "     4409    0.010    0.000    0.129    0.000 numerictypes.py:599(find_common_type)\n",
      "     4409    0.004    0.000    0.004    0.000 numerictypes.py:651(<listcomp>)\n",
      "     4409    0.001    0.000    0.001    0.000 numerictypes.py:652(<listcomp>)\n",
      "        2    0.000    0.000    0.000    0.000 range.py:105(__new__)\n",
      "        2    0.000    0.000    0.000    0.000 range.py:160(_simple_new)\n",
      "    10001    0.003    0.000    0.003    0.000 range.py:449(__iter__)\n",
      "       14    0.000    0.000    0.000    0.000 range.py:806(__len__)\n",
      "    26644    0.037    0.000    0.221    0.000 series.py:1034(_get_value)\n",
      "        2    0.000    0.000    0.000    0.000 series.py:1194(_set_as_cached)\n",
      "    16646    0.167    0.000    1.481    0.000 series.py:315(__init__)\n",
      "    16646    0.019    0.000    0.019    0.000 series.py:528(_set_axis)\n",
      "    16646    0.027    0.000    0.045    0.000 series.py:577(name)\n",
      "    16646    0.025    0.000    0.076    0.000 series.py:627(name)\n",
      "    26646    0.015    0.000    0.039    0.000 series.py:674(_values)\n",
      "    26644    0.058    0.000    0.310    0.000 series.py:928(__getitem__)\n",
      "        4    0.000    0.000    0.000    0.000 shape_base.py:208(_arrays_for_stack_dispatcher)\n",
      "        4    0.000    0.000    0.000    0.000 shape_base.py:219(_vhstack_dispatcher)\n",
      "        4    0.000    0.000    0.332    0.083 shape_base.py:223(vstack)\n",
      "        4    0.000    0.000    0.000    0.000 shape_base.py:78(_atleast_2d_dispatcher)\n",
      "        4    0.000    0.000    0.000    0.000 shape_base.py:82(atleast_2d)\n",
      "        4    0.000    0.000    0.000    0.000 take.py:111(_take_nd_ndarray)\n",
      "        4    0.000    0.000    0.000    0.000 take.py:301(_get_take_nd_function)\n",
      "        4    0.000    0.000    0.000    0.000 take.py:517(_take_preprocess_indexer_and_fill_value)\n",
      "        4    0.000    0.000    0.000    0.000 take.py:54(take_nd)\n",
      "    49946    0.007    0.000    0.007    0.000 typing.py:1353(cast)\n",
      "       14    0.000    0.000    0.000    0.000 {built-in method __new__ of type object at 0x00007FFF6C433C60}\n",
      "       12    0.000    0.000    0.000    0.000 {built-in method _abc._abc_instancecheck}\n",
      "        8    0.000    0.000    0.000    0.000 {built-in method _operator.index}\n",
      "    36587    0.022    0.000    0.097    0.000 {built-in method builtins.all}\n",
      "    13290    0.011    0.000    0.084    0.000 {built-in method builtins.any}\n",
      "    36651    0.006    0.000    0.006    0.000 {built-in method builtins.callable}\n",
      "        1    0.000    0.000  119.341  119.341 {built-in method builtins.exec}\n",
      "   192001    0.028    0.000    0.028    0.000 {built-in method builtins.getattr}\n",
      "    33314    0.008    0.000    0.008    0.000 {built-in method builtins.hasattr}\n",
      "    33310    0.007    0.000    0.007    0.000 {built-in method builtins.hash}\n",
      "   819128    0.173    0.000    0.247    0.000 {built-in method builtins.isinstance}\n",
      "    68899    0.011    0.000    0.011    0.000 {built-in method builtins.issubclass}\n",
      "345778/299138    0.065    0.000    0.092    0.000 {built-in method builtins.len}\n",
      "       12    0.000    0.000    0.000    0.000 {built-in method builtins.max}\n",
      "        6    0.000    0.000    0.000    0.000 {built-in method builtins.sorted}\n",
      "        2    0.000    0.000    0.000    0.000 {built-in method builtins.sum}\n",
      "     6645    0.007    0.000    0.007    0.000 {built-in method fromkeys}\n",
      "       10    0.000    0.000    0.000    0.000 {built-in method numpy.arange}\n",
      "10059/10057    0.007    0.000    0.007    0.000 {built-in method numpy.array}\n",
      "3548/3536    2.981    0.001    2.982    0.001 {built-in method numpy.core._multiarray_umath.implement_array_function}\n",
      "        8    0.000    0.000    0.000    0.000 {built-in method numpy.core._multiarray_umath.normalize_axis_index}\n",
      "     6669    0.022    0.000    0.022    0.000 {built-in method numpy.empty}\n",
      "        3    0.000    0.000    0.000    0.000 {built-in method numpy.zeros}\n",
      "        2    0.000    0.000    0.000    0.000 {built-in method pandas._libs.lib.is_datetime_array}\n",
      "        2    0.000    0.000    0.000    0.000 {built-in method pandas._libs.missing.checknull}\n",
      "        5    0.000    0.000    0.000    0.000 {method 'add' of 'pandas._libs.internals.BlockPlacement' objects}\n",
      "        1    0.000    0.000    0.000    0.000 {method 'all' of 'numpy.ndarray' objects}\n",
      "        8    0.000    0.000    0.000    0.000 {method 'any' of 'numpy.ndarray' objects}\n",
      "       47    0.000    0.000    0.000    0.000 {method 'append' of 'list' objects}\n",
      "        4    0.000    0.000    0.000    0.000 {method 'argsort' of 'numpy.ndarray' objects}\n",
      "     6650    0.014    0.000    0.014    0.000 {method 'astype' of 'numpy.ndarray' objects}\n",
      "        8    0.000    0.000    0.000    0.000 {method 'clear' of 'dict' objects}\n",
      "        2    0.000    0.000    0.000    0.000 {method 'clear_mapping' of 'pandas._libs.index.IndexEngine' objects}\n",
      "        7    0.378    0.054    0.378    0.054 {method 'copy' of 'numpy.ndarray' objects}\n",
      "        1    0.000    0.000    0.000    0.000 {method 'disable' of '_lsprof.Profiler' objects}\n",
      "        8    0.000    0.000    0.000    0.000 {method 'fill' of 'numpy.ndarray' objects}\n",
      "        7    0.000    0.000    0.000    0.000 {method 'format' of 'str' objects}\n",
      "        2    0.000    0.000    0.000    0.000 {method 'get' of 'dict' objects}\n",
      "    36648  111.958    0.003  114.617    0.003 {method 'get_loc' of 'pandas._libs.index.IndexEngine' objects}\n",
      "        4    0.000    0.000    0.000    0.000 {method 'insert' of 'list' objects}\n",
      "        4    0.000    0.000    0.000    0.000 {method 'item' of 'numpy.ndarray' objects}\n",
      "     6645    0.002    0.000    0.002    0.000 {method 'keys' of 'dict' objects}\n",
      "       12    0.000    0.000    0.000    0.000 {method 'max' of 'numpy.ndarray' objects}\n",
      "        4    0.000    0.000    0.000    0.000 {method 'nonzero' of 'numpy.ndarray' objects}\n",
      "       25    0.000    0.000    0.000    0.000 {method 'reduce' of 'numpy.ufunc' objects}\n",
      "        2    0.000    0.000    0.000    0.000 {method 'reshape' of 'numpy.ndarray' objects}\n",
      "    16644    0.007    0.000    0.007    0.000 {method 'split' of 'str' objects}\n",
      "        9    0.000    0.000    0.000    0.000 {method 'transpose' of 'numpy.ndarray' objects}\n",
      "        8    0.000    0.000    0.000    0.000 {method 'upper' of 'str' objects}\n",
      "    10004    0.003    0.000    0.003    0.000 {pandas._libs.algos.ensure_object}\n",
      "       10    0.000    0.000    0.000    0.000 {pandas._libs.algos.ensure_platform_int}\n",
      "        4    0.000    0.000    0.000    0.000 {pandas._libs.algos.take_1d_int64_int64}\n",
      "        2    0.000    0.000    0.000    0.000 {pandas._libs.internals.get_blkno_placements}\n",
      "    10002    0.020    0.000    0.020    0.000 {pandas._libs.lib.infer_datetimelike_array}\n",
      "        6    0.106    0.018    0.106    0.018 {pandas._libs.lib.infer_dtype}\n",
      "        4    0.000    0.000    0.000    0.000 {pandas._libs.lib.is_bool}\n",
      "    43294    0.008    0.000    0.008    0.000 {pandas._libs.lib.is_float}\n",
      "    53288    0.010    0.000    0.010    0.000 {pandas._libs.lib.is_integer}\n",
      "    10002    0.002    0.000    0.002    0.000 {pandas._libs.lib.is_iterator}\n",
      "    69940    0.020    0.000    0.020    0.000 {pandas._libs.lib.is_list_like}\n",
      "    46592    0.009    0.000    0.009    0.000 {pandas._libs.lib.is_scalar}\n",
      "    10004    0.002    0.000    0.002    0.000 {pandas._libs.lib.item_from_zerodim}\n",
      "        6    0.003    0.001    0.008    0.001 {pandas._libs.lib.maybe_convert_objects}\n",
      "       12    0.000    0.000    0.000    0.000 {pandas._libs.lib.maybe_indices_to_slice}\n",
      "\n",
      "\n"
     ]
    }
   ],
   "source": [
    "\n",
    "import cProfile\n",
    "cProfile.run('funkcija()', filename=None, sort=-1)\n"
   ]
  },
  {
   "cell_type": "code",
   "execution_count": 282,
   "id": "6d38bc9c",
   "metadata": {},
   "outputs": [
    {
     "name": "stdout",
     "output_type": "stream",
     "text": [
      "DiGraph with 226649 nodes and 2834404 edges\n"
     ]
    }
   ],
   "source": [
    "print(nx.info(GUsernet))\n",
    "\n",
    "output_pathUserNet = \"UserNet.gml\"\n",
    "nx.write_gml(GUsernet, output_pathUserNet)"
   ]
  }
 ],
 "metadata": {
  "kernelspec": {
   "display_name": "Python 3 (ipykernel)",
   "language": "python",
   "name": "python3"
  },
  "language_info": {
   "codemirror_mode": {
    "name": "ipython",
    "version": 3
   },
   "file_extension": ".py",
   "mimetype": "text/x-python",
   "name": "python",
   "nbconvert_exporter": "python",
   "pygments_lexer": "ipython3",
   "version": "3.9.7"
  }
 },
 "nbformat": 4,
 "nbformat_minor": 5
}
