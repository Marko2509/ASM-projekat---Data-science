{
 "cells": [
  {
   "cell_type": "code",
   "execution_count": 1,
   "id": "54c05482",
   "metadata": {},
   "outputs": [],
   "source": [
    "import networkx as nx\n",
    "import pandas as pd\n",
    "import numpy as np\n",
    "import matplotlib.pyplot as plt\n",
    "import pickle\n",
    "from collections import Counter\n",
    "from operator import itemgetter"
   ]
  },
  {
   "cell_type": "code",
   "execution_count": 3,
   "id": "cbdffa85",
   "metadata": {},
   "outputs": [],
   "source": [
    "input_path = \"dominantna_komponenta.gml\"\n",
    "Gdom = nx.read_gml(input_path)\n",
    "input_path2 = \"undirected_count_aggregation.gml\"\n",
    "G = nx.read_gml(input_path2)"
   ]
  },
  {
   "cell_type": "code",
   "execution_count": 5,
   "id": "a07d13c3",
   "metadata": {},
   "outputs": [
    {
     "data": {
      "image/png": "[encoded data removed]",
      "text/plain": [
       "<Figure size 432x288 with 1 Axes>"
      ]
     },
     "metadata": {
      "needs_background": "light"
     },
     "output_type": "display_data"
    }
   ],
   "source": [
    "tezine_grana = nx.get_edge_attributes(G,'weight') #vraca tip dict!!!\n",
    "tezine_values=tezine_grana.values()\n",
    "plt.hist(tezine_values, bins=100)\n",
    "plt.gca().set(title='Weight Frequency', ylabel='Frequency');\n",
    "plt.show()"
   ]
  },
  {
   "cell_type": "code",
   "execution_count": 6,
   "id": "fabeac65",
   "metadata": {},
   "outputs": [
    {
     "data": {
      "image/png": "[encoded data removed]",
      "text/plain": [
       "<Figure size 432x288 with 1 Axes>"
      ]
     },
     "metadata": {
      "needs_background": "light"
     },
     "output_type": "display_data"
    }
   ],
   "source": [
    "deg_counts = Counter(tezine_values)     \n",
    "x, y = zip(*deg_counts.items())                                                      \n",
    "#plt.figure(1)   \n",
    "\n",
    "plt.xlabel('weight')  \n",
    "                                                                                                            \n",
    "plt.xlim(1, max(x))  \n",
    "\n",
    "plt.ylabel('frequency')                                                                                                          \n",
    "plt.ylim(1, max(y))                                                                                                             \n",
    "                                                                                                                                                                                                    \n",
    "plt.scatter(x, y, marker='.')                                                                                                    \n",
    "plt.show()"
   ]
  },
  {
   "cell_type": "code",
   "execution_count": 7,
   "id": "dad0c52a",
   "metadata": {},
   "outputs": [
    {
     "data": {
      "image/png": "[encoded data removed]",
      "text/plain": [
       "<Figure size 432x288 with 1 Axes>"
      ]
     },
     "metadata": {
      "needs_background": "light"
     },
     "output_type": "display_data"
    }
   ],
   "source": [
    "deg_counts = Counter(tezine_values)     \n",
    "x, y = zip(*deg_counts.items())                                                      \n",
    "#plt.figure(1)   \n",
    "\n",
    "plt.xlabel('weight')  \n",
    "                                                                                                            \n",
    "plt.xlim(1, 20)  #vidimo kad skratimo opseg da najveci broj cvorova ima tezinu manju od 5, a to je jako mala tezina\n",
    "\n",
    "plt.ylabel('frequency')                                                                                                          \n",
    "plt.ylim(1, max(y))                                                                                                             \n",
    "                                                                                                                                                                                                    \n",
    "plt.scatter(x, y, marker='.')                                                                                                    \n",
    "plt.show()"
   ]
  },
  {
   "cell_type": "code",
   "execution_count": 9,
   "id": "cecb8ee9",
   "metadata": {},
   "outputs": [
    {
     "name": "stdout",
     "output_type": "stream",
     "text": [
      "Graph with 4359 nodes and 30227 edges\n"
     ]
    }
   ],
   "source": [
    "G.remove_edges_from((e for e, w in tezine_grana.items() if w < 5))\n",
    "\n",
    "print(nx.info(G))\n",
    "\n",
    "output_pathF = \"SNetF.gml\"\n",
    "\n",
    "nx.write_gml(G, output_pathF)"
   ]
  },
  {
   "cell_type": "code",
   "execution_count": 16,
   "id": "dee8f3e4",
   "metadata": {},
   "outputs": [
    {
     "name": "stdout",
     "output_type": "stream",
     "text": [
      "0.0031823720152562665\n"
     ]
    }
   ],
   "source": [
    "#7) Kolika je gustina mreže?\n",
    "\n",
    "print(nx.density(G))"
   ]
  },
  {
   "cell_type": "markdown",
   "id": "f011bfec",
   "metadata": {},
   "source": [
    "Kolike su prosečne distance u okviru mreže i dijametar mreže?\n",
    "Diameter: 4\n",
    "Average Path length: 1.967436719581427"
   ]
  },
  {
   "cell_type": "markdown",
   "id": "ca01492e",
   "metadata": {},
   "source": [
    "U kojoj meri je mreža povezana i centralizovana? Navesti broj i veličine povezanih komponenata i proceniti da li postoji gigantska komponenta."
   ]
  },
  {
   "cell_type": "code",
   "execution_count": 13,
   "id": "42c59cb6",
   "metadata": {},
   "outputs": [
    {
     "name": "stdout",
     "output_type": "stream",
     "text": [
      "[765, 2, 1, 1, 1, 1, 1, 1, 1, 1, 1, 1, 1, 1, 1, 1, 1, 1, 1, 1, 1, 1, 1, 1, 1, 1, 1, 1, 1, 1, 1, 1, 1, 1, 1, 1, 1, 1, 1, 1, 1, 1, 1, 1, 1, 1, 1, 1, 1, 1, 1, 1, 1, 1, 1, 1, 1, 1, 1, 1, 1, 1, 1, 1, 1, 1, 1, 1, 1, 1, 1, 1, 1, 1, 1, 1, 1, 1, 1, 1, 1, 1, 1, 1, 1, 1, 1, 1, 1, 1, 1, 1, 1, 1, 1, 1, 1, 1, 1, 1, 1, 1, 1, 1, 1, 1, 1, 1, 1, 1, 1, 1, 1, 1, 1, 1, 1, 1, 1, 1, 1, 1, 1, 1, 1, 1, 1, 1, 1, 1, 1, 1, 1, 1, 1, 1, 1, 1, 1, 1, 1, 1, 1, 1, 1, 1, 1, 1, 1, 1, 1, 1, 1, 1, 1, 1, 1, 1, 1, 1, 1, 1, 1, 1, 1, 1, 1, 1, 1, 1, 1, 1, 1, 1, 1, 1, 1, 1, 1, 1, 1, 1, 1, 1, 1, 1, 1, 1, 1, 1, 1, 1, 1, 1, 1, 1, 1, 1, 1, 1, 1, 1, 1, 1, 1, 1, 1, 1, 1, 1, 1, 1, 1, 1, 1, 1, 1, 1, 1, 1, 1, 1, 1, 1, 1, 1, 1, 1, 1, 1, 1, 1, 1, 1, 1, 1, 1, 1, 1, 1, 1, 1, 1, 1, 1, 1, 1, 1, 1, 1, 1, 1, 1, 1, 1, 1, 1, 1, 1, 1, 1, 1, 1, 1, 1, 1, 1, 1, 1, 1, 1, 1, 1, 1, 1, 1, 1, 1, 1, 1, 1, 1, 1, 1, 1, 1, 1, 1, 1, 1, 1, 1, 1, 1, 1, 1, 1, 1, 1, 1, 1, 1, 1, 1, 1, 1, 1, 1, 1, 1, 1, 1, 1, 1, 1, 1, 1, 1, 1, 1, 1, 1, 1, 1, 1, 1, 1, 1, 1, 1, 1, 1, 1, 1, 1, 1, 1, 1, 1, 1, 1, 1, 1, 1, 1, 1, 1, 1, 1, 1, 1, 1, 1, 1, 1, 1, 1, 1, 1, 1, 1, 1, 1, 1, 1, 1, 1, 1, 1, 1, 1, 1, 1, 1, 1, 1, 1, 1, 1, 1, 1, 1, 1, 1, 1, 1, 1, 1, 1, 1, 1, 1, 1, 1, 1, 1, 1, 1, 1, 1, 1, 1, 1, 1, 1, 1, 1, 1, 1, 1, 1, 1, 1, 1, 1, 1, 1, 1, 1, 1, 1, 1, 1, 1, 1, 1, 1, 1, 1, 1, 1, 1, 1, 1, 1, 1, 1, 1, 1, 1, 1, 1, 1, 1, 1, 1, 1, 1, 1, 1, 1, 1, 1, 1, 1, 1, 1, 1, 1, 1, 1, 1, 1, 1, 1, 1, 1, 1, 1, 1, 1, 1, 1, 1, 1, 1, 1, 1, 1, 1, 1, 1, 1, 1, 1, 1, 1, 1, 1, 1, 1, 1, 1, 1, 1, 1, 1, 1, 1, 1, 1, 1, 1, 1, 1, 1, 1, 1, 1, 1, 1, 1, 1, 1, 1, 1, 1, 1, 1, 1, 1, 1, 1, 1, 1, 1, 1, 1, 1, 1, 1, 1, 1, 1, 1, 1, 1, 1, 1, 1, 1, 1, 1, 1, 1, 1, 1, 1, 1, 1, 1, 1, 1, 1, 1, 1, 1, 1, 1, 1, 1, 1, 1, 1, 1, 1, 1, 1, 1, 1, 1, 1, 1, 1, 1, 1, 1, 1, 1, 1, 1, 1, 1, 1, 1, 1, 1, 1, 1, 1, 1, 1, 1, 1, 1, 1, 1, 1, 1, 1, 1, 1, 1, 1, 1, 1, 1, 1, 1, 1, 1, 1, 1, 1, 1, 1, 1, 1, 1, 1, 1, 1, 1, 1, 1, 1, 1, 1, 1, 1, 1, 1, 1, 1, 1, 1, 1, 1, 1, 1, 1, 1, 1, 1, 1, 1, 1, 1, 1, 1, 1, 1, 1, 1, 1, 1, 1, 1, 1, 1, 1, 1, 1, 1, 1, 1, 1, 1, 1, 1, 1, 1, 1, 1, 1, 1, 1, 1, 1, 1, 1, 1, 1, 1, 1, 1, 1, 1, 1, 1, 1, 1, 1, 1, 1, 1, 1, 1, 1, 1, 1, 1, 1, 1, 1, 1, 1, 1, 1, 1, 1, 1, 1, 1, 1, 1, 1, 1, 1, 1, 1, 1, 1, 1, 1, 1, 1, 1, 1, 1, 1, 1, 1, 1, 1, 1, 1, 1, 1, 1, 1, 1, 1, 1, 1, 1, 1, 1, 1, 1, 1, 1, 1, 1, 1, 1, 1, 1, 1, 1, 1, 1, 1, 1, 1, 1, 1, 1, 1, 1, 1, 1, 1, 1, 1, 1, 1, 1, 1, 1, 1, 1, 1, 1, 1, 1, 1, 1, 1, 1, 1, 1, 1, 1, 1, 1, 1, 1, 1, 1, 1, 1, 1, 1, 1, 1, 1, 1, 1, 1, 1, 1, 1, 1, 1, 1, 1, 1, 1, 1, 1, 1, 1, 1, 1, 1, 1, 1, 1, 1, 1, 1, 1, 1, 1, 1, 1, 1, 1, 1, 1, 1, 1, 1, 1, 1, 1, 1, 1, 1, 1, 1, 1, 1, 1, 1, 1, 1, 1, 1, 1, 1, 1, 1, 1, 1, 1, 1, 1, 1, 1, 1, 1, 1, 1, 1, 1, 1, 1, 1, 1, 1, 1, 1, 1, 1, 1, 1, 1, 1, 1, 1, 1, 1, 1, 1, 1, 1, 1, 1, 1, 1, 1, 1, 1, 1, 1, 1, 1, 1, 1, 1, 1, 1, 1, 1, 1, 1, 1, 1, 1, 1, 1, 1, 1, 1, 1, 1, 1, 1, 1, 1, 1, 1, 1, 1, 1, 1, 1, 1, 1, 1, 1, 1, 1, 1, 1, 1, 1, 1, 1, 1, 1, 1, 1, 1, 1, 1, 1, 1, 1, 1, 1, 1, 1, 1, 1, 1, 1, 1, 1, 1, 1, 1, 1, 1, 1, 1, 1, 1, 1, 1, 1, 1, 1, 1, 1, 1, 1, 1, 1, 1, 1, 1, 1, 1, 1, 1, 1, 1, 1, 1, 1, 1, 1, 1, 1, 1, 1, 1, 1, 1, 1, 1, 1, 1, 1, 1, 1, 1, 1, 1, 1, 1, 1, 1, 1, 1, 1, 1, 1, 1, 1, 1, 1, 1, 1, 1, 1, 1, 1, 1, 1, 1, 1, 1, 1, 1, 1, 1, 1, 1, 1, 1, 1, 1, 1, 1, 1, 1, 1, 1, 1, 1, 1, 1, 1, 1, 1, 1, 1, 1, 1, 1, 1, 1, 1, 1, 1, 1, 1, 1, 1, 1, 1, 1, 1, 1, 1, 1, 1, 1, 1, 1, 1, 1, 1, 1, 1, 1, 1, 1, 1, 1, 1, 1, 1, 1, 1, 1, 1, 1, 1, 1, 1, 1, 1, 1, 1, 1, 1, 1, 1, 1, 1, 1, 1, 1, 1, 1, 1, 1, 1, 1, 1, 1, 1, 1, 1, 1, 1, 1, 1, 1, 1, 1, 1, 1, 1, 1, 1, 1, 1, 1, 1, 1, 1, 1, 1, 1, 1, 1, 1, 1, 1, 1, 1, 1, 1, 1, 1, 1, 1, 1, 1, 1, 1, 1, 1, 1, 1, 1, 1, 1, 1, 1, 1, 1, 1, 1, 1, 1, 1, 1, 1, 1, 1, 1, 1, 1, 1, 1, 1, 1, 1, 1, 1, 1, 1, 1, 1, 1, 1, 1, 1, 1, 1, 1, 1, 1, 1, 1, 1, 1, 1, 1, 1, 1, 1, 1, 1, 1, 1, 1, 1, 1, 1, 1, 1, 1, 1, 1, 1, 1, 1, 1, 1, 1, 1, 1, 1, 1, 1, 1, 1, 1, 1, 1, 1, 1, 1, 1, 1, 1, 1, 1, 1, 1, 1, 1, 1, 1, 1, 1, 1, 1, 1, 1, 1, 1, 1, 1, 1, 1, 1, 1, 1, 1, 1, 1, 1, 1, 1, 1, 1, 1, 1, 1, 1, 1, 1, 1, 1, 1, 1, 1, 1, 1, 1, 1, 1, 1, 1, 1, 1, 1, 1, 1, 1, 1, 1, 1, 1, 1, 1, 1, 1, 1, 1, 1, 1, 1, 1, 1, 1, 1, 1, 1, 1, 1, 1, 1, 1, 1, 1, 1, 1, 1, 1, 1, 1, 1, 1, 1, 1, 1, 1, 1, 1, 1, 1, 1, 1, 1, 1, 1, 1, 1, 1, 1, 1, 1, 1, 1, 1, 1, 1, 1, 1, 1, 1, 1, 1, 1, 1, 1, 1, 1, 1, 1, 1, 1, 1, 1, 1, 1, 1, 1, 1, 1, 1, 1, 1, 1, 1, 1, 1, 1, 1, 1, 1, 1, 1, 1, 1, 1, 1, 1, 1, 1, 1, 1, 1, 1, 1, 1, 1, 1, 1, 1, 1, 1, 1, 1, 1, 1, 1, 1, 1, 1, 1, 1, 1, 1, 1, 1, 1, 1, 1, 1, 1, 1, 1, 1, 1, 1, 1, 1, 1, 1, 1, 1, 1, 1, 1, 1, 1, 1, 1, 1, 1, 1, 1, 1, 1, 1, 1, 1, 1, 1, 1, 1, 1, 1, 1, 1, 1, 1, 1, 1, 1, 1, 1, 1, 1, 1, 1, 1, 1, 1, 1, 1, 1, 1, 1, 1, 1, 1, 1, 1, 1, 1, 1, 1, 1, 1, 1, 1, 1, 1, 1, 1, 1, 1, 1, 1, 1, 1, 1, 1, 1, 1, 1, 1, 1, 1, 1, 1, 1, 1, 1, 1, 1, 1, 1, 1, 1, 1, 1, 1, 1, 1, 1, 1, 1, 1, 1, 1, 1, 1, 1, 1, 1, 1, 1, 1, 1, 1, 1, 1, 1, 1, 1, 1, 1, 1, 1, 1, 1, 1, 1, 1, 1, 1, 1, 1, 1, 1, 1, 1, 1, 1, 1, 1, 1, 1, 1, 1, 1, 1, 1, 1, 1, 1, 1, 1, 1, 1, 1, 1, 1, 1, 1, 1, 1, 1, 1, 1, 1, 1, 1, 1, 1, 1, 1, 1, 1, 1, 1, 1, 1, 1, 1, 1, 1, 1, 1, 1, 1, 1, 1, 1, 1, 1, 1, 1, 1, 1, 1, 1, 1, 1, 1, 1, 1, 1, 1, 1, 1, 1, 1, 1, 1, 1, 1, 1, 1, 1, 1, 1, 1, 1, 1, 1, 1, 1, 1, 1, 1, 1, 1, 1, 1, 1, 1, 1, 1, 1, 1, 1, 1, 1, 1, 1, 1, 1, 1, 1, 1, 1, 1, 1, 1, 1, 1, 1, 1, 1, 1, 1, 1, 1, 1, 1, 1, 1, 1, 1, 1, 1, 1, 1, 1, 1, 1, 1, 1, 1, 1, 1, 1, 1, 1, 1, 1, 1, 1, 1, 1, 1, 1, 1, 1, 1, 1, 1, 1, 1, 1, 1, 1, 1, 1, 1, 1, 1, 1, 1, 1, 1, 1, 1, 1, 1, 1, 1, 1, 1, 1, 1, 1, 1, 1, 1, 1, 1, 1, 1, 1, 1, 1, 1, 1, 1, 1, 1, 1, 1, 1, 1, 1, 1, 1, 1, 1, 1, 1, 1, 1, 1, 1, 1, 1, 1, 1, 1, 1, 1, 1, 1, 1, 1, 1, 1, 1, 1, 1, 1, 1, 1, 1, 1, 1, 1, 1, 1, 1, 1, 1, 1, 1, 1, 1, 1, 1, 1, 1, 1, 1, 1, 1, 1, 1, 1, 1, 1, 1, 1, 1, 1, 1, 1, 1, 1, 1, 1, 1, 1, 1, 1, 1, 1, 1, 1, 1, 1, 1, 1, 1, 1, 1, 1, 1, 1, 1, 1, 1, 1, 1, 1, 1, 1, 1, 1, 1, 1, 1, 1, 1, 1, 1, 1, 1, 1, 1, 1, 1, 1, 1, 1, 1, 1, 1, 1, 1, 1, 1, 1, 1, 1, 1, 1, 1, 1, 1, 1, 1, 1, 1, 1, 1, 1, 1, 1, 1, 1, 1, 1, 1, 1, 1, 1, 1, 1, 1, 1, 1, 1, 1, 1, 1, 1, 1, 1, 1, 1, 1, 1, 1, 1, 1, 1, 1, 1, 1, 1, 1, 1, 1, 1, 1, 1, 1, 1, 1, 1, 1, 1, 1, 1, 1, 1, 1, 1, 1, 1, 1, 1, 1, 1, 1, 1, 1, 1, 1, 1, 1, 1, 1, 1, 1, 1, 1, 1, 1, 1, 1, 1, 1, 1, 1, 1, 1, 1, 1, 1, 1, 1, 1, 1, 1, 1, 1, 1, 1, 1, 1, 1, 1, 1, 1, 1, 1, 1, 1, 1, 1, 1, 1, 1, 1, 1, 1, 1, 1, 1, 1, 1, 1, 1, 1, 1, 1, 1, 1, 1, 1, 1, 1, 1, 1, 1, 1, 1, 1, 1, 1, 1, 1, 1, 1, 1, 1, 1, 1, 1, 1, 1, 1, 1, 1, 1, 1, 1, 1, 1, 1, 1, 1, 1, 1, 1, 1, 1, 1, 1, 1, 1, 1, 1, 1, 1, 1, 1, 1, 1, 1, 1, 1, 1, 1, 1, 1, 1, 1, 1, 1, 1, 1, 1, 1, 1, 1, 1, 1, 1, 1, 1, 1, 1, 1, 1, 1, 1, 1, 1, 1, 1, 1, 1, 1, 1, 1, 1, 1, 1, 1, 1, 1, 1, 1, 1, 1, 1, 1, 1, 1, 1, 1, 1, 1, 1, 1, 1, 1, 1, 1, 1, 1, 1, 1, 1, 1, 1, 1, 1, 1, 1, 1, 1, 1, 1, 1, 1, 1, 1, 1, 1, 1, 1, 1, 1, 1, 1, 1, 1, 1, 1, 1, 1, 1, 1, 1, 1, 1, 1, 1, 1, 1, 1, 1, 1, 1, 1, 1, 1, 1, 1, 1, 1, 1, 1, 1, 1, 1, 1, 1, 1, 1, 1, 1, 1, 1, 1, 1, 1, 1, 1, 1, 1, 1, 1, 1, 1, 1, 1, 1, 1, 1, 1, 1, 1, 1, 1, 1, 1, 1, 1, 1, 1, 1, 1, 1, 1, 1, 1, 1, 1, 1, 1, 1, 1, 1, 1, 1, 1, 1, 1, 1, 1, 1, 1, 1, 1, 1, 1, 1, 1, 1, 1, 1, 1, 1, 1, 1, 1, 1, 1, 1, 1, 1, 1, 1, 1, 1, 1, 1, 1, 1, 1, 1, 1, 1, 1, 1, 1, 1, 1, 1, 1, 1, 1, 1, 1, 1, 1, 1, 1, 1, 1, 1, 1, 1, 1, 1, 1, 1, 1, 1, 1, 1, 1, 1, 1, 1, 1, 1, 1, 1, 1, 1, 1, 1, 1, 1, 1, 1, 1, 1, 1, 1, 1, 1, 1, 1, 1, 1, 1, 1, 1, 1, 1, 1, 1, 1, 1, 1, 1, 1, 1, 1, 1, 1, 1, 1, 1, 1, 1, 1, 1, 1, 1, 1, 1, 1, 1, 1, 1, 1, 1, 1, 1, 1, 1, 1, 1, 1, 1, 1, 1, 1, 1, 1, 1, 1, 1, 1, 1, 1, 1, 1, 1, 1, 1, 1, 1, 1, 1, 1, 1, 1, 1, 1, 1, 1, 1, 1, 1, 1, 1, 1, 1, 1, 1, 1, 1, 1, 1, 1, 1, 1, 1, 1, 1, 1, 1, 1, 1, 1, 1, 1, 1, 1, 1, 1, 1, 1, 1, 1, 1, 1, 1, 1, 1, 1, 1, 1, 1, 1, 1, 1, 1, 1, 1, 1, 1, 1, 1, 1, 1, 1, 1, 1, 1, 1, 1, 1, 1, 1, 1, 1, 1, 1, 1, 1, 1, 1, 1, 1, 1, 1, 1, 1, 1, 1, 1, 1, 1, 1, 1, 1, 1, 1, 1, 1, 1, 1, 1, 1, 1, 1, 1, 1, 1, 1, 1, 1, 1, 1, 1, 1, 1, 1, 1, 1, 1, 1, 1, 1, 1, 1, 1, 1, 1, 1, 1, 1, 1, 1, 1, 1, 1, 1, 1, 1, 1, 1, 1, 1, 1, 1, 1, 1, 1, 1, 1, 1, 1, 1, 1, 1, 1, 1, 1, 1, 1, 1, 1, 1, 1, 1, 1, 1, 1, 1, 1, 1, 1, 1, 1, 1, 1, 1, 1, 1, 1, 1, 1, 1, 1, 1, 1, 1, 1, 1, 1, 1, 1, 1, 1, 1, 1, 1, 1, 1, 1, 1, 1, 1, 1, 1, 1, 1, 1, 1, 1, 1, 1, 1, 1, 1, 1, 1, 1, 1, 1, 1, 1, 1, 1, 1, 1, 1, 1, 1, 1, 1, 1, 1, 1, 1, 1, 1, 1, 1, 1, 1, 1, 1, 1, 1, 1, 1, 1, 1, 1, 1, 1, 1, 1, 1, 1, 1, 1, 1, 1, 1, 1, 1, 1, 1, 1, 1, 1, 1, 1, 1, 1, 1, 1, 1, 1, 1, 1, 1, 1, 1, 1, 1, 1, 1, 1, 1, 1, 1, 1, 1, 1, 1, 1, 1, 1, 1, 1, 1, 1, 1, 1, 1, 1, 1, 1, 1, 1, 1, 1, 1, 1, 1, 1, 1, 1, 1, 1, 1, 1, 1, 1, 1, 1, 1, 1, 1, 1, 1, 1, 1, 1, 1, 1, 1, 1, 1, 1, 1, 1, 1, 1, 1, 1, 1, 1, 1, 1, 1, 1, 1, 1, 1, 1, 1, 1, 1, 1, 1, 1, 1, 1, 1, 1, 1, 1, 1, 1, 1, 1, 1, 1, 1, 1, 1, 1, 1, 1, 1, 1, 1, 1, 1, 1, 1, 1, 1, 1, 1, 1, 1, 1, 1, 1, 1, 1, 1, 1, 1, 1, 1, 1, 1, 1, 1, 1, 1, 1, 1, 1, 1, 1, 1, 1, 1, 1, 1, 1, 1, 1, 1, 1, 1, 1, 1, 1, 1, 1, 1, 1, 1, 1, 1, 1, 1, 1, 1, 1, 1, 1, 1, 1, 1, 1, 1, 1, 1, 1, 1, 1, 1, 1, 1, 1, 1, 1, 1, 1, 1, 1, 1, 1, 1, 1, 1, 1, 1, 1, 1, 1, 1, 1, 1, 1, 1, 1, 1, 1, 1, 1, 1, 1, 1, 1, 1, 1, 1, 1, 1, 1, 1, 1, 1, 1, 1, 1, 1, 1, 1, 1, 1, 1, 1, 1, 1, 1, 1, 1, 1, 1, 1, 1, 1, 1, 1, 1, 1, 1, 1, 1, 1, 1, 1, 1, 1, 1, 1, 1, 1, 1, 1, 1, 1, 1, 1, 1, 1, 1, 1, 1, 1, 1, 1, 1, 1, 1, 1, 1, 1, 1, 1, 1, 1, 1, 1, 1, 1, 1, 1, 1, 1, 1, 1, 1, 1, 1, 1, 1, 1, 1, 1, 1, 1, 1, 1, 1, 1, 1, 1, 1, 1, 1, 1, 1, 1, 1, 1, 1, 1, 1, 1, 1, 1, 1, 1, 1, 1, 1, 1, 1, 1, 1, 1, 1, 1, 1, 1, 1, 1, 1, 1, 1, 1, 1, 1, 1, 1, 1, 1, 1, 1, 1, 1, 1, 1, 1, 1, 1, 1, 1, 1, 1, 1, 1, 1, 1, 1, 1, 1, 1, 1, 1, 1, 1, 1, 1, 1, 1, 1, 1, 1, 1, 1, 1, 1, 1, 1, 1, 1, 1, 1, 1, 1, 1, 1, 1, 1, 1, 1, 1, 1, 1, 1, 1, 1, 1, 1, 1, 1, 1, 1, 1, 1, 1, 1, 1, 1, 1, 1, 1, 1, 1, 1, 1, 1, 1, 1, 1, 1, 1, 1, 1, 1, 1, 1, 1, 1, 1, 1, 1, 1, 1, 1, 1, 1, 1, 1, 1, 1, 1, 1, 1, 1, 1, 1, 1, 1, 1, 1, 1, 1, 1, 1, 1, 1, 1, 1, 1, 1, 1, 1, 1, 1, 1, 1, 1, 1, 1, 1, 1, 1, 1, 1, 1, 1, 1, 1, 1, 1, 1, 1, 1, 1, 1, 1, 1, 1, 1, 1, 1, 1, 1, 1, 1, 1, 1, 1, 1, 1, 1, 1, 1, 1, 1, 1, 1, 1, 1, 1, 1, 1, 1, 1, 1, 1, 1, 1, 1, 1, 1, 1, 1, 1, 1, 1, 1, 1, 1, 1, 1, 1, 1, 1, 1, 1, 1, 1, 1, 1, 1, 1, 1, 1, 1, 1, 1, 1, 1, 1, 1, 1, 1, 1, 1, 1, 1, 1, 1, 1, 1, 1, 1, 1, 1, 1, 1, 1, 1, 1, 1, 1, 1, 1, 1, 1, 1, 1, 1, 1, 1, 1, 1, 1, 1, 1, 1, 1, 1, 1, 1, 1, 1, 1, 1, 1, 1, 1, 1, 1, 1, 1, 1, 1, 1, 1, 1, 1, 1, 1, 1, 1, 1, 1, 1, 1, 1, 1, 1, 1, 1, 1, 1, 1, 1, 1, 1, 1, 1, 1, 1, 1, 1, 1, 1, 1, 1, 1, 1, 1, 1, 1, 1, 1, 1, 1, 1, 1, 1, 1, 1, 1, 1, 1, 1, 1, 1, 1, 1, 1, 1, 1, 1, 1, 1, 1, 1, 1, 1, 1, 1, 1, 1, 1, 1, 1, 1, 1, 1, 1, 1, 1, 1, 1, 1, 1, 1, 1, 1, 1, 1, 1, 1, 1, 1, 1, 1, 1, 1, 1, 1, 1, 1, 1, 1, 1, 1, 1, 1, 1, 1, 1, 1, 1, 1, 1, 1, 1, 1, 1, 1, 1, 1, 1, 1, 1, 1, 1, 1, 1, 1, 1, 1, 1, 1, 1, 1, 1, 1, 1, 1, 1, 1, 1, 1, 1, 1, 1, 1, 1, 1, 1, 1, 1, 1, 1, 1, 1, 1, 1, 1, 1, 1, 1, 1, 1, 1, 1, 1, 1, 1, 1, 1, 1, 1, 1, 1, 1, 1, 1, 1, 1, 1, 1, 1, 1, 1, 1, 1, 1, 1, 1, 1, 1, 1, 1, 1, 1, 1, 1, 1, 1, 1, 1, 1, 1, 1, 1, 1, 1, 1, 1, 1, 1, 1, 1, 1, 1, 1, 1, 1, 1, 1, 1, 1, 1, 1, 1, 1, 1, 1, 1, 1, 1, 1, 1, 1, 1, 1, 1, 1, 1, 1, 1, 1, 1, 1, 1, 1, 1, 1, 1, 1, 1, 1, 1, 1, 1, 1, 1, 1, 1, 1, 1, 1, 1, 1, 1, 1, 1, 1, 1, 1, 1, 1, 1, 1, 1, 1, 1, 1, 1, 1, 1, 1, 1, 1, 1, 1, 1, 1, 1, 1, 1, 1, 1, 1, 1, 1]\n",
      "Broj povezanih komponenti: 3594\n",
      "Postoji jedna gigantska komponenta veličine 765, 1 veličine 2 i ostale su veličine 1.\n"
     ]
    }
   ],
   "source": [
    "component_size_list = [len(c) for c in sorted(nx.connected_components(G), key=len, reverse=True)] #connected_components(G) izvuce generatore za povezane komponente, sortira se po duzini generatora\n",
    "print(component_size_list) #imamo jednu dominantnu komp, ostale su male\n",
    "print('Broj povezanih komponenti: '+str(len(component_size_list)))\n",
    "print('Postoji jedna gigantska komponenta veličine 765, 1 veličine 2 i ostale su veličine 1.')"
   ]
  },
  {
   "cell_type": "code",
   "execution_count": 14,
   "id": "924ce642",
   "metadata": {},
   "outputs": [
    {
     "name": "stdout",
     "output_type": "stream",
     "text": [
      "Dominantna komponenta ima 765 čvorova i 30226 grana\n"
     ]
    }
   ],
   "source": [
    "# ekstrakcija dominantne komponente\n",
    "largest_cc = max(nx.connected_components(G), key=len)\n",
    "S = [G.subgraph(c).copy() for c in nx.connected_components(G)]\n",
    "Gdom = G.subgraph(largest_cc).copy()\n",
    "print(f\"Dominantna komponenta ima {len(Gdom.nodes())} čvorova i {len(Gdom.edges())} grana\")"
   ]
  },
  {
   "cell_type": "code",
   "execution_count": 15,
   "id": "eb503931",
   "metadata": {},
   "outputs": [],
   "source": [
    "dominant_component_path = \"SNETFdominantna_komponenta.net\"\n",
    "nx.write_pajek(Gdom, dominant_component_path)\n",
    "output_path = \"SNETFdominantna_komponenta.gml\"\n",
    "nx.write_gml(Gdom, output_path)"
   ]
  },
  {
   "cell_type": "code",
   "execution_count": 2,
   "id": "f3fa3a33",
   "metadata": {},
   "outputs": [],
   "source": [
    "input_path = \"SNETFdominantna_komponenta.gml\"\n",
    "Gdom = nx.read_gml(input_path)"
   ]
  },
  {
   "cell_type": "code",
   "execution_count": 6,
   "id": "a7c6779a",
   "metadata": {},
   "outputs": [],
   "source": [
    "G=Gdom #radicemo s njom samo"
   ]
  },
  {
   "cell_type": "markdown",
   "id": "014b125b",
   "metadata": {},
   "source": [
    "Koliki je prosečni, a koliki globalni koeficijent klasterizacije mreže? Kakva je raspodela lokalnog koeficijenta klasterizacije njenih čvorova? Da li je klasterisanje izraženo ili ne? Odgovor dati upoređivanjem sa slučajno generisanom Erdos-Renyi mrežom istih dimenzija."
   ]
  },
  {
   "cell_type": "code",
   "execution_count": 7,
   "id": "7aa68f95",
   "metadata": {},
   "outputs": [
    {
     "data": {
      "text/plain": [
       "0.8531120605131759"
      ]
     },
     "execution_count": 7,
     "metadata": {},
     "output_type": "execute_result"
    }
   ],
   "source": [
    "#Prosecni koeficijent klasterizaije za nasu mrezu iz nx (bez weight smo)\n",
    "nx.average_clustering(G)"
   ]
  },
  {
   "cell_type": "code",
   "execution_count": 8,
   "id": "d3c434f8",
   "metadata": {},
   "outputs": [
    {
     "name": "stdout",
     "output_type": "stream",
     "text": [
      "0.4449591751232102\n"
     ]
    }
   ],
   "source": [
    "#Globalni koeficijent klasterizacije (3*numOfTriangles/numOfTriads, svi trouglovi/sve triade)\n",
    "glob_koef=nx.transitivity(G)\n",
    "print(glob_koef)"
   ]
  },
  {
   "cell_type": "code",
   "execution_count": 9,
   "id": "7ab171d0",
   "metadata": {},
   "outputs": [
    {
     "data": {
      "image/png": "[encoded data removed]",
      "text/plain": [
       "<Figure size 700x500 with 1 Axes>"
      ]
     },
     "metadata": {
      "needs_background": "light"
     },
     "output_type": "display_data"
    }
   ],
   "source": [
    "dict=nx.clustering(G).values() #average_clustering je avg ovih vrednosti\n",
    "%matplotlib inline\n",
    "plt.rcParams.update({'figure.figsize':(7,5), 'figure.dpi':100})# Plot Histogram on x\n",
    "x = dict\n",
    "plt.hist(x, bins=100)\n",
    "plt.gca().set(title='Frequency Histogram', ylabel='Frequency',xlabel='Local clustering coefficient');"
   ]
  },
  {
   "cell_type": "code",
   "execution_count": 11,
   "id": "c6cc2145",
   "metadata": {},
   "outputs": [
    {
     "data": {
      "text/plain": [
       "0.10401118821971675"
      ]
     },
     "execution_count": 11,
     "metadata": {},
     "output_type": "execute_result"
    }
   ],
   "source": [
    "#Kako bi se ponašala Erdos-Renyi mreža sa koja ima isti broj čvorova n, a verovatnoća formiranja grane je takva da je očekivani broj grana u mreži m? //da bi bio isti br grana kao u nasoj mrezi //ovde postoji verovatnoca postojanja grane\n",
    "m=G.number_of_edges()\n",
    "n=G.number_of_nodes()\n",
    "p = ( 2*float(m) ) / ( n* (n-1) ) \n",
    "er_mreza = nx.erdos_renyi_graph(n,p)\n",
    "#Prosecni koeficijent klasterizaije za ER iz nx\n",
    "nx.average_clustering(er_mreza)"
   ]
  },
  {
   "cell_type": "code",
   "execution_count": 12,
   "id": "87575a9a",
   "metadata": {},
   "outputs": [
    {
     "data": {
      "image/png": "[encoded data removed]",
      "text/plain": [
       "<Figure size 700x500 with 1 Axes>"
      ]
     },
     "metadata": {
      "needs_background": "light"
     },
     "output_type": "display_data"
    }
   ],
   "source": [
    "#Lokalni koeficijent klasterizaije za ER\n",
    "dict_er=nx.clustering(er_mreza).values() #average_clustering je avg ovih vrednosti\n",
    "%matplotlib inline\n",
    "plt.rcParams.update({'figure.figsize':(7,5), 'figure.dpi':100})# Plot Histogram on x\n",
    "x = dict_er\n",
    "plt.hist(x, bins=100)\n",
    "plt.gca().set(title='Frequency Histogram for Erdos-Renyi network', xlabel='Local clustering coefficient',ylabel='Frequency');"
   ]
  },
  {
   "cell_type": "markdown",
   "id": "f85855ac",
   "metadata": {},
   "source": [
    "Klasterizacija je malo izražena kod SNetF mreže sa prosečnim stepenom klasterizacije 0.149, dok je kod Ernos-Renyi mreže veoma malo izražena, sa prosečnim stepenom klasterizacije oko 0.003.\n",
    "\n",
    "Na osnovu odgovora na pitanja 8 i 10, proceniti da li mreža iskazuje osobine malog sveta. \n",
    "S obzirom na veoma male vrednosti prosečne distance (2) i dijametra(4), može se zaključiti da se do bilo kog čvora može doći u veoma malom broju koraka, što nas dovodi do zaključka da naša mreža pokazuje osobine malog sveta. Uzimajući u obzir stepen klasterizacije.. ?."
   ]
  },
  {
   "cell_type": "code",
   "execution_count": 13,
   "id": "c4523605",
   "metadata": {},
   "outputs": [
    {
     "name": "stdout",
     "output_type": "stream",
     "text": [
      "Koeficijent asortativnosti na osnovu netežinskog stepena čvora: -0.5946028885606947\n",
      "Koeficijent asortativnosti na osnovu težinskog stepena čvora: -0.004688386111237077\n"
     ]
    }
   ],
   "source": [
    "#Izvršiti asortativnu analizu po stepenu čvora i dati odgovor da li je izraženo asortativno mešanje. \n",
    "#U slučaju da je mreža usmerena, analizu izvršiti i po ulaznom i po izlaznom stepenu čvora. Priložiti i vizuelizaciju. \n",
    "\n",
    "#Analiza asortativnosti - meri koliko se cvorovi vezuju sa sebi slicnim cvorovima\n",
    "#U ovoj analizi ćemo prvo sprovesti analizu asortativnosti na osnovu stepena čvora, jer nas interesuje da li se međusobno vezuju čvorovi koji su sličnog stepena, ili habovi (čvorovi velikog stepena) teže da se slabo međusobno vezuju, a mnogo vezuju sa čvorovima malog stepena.\n",
    "#Uvodi se koeficijent asortativnosti r, koji je u opsegu od -1 do 1. Mreža sa r = 1 iskazuje savršeno asortativno mešanje (perfect assortative mixing pattern), kad je r = 0 mreža je neasortativna ili neutralna, dok je u slučaju r = −1 mreža potpuno disasortativna.\n",
    "# asortativnost na osnovu netežinskog stepena čvora\n",
    "r1 = nx.degree_assortativity_coefficient(G)\n",
    "print(f\"Koeficijent asortativnosti na osnovu netežinskog stepena čvora: {r1}\")\n",
    "\n",
    "# asortativnost na osnovu težinskog stepena čvora\n",
    "r2 = nx.degree_assortativity_coefficient(G, weight='weight')\n",
    "print(f\"Koeficijent asortativnosti na osnovu težinskog stepena čvora: {r2}\")\n",
    "\n",
    "#U slučaju netežinskog grafa mreža je disasortativna, odnosno, čvorovi sličnog stepena se retko vezuju međusobno.\n",
    "#U slučaju težinskog grafa mreža je neasortativna(neutralna)."
   ]
  },
  {
   "cell_type": "code",
   "execution_count": 14,
   "id": "2bf70416",
   "metadata": {},
   "outputs": [
    {
     "data": {
      "image/png": "[encoded data removed]",
      "text/plain": [
       "<Figure size 700x500 with 1 Axes>"
      ]
     },
     "metadata": {
      "needs_background": "light"
     },
     "output_type": "display_data"
    }
   ],
   "source": [
    "degrees = G.degree()\n",
    "        #prolazi kroz listu svih grana i broji koliko ima cvorova odg stepena\n",
    "_, deg_list = zip(*degrees)\n",
    "\n",
    "plt.figure(1)   \n",
    "\n",
    "# prep axes   \n",
    "\n",
    "plt.xlabel('degree')                                                                                                             \n",
    "plt.xscale('log')                                                                                                                \n",
    "plt.xlim(1, max(deg_list))  \n",
    "\n",
    "y=[]\n",
    "for n in G.nodes():\n",
    "    list_n=[n]\n",
    "    \n",
    "    degree=nx.average_neighbor_degree(G,nodes=list_n)\n",
    "    #print(degree)\n",
    "    #print('ok')\n",
    "    y.append(list(degree.values())[0])\n",
    "\n",
    "plt.ylabel('degree')                                                                                                          \n",
    "plt.yscale('log')                                                                                                                \n",
    "plt.ylim(1, max(y))                                                                                                             \n",
    "                                                                                                                                                                                                    \n",
    "plt.scatter(deg_list, y, marker='.')                                                                                                    \n",
    "plt.show()"
   ]
  },
  {
   "cell_type": "code",
   "execution_count": 15,
   "id": "1a8fc451",
   "metadata": {},
   "outputs": [
    {
     "data": {
      "image/png": "[encoded data removed]",
      "text/plain": [
       "<Figure size 700x500 with 1 Axes>"
      ]
     },
     "metadata": {
      "needs_background": "light"
     },
     "output_type": "display_data"
    }
   ],
   "source": [
    "degrees = G.degree()\n",
    "        #prolazi kroz listu svih grana i broji koliko ima cvorova odg stepena\n",
    "_, deg_list = zip(*degrees)\n",
    "\n",
    "plt.figure(1)   \n",
    "\n",
    "# prep axes   \n",
    "\n",
    "plt.xlabel('degree')                                                                                                             \n",
    "plt.xscale('log')                                                                                                                \n",
    "plt.xlim(1, max(deg_list))  \n",
    "x=[]\n",
    "y=[]\n",
    "for n in G.nodes():\n",
    "    degreeN=G.degree(n)\n",
    "    for nn in G.neighbors(n):\n",
    "        degreeNN=G.degree(nn)\n",
    "        x.append(degreeN)\n",
    "        y.append(degreeNN)\n",
    "\n",
    "plt.ylabel('degree')                                                                                                          \n",
    "plt.yscale('log')                                                                                                                \n",
    "plt.ylim(1, max(y))                                                                                                             \n",
    "                                                                                                                                                                                                    \n",
    "plt.scatter(x, y, marker='.')                                                                                                    \n",
    "plt.show()"
   ]
  },
  {
   "cell_type": "code",
   "execution_count": 16,
   "id": "d36e47eb",
   "metadata": {},
   "outputs": [],
   "source": [
    "#Raspodela stepena cvora\n",
    "def plot_deg_frequency(G, weighted = False, xscale = \"log\", yscale = \"log\"): #fja\n",
    "\n",
    "    if weighted:\n",
    "        degrees = G.degree(weight=\"weight\")\n",
    "    else:\n",
    "        degrees = G.degree()\n",
    "        \n",
    "        #prolazi kroz listu svih grana i broji koliko ima cvorova odg stepena\n",
    "    _, deg_list = zip(*degrees)\n",
    "    deg_counts = Counter(deg_list)        \n",
    "    print(deg_counts)\n",
    "    x, y = zip(*deg_counts.items())                                                      \n",
    "\n",
    "    plt.figure(1)   \n",
    "\n",
    "    # prep axes   \n",
    "    if weighted:\n",
    "        plt.xlabel('weighted degree')  \n",
    "    else:\n",
    "        plt.xlabel('degree')                                                                                                             \n",
    "    plt.xscale(xscale)                                                                                                                \n",
    "    plt.xlim(1, max(x))  \n",
    "\n",
    "    plt.ylabel('frequency')                                                                                                          \n",
    "    plt.yscale(yscale)                                                                                                                \n",
    "    plt.ylim(1, max(y))                                                                                                             \n",
    "                                                                                                                                                                                                    \n",
    "    plt.scatter(x, y, marker='.')                                                                                                    \n",
    "    plt.show()"
   ]
  },
  {
   "cell_type": "code",
   "execution_count": 17,
   "id": "0e89a970",
   "metadata": {},
   "outputs": [
    {
     "name": "stdout",
     "output_type": "stream",
     "text": [
      "Counter({1: 48, 2: 27, 8: 23, 4: 23, 7: 20, 3: 17, 10: 16, 12: 15, 20: 14, 17: 14, 14: 14, 15: 13, 5: 13, 9: 13, 21: 12, 11: 12, 13: 12, 32: 11, 22: 11, 16: 10, 18: 8, 19: 8, 6: 8, 24: 7, 29: 7, 45: 7, 35: 7, 25: 6, 34: 6, 89: 5, 52: 5, 77: 5, 27: 5, 41: 5, 57: 5, 30: 5, 94: 4, 115: 4, 47: 4, 139: 4, 23: 4, 26: 4, 167: 4, 31: 4, 74: 4, 99: 4, 53: 4, 76: 3, 58: 3, 154: 3, 51: 3, 75: 3, 40: 3, 48: 3, 49: 3, 209: 3, 100: 3, 46: 3, 38: 3, 105: 3, 107: 3, 104: 3, 33: 3, 62: 3, 106: 3, 36: 3, 70: 3, 126: 3, 67: 3, 93: 3, 37: 3, 249: 3, 338: 2, 312: 2, 289: 2, 177: 2, 232: 2, 191: 2, 44: 2, 307: 2, 114: 2, 157: 2, 63: 2, 124: 2, 427: 2, 112: 2, 42: 2, 210: 2, 43: 2, 145: 2, 362: 2, 118: 2, 80: 2, 54: 2, 83: 2, 108: 2, 81: 2, 39: 2, 129: 2, 59: 2, 28: 2, 113: 2, 68: 2, 213: 2, 92: 2, 103: 2, 95: 2, 61: 2, 98: 2, 148: 2, 135: 2, 144: 2, 110: 2, 50: 2, 72: 2, 586: 1, 165: 1, 572: 1, 119: 1, 202: 1, 117: 1, 130: 1, 283: 1, 300: 1, 356: 1, 120: 1, 127: 1, 96: 1, 64: 1, 78: 1, 160: 1, 313: 1, 168: 1, 109: 1, 199: 1, 233: 1, 280: 1, 311: 1, 223: 1, 618: 1, 256: 1, 337: 1, 447: 1, 196: 1, 155: 1, 222: 1, 627: 1, 287: 1, 227: 1, 617: 1, 190: 1, 131: 1, 441: 1, 327: 1, 91: 1, 317: 1, 420: 1, 238: 1, 284: 1, 299: 1, 264: 1, 265: 1, 56: 1, 440: 1, 152: 1, 122: 1, 176: 1, 166: 1, 724: 1, 206: 1, 163: 1, 599: 1, 329: 1, 186: 1, 403: 1, 630: 1, 241: 1, 332: 1, 55: 1, 298: 1, 153: 1, 136: 1, 159: 1, 296: 1, 328: 1, 121: 1, 151: 1, 490: 1, 279: 1, 71: 1, 310: 1, 272: 1, 386: 1, 324: 1, 632: 1, 182: 1, 454: 1, 66: 1, 348: 1, 455: 1, 174: 1, 134: 1, 484: 1, 88: 1, 169: 1, 371: 1, 344: 1, 228: 1, 65: 1, 562: 1, 204: 1, 85: 1, 73: 1, 259: 1, 161: 1, 150: 1, 198: 1, 181: 1, 97: 1, 445: 1, 164: 1, 60: 1, 218: 1, 643: 1, 82: 1, 513: 1, 90: 1, 389: 1, 285: 1, 252: 1, 162: 1, 201: 1, 207: 1, 84: 1, 156: 1, 189: 1, 69: 1, 141: 1})\n"
     ]
    },
    {
     "data": {
      "image/png": "[encoded data removed]",
      "text/plain": [
       "<Figure size 700x500 with 1 Axes>"
      ]
     },
     "metadata": {
      "needs_background": "light"
     },
     "output_type": "display_data"
    }
   ],
   "source": [
    "plot_deg_frequency(G) #Isplotujmo raspodelu netežinskog stepena čvora kao scatterplot."
   ]
  },
  {
   "cell_type": "code",
   "execution_count": 18,
   "id": "7851b9d4",
   "metadata": {},
   "outputs": [
    {
     "name": "stdout",
     "output_type": "stream",
     "text": [
      "Counter({5: 25, 10: 15, 20: 11, 6: 10, 35: 10, 57: 8, 43: 7, 45: 6, 7: 6, 15: 6, 21: 6, 40: 5, 42: 5, 62: 5, 12: 5, 29: 4, 53: 4, 23: 4, 11: 4, 80: 4, 25: 4, 143: 4, 126: 3, 106: 3, 171: 3, 49: 3, 18: 3, 153: 3, 39: 3, 149: 3, 179: 3, 81: 3, 380: 3, 52: 3, 14: 3, 209: 3, 315: 3, 159: 3, 27: 3, 287: 3, 46: 3, 79: 3, 37: 3, 47: 3, 90: 3, 4639: 2, 1444: 2, 128: 2, 36: 2, 85: 2, 3385: 2, 8: 2, 416: 2, 160: 2, 274: 2, 204: 2, 311: 2, 529: 2, 64: 2, 60: 2, 69: 2, 453: 2, 104: 2, 168: 2, 407: 2, 87: 2, 111: 2, 105: 2, 351: 2, 50: 2, 127: 2, 95: 2, 26: 2, 277: 2, 120: 2, 74: 2, 133: 2, 140: 2, 1464: 2, 9: 2, 894: 2, 91: 2, 196: 2, 2194: 2, 101: 2, 16: 2, 92: 2, 55: 2, 138: 2, 1618: 2, 388: 2, 77: 2, 78: 2, 976: 2, 116: 2, 107: 2, 132: 2, 97: 2, 63: 2, 100: 2, 73: 2, 86: 2, 256877: 1, 284: 1, 2188: 1, 1762: 1, 744: 1, 17: 1, 2054: 1, 50616: 1, 228469: 1, 33495: 1, 188: 1, 154: 1, 22164: 1, 528: 1, 481: 1, 2041: 1, 9092: 1, 2608: 1, 290: 1, 4514: 1, 144: 1, 7320: 1, 109: 1, 1688: 1, 11362: 1, 495: 1, 506: 1, 8890: 1, 372: 1, 1028: 1, 1072: 1, 98: 1, 1016: 1, 29663: 1, 406: 1, 1379: 1, 32: 1, 5362: 1, 719: 1, 6271: 1, 29443: 1, 2340: 1, 113820: 1, 1815: 1, 3038: 1, 75: 1, 2933: 1, 24764: 1, 358: 1, 609: 1, 227: 1, 23922: 1, 1215: 1, 678: 1, 714: 1, 278: 1, 2342: 1, 44657: 1, 34: 1, 9082: 1, 1500: 1, 175: 1, 15068: 1, 986: 1, 666: 1, 2382: 1, 653: 1, 3102: 1, 460: 1, 2542: 1, 295: 1, 110: 1, 308: 1, 1357: 1, 19: 1, 814: 1, 552: 1, 1492: 1, 48: 1, 1420: 1, 115: 1, 9757: 1, 51: 1, 134: 1, 3817: 1, 250: 1, 5487: 1, 28552: 1, 38968: 1, 6160: 1, 57524: 1, 3502: 1, 462: 1, 286: 1, 1380: 1, 340: 1, 41: 1, 324: 1, 118: 1, 1679: 1, 89: 1, 3425: 1, 448: 1, 1082: 1, 235: 1, 722: 1, 84: 1, 2101: 1, 602: 1, 167: 1, 2525: 1, 297: 1, 7251: 1, 229: 1, 10093: 1, 648: 1, 12822: 1, 374: 1, 4823: 1, 5751: 1, 38: 1, 255: 1, 22080: 1, 193: 1, 232: 1, 281: 1, 65: 1, 1240: 1, 40829: 1, 376: 1, 488: 1, 207: 1, 173: 1, 11922: 1, 181: 1, 268477: 1, 389: 1, 469: 1, 19494: 1, 533: 1, 1554: 1, 41226: 1, 129653: 1, 9071: 1, 279: 1, 243: 1, 117: 1, 2479: 1, 49363: 1, 5699: 1, 4141: 1, 319: 1, 1131: 1, 3312: 1, 13843: 1, 3841: 1, 260: 1, 760: 1, 259: 1, 325: 1, 275402: 1, 1086: 1, 29603: 1, 4581: 1, 269: 1, 130: 1, 13614: 1, 436: 1, 290592: 1, 9621: 1, 920: 1, 2851: 1, 110347: 1, 241: 1, 669: 1, 1797: 1, 2037: 1, 910: 1, 30912: 1, 35070: 1, 541: 1, 85083: 1, 14019: 1, 20138: 1, 26580: 1, 54: 1, 5091: 1, 566: 1, 832: 1, 2639: 1, 24: 1, 202: 1, 1229: 1, 13439: 1, 67: 1, 17171: 1, 644: 1, 5584: 1, 959: 1, 56: 1, 2791: 1, 217: 1, 1491: 1, 1089: 1, 18606: 1, 1854: 1, 767: 1, 104146: 1, 4437: 1, 3549: 1, 6785: 1, 5302: 1, 28: 1, 390343: 1, 169: 1, 1273: 1, 443: 1, 9994: 1, 4901: 1, 2809: 1, 1164: 1, 809: 1, 1579: 1, 1175: 1, 271: 1, 2672: 1, 2016: 1, 61: 1, 514: 1, 557: 1, 269967: 1, 35422: 1, 546: 1, 632: 1, 6701: 1, 600: 1, 3318: 1, 2215: 1, 2246: 1, 68338: 1, 1671: 1, 286033: 1, 1107: 1, 16616: 1, 2157: 1, 363: 1, 137: 1, 1656: 1, 30: 1, 2277: 1, 258: 1, 717: 1, 44977: 1, 628: 1, 34582: 1, 205: 1, 2267: 1, 630: 1, 180: 1, 32907: 1, 96: 1, 4548: 1, 4173: 1, 1141: 1, 421: 1, 119: 1, 76: 1, 5083: 1, 515: 1, 2250: 1, 266: 1, 3942: 1, 249: 1, 1585: 1, 296: 1, 433: 1, 24883: 1, 177: 1, 31: 1, 46078: 1, 2346: 1, 9930: 1, 2972: 1, 3176: 1, 59: 1, 156: 1, 2598: 1, 3655: 1, 203: 1, 691: 1, 426: 1, 128934: 1, 1451: 1, 355: 1, 23068: 1, 2596: 1, 317: 1, 2930: 1, 14193: 1, 3632: 1, 256: 1, 23272: 1, 2511: 1, 184: 1, 819: 1, 44: 1, 1085: 1, 627: 1, 33261: 1, 148: 1, 24973: 1, 62401: 1, 3848: 1, 37749: 1, 11029: 1, 187: 1, 617: 1, 6170: 1, 303317: 1, 747: 1, 5615: 1, 121588: 1, 692: 1, 47724: 1, 1798: 1, 114781: 1, 321: 1, 1230: 1, 40358: 1, 4234: 1, 2189: 1, 2627: 1, 164808: 1, 338: 1, 1301: 1, 5242: 1, 145: 1, 68: 1, 55963: 1, 52475: 1, 14124: 1, 1136: 1, 163: 1, 239: 1, 3370: 1, 174: 1, 348: 1, 224389: 1, 8915: 1, 2177: 1, 1572: 1, 5340: 1, 72: 1, 257: 1, 1150: 1, 418: 1, 4990: 1, 6055: 1, 15241: 1, 135: 1, 4678: 1, 1734: 1, 4613: 1, 497: 1, 1139: 1, 867: 1, 676: 1, 9519: 1, 1842: 1, 8918: 1, 5800: 1, 158: 1, 105584: 1, 5343: 1, 598: 1, 276: 1, 9189: 1, 319870: 1, 1473: 1, 3834: 1, 174832: 1, 70: 1, 3551: 1, 1877: 1, 10329: 1, 1119: 1, 871: 1, 22: 1, 139: 1, 1225: 1, 88: 1, 916: 1, 101747: 1, 102: 1, 2062: 1, 763: 1, 1689: 1, 521: 1, 478: 1, 781: 1, 762: 1, 81895: 1, 22581: 1, 71: 1, 17083: 1, 5435: 1, 10387: 1, 8624: 1, 430: 1, 505: 1, 370: 1, 1397: 1, 1297: 1, 1050: 1, 146: 1, 219: 1, 4114: 1, 8965: 1, 189: 1, 335: 1, 14216: 1, 1593: 1, 810: 1, 4806: 1})\n"
     ]
    },
    {
     "data": {
      "image/png": "[encoded data removed]",
      "text/plain": [
       "<Figure size 700x500 with 1 Axes>"
      ]
     },
     "metadata": {
      "needs_background": "light"
     },
     "output_type": "display_data"
    }
   ],
   "source": [
    "plot_deg_frequency(G, weighted = True) #Pošto je mreža težinska, treba ispitati i raspodelu težinskog stepena čvora."
   ]
  },
  {
   "cell_type": "code",
   "execution_count": 20,
   "id": "44a7dc1d",
   "metadata": {},
   "outputs": [],
   "source": [
    "#Analiza i fitovanje power law mrežnog modela\n",
    "\n",
    "#na log-log grafiku kumulativne raspodele stepena čvora bi opet trebalo da dobijemo pravu, samo sa manjim nagibom i manjim šumom u repu!\n",
    "degree_sequence = sorted([d for n, d in G.degree()], reverse=True) #prodjemo kroz cvorove i njihove stepenove\n",
    "#degreeCount = Counter(degree_sequence)\n",
    "#deg, cnt = zip(*degreeCount.items())\n",
    "\n",
    "#max_deg = max(deg) # hoćemo po jedan bin za svaki stepen čvora #max stepen cvorova\n",
    "\n",
    "# izračunavanje histograma\n",
    "#values, base = np.histogram(deg, bins = max_deg) #za svaki stepen po jedan bin da iscrta\n",
    "\n",
    "# kumulativna suma (inkluzivna prefiksna suma)\n",
    "#cumulative = np.cumsum(values)\n",
    "\n",
    "# plotovanje komplementarne kumulativne raspodele stepena čvora P(X>x)\n",
    "#plt.plot(base[:-1], [float(x)/len(dfComAndSub) for x in len(dfComAndSub) - cumulative], c='blue')\n",
    "\n",
    "#plt.show()"
   ]
  },
  {
   "cell_type": "code",
   "execution_count": 21,
   "id": "f97bd251",
   "metadata": {},
   "outputs": [
    {
     "name": "stdout",
     "output_type": "stream",
     "text": [
      "Requirement already satisfied: powerlaw in c:\\users\\marina\\anaconda3\\lib\\site-packages (1.5)\n",
      "Requirement already satisfied: scipy in c:\\users\\marina\\anaconda3\\lib\\site-packages (from powerlaw) (1.7.1)\n",
      "Requirement already satisfied: numpy in c:\\users\\marina\\anaconda3\\lib\\site-packages (from powerlaw) (1.20.3)\n",
      "Requirement already satisfied: matplotlib in c:\\users\\marina\\anaconda3\\lib\\site-packages (from powerlaw) (3.4.3)\n",
      "Requirement already satisfied: mpmath in c:\\users\\marina\\anaconda3\\lib\\site-packages (from powerlaw) (1.2.1)\n",
      "Requirement already satisfied: kiwisolver>=1.0.1 in c:\\users\\marina\\anaconda3\\lib\\site-packages (from matplotlib->powerlaw) (1.3.1)\n",
      "Requirement already satisfied: pillow>=6.2.0 in c:\\users\\marina\\anaconda3\\lib\\site-packages (from matplotlib->powerlaw) (8.4.0)\n",
      "Requirement already satisfied: pyparsing>=2.2.1 in c:\\users\\marina\\anaconda3\\lib\\site-packages (from matplotlib->powerlaw) (3.0.4)\n",
      "Requirement already satisfied: python-dateutil>=2.7 in c:\\users\\marina\\anaconda3\\lib\\site-packages (from matplotlib->powerlaw) (2.8.2)\n",
      "Requirement already satisfied: cycler>=0.10 in c:\\users\\marina\\anaconda3\\lib\\site-packages (from matplotlib->powerlaw) (0.10.0)\n",
      "Requirement already satisfied: six in c:\\users\\marina\\anaconda3\\lib\\site-packages (from cycler>=0.10->matplotlib->powerlaw) (1.16.0)\n"
     ]
    },
    {
     "name": "stderr",
     "output_type": "stream",
     "text": [
      "WARNING: You are using pip version 22.0.4; however, version 22.2.2 is available.\n",
      "You should consider upgrading via the 'C:\\Users\\Marina\\anaconda3\\python.exe -m pip install --upgrade pip' command.\n"
     ]
    }
   ],
   "source": [
    "!pip install powerlaw\n",
    "import powerlaw"
   ]
  },
  {
   "cell_type": "code",
   "execution_count": 22,
   "id": "fd6a6dde",
   "metadata": {},
   "outputs": [
    {
     "name": "stdout",
     "output_type": "stream",
     "text": [
      "Calculating best minimal value for power law fit\n",
      "3.8693479650545686\n",
      "272.0\n",
      "0.36738236088739123\n",
      "Loglikelihood ratio: -2.496370107128058\n",
      "Statistical significance: 0.07011455078542028\n"
     ]
    },
    {
     "name": "stderr",
     "output_type": "stream",
     "text": [
      "Assuming nested distributions\n"
     ]
    },
    {
     "name": "stdout",
     "output_type": "stream",
     "text": [
      "Loglikelihood ratio: -2.2937565021332986\n",
      "Statistical significance: 0.03220571262936678\n",
      "Loglikelihood ratio: 2.2937565021332986\n",
      "Statistical significance: 0.03220571262936678\n",
      "Loglikelihood ratio: 0.11945372408456123\n",
      "Statistical significance: 0.8014912660959591\n",
      "Loglikelihood ratio: -0.30049758097268064\n",
      "Statistical significance: 0.6517487420139914\n",
      "Loglikelihood ratio: 0.11945372408456123\n",
      "Statistical significance: 0.8014912660959591\n",
      "Calculating best minimal value for power law fit\n",
      "1.0000745930207715\n",
      "272.0\n"
     ]
    },
    {
     "name": "stderr",
     "output_type": "stream",
     "text": [
      "Assuming nested distributions\n"
     ]
    }
   ],
   "source": [
    "results = powerlaw.Fit(degree_sequence)\n",
    "print(results.power_law.alpha)#ono alfa u formuli\n",
    "print(results.power_law.xmin) #od koje vr pocinje powerlaw za ove podatke, ostatak je odsekao\n",
    "print(results.power_law.sigma) #koliko odstupaju podaci, treba sto manje, da bude sto bolje fitovano\n",
    "\n",
    "R, p = results.distribution_compare('power_law', 'exponential') #da li neka druga distribucija fituje bolje, treba da uporedimo nekoliko i ako powerlaw fituje najbolje, mozemo smatrati da je to powerlaw raspodela\n",
    "print(f\"Loglikelihood ratio: {R}\") #ako je pozitivno verovatnije je da su podaci po prvoj (powerlaw) raspodeli, ako je neg. po drugoj, sto je vece, veca je verovatnoca\n",
    "print(f\"Statistical significance: {p}\") #pretpostavimo da nije powerlaw nego random, p predstavlja koja je verovatnoca da random izvlacenjem podataka dobijemo da izleda isto tako slika, ako je velika verovatnoca, to je velika sansa da zaista nema powerlaw efekta \n",
    "# ako je mala sansa da random podacima dobijemo ovako, to znaci da vrv ima powerlaw\n",
    "#u slucaju kada ovako ima dva parametra malo p znaci da je mala verovtanoca da je promasio da je prvi arg. bolji od drugog, sto je manja verovatnoca to smo sigurniji da je prvi model bolji od drugog\n",
    "\n",
    "R, p = results.distribution_compare('power_law', 'truncated_power_law') #truncated je da li treba odseci deo i fitovati ostatak\n",
    "print(f\"Loglikelihood ratio: {R}\")\n",
    "print(f\"Statistical significance: {p}\") #99,5 % - preklapaju se u velioj kolicini\n",
    "\n",
    "R, p = results.distribution_compare('truncated_power_law', 'power_law') #truncated je da li treba odseci deo i fitovati ostatak\n",
    "print(f\"Loglikelihood ratio: {R}\")\n",
    "print(f\"Statistical significance: {p}\") #99,5 % - preklapaju se u velioj kolicini\n",
    "\n",
    "R, p = results.distribution_compare('truncated_power_law', 'lognormal_positive') #truncated je da li treba odseci deo i fitovati ostatak\n",
    "print(f\"Loglikelihood ratio: {R}\")\n",
    "print(f\"Statistical significance: {p}\") #99,5 % - preklapaju se u velioj kolicini\n",
    "\n",
    "R, p = results.distribution_compare('truncated_power_law', 'stretched_exponential') #truncated je da li treba odseci deo i fitovati ostatak\n",
    "print(f\"Loglikelihood ratio: {R}\")\n",
    "print(f\"Statistical significance: {p}\") #99,5 % - preklapaju se u velioj kolicini\n",
    "\n",
    "R, p = results.distribution_compare('truncated_power_law', 'lognormal') #truncated je da li treba odseci deo i fitovati ostatak\n",
    "print(f\"Loglikelihood ratio: {R}\")\n",
    "print(f\"Statistical significance: {p}\") #99,5 % - preklapaju se u velioj kolicini\n",
    "\n",
    "results = powerlaw.Fit(degree_sequence)\n",
    "print(results.truncated_power_law.alpha)#ono alfa u formuli\n",
    "print(results.truncated_power_law.xmin) #od koje vr pocinje powerlaw za ove podatke, ostatak je odsekao\n",
    "#print(results.truncated_power_law.sigma)  #ne postoji za truncated"
   ]
  },
  {
   "cell_type": "markdown",
   "id": "20c27ae7",
   "metadata": {},
   "source": [
    "Poređenjem sa drugim distribucijama (power law, exponential, lognormal,...) dobijamo da mreža prati najbolje truncated power law raspodelu.\n",
    "\n",
    "Odrediti najvažnije habove i autoritete u mreži. Kako su oni raspoređeni i ugrađeni u mrežu, da li su na periferiji ili u jezgru mreže?\n",
    "\n",
    "S obzirom da je graf neusmeren, habovi i autoriteti predstavljaju istu stvar i gleda se samo stepen čvora. Najbitniji su sledeći: ..."
   ]
  },
  {
   "cell_type": "code",
   "execution_count": 23,
   "id": "133e17d7",
   "metadata": {},
   "outputs": [
    {
     "name": "stdout",
     "output_type": "stream",
     "text": [
      "[('reddit.com', 724), ('politics', 643), ('pics', 632), ('science', 630), ('technology', 627), ('worldnews', 618), ('funny', 617), ('WTF', 599), ('entertainment', 586), ('programming', 572)]\n"
     ]
    }
   ],
   "source": [
    "degrees = [(node,val) for (node, val) in G.degree()]\n",
    "largest_degrees=sorted(degrees, key=lambda x: x[1], reverse=True)[0:10]\n",
    "print(largest_degrees)"
   ]
  },
  {
   "cell_type": "code",
   "execution_count": 37,
   "id": "4c7652db",
   "metadata": {},
   "outputs": [
    {
     "name": "stdout",
     "output_type": "stream",
     "text": [
      "{'reddit.com': 2}\n",
      "{'politics': 3}\n",
      "{'pics': 3}\n",
      "{'science': 3}\n",
      "{'technology': 3}\n",
      "{'worldnews': 3}\n",
      "{'funny': 3}\n",
      "{'WTF': 3}\n",
      "{'entertainment': 3}\n",
      "{'programming': 3}\n"
     ]
    }
   ],
   "source": [
    "for i in range(0,10):\n",
    "    ex=nx.eccentricity(Gdom,v=largest_degrees[i])\n",
    "    print(ex)"
   ]
  },
  {
   "cell_type": "markdown",
   "id": "089583a3",
   "metadata": {},
   "source": [
    "Ekscentričnost najvažnijih habova iznosi 3, dok dijametar mreže iznosi 4, što ukazuje da se oni nalaze negde između periferije i jezgra mreže."
   ]
  },
  {
   "cell_type": "code",
   "execution_count": 39,
   "id": "efb45545",
   "metadata": {},
   "outputs": [
    {
     "name": "stdout",
     "output_type": "stream",
     "text": [
      "                        DC        CC            BC       EVC\n",
      "entertainment     0.767016  0.807611  3.620930e-02  0.247075\n",
      "deutschland       0.032723  0.500000  1.051564e-03  0.000259\n",
      "AmericanPolitics  0.215969  0.550432  1.099088e-04  0.002491\n",
      "ArtCrit           0.123037  0.523646  6.666328e-07  0.001508\n",
      "SewerHorse        0.099476  0.517265  0.000000e+00  0.001430\n",
      "...                    ...       ...           ...       ...\n",
      "Fitness           0.128272  0.525086  4.070790e-07  0.001015\n",
      "es                0.026178  0.499020  3.914327e-03  0.000394\n",
      "BSD               0.090314  0.514825  8.650620e-08  0.000597\n",
      "gay               0.006545  0.490058  0.000000e+00  0.000032\n",
      "WebGames          0.184555  0.541076  2.443992e-05  0.003394\n",
      "\n",
      "[765 rows x 4 columns]\n"
     ]
    }
   ],
   "source": [
    "#metrike su pravljene za mreže koje su jedna povezana komponenta).\n",
    "def calculate_centralities(G):\n",
    "\n",
    "    DC_dict = nx.degree_centrality(G) #centr. po stepenu\n",
    "    CC_dict = nx.closeness_centrality(G) #centr. po blizini\n",
    "    BC_dict = nx.betweenness_centrality(G) #relaciona centr.\n",
    "    EVC_dict = nx.eigenvector_centrality(G, weight='weight') #po svojstvenom vektoru\n",
    "\n",
    "    df1 = pd.DataFrame.from_dict(DC_dict, orient='index', columns=['DC'])\n",
    "    df2 = pd.DataFrame.from_dict(CC_dict, orient='index', columns=['CC'])\n",
    "    df3 = pd.DataFrame.from_dict(BC_dict, orient='index', columns=['BC'])\n",
    "    df4 = pd.DataFrame.from_dict(EVC_dict, orient='index', columns=['EVC'])\n",
    "    df = pd.concat([df1, df2, df3, df4], axis=1)\n",
    "    return df\n",
    "\n",
    "dataCentralitiesSNet=[]\n",
    "dataCentralitiesSNet = calculate_centralities(Gdom)\n",
    "print(dataCentralitiesSNet)"
   ]
  },
  {
   "cell_type": "code",
   "execution_count": 40,
   "id": "653a2b33",
   "metadata": {},
   "outputs": [
    {
     "name": "stdout",
     "output_type": "stream",
     "text": [
      "                     DC\n",
      "reddit.com     0.947644\n",
      "politics       0.841623\n",
      "pics           0.827225\n",
      "science        0.824607\n",
      "technology     0.820681\n",
      "worldnews      0.808901\n",
      "funny          0.807592\n",
      "WTF            0.784031\n",
      "entertainment  0.767016\n",
      "programming    0.748691\n"
     ]
    }
   ],
   "source": [
    "#Centralnost po stepenu - stepen čvora normalizovan maksimalnim mogućim stepenom čvora tj n-1. \n",
    "#U slučaju usmerenog grafa, ulazni i izlazni stepen čvora odgovaraju ulaznoj i izlaznoj centralnosti po stepenu. \n",
    "df_dc = pd.DataFrame({'DC':dataCentralitiesSNet['DC']})\n",
    "df_dc.sort_values(by='DC', ascending=False, inplace = True)\n",
    "print(df_dc.head(10)) #najvecih 10 uzimamo da analiziramo"
   ]
  },
  {
   "cell_type": "code",
   "execution_count": 41,
   "id": "849627a5",
   "metadata": {},
   "outputs": [
    {
     "name": "stdout",
     "output_type": "stream",
     "text": [
      "                     CC\n",
      "reddit.com     0.950249\n",
      "politics       0.849833\n",
      "pics           0.847947\n",
      "technology     0.844199\n",
      "science        0.838639\n",
      "worldnews      0.835886\n",
      "funny          0.834061\n",
      "WTF            0.808466\n",
      "entertainment  0.807611\n",
      "programming    0.795833\n"
     ]
    }
   ],
   "source": [
    "#Centralnost po bliskosti - koliko je čvor *udaljen* od drugih u mreži. Čvorovi koji su centralniji su bolji izvori širenja informacija.  \n",
    "#recipročna vrednost sume najkraćih rastojanja od posmatranog čvora do ostalih sa kojima je povezan, normalizovana sa N-1\n",
    "df_cc = pd.DataFrame({'CC':dataCentralitiesSNet['CC']})\n",
    "df_cc.sort_values(by='CC', ascending=False, inplace = True)\n",
    "print(df_cc.head(10)) #dovoljno je da budu povezani sa jednim cvorom koji je blizak sa dosta njih i imace dobru centr., br hopova +1"
   ]
  },
  {
   "cell_type": "code",
   "execution_count": 42,
   "id": "fec5b498",
   "metadata": {},
   "outputs": [
    {
     "name": "stdout",
     "output_type": "stream",
     "text": [
      "                     BC\n",
      "reddit.com     0.191220\n",
      "politics       0.060963\n",
      "pics           0.054266\n",
      "technology     0.051593\n",
      "science        0.051344\n",
      "programming    0.049073\n",
      "worldnews      0.048672\n",
      "funny          0.047436\n",
      "WTF            0.041516\n",
      "entertainment  0.036209\n"
     ]
    }
   ],
   "source": [
    "#Relaciona centralnost (betweenness centrality) govori na koliko se najkraćih putanja između drugih čvorova neki čvor nalazi\n",
    "# u odnosu na ukupan broj takvih najkraćih puteva\n",
    "#U slučaju socijalne mreže, akter sa visokom relacionom centralnošću kontrološe tok informacija i predstavlja kandidata za brokerski čvor\n",
    "df_bc = pd.DataFrame({'BC':dataCentralitiesSNet['BC']})\n",
    "df_bc.sort_values(by='BC', ascending=False, inplace = True)\n",
    "print(df_bc.head(10)) #povezani su sa subredditima iz raznih drugih oblasti, i onda ako drugi nisu povezani sa ostalima svi najkraci putevi idu preko njih"
   ]
  },
  {
   "cell_type": "code",
   "execution_count": 43,
   "id": "5ebb8e8a",
   "metadata": {},
   "outputs": [
    {
     "name": "stdout",
     "output_type": "stream",
     "text": [
      "                    EVC\n",
      "reddit.com     0.374688\n",
      "politics       0.312674\n",
      "pics           0.291857\n",
      "funny          0.279571\n",
      "science        0.273053\n",
      "technology     0.263952\n",
      "worldnews      0.258878\n",
      "WTF            0.257432\n",
      "entertainment  0.247075\n",
      "programming    0.220671\n"
     ]
    }
   ],
   "source": [
    "#Centralnost po sopstvenom vektoru - koliko je uticajan čvor u mreži. \n",
    "#Ideja je da su čvorovi povezani sa manje uticajnim susedima više uticajni (//bitniji su od njih, ovo je alternativna verzija(bonacich//) \n",
    "#i da je uticajnost čvora proporcionalna zbiru uticajnosti njegovih suseda (//vise uticajan, mocan ako su oni vise uticajni, kontradiktorno malo u odnosu na onaj prvi deo..//)\n",
    "df_evc = pd.DataFrame({'EVC':dataCentralitiesSNet['EVC']})\n",
    "df_evc.sort_values(by='EVC', ascending=False, inplace = True)\n",
    "print(df_evc.head(10)) #puno se pojavljuju i medjusobno su povezani"
   ]
  },
  {
   "cell_type": "code",
   "execution_count": 44,
   "id": "9948715b",
   "metadata": {},
   "outputs": [
    {
     "name": "stdout",
     "output_type": "stream",
     "text": [
      "(5.451958597279776e-06+0j)\n"
     ]
    }
   ],
   "source": [
    "#Katz centralnost\n",
    "\n",
    "#Katz centralnost uzima u obzir putanje svih mogućih dužina koje spajaju dva čvora i uvodi podesivi parametar slabljenja  𝛼\n",
    "#nedirektni susedi i ta povezanost treba da doprinosi centralnosti ali sa nekim koef. slabljenja\n",
    "#Ako je G usmeren, vraća ulazne Katz centralnosti, za izlazne Katz centralnosti treba prvo uraditi G.reverse().\n",
    "#Da bi vrednost centralnosti konvergirala, mora važiti 0 < alpha < 1/lambda_max, gde je lambda_max najveća sopstvena vrednost matrice susednosti. \n",
    "#ove centralnosti pogotovo poslednje dve ne rade kada ima ovako vise od jedne povezane komponente!!\n",
    "\n",
    "lambda_max =  max(nx.adjacency_spectrum(Gdom))\n",
    "print(1/lambda_max)"
   ]
  },
  {
   "cell_type": "code",
   "execution_count": 46,
   "id": "59c89aad",
   "metadata": {},
   "outputs": [
    {
     "name": "stdout",
     "output_type": "stream",
     "text": [
      "                   Katz\n",
      "reddit.com     0.332980\n",
      "politics       0.279740\n",
      "pics           0.262311\n",
      "funny          0.251832\n",
      "science        0.246408\n",
      "technology     0.238564\n",
      "worldnews      0.234124\n",
      "WTF            0.233103\n",
      "entertainment  0.224110\n",
      "programming    0.201497\n"
     ]
    }
   ],
   "source": [
    "#Katz, svi subredditi imaju parametar beta=1\n",
    "\n",
    "#dataCentralitiesSNet.drop('Katz_Beta', inplace=True, axis=1)\n",
    "\n",
    "betadict={}\n",
    "for subreddit in Gdom.nodes():\n",
    "    betadict[subreddit] = 1\n",
    "    \n",
    "KatzC_dictBeta = nx.katz_centrality(Gdom, alpha=0.000005, beta=betadict, max_iter=1000, tol=1e-06, nstart=None, normalized=True, weight='weight')\n",
    "df_katzc = pd.DataFrame.from_dict(KatzC_dictBeta, orient='index', columns=['Katz'])\n",
    "dataCentralitiesSNet['Katz']=df_katzc\n",
    "\n",
    "df_katzc = pd.DataFrame({'Katz':dataCentralitiesSNet['Katz']})\n",
    "df_katzc.sort_values(by='Katz', ascending=False, inplace = True)\n",
    "print(df_katzc.head(10))"
   ]
  },
  {
   "cell_type": "code",
   "execution_count": 47,
   "id": "8bddd8bc",
   "metadata": {},
   "outputs": [
    {
     "name": "stdout",
     "output_type": "stream",
     "text": [
      "               Katz_Beta\n",
      "reddit.com      0.411489\n",
      "politics        0.289049\n",
      "pics            0.269432\n",
      "funny           0.258308\n",
      "science         0.252484\n",
      "technology      0.244706\n",
      "worldnews       0.239692\n",
      "WTF             0.238313\n",
      "entertainment   0.229661\n",
      "programming     0.205704\n"
     ]
    }
   ],
   "source": [
    "#Katz sa razlicitim beta za reddit.com, sa weight\n",
    "\n",
    "#dataCentralitiesSNet.drop('Katz_Beta', inplace=True, axis=1)\n",
    "\n",
    "betadict={}\n",
    "for subreddit in Gdom.nodes():\n",
    "    betadict[subreddit] = 0.1\n",
    "    \n",
    "betadict['reddit.com'] = 1\n",
    "KatzC_dictBeta = nx.katz_centrality(Gdom, alpha=0.000005, beta=betadict, max_iter=1000, tol=1e-06, nstart=None, normalized=True, weight='weight')\n",
    "df_katzc = pd.DataFrame.from_dict(KatzC_dictBeta, orient='index', columns=['Katz_Beta'])\n",
    "dataCentralitiesSNet['Katz_Beta']=df_katzc\n",
    "\n",
    "df_katzc = pd.DataFrame({'Katz_Beta':dataCentralitiesSNet['Katz_Beta']})\n",
    "df_katzc.sort_values(by='Katz_Beta', ascending=False, inplace = True)\n",
    "print(df_katzc.head(10))"
   ]
  },
  {
   "cell_type": "code",
   "execution_count": 48,
   "id": "499f0e56",
   "metadata": {},
   "outputs": [
    {
     "name": "stdout",
     "output_type": "stream",
     "text": [
      "               Katz_Beta\n",
      "reddit.com      0.342299\n",
      "politics        0.039068\n",
      "pics            0.038483\n",
      "funny           0.038254\n",
      "science         0.038146\n",
      "technology      0.038089\n",
      "worldnews       0.037895\n",
      "WTF             0.037849\n",
      "entertainment   0.037829\n",
      "business        0.037400\n"
     ]
    }
   ],
   "source": [
    "#Katz sa razlicitim beta za reddit.com, sa weight, alfa=0.00000025\n",
    "\n",
    "#dataCentralitiesSNet.drop('Katz_Beta', inplace=True, axis=1)\n",
    "\n",
    "betadict={}\n",
    "for subreddit in Gdom.nodes():\n",
    "    betadict[subreddit] = 0.1\n",
    "    \n",
    "betadict['reddit.com'] = 1 \n",
    "KatzC_dictBeta = nx.katz_centrality(Gdom, alpha=0.00000025, beta=betadict, max_iter=1000, tol=1e-06, nstart=None, normalized=True, weight='weight')\n",
    "df_katzc = pd.DataFrame.from_dict(KatzC_dictBeta, orient='index', columns=['Katz_Beta'])\n",
    "dataCentralitiesSNet['Katz_Beta']=df_katzc\n",
    "\n",
    "df_katzc = pd.DataFrame({'Katz_Beta':dataCentralitiesSNet['Katz_Beta']})\n",
    "df_katzc.sort_values(by='Katz_Beta', ascending=False, inplace = True)\n",
    "print(df_katzc.head(10))"
   ]
  },
  {
   "cell_type": "code",
   "execution_count": 49,
   "id": "d5b8de5b",
   "metadata": {},
   "outputs": [
    {
     "name": "stdout",
     "output_type": "stream",
     "text": [
      "                     DC        CC        BC       EVC      Katz  Katz_Beta  \\\n",
      "reddit.com     0.947644  0.950249  0.191220  0.374688  0.332980   0.342299   \n",
      "politics       0.841623  0.849833  0.060963  0.312674  0.279740   0.039068   \n",
      "pics           0.827225  0.847947  0.054266  0.291857  0.262311   0.038483   \n",
      "science        0.824607  0.838639  0.051344  0.273053  0.246408   0.038146   \n",
      "technology     0.820681  0.844199  0.051593  0.263952  0.238564   0.038089   \n",
      "funny          0.807592  0.834061  0.047436  0.279571  0.251832   0.038254   \n",
      "worldnews      0.808901  0.835886  0.048672  0.258878  0.234124   0.037895   \n",
      "WTF            0.784031  0.808466  0.041516  0.257432  0.233103   0.037849   \n",
      "programming    0.748691  0.795833  0.049073  0.220671  0.201497   0.037327   \n",
      "entertainment  0.767016  0.807611  0.036209  0.247075  0.224110   0.037829   \n",
      "\n",
      "               DC_rank  CC_rank  BC_rank  EVC_rank  Katz_rank  composite_rank  \n",
      "reddit.com         1.0      1.0      1.0       1.0        1.0             1.0  \n",
      "politics           2.0      2.0      2.0       2.0        2.0            32.0  \n",
      "pics               3.0      3.0      3.0       3.0        3.0           243.0  \n",
      "science            4.0      5.0      5.0       5.0        5.0          2500.0  \n",
      "technology         5.0      4.0      4.0       6.0        6.0          2880.0  \n",
      "funny              7.0      7.0      8.0       4.0        4.0          6272.0  \n",
      "worldnews          6.0      6.0      7.0       7.0        7.0         12348.0  \n",
      "WTF                8.0      8.0      9.0       8.0        8.0         36864.0  \n",
      "programming       10.0     10.0      6.0      10.0       10.0         60000.0  \n",
      "entertainment      9.0      9.0     10.0       9.0        9.0         65610.0  \n"
     ]
    }
   ],
   "source": [
    "#Kompozitni rang\n",
    "#𝑐𝑜𝑚𝑝𝑜𝑠𝑖𝑡𝑒_𝑟𝑎𝑛𝑘=𝐷𝐶_𝑟𝑎𝑛𝑘∗𝐶𝐶_𝑟𝑎𝑛𝑘∗𝐵𝐶_𝑟𝑎𝑛𝑘∗𝐸𝑉𝐶_𝑟𝑎𝑛𝑘*Katz_rank\n",
    "df_ = dataCentralitiesSNet\n",
    "labele = ['DC', 'CC', 'BC', 'EVC','Katz']\n",
    "for metric in labele:\n",
    "    df_[f\"{metric}_rank\"] = dataCentralitiesSNet[f\"{metric}\"].rank(ascending=False) \n",
    "    \n",
    "df_['composite_rank'] = df_['DC_rank'] * df_['CC_rank'] * df_['BC_rank'] * df_['EVC_rank'] * df_['Katz_rank']\n",
    "\n",
    "df_=df_.sort_values(['composite_rank'], ascending = True)\n",
    "print(df_.head(10))"
   ]
  },
  {
   "cell_type": "code",
   "execution_count": 50,
   "id": "c1d8971e",
   "metadata": {},
   "outputs": [],
   "source": [
    "#SPEKTRALNA ANALIZA\n",
    "#//pronalazi dobru podelu grafova, za pronalazenje komuna\n",
    "#//izvodi zakljucke o grafovima na osnovu specigicnih matricnih reprezentacija,\n",
    "#//spektar matrice je skup sopstvenih vrednosti matrice\n",
    "#//neke beleske za ovo imas u folderu spektralna analiza prezentacija\n",
    "#//velika slozenost, dobro za manje mreze\n",
    "#//dobro za odjredjivanja broja komuna i podelu na komune, pogotovo kad su komune nejednake velicine, tolerise\n",
    "#//predstavlja optimizaciju Ratio cut, radi posle s k-means\n",
    "#//koristi matricu slicnosti, odnosno u slucaju grafova tezine odnosno matricu susednosti\n",
    "#//ovde ima dosta matematike koja nam ne treba, mozda pitati pedju da posalje skracenu verziju\n",
    "#//bitni su ovi grafici (1, 2, 4, i 5.)\n"
   ]
  },
  {
   "cell_type": "code",
   "execution_count": 51,
   "id": "797ce71f",
   "metadata": {},
   "outputs": [],
   "source": [
    "from scipy import linalg\n",
    "#from docx import Document #//baca gresku ovo\n",
    "import math #?\n",
    "import sympy\n",
    "from sklearn.cluster import SpectralClustering"
   ]
  },
  {
   "cell_type": "code",
   "execution_count": 52,
   "id": "2f699504",
   "metadata": {},
   "outputs": [],
   "source": [
    "def plot_scatterplot(x_data, y_data, x_label, y_label, title):\n",
    "    fig, ax = plt.subplots()\n",
    "    ax.scatter(x_data, y_data) \n",
    "    ax.set_ylabel(y_label, fontsize=15)\n",
    "    ax.set_xlabel(x_label, fontsize=15)\n",
    "    ax.set_title(title)\n",
    "    plt.savefig(f\"{title}.svg\")\n",
    "    plt.show() \n",
    "\n",
    "def plot_scatterplot2(x_data, y_data, x_label, y_label, title, file_name):\n",
    "    fig, ax = plt.subplots()\n",
    "    ax.scatter(x_data, y_data) \n",
    "    ax.set_ylabel(y_label, fontsize=15)\n",
    "    ax.set_xlabel(x_label, fontsize=15)\n",
    "    ax.set_title(title)\n",
    "    plt.savefig(f\"{file_name}.svg\")\n",
    "    plt.show() "
   ]
  },
  {
   "cell_type": "code",
   "execution_count": 53,
   "id": "3ba9ee4a",
   "metadata": {},
   "outputs": [],
   "source": [
    "G2 = Gdom"
   ]
  },
  {
   "cell_type": "code",
   "execution_count": 54,
   "id": "dc310246",
   "metadata": {},
   "outputs": [],
   "source": [
    "def in_range(value, target, tolerated_error):\n",
    "    return abs(value-target) < tolerated_error\n",
    "\n",
    "def filter_matrix(m, tolerated_error):\n",
    "    new_matrix = []\n",
    "    for row in m:\n",
    "        new_row = []\n",
    "        for value in row:\n",
    "            if in_range(0 , value, tolerated_error):\n",
    "                new_row.append(0.0)\n",
    "            else:\n",
    "                new_row.append(value)\n",
    "        new_matrix.append(new_row)\n",
    "    return new_matrix"
   ]
  },
  {
   "cell_type": "code",
   "execution_count": 55,
   "id": "4e78dad2",
   "metadata": {},
   "outputs": [
    {
     "name": "stderr",
     "output_type": "stream",
     "text": [
      "C:\\Users\\Marina\\anaconda3\\lib\\site-packages\\pandas\\core\\dtypes\\cast.py:1201: ComplexWarning: Casting complex values to real discards the imaginary part\n",
      "  return arr.astype(dtype, copy=True)\n",
      "C:\\Users\\Marina\\anaconda3\\lib\\site-packages\\numpy\\core\\_asarray.py:171: ComplexWarning: Casting complex values to real discards the imaginary part\n",
      "  return array(a, dtype, copy=False, order=order, subok=True)\n"
     ]
    },
    {
     "name": "stdout",
     "output_type": "stream",
     "text": [
      "     k      lambda_k\n",
      "0    1 -2.341949e-11\n",
      "1    2  2.664869e+00\n",
      "2    3  2.795270e+00\n",
      "3    4  4.002369e+00\n",
      "4    5  4.387621e+00\n",
      "5    6  4.950692e+00\n",
      "6    7  4.999548e+00\n",
      "7    8  4.999701e+00\n",
      "8    9  4.999768e+00\n",
      "9   10  4.999864e+00\n",
      "10  11  4.999915e+00\n",
      "11  12  4.999923e+00\n",
      "12  13  5.000000e+00\n",
      "13  14  5.000000e+00\n",
      "14  15  5.000000e+00\n",
      "15  16  5.000000e+00\n",
      "16  17  5.000000e+00\n",
      "17  18  5.000000e+00\n",
      "18  19  5.000000e+00\n",
      "19  20  5.000000e+00\n",
      "20  21  5.000000e+00\n",
      "21  22  5.000000e+00\n",
      "22  23  5.000000e+00\n",
      "23  24  5.000000e+00\n",
      "24  25  5.000000e+00\n",
      "25  26  5.000000e+00\n",
      "26  27  5.000000e+00\n",
      "27  28  5.133138e+00\n",
      "28  29  5.426583e+00\n",
      "29  30  5.880940e+00\n"
     ]
    },
    {
     "data": {
      "image/png": "[encoded data removed]",
      "text/plain": [
       "<Figure size 700x500 with 1 Axes>"
      ]
     },
     "metadata": {
      "needs_background": "light"
     },
     "output_type": "display_data"
    },
    {
     "data": {
      "image/png": "[encoded data removed]",
      "text/plain": [
       "<Figure size 700x500 with 1 Axes>"
      ]
     },
     "metadata": {
      "needs_background": "light"
     },
     "output_type": "display_data"
    }
   ],
   "source": [
    "#//uzima se samo dominantna komponenta, ne ceo graf, ako ona pokriva preko posto cvorova, gleda se samo ona \n",
    "#ili ako ostale imaju mali broj cvorova, krnje\n",
    "#//ako postoji vise gigantskih, racuna se za svaku posebno\n",
    "#//to vazi i za centralnosti\n",
    "#//gledaju su ovde gde su najveci skokovi, to je kod tacke 12, tako da bi podela na 12 bila verovatno najbolja\n",
    "\n",
    "dominant_component = G2 #vec je dominantna\n",
    "\n",
    "L_dom = nx.laplacian_matrix(dominant_component).toarray()\n",
    "\n",
    "eigenvalues = linalg.eigvals(L_dom) # TODO: change to .eigenvalsh because we know the matrix is symmetric\n",
    "eigenvalues.sort()\n",
    "enumerator = np.array(range(1, len(eigenvalues)+1))\n",
    "df_eig = pd.DataFrame(list(zip(enumerator, eigenvalues)))\n",
    "\n",
    "# write eigenvalue table\n",
    "df_eig30 = df_eig[:30]\n",
    "df_eig30.columns = ['k', 'lambda_k']\n",
    "df_eig30 = df_eig30.astype({'k': 'int32', 'lambda_k':'float'})\n",
    "print(df_eig30)\n",
    "\n",
    "#doc = Document() #//ne radi mi zbog importa nista ovo\n",
    "#doc = docx.Document('tabela_eig.docx') #//bilo i njemu zakomentarisano\n",
    "#t = doc.add_table(df_eig30.shape[0]+1, df_eig30.shape[1])\n",
    "#t.cell(0,0).text = r'$k$'\n",
    "#t.cell(0,1).text = r'$\\lambda_k$'\n",
    "#for i in range(df_eig30.shape[0]):\n",
    "#    for j in range(df_eig30.shape[-1]):\n",
    "#        t.cell(i+1,j).text = str(df_eig30.values[i,j])\n",
    "#doc.save('etf/tabela_eig_dominantna_komponenta.docx')\n",
    "\n",
    "\n",
    "plot_scatterplot(enumerator, eigenvalues, r'$k$', r'$\\lambda_k$', 'Ceo spektar graf laplasijana dominantne komponente')\n",
    "\n",
    "df_eig_30 = df_eig[:30]\n",
    "plot_scatterplot(df_eig_30.iloc[:,0], df_eig_30.iloc[:,1], r'$k$', r'$\\lambda_k$', 'Prvih 30 sopstvenih vrednosti graf laplasijana dom. komponente')\n"
   ]
  },
  {
   "cell_type": "code",
   "execution_count": 56,
   "id": "1000b710",
   "metadata": {},
   "outputs": [
    {
     "name": "stderr",
     "output_type": "stream",
     "text": [
      "C:\\Users\\Marina\\anaconda3\\lib\\site-packages\\pandas\\core\\dtypes\\cast.py:1201: ComplexWarning: Casting complex values to real discards the imaginary part\n",
      "  return arr.astype(dtype, copy=True)\n"
     ]
    },
    {
     "data": {
      "image/png": "[encoded data removed]",
      "text/plain": [
       "<Figure size 700x500 with 1 Axes>"
      ]
     },
     "metadata": {
      "needs_background": "light"
     },
     "output_type": "display_data"
    },
    {
     "data": {
      "image/png": "[encoded data removed]",
      "text/plain": [
       "<Figure size 700x500 with 1 Axes>"
      ]
     },
     "metadata": {
      "needs_background": "light"
     },
     "output_type": "display_data"
    }
   ],
   "source": [
    "# eigengap\n",
    "\n",
    "df_gap = df_eig.iloc[:,1].diff()\n",
    "df_gap = df_gap.astype(np.float64)\n",
    "\n",
    "df_gap = df_gap[1:]\n",
    "enumerator_column = np.array(range(1, len(df_gap)+1))\n",
    "\n",
    "df_gap = pd.DataFrame(list(zip(enumerator_column, df_gap)))\n",
    "  \n",
    "plot_scatterplot(df_gap.iloc[:,0], df_gap.iloc[:,1], r'$k$', r'$\\lambda_{k+1}-\\lambda_k$','Eigengap dominantne komponente')\n",
    "\n",
    "plot_scatterplot2(df_gap.iloc[:30,0], df_gap.iloc[:30,1], r'$k$', r'$\\lambda_{k+1}-\\lambda_k$','Eigengap prvih 30 sopstvenih vrednosti \\n graf laplasijana dominantne komponente', 'Eigengap prvih 30 sopstvenih vrednosti graf laplasijana dominantne komponente')"
   ]
  },
  {
   "cell_type": "code",
   "execution_count": 57,
   "id": "de4a202f",
   "metadata": {},
   "outputs": [
    {
     "name": "stdout",
     "output_type": "stream",
     "text": [
      "Podela na 2: velicine komponenata su [762.   3.]\n",
      "Podela na 3: velicine komponenata su [750.   3.  12.]\n",
      "Podela na 4: velicine komponenata su [748.   2.   3.  12.]\n",
      "Podela na 5: velicine komponenata su [741.   2.   7.   3.  12.]\n",
      "Podela na 6: velicine komponenata su [738.   2.   3.   7.   3.  12.]\n",
      "Podela na 7: velicine komponenata su [734.   3.   2.   7.   4.   3.  12.]\n",
      "Podela na 8: velicine komponenata su [732.   2.   7.   3.   2.   3.   4.  12.]\n",
      "Podela na 9: velicine komponenata su [728.   2.   2.   3.   7.   4.   3.  12.   4.]\n",
      "Podela na 10: velicine komponenata su [726.   2.   3.   2.   7.   4.   3.   4.   4.  10.]\n",
      "Podela na 11: velicine komponenata su [725.   2.   2.   3.   4.   7.   4.   3.   4.   9.   2.]\n",
      "Podela na 12: velicine komponenata su [725.   9.   2.   3.   2.   3.   7.   4.   2.   4.   4.   0.]\n",
      "Podela na 13: velicine komponenata su [721.   2.   2.   2.   3.   3.   7.   4.   3.   4.   4.   9.   1.]\n",
      "Podela na 14: velicine komponenata su [719.   9.   3.   2.   3.   2.   3.   3.   7.   4.   2.   4.   4.   0.]\n",
      "Podela na 15: velicine komponenata su [716.   9.   2.   3.   3.   2.   7.   3.   3.   4.   3.   2.   4.   4.\n",
      "   0.]\n",
      "Podela na 16: velicine komponenata su [713.   3.   4.   2.   3.   2.   3.   7.   4.   3.   3.   2.   3.   4.\n",
      "   9.   0.]\n",
      "Podela na 17: velicine komponenata su [714.   7.   3.   1.   3.   2.   3.   7.   3.   3.   4.   2.   3.   4.\n",
      "   3.   2.   1.]\n",
      "Podela na 18: velicine komponenata su [714.   7.   3.   2.   2.   3.   2.   3.   3.   3.   4.   2.   3.   4.\n",
      "   3.   5.   2.   0.]\n",
      "Podela na 19: velicine komponenata su [  2.   3.   3.   2.   2.   4.   1.   3.   3.   3.   5.   2.   3.   3.\n",
      "   7.   2.   2. 714.   1.]\n",
      "Podela na 20: velicine komponenata su [ 88.   7. 626.   3.   2.   2.   3.   3.   3.   2.   2.   4.   3.   3.\n",
      "   3.   2.   2.   5.   2.   0.]\n",
      "Podela na 21: velicine komponenata su [  3.   0.   3.   5.   2.   2.   3.   4.   3.   2.   2.   3.   3.   2.\n",
      " 626.   7.   2.  86.   2.   2.   3.]\n",
      "Podela na 22: velicine komponenata su [363.  78.   2.   3.   3.   2.   2.   4.   2.   3.   3.   3.   3.   3.\n",
      "   2.   2.   7.   5.   3.   2. 270.   0.]\n",
      "Podela na 23: velicine komponenata su [251. 359.   2.   0.   3.   2.   3.   3.   3.   2.   3.   5.   3.   3.\n",
      "   4.   2.   2.   7.   2.  76.  26.   2.   2.]\n",
      "Podela na 24: velicine komponenata su [359.  76.   3.   3.   2.   2.   2.   3.   2.   3.   2.   7.   3.   2.\n",
      " 251.   2.   3.   5.   3.   2.  26.   1.   0.   3.]\n",
      "Podela na 25: velicine komponenata su [251.   3.   2.   2.   3.   2.   4.   3.   3.   3.   5.   3.   2.   3.\n",
      "   2.   1.   2.   7.   2. 330.  34.   0.  59.   2.  37.]\n",
      "Podela na 26: velicine komponenata su [324.   2.   2.   2.   2.   3.   3.   2.   3.   3.  45.   2.   3.   3.\n",
      "   3.   7.   3.   3.   2. 253.  70.   2.   0.   1.  20.   2.]\n",
      "Podela na 27: velicine komponenata su [229.   2.   2.   3.   3.   2.   2.   3.   3.   4.   3.   3.   3.   2.\n",
      "   3.   2.  28.   7.   2.   1.  54. 320.  47.  33.   0.   2.   2.]\n",
      "Podela na 28: velicine komponenata su [ 48. 228.   3.   2.   2.  36.   2.   3.   3.   3.   3.   2. 315.   3.\n",
      "   4.   7.   2.   3.   3.   5.  51.   1.  28.   2.   0.   2.   1.   3.]\n",
      "Podela na 29: velicine komponenata su [224. 203.   1.  30.   2.   2.   3.   3.   3.   3.   4.   2.   3.   7.\n",
      "   2.   3.  62.   3.   3.   2.   1.  17. 133.  38.   4.   1.   2.   3.\n",
      "   1.]\n"
     ]
    }
   ],
   "source": [
    "#//deo koji radi klasterisanje!!\n",
    "\n",
    "for k in range(2, 30):\n",
    "    \n",
    "    #//prima broj klastera (n_cluster), a fit matricu slicnosti, odn. ako su tezine u pitanju matricu susednosti iz networkx\n",
    "    clustering = SpectralClustering(n_clusters=k,\n",
    "    assign_labels=\"discretize\", affinity=\"precomputed\").fit(nx.adjacency_matrix(dominant_component))\n",
    "\n",
    "    colors = clustering.labels_\n",
    "    c_string = []\n",
    "    for c in colors:\n",
    "        c_string.append(str(c))\n",
    "\n",
    "    G = nx.Graph()\n",
    "    for c, label in zip(c_string, dominant_component.nodes()):\n",
    "        G.add_node(label, color=c)\n",
    "\n",
    "    for edge in dominant_component.edges(data=True):\n",
    "        #print(edge)\n",
    "        G.add_edge(edge[0], edge[1], weight=edge[2]['weight'])\n",
    "\n",
    "    nx.write_gml(G, \"spectral.gml\")\n",
    "    \n",
    "    csizes = np.zeros(k)\n",
    "    for c in colors:\n",
    "        csizes[int(c)] += 1\n",
    "    \n",
    "    print(f\"Podela na {k}: velicine komponenata su {csizes}\")\n",
    "    "
   ]
  },
  {
   "cell_type": "markdown",
   "id": "89c55960",
   "metadata": {},
   "source": [
    "Na osnovu spektralne analize procenjujemo da je dobar izbor za broj komuna 1, 3, 5, 28"
   ]
  },
  {
   "cell_type": "markdown",
   "id": "b4281c0a",
   "metadata": {},
   "source": [
    "Sprovesti klasterisanje Luvenskom metodom (maksimizacijom modularnosti) u alatu \n",
    "Gephi za tri različite vrednosti parametra rezolucije. Konstruisati vizuelizacije i \n",
    "diskutovati izbor parametra rezolucije na dobijeno klasterisanje (broj i veličina klastera).\n",
    "Resolution: 0.1\n",
    "Modularity: -0.021\n",
    "Modularity with resolution: -0.030\n",
    "Number of Communities: 66\n",
    "Ima 66 klastera, od toga se veličinom ističe nekoliko klastera sa 20-85 čvorova u njima\n",
    "    \n",
    "    \n",
    "Resolution: 1.0\n",
    "Modularity: 0.094\n",
    "Modularity with resolution: 0.094\n",
    "Number of Communities: 5\n",
    "Ima 5 klastera, od toga se veličinom ističu dva klastera sa oko 300 i 450 čvorova u njima \n",
    "    \n",
    "Resolution: 2.0\n",
    "Modularity: 0.000\n",
    "Modularity with resolution: 1.000\n",
    "Number of Communities: 4\n",
    "Ima  4 klastera, od toga se veličinom ističe jedan klaster sa oko 750 čvorova u njemu\n"
   ]
  },
  {
   "cell_type": "markdown",
   "id": "222594ab",
   "metadata": {},
   "source": [
    "Čvorovi sa najvećim stepenom za dva najveća klastera za rezoluciju 1.0 putem Luvenske metode prikazana su na sledećim slikama:.."
   ]
  },
  {
   "cell_type": "markdown",
   "id": "3034989b",
   "metadata": {},
   "source": [
    "Ko su akteri koji se mogu okarakterisati kao ključni brokeri (mostovi) u mreži? Šta ih čini brokerima?\n",
    "\n",
    "Čvorovi sa najvećom relacionom centralnošću: reddit.com     0.191220\n",
    "politics       0.060963\n",
    "pics           0.054266\n",
    "technology     0.051593\n",
    "science        0.051344\n",
    "programming    0.049073\n",
    "worldnews      0.048672\n",
    "funny          0.047436\n",
    "WTF            0.041516\n",
    "entertainment  0.036209\n",
    "\n",
    "I čvorovi koji su se pojavljuju u najvećem broju mostova iz funkcije networkx:\n",
    "\n",
    "('reddit.com', 25),\n",
    " ('Chinese', 6),\n",
    " ('programming', 3),\n",
    " ('arabic', 3),\n",
    " ('Gamer', 2),\n",
    " ('ja', 2),\n",
    " ('Josie', 1),\n",
    " ('shoebush', 1),\n",
    " ('onlycode', 1),\n",
    " ('dotfiles', 1),\n",
    " ('management', 1),\n",
    " ('it', 1),\n",
    " ('businessnews', 1),\n",
    " ('Webometrics', 1),\n",
    " ('Infos', 1),\n",
    " ('fr', 1),\n",
    " ('SinoBeta', 1),\n",
    " ('sportscars', 1),\n",
    " ('ChileRemix', 1),\n",
    " ('KiNov', 1)"
   ]
  },
  {
   "cell_type": "code",
   "execution_count": 60,
   "id": "1fe891fa",
   "metadata": {},
   "outputs": [
    {
     "data": {
      "text/plain": [
       "[('reddit.com', 25),\n",
       " ('Chinese', 6),\n",
       " ('programming', 3),\n",
       " ('arabic', 3),\n",
       " ('Gamer', 2),\n",
       " ('ja', 2),\n",
       " ('Josie', 1),\n",
       " ('shoebush', 1),\n",
       " ('onlycode', 1),\n",
       " ('dotfiles', 1),\n",
       " ('management', 1),\n",
       " ('it', 1),\n",
       " ('businessnews', 1),\n",
       " ('Webometrics', 1),\n",
       " ('Infos', 1),\n",
       " ('fr', 1),\n",
       " ('SinoBeta', 1),\n",
       " ('sportscars', 1),\n",
       " ('ChileRemix', 1),\n",
       " ('KiNov', 1)]"
      ]
     },
     "execution_count": 60,
     "metadata": {},
     "output_type": "execute_result"
    }
   ],
   "source": [
    "mostovi = list(nx.bridges(Gdom))\n",
    "cvorovi_mosta = []\n",
    "\n",
    "for grana in mostovi:\n",
    "    cvorovi_mosta.append(grana[0])\n",
    "    cvorovi_mosta.append(grana[1])\n",
    "    \n",
    "from collections import Counter\n",
    "Counter(cvorovi_mosta).most_common()[0:20]"
   ]
  },
  {
   "cell_type": "code",
   "execution_count": 64,
   "id": "45a88fd8",
   "metadata": {},
   "outputs": [
    {
     "name": "stdout",
     "output_type": "stream",
     "text": [
      "88573\n",
      "185355\n"
     ]
    }
   ],
   "source": [
    "size=dfComments['author'].nunique()\n",
    "print(size)\n",
    "size2=dfSubmissions['author'].nunique()\n",
    "print(size2)\n"
   ]
  }
 ],
 "metadata": {
  "kernelspec": {
   "display_name": "Python 3 (ipykernel)",
   "language": "python",
   "name": "python3"
  },
  "language_info": {
   "codemirror_mode": {
    "name": "ipython",
    "version": 3
   },
   "file_extension": ".py",
   "mimetype": "text/x-python",
   "name": "python",
   "nbconvert_exporter": "python",
   "pygments_lexer": "ipython3",
   "version": "3.9.7"
  }
 },
 "nbformat": 4,
 "nbformat_minor": 5
}
