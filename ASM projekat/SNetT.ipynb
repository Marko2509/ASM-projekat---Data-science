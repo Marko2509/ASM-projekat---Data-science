{
 "cells": [
  {
   "cell_type": "code",
   "execution_count": 3,
   "id": "ea338713",
   "metadata": {},
   "outputs": [],
   "source": [
    "import networkx as nx\n",
    "import pandas as pd\n",
    "import numpy as np\n",
    "import matplotlib.pyplot as plt\n",
    "import pickle\n",
    "from collections import Counter\n",
    "from operator import itemgetter"
   ]
  },
  {
   "cell_type": "code",
   "execution_count": 4,
   "id": "0e7bc2ba",
   "metadata": {},
   "outputs": [],
   "source": [
    "\n",
    "\n",
    "with open(\"ASM_PZ2_podaci_2122/reddit2008/comments_2008_asm_v1.1/comments_2008/data_cleaned\", 'rb') as file:\n",
    "    dfComments = pickle.load(file)\n",
    "    \n",
    "with open(\"ASM_PZ2_podaci_2122/reddit2008/submissions_2008_asm/data_cleaned\", 'rb') as file:\n",
    "    dfSubmissions = pickle.load(file)\n",
    "    \n",
    "dfComAndSub=pd.concat([dfSubmissions, dfComments], axis=0)"
   ]
  },
  {
   "cell_type": "code",
   "execution_count": 5,
   "id": "6cbb06ae",
   "metadata": {},
   "outputs": [],
   "source": [
    "#SNetT\n",
    "\n",
    "maskaSub=(dfSubmissions['subreddit']=='reddit.com') | (dfSubmissions['subreddit']=='pics') | (dfSubmissions['subreddit']=='worldnews') | (dfSubmissions['subreddit']=='programming') |(dfSubmissions['subreddit']=='business') |(dfSubmissions['subreddit']=='politics') |(dfSubmissions['subreddit']=='obama') |(dfSubmissions['subreddit']=='science') |(dfSubmissions['subreddit']=='technology') |(dfSubmissions['subreddit']=='WTF') |(dfSubmissions['subreddit']=='AskReddit') |(dfSubmissions['subreddit']=='netsec') |(dfSubmissions['subreddit']=='philosophy') |(dfSubmissions['subreddit']=='videos') |(dfSubmissions['subreddit']=='offbeat') |(dfSubmissions['subreddit']=='funny') |(dfSubmissions['subreddit']=='entertainment') |(dfSubmissions['subreddit']=='linux') |(dfSubmissions['subreddit']=='geek') |(dfSubmissions['subreddit']=='gaming') |(dfSubmissions['subreddit']=='comics') |(dfSubmissions['subreddit']=='gadgets') |(dfSubmissions['subreddit']=='nsfw') |(dfSubmissions['subreddit']=='news') |(dfSubmissions['subreddit']=='environment') |(dfSubmissions['subreddit']=='atheism') |(dfSubmissions['subreddit']=='canada') |(dfSubmissions['subreddit']=='math') |(dfSubmissions['subreddit']=='Economics') |(dfSubmissions['subreddit']=='scifi') |(dfSubmissions['subreddit']=='bestof') |(dfSubmissions['subreddit']=='cogsci') |(dfSubmissions['subreddit']=='joel') |(dfSubmissions['subreddit']=='Health') |(dfSubmissions['subreddit']=='guns') |(dfSubmissions['subreddit']=='photography') |(dfSubmissions['subreddit']=='software') |(dfSubmissions['subreddit']=='history') |(dfSubmissions['subreddit']=='ideas') \n",
    "dfSubmissions=dfSubmissions[maskaSub]\n",
    "\n",
    "maskaCom=(dfComments['subreddit']=='reddit.com') | (dfComments['subreddit']=='pics') | (dfComments['subreddit']=='worldnews') | (dfComments['subreddit']=='programming') |(dfComments['subreddit']=='business') |(dfComments['subreddit']=='politics') |(dfComments['subreddit']=='obama') |(dfComments['subreddit']=='science') |(dfComments['subreddit']=='technology') |(dfComments['subreddit']=='WTF') |(dfComments['subreddit']=='AskReddit') |(dfComments['subreddit']=='netsec') |(dfComments['subreddit']=='philosophy') |(dfComments['subreddit']=='videos') |(dfComments['subreddit']=='offbeat') |(dfComments['subreddit']=='funny') |(dfComments['subreddit']=='entertainment') |(dfComments['subreddit']=='linux') |(dfComments['subreddit']=='geek') |(dfComments['subreddit']=='gaming') |(dfComments['subreddit']=='comics') |(dfComments['subreddit']=='gadgets') |(dfComments['subreddit']=='nsfw') |(dfComments['subreddit']=='news') |(dfComments['subreddit']=='environment') |(dfComments['subreddit']=='atheism') |(dfComments['subreddit']=='canada') |(dfComments['subreddit']=='math') |(dfComments['subreddit']=='Economics') |(dfComments['subreddit']=='scifi') |(dfComments['subreddit']=='bestof') |(dfComments['subreddit']=='cogsci') |(dfComments['subreddit']=='joel') |(dfComments['subreddit']=='Health') |(dfComments['subreddit']=='guns') |(dfComments['subreddit']=='photography') |(dfComments['subreddit']=='software') |(dfComments['subreddit']=='history') |(dfComments['subreddit']=='ideas') \n",
    "dfComments=dfComments[maskaCom]\n",
    "\n"
   ]
  },
  {
   "cell_type": "code",
   "execution_count": 6,
   "id": "6b5ffbc3",
   "metadata": {},
   "outputs": [],
   "source": [
    "dfComAndSub=pd.concat([dfSubmissions, dfComments], axis=0)\n"
   ]
  },
  {
   "cell_type": "code",
   "execution_count": 7,
   "id": "6fdc8281",
   "metadata": {},
   "outputs": [
    {
     "name": "stdout",
     "output_type": "stream",
     "text": [
      "Postoji 39 različitih subreddit-a\n"
     ]
    }
   ],
   "source": [
    "#Broj subreddit-a - provereno za mali skup od prvih 30 redova\n",
    "\n",
    "set_of_subreddits = set(dfComAndSub['subreddit'].unique())\n",
    "print(f\"Postoji { len(set_of_subreddits) } različitih subreddit-a\") # formatiranje ispisa pomoću fstringa\n"
   ]
  },
  {
   "cell_type": "code",
   "execution_count": 8,
   "id": "9595f273",
   "metadata": {},
   "outputs": [],
   "source": [
    "G = nx.Graph() # pravi praznu mrežu\n",
    "G.add_nodes_from(set_of_subreddits)"
   ]
  },
  {
   "cell_type": "code",
   "execution_count": 9,
   "id": "c652c0ee",
   "metadata": {},
   "outputs": [],
   "source": [
    "dict = {}\n",
    "\n",
    "for index, row in dfComAndSub.iterrows():\n",
    "    author=row['author']\n",
    "    subreddit=row['subreddit']\n",
    "    if author in dict:\n",
    "          #dict[author].append(subreddit) #ovo ce cuvati i subbredite koji se ponavljaju, ako nam treba da brojimo za vecu tezinu ako je vise puta objavljivao na istom subredditu\n",
    "        if subreddit not in dict[author]:\n",
    "            dict[author].append(subreddit)\n",
    "    else:\n",
    "          dict[author] = [subreddit]\n",
    "            \n",
    "      "
   ]
  },
  {
   "cell_type": "code",
   "execution_count": 10,
   "id": "b03b6ffb",
   "metadata": {},
   "outputs": [],
   "source": [
    "import itertools\n",
    "\n",
    "for key, value in dict.items(): \n",
    "    lista=value\n",
    "    combinations=list(itertools.combinations(lista, 2)) #pravi sve kombinacije bez ponavljanja sa dva elementa \n",
    "    for subreddit1,subreddit2 in combinations:\n",
    "        if (subreddit1, subreddit2) in G.edges:#ako vec postoji ta grana, inkrementiramo tezinu\n",
    "             G.edges[subreddit1, subreddit2]['weight'] += 1 #posto je ovaj graf neusmeren, nebitno ko je prvi cvor, da je usmeren moralo bi se paziti\n",
    "        else: #ako ne postoji postavimo novu granu sa tezinom 1\n",
    "             G.add_edge(subreddit1, subreddit2, weight=1)\n"
   ]
  },
  {
   "cell_type": "code",
   "execution_count": 11,
   "id": "066b94cf",
   "metadata": {},
   "outputs": [],
   "source": [
    "output_path = \"SNetT.gml\" #SNET\n",
    "\n",
    "nx.write_gml(G, output_path)"
   ]
  },
  {
   "cell_type": "code",
   "execution_count": 12,
   "id": "f092b2f2",
   "metadata": {},
   "outputs": [
    {
     "name": "stdout",
     "output_type": "stream",
     "text": [
      "Graph with 39 nodes and 741 edges\n"
     ]
    }
   ],
   "source": [
    "print(nx.info(G))"
   ]
  },
  {
   "cell_type": "code",
   "execution_count": 13,
   "id": "b8054bc4",
   "metadata": {},
   "outputs": [
    {
     "name": "stdout",
     "output_type": "stream",
     "text": [
      "1.0\n"
     ]
    }
   ],
   "source": [
    "#7) Kolika je gustina mreže?\n",
    "\n",
    "print(nx.density(G))"
   ]
  },
  {
   "cell_type": "markdown",
   "id": "1851d3ed",
   "metadata": {},
   "source": [
    "Kolike su prosečne distance u okviru mreže i dijametar mreže?\n",
    "Diameter: 1\n",
    "Average Path length: 1.0"
   ]
  },
  {
   "cell_type": "markdown",
   "id": "1f8c4ac2",
   "metadata": {},
   "source": [
    "U kojoj meri je mreža povezana i centralizovana? Navesti broj i veličine povezanih komponenata i proceniti da li postoji gigantska komponenta."
   ]
  },
  {
   "cell_type": "code",
   "execution_count": 15,
   "id": "1ef638fb",
   "metadata": {},
   "outputs": [
    {
     "name": "stdout",
     "output_type": "stream",
     "text": [
      "[39]\n",
      "Broj povezanih komponenti: 1\n",
      "Postoji jedna komponenta veličine 39, što je ujedno dominantna komponenta.\n"
     ]
    }
   ],
   "source": [
    "component_size_list = [len(c) for c in sorted(nx.connected_components(G), key=len, reverse=True)] #connected_components(G) izvuce generatore za povezane komponente, sortira se po duzini generatora\n",
    "print(component_size_list) #imamo jednu dominantnu komp, ostale su male\n",
    "print('Broj povezanih komponenti: '+str(len(component_size_list)))\n",
    "print('Postoji jedna komponenta veličine 39, što je ujedno dominantna komponenta.')"
   ]
  },
  {
   "cell_type": "markdown",
   "id": "d8ffc075",
   "metadata": {},
   "source": [
    "Koliki je prosečni, a koliki globalni koeficijent klasterizacije mreže? \n",
    "Kakva je raspodela lokalnog koeficijenta klasterizacije njenih čvorova? \n",
    "Da li je klasterisanje izraženo ili ne? \n",
    "Odgovor dati upoređivanjem sa slučajno generisanom Erdos-Renyi mrežom istih dimenzija."
   ]
  },
  {
   "cell_type": "code",
   "execution_count": 17,
   "id": "20e506a2",
   "metadata": {},
   "outputs": [
    {
     "data": {
      "text/plain": [
       "1.0"
      ]
     },
     "execution_count": 17,
     "metadata": {},
     "output_type": "execute_result"
    }
   ],
   "source": [
    "#Prosecni koeficijent klasterizaije za nasu mrezu iz nx (bez weight smo)\n",
    "nx.average_clustering(G)"
   ]
  },
  {
   "cell_type": "code",
   "execution_count": 18,
   "id": "694e7876",
   "metadata": {},
   "outputs": [
    {
     "name": "stdout",
     "output_type": "stream",
     "text": [
      "1.0\n"
     ]
    }
   ],
   "source": [
    "#Globalni koeficijent klasterizacije (3*numOfTriangles/numOfTriads, svi trouglovi/sve triade)\n",
    "glob_koef=nx.transitivity(G)\n",
    "print(glob_koef)"
   ]
  },
  {
   "cell_type": "code",
   "execution_count": 19,
   "id": "97e109ab",
   "metadata": {},
   "outputs": [
    {
     "data": {
      "image/png": "[encoded data removed]",
      "text/plain": [
       "<Figure size 700x500 with 1 Axes>"
      ]
     },
     "metadata": {
      "needs_background": "light"
     },
     "output_type": "display_data"
    }
   ],
   "source": [
    "dict=nx.clustering(G).values() #average_clustering je avg ovih vrednosti\n",
    "%matplotlib inline\n",
    "plt.rcParams.update({'figure.figsize':(7,5), 'figure.dpi':100})# Plot Histogram on x\n",
    "x = dict\n",
    "plt.hist(x, bins=100)\n",
    "plt.gca().set(title='Frequency Histogram', ylabel='Frequency',xlabel='Local clustering coefficient');"
   ]
  },
  {
   "cell_type": "code",
   "execution_count": 20,
   "id": "5eb54a50",
   "metadata": {},
   "outputs": [
    {
     "data": {
      "text/plain": [
       "1.0"
      ]
     },
     "execution_count": 20,
     "metadata": {},
     "output_type": "execute_result"
    }
   ],
   "source": [
    "#Prosecni koeficijent klasterizaije za ER iz nx\n",
    "m=G.number_of_edges()\n",
    "n=G.number_of_nodes()\n",
    "p = ( 2*float(m) ) / ( n* (n-1) ) \n",
    "er_mreza = nx.erdos_renyi_graph(n,p)\n",
    "nx.average_clustering(er_mreza)\n"
   ]
  },
  {
   "cell_type": "code",
   "execution_count": 21,
   "id": "222eb772",
   "metadata": {},
   "outputs": [
    {
     "data": {
      "image/png": "[encoded data removed]",
      "text/plain": [
       "<Figure size 700x500 with 1 Axes>"
      ]
     },
     "metadata": {
      "needs_background": "light"
     },
     "output_type": "display_data"
    }
   ],
   "source": [
    "#Lokalni koeficijent klasterizaije za ER\n",
    "dict_er=nx.clustering(er_mreza).values() #average_clustering je avg ovih vrednosti\n",
    "%matplotlib inline\n",
    "plt.rcParams.update({'figure.figsize':(7,5), 'figure.dpi':100})# Plot Histogram on x\n",
    "x = dict_er\n",
    "plt.hist(x, bins=100)\n",
    "plt.gca().set(title='Frequency Histogram for Erdos-Renyi network', xlabel='Local clustering coefficient',ylabel='Frequency');"
   ]
  },
  {
   "cell_type": "markdown",
   "id": "3c0ff707",
   "metadata": {},
   "source": [
    "Klasterizacija je maksimalno izražena kod SNetT mreže jer svi čvorovi imaju koeficijent klasterizacije jednak jedinici, s obzirom da je mreža potpuno povezana i svi pripadaju jednom klasteru. S obzirom na maskimalan broj grana, kod Ernos-Renyi mreže je klasiterizacija takođe maksimalno izražena.\n",
    "\n",
    "Na osnovu odgovora na pitanja 8 i 10, proceniti da li mreža iskazuje osobine malog sveta. \n",
    "S obzirom na veoma male vrednosti prosečne distance (1) i dijametra(1), može se zaključiti da se do bilo kog čvora može doći u u samo jednom koraku (svi su povezani sa svima).\n"
   ]
  },
  {
   "cell_type": "code",
   "execution_count": 22,
   "id": "174a520f",
   "metadata": {},
   "outputs": [
    {
     "name": "stdout",
     "output_type": "stream",
     "text": [
      "Koeficijent asortativnosti na osnovu netežinskog stepena čvora: nan\n",
      "Koeficijent asortativnosti na osnovu težinskog stepena čvora: 0.00010150520109314004\n"
     ]
    },
    {
     "name": "stderr",
     "output_type": "stream",
     "text": [
      "C:\\Users\\Marina\\anaconda3\\lib\\site-packages\\networkx\\algorithms\\assortativity\\correlation.py:282: RuntimeWarning: invalid value encountered in double_scalars\n",
      "  return (xy * (M - ab)).sum() / np.sqrt(vara * varb)\n"
     ]
    }
   ],
   "source": [
    "#Izvršiti asortativnu analizu po stepenu čvora i dati odgovor da li je izraženo asortativno mešanje. \n",
    "#U slučaju da je mreža usmerena, analizu izvršiti i po ulaznom i po izlaznom stepenu čvora. Priložiti i vizuelizaciju. \n",
    "\n",
    "r1 = nx.degree_assortativity_coefficient(G)\n",
    "print(f\"Koeficijent asortativnosti na osnovu netežinskog stepena čvora: {r1}\")\n",
    "\n",
    "r2 = nx.degree_assortativity_coefficient(G, weight='weight')\n",
    "print(f\"Koeficijent asortativnosti na osnovu težinskog stepena čvora: {r2}\")\n",
    "\n",
    "#Za netežinski graf nije moguće odrediti asortativnost jer je mreža potpuno povezana.\n",
    "#U slučaju težinskog grafa mreža je neasortativna(neutralna)."
   ]
  },
  {
   "cell_type": "code",
   "execution_count": 23,
   "id": "5cc3f6d4",
   "metadata": {},
   "outputs": [
    {
     "data": {
      "image/png": "[encoded data removed]",
      "text/plain": [
       "<Figure size 700x500 with 1 Axes>"
      ]
     },
     "metadata": {
      "needs_background": "light"
     },
     "output_type": "display_data"
    }
   ],
   "source": [
    "degrees = G.degree()\n",
    "        #prolazi kroz listu svih grana i broji koliko ima cvorova odg stepena\n",
    "_, deg_list = zip(*degrees)\n",
    "\n",
    "plt.figure(1)   \n",
    "\n",
    "# prep axes   \n",
    "\n",
    "plt.xlabel('degree')                                                                                                             \n",
    "plt.xscale('log')                                                                                                                \n",
    "plt.xlim(1, max(deg_list))  \n",
    "\n",
    "y=[]\n",
    "for n in G.nodes():\n",
    "    list_n=[n]\n",
    "    \n",
    "    degree=nx.average_neighbor_degree(G,nodes=list_n)\n",
    "    #print(degree)\n",
    "    #print('ok')\n",
    "    y.append(list(degree.values())[0])\n",
    "\n",
    "plt.ylabel('degree')                                                                                                          \n",
    "plt.yscale('log')                                                                                                                \n",
    "plt.ylim(1, max(y))                                                                                                             \n",
    "                                                                                                                                                                                                    \n",
    "plt.scatter(deg_list, y, marker='.')                                                                                                    \n",
    "plt.show()"
   ]
  },
  {
   "cell_type": "code",
   "execution_count": 24,
   "id": "b15cda7a",
   "metadata": {},
   "outputs": [
    {
     "data": {
      "image/png": "[encoded data removed]",
      "text/plain": [
       "<Figure size 700x500 with 1 Axes>"
      ]
     },
     "metadata": {
      "needs_background": "light"
     },
     "output_type": "display_data"
    }
   ],
   "source": [
    "degrees = G.degree()\n",
    "        #prolazi kroz listu svih grana i broji koliko ima cvorova odg stepena\n",
    "_, deg_list = zip(*degrees)\n",
    "\n",
    "plt.figure(1)   \n",
    "\n",
    "# prep axes   \n",
    "\n",
    "plt.xlabel('degree')                                                                                                             \n",
    "plt.xscale('log')                                                                                                                \n",
    "plt.xlim(1, max(deg_list))  \n",
    "x=[]\n",
    "y=[]\n",
    "for n in G.nodes():\n",
    "    degreeN=G.degree(n)\n",
    "    for nn in G.neighbors(n):\n",
    "        degreeNN=G.degree(nn)\n",
    "        x.append(degreeN)\n",
    "        y.append(degreeNN)\n",
    "\n",
    "plt.ylabel('degree')                                                                                                          \n",
    "plt.yscale('log')                                                                                                                \n",
    "plt.ylim(1, max(y))                                                                                                             \n",
    "                                                                                                                                                                                                    \n",
    "plt.scatter(x, y, marker='.')                                                                                                    \n",
    "plt.show()"
   ]
  },
  {
   "cell_type": "markdown",
   "id": "e902d500",
   "metadata": {},
   "source": [
    "Da li mreža ispoljava fenomen kluba bogatih (eng. rich club phenomenon)?\n",
    "\n",
    "S obzirom da je mreža potpuno povezana, ne ispoljava fenomen kluba bogatih."
   ]
  },
  {
   "cell_type": "code",
   "execution_count": 26,
   "id": "a5e4be5c",
   "metadata": {},
   "outputs": [],
   "source": [
    "#Raspodela stepena cvora\n",
    "def plot_deg_frequency(G, weighted = False, xscale = \"log\", yscale = \"log\"): #fja\n",
    "\n",
    "    if weighted:\n",
    "        degrees = G.degree(weight=\"weight\")\n",
    "    else:\n",
    "        degrees = G.degree()\n",
    "        \n",
    "        #prolazi kroz listu svih grana i broji koliko ima cvorova odg stepena\n",
    "    _, deg_list = zip(*degrees)\n",
    "    deg_counts = Counter(deg_list)        \n",
    "    print(deg_counts)\n",
    "    x, y = zip(*deg_counts.items())                                                      \n",
    "\n",
    "    plt.figure(1)   \n",
    "\n",
    "    # prep axes   \n",
    "    if weighted:\n",
    "        plt.xlabel('weighted degree')  \n",
    "    else:\n",
    "        plt.xlabel('degree')                                                                                                             \n",
    "    plt.xscale(xscale)                                                                                                                \n",
    "    plt.xlim(1, max(x))  \n",
    "\n",
    "    plt.ylabel('frequency')                                                                                                          \n",
    "    plt.yscale(yscale)                                                                                                                \n",
    "    plt.ylim(1, max(y))                                                                                                             \n",
    "                                                                                                                                                                                                    \n",
    "    plt.scatter(x, y, marker='.')                                                                                                    \n",
    "    plt.show()"
   ]
  },
  {
   "cell_type": "code",
   "execution_count": 27,
   "id": "080a37dc",
   "metadata": {},
   "outputs": [
    {
     "name": "stdout",
     "output_type": "stream",
     "text": [
      "Counter({38: 39})\n"
     ]
    },
    {
     "data": {
      "image/png": "[encoded data removed]",
      "text/plain": [
       "<Figure size 700x500 with 1 Axes>"
      ]
     },
     "metadata": {
      "needs_background": "light"
     },
     "output_type": "display_data"
    }
   ],
   "source": [
    "plot_deg_frequency(G) #Isplotujmo raspodelu netežinskog stepena čvora kao scatterplot."
   ]
  },
  {
   "cell_type": "code",
   "execution_count": 28,
   "id": "0e13393e",
   "metadata": {},
   "outputs": [
    {
     "name": "stdout",
     "output_type": "stream",
     "text": [
      "Counter({85195: 1, 78928: 1, 22348: 1, 182189: 1, 30610: 1, 130797: 1, 8400: 1, 243152: 1, 232329: 1, 258597: 1, 14974: 1, 214387: 1, 219354: 1, 214226: 1, 228161: 1, 127440: 1, 39769: 1, 15510: 1, 90364: 1, 203882: 1, 84863: 1, 318110: 1, 40851: 1, 71981: 1, 44911: 1, 30429: 1, 23082: 1, 178763: 1, 8411: 1, 60204: 1, 98001: 1, 76038: 1, 2546: 1, 2735: 1, 28330: 1, 90297: 1, 74589: 1, 17130: 1, 24885: 1})\n"
     ]
    },
    {
     "name": "stderr",
     "output_type": "stream",
     "text": [
      "C:\\Users\\Public\\Documents\\Wondershare\\CreatorTemp/ipykernel_13692/2068284247.py:27: UserWarning: Attempting to set identical bottom == top == 1 results in singular transformations; automatically expanding.\n",
      "  plt.ylim(1, max(y))\n"
     ]
    },
    {
     "data": {
      "image/png": "[encoded data removed]",
      "text/plain": [
       "<Figure size 700x500 with 1 Axes>"
      ]
     },
     "metadata": {
      "needs_background": "light"
     },
     "output_type": "display_data"
    }
   ],
   "source": [
    "plot_deg_frequency(G, weighted = True) #Pošto je mreža težinska, treba ispitati i raspodelu težinskog stepena čvora."
   ]
  },
  {
   "cell_type": "code",
   "execution_count": 29,
   "id": "b7521bb5",
   "metadata": {},
   "outputs": [
    {
     "data": {
      "image/png": "[encoded data removed]",
      "text/plain": [
       "<Figure size 700x500 with 1 Axes>"
      ]
     },
     "metadata": {
      "needs_background": "light"
     },
     "output_type": "display_data"
    }
   ],
   "source": [
    "#Analiza i fitovanje power law mrežnog modela\n",
    "\n",
    "#na log-log grafiku kumulativne raspodele stepena čvora bi opet trebalo da dobijemo pravu, samo sa manjim nagibom i manjim šumom u repu!\n",
    "degree_sequence = sorted([d for n, d in G.degree()], reverse=True) #prodjemo kroz cvorove i njihove stepenove\n",
    "degreeCount = Counter(degree_sequence)\n",
    "deg, cnt = zip(*degreeCount.items())\n",
    "\n",
    "max_deg = max(deg) # hoćemo po jedan bin za svaki stepen čvora #max stepen cvorova\n",
    "\n",
    "# izračunavanje histograma\n",
    "values, base = np.histogram(deg, bins = max_deg) #za svaki stepen po jedan bin da iscrta\n",
    "\n",
    "# kumulativna suma (inkluzivna prefiksna suma)\n",
    "cumulative = np.cumsum(values)\n",
    "\n",
    "# plotovanje komplementarne kumulativne raspodele stepena čvora P(X>x)\n",
    "plt.plot(base[:-1], [float(x)/len(dfComAndSub) for x in len(dfComAndSub) - cumulative], c='blue')\n",
    "\n",
    "plt.show()"
   ]
  },
  {
   "cell_type": "code",
   "execution_count": 30,
   "id": "b0aef5d0",
   "metadata": {},
   "outputs": [
    {
     "name": "stdout",
     "output_type": "stream",
     "text": [
      "Requirement already satisfied: powerlaw in c:\\users\\marina\\anaconda3\\lib\\site-packages (1.5)\n",
      "Requirement already satisfied: matplotlib in c:\\users\\marina\\anaconda3\\lib\\site-packages (from powerlaw) (3.4.3)\n",
      "Requirement already satisfied: mpmath in c:\\users\\marina\\anaconda3\\lib\\site-packages (from powerlaw) (1.2.1)\n",
      "Requirement already satisfied: scipy in c:\\users\\marina\\anaconda3\\lib\\site-packages (from powerlaw) (1.7.1)\n",
      "Requirement already satisfied: numpy in c:\\users\\marina\\anaconda3\\lib\\site-packages (from powerlaw) (1.20.3)\n",
      "Requirement already satisfied: pyparsing>=2.2.1 in c:\\users\\marina\\anaconda3\\lib\\site-packages (from matplotlib->powerlaw) (3.0.4)\n",
      "Requirement already satisfied: cycler>=0.10 in c:\\users\\marina\\anaconda3\\lib\\site-packages (from matplotlib->powerlaw) (0.10.0)\n",
      "Requirement already satisfied: python-dateutil>=2.7 in c:\\users\\marina\\anaconda3\\lib\\site-packages (from matplotlib->powerlaw) (2.8.2)\n",
      "Requirement already satisfied: kiwisolver>=1.0.1 in c:\\users\\marina\\anaconda3\\lib\\site-packages (from matplotlib->powerlaw) (1.3.1)\n",
      "Requirement already satisfied: pillow>=6.2.0 in c:\\users\\marina\\anaconda3\\lib\\site-packages (from matplotlib->powerlaw) (8.4.0)\n",
      "Requirement already satisfied: six in c:\\users\\marina\\anaconda3\\lib\\site-packages (from cycler>=0.10->matplotlib->powerlaw) (1.16.0)\n"
     ]
    },
    {
     "name": "stderr",
     "output_type": "stream",
     "text": [
      "WARNING: You are using pip version 22.0.4; however, version 22.2.2 is available.\n",
      "You should consider upgrading via the 'C:\\Users\\Marina\\anaconda3\\python.exe -m pip install --upgrade pip' command.\n"
     ]
    }
   ],
   "source": [
    "!pip install powerlaw\n",
    "import powerlaw"
   ]
  },
  {
   "cell_type": "code",
   "execution_count": 31,
   "id": "48ea5bed",
   "metadata": {},
   "outputs": [
    {
     "name": "stdout",
     "output_type": "stream",
     "text": [
      "[38, 38, 38, 38, 38, 38, 38, 38, 38, 38, 38, 38, 38, 38, 38, 38, 38, 38, 38, 38, 38, 38, 38, 38, 38, 38, 38, 38, 38, 38, 38, 38, 38, 38, 38, 38, 38, 38, 38]\n"
     ]
    }
   ],
   "source": [
    "print(degree_sequence)"
   ]
  },
  {
   "cell_type": "code",
   "execution_count": 32,
   "id": "fdb1c521",
   "metadata": {},
   "outputs": [
    {
     "name": "stdout",
     "output_type": "stream",
     "text": [
      "Calculating best minimal value for power law fit\n"
     ]
    },
    {
     "name": "stderr",
     "output_type": "stream",
     "text": [
      "Less than 2 unique data values left after xmin and xmax options! Cannot fit. Returning nans.\n",
      "C:\\Users\\Marina\\anaconda3\\lib\\site-packages\\powerlaw.py:1151: RuntimeWarning: invalid value encountered in double_scalars\n",
      "  self.alpha = 1 + (self.n / sum(log(data/self.xmin)))\n"
     ]
    },
    {
     "name": "stdout",
     "output_type": "stream",
     "text": [
      "nan\n",
      "nan\n",
      "nan\n",
      "Loglikelihood ratio: 0\n",
      "Statistical significance: 1\n",
      "Loglikelihood ratio: 0\n",
      "Statistical significance: 1\n",
      "Loglikelihood ratio: 0\n",
      "Statistical significance: 1\n",
      "Loglikelihood ratio: 0\n",
      "Statistical significance: 1\n",
      "Loglikelihood ratio: 0\n",
      "Statistical significance: 1\n",
      "Loglikelihood ratio: 0\n",
      "Statistical significance: 1\n",
      "Calculating best minimal value for power law fit\n",
      "nan\n",
      "nan\n"
     ]
    },
    {
     "name": "stderr",
     "output_type": "stream",
     "text": [
      "C:\\Users\\Marina\\anaconda3\\lib\\site-packages\\powerlaw.py:1170: RuntimeWarning: invalid value encountered in double_scalars\n",
      "  return 1 + len(data)/sum(log(data / (self.xmin)))\n",
      "Not enough data. Returning nan\n",
      "Not enough data. Returning nan\n",
      "C:\\Users\\Marina\\anaconda3\\lib\\site-packages\\numpy\\core\\fromnumeric.py:3419: RuntimeWarning: Mean of empty slice.\n",
      "  return _methods._mean(a, axis=axis, dtype=dtype,\n",
      "C:\\Users\\Marina\\anaconda3\\lib\\site-packages\\numpy\\core\\_methods.py:188: RuntimeWarning: invalid value encountered in double_scalars\n",
      "  ret = ret.dtype.type(ret / rcount)\n",
      "No valid fits found.\n",
      "Not enough data. Returning nan\n",
      "Assuming nested distributions\n",
      "C:\\Users\\Marina\\anaconda3\\lib\\site-packages\\powerlaw.py:1383: RuntimeWarning: invalid value encountered in double_scalars\n",
      "  alpha = 1 + len(data)/sum( log( data / (self.xmin) ))\n",
      "No valid fits found.\n",
      "Not enough data. Returning nan\n",
      "Assuming nested distributions\n",
      "C:\\Users\\Marina\\anaconda3\\lib\\site-packages\\numpy\\core\\_methods.py:261: RuntimeWarning: Degrees of freedom <= 0 for slice\n",
      "  ret = _var(a, axis=axis, dtype=dtype, out=out, ddof=ddof,\n",
      "C:\\Users\\Marina\\anaconda3\\lib\\site-packages\\numpy\\core\\_methods.py:221: RuntimeWarning: invalid value encountered in true_divide\n",
      "  arrmean = um.true_divide(arrmean, div, out=arrmean, casting='unsafe',\n",
      "C:\\Users\\Marina\\anaconda3\\lib\\site-packages\\numpy\\core\\_methods.py:253: RuntimeWarning: invalid value encountered in double_scalars\n",
      "  ret = ret.dtype.type(ret / rcount)\n",
      "No valid fits found.\n",
      "Not enough data. Returning nan\n",
      "No valid fits found.\n",
      "Not enough data. Returning nan\n",
      "No valid fits found.\n",
      "Not enough data. Returning nan\n",
      "Less than 2 unique data values left after xmin and xmax options! Cannot fit. Returning nans.\n",
      "No valid fits found.\n",
      "Not enough data. Returning nan\n"
     ]
    }
   ],
   "source": [
    "results = powerlaw.Fit(degree_sequence)\n",
    "print(results.power_law.alpha)#ono alfa u formuli\n",
    "print(results.power_law.xmin) #od koje vr pocinje powerlaw za ove podatke, ostatak je odsekao\n",
    "print(results.power_law.sigma) #koliko odstupaju podaci, treba sto manje, da bude sto bolje fitovano\n",
    "\n",
    "R, p = results.distribution_compare('power_law', 'exponential') #da li neka druga distribucija fituje bolje, treba da uporedimo nekoliko i ako powerlaw fituje najbolje, mozemo smatrati da je to powerlaw raspodela\n",
    "print(f\"Loglikelihood ratio: {R}\") #ako je pozitivno verovatnije je da su podaci po prvoj (powerlaw) raspodeli, ako je neg. po drugoj, sto je vece, veca je verovatnoca\n",
    "print(f\"Statistical significance: {p}\") #pretpostavimo da nije powerlaw nego random, p predstavlja koja je verovatnoca da random izvlacenjem podataka dobijemo da izleda isto tako slika, ako je velika verovatnoca, to je velika sansa da zaista nema powerlaw efekta \n",
    "# ako je mala sansa da random podacima dobijemo ovako, to znaci da vrv ima powerlaw\n",
    "#u slucaju kada ovako ima dva parametra malo p znaci da je mala verovtanoca da je promasio da je prvi arg. bolji od drugog, sto je manja verovatnoca to smo sigurniji da je prvi model bolji od drugog\n",
    "\n",
    "R, p = results.distribution_compare('power_law', 'truncated_power_law') #truncated je da li treba odseci deo i fitovati ostatak\n",
    "print(f\"Loglikelihood ratio: {R}\")\n",
    "print(f\"Statistical significance: {p}\") #99,5 % - preklapaju se u velioj kolicini\n",
    "\n",
    "R, p = results.distribution_compare('truncated_power_law', 'power_law') #truncated je da li treba odseci deo i fitovati ostatak\n",
    "print(f\"Loglikelihood ratio: {R}\")\n",
    "print(f\"Statistical significance: {p}\") #99,5 % - preklapaju se u velioj kolicini\n",
    "\n",
    "R, p = results.distribution_compare('truncated_power_law', 'lognormal_positive') #truncated je da li treba odseci deo i fitovati ostatak\n",
    "print(f\"Loglikelihood ratio: {R}\")\n",
    "print(f\"Statistical significance: {p}\") #99,5 % - preklapaju se u velioj kolicini\n",
    "\n",
    "R, p = results.distribution_compare('truncated_power_law', 'stretched_exponential') #truncated je da li treba odseci deo i fitovati ostatak\n",
    "print(f\"Loglikelihood ratio: {R}\")\n",
    "print(f\"Statistical significance: {p}\") #99,5 % - preklapaju se u velioj kolicini\n",
    "\n",
    "R, p = results.distribution_compare('truncated_power_law', 'lognormal') #truncated je da li treba odseci deo i fitovati ostatak\n",
    "print(f\"Loglikelihood ratio: {R}\")\n",
    "print(f\"Statistical significance: {p}\") #99,5 % - preklapaju se u velioj kolicini\n",
    "\n",
    "results = powerlaw.Fit(degree_sequence)\n",
    "print(results.truncated_power_law.alpha)#ono alfa u formuli\n",
    "print(results.truncated_power_law.xmin) #od koje vr pocinje powerlaw za ove podatke, ostatak je odsekao\n",
    "#print(results.truncated_power_law.sigma)  #ne postoji za truncated"
   ]
  },
  {
   "cell_type": "markdown",
   "id": "c7bf34d7",
   "metadata": {},
   "source": [
    "Ne može se fitovati nijedna raspodela s obzirom da je mreža potpuni graf."
   ]
  },
  {
   "cell_type": "markdown",
   "id": "d3a1f4b5",
   "metadata": {},
   "source": [
    "Takođe, iz istog razloga svi čvorovi predstavljaju habove i autoritete i čine jezgro mreže."
   ]
  },
  {
   "cell_type": "code",
   "execution_count": 34,
   "id": "4f2b4106",
   "metadata": {},
   "outputs": [
    {
     "name": "stdout",
     "output_type": "stream",
     "text": [
      "                DC   CC   BC       EVC\n",
      "Economics      1.0  1.0  0.0  0.098795\n",
      "videos         1.0  1.0  0.0  0.087986\n",
      "netsec         1.0  1.0  0.0  0.023598\n",
      "programming    1.0  1.0  0.0  0.223552\n",
      "scifi          1.0  1.0  0.0  0.031580\n",
      "offbeat        1.0  1.0  0.0  0.150658\n",
      "guns           1.0  1.0  0.0  0.008559\n",
      "pics           1.0  1.0  0.0  0.295383\n",
      "funny          1.0  1.0  0.0  0.282876\n",
      "politics       1.0  1.0  0.0  0.316795\n",
      "photography    1.0  1.0  0.0  0.015306\n",
      "WTF            1.0  1.0  0.0  0.260283\n",
      "technology     1.0  1.0  0.0  0.267162\n",
      "worldnews      1.0  1.0  0.0  0.262058\n",
      "science        1.0  1.0  0.0  0.276321\n",
      "gaming         1.0  1.0  0.0  0.150288\n",
      "news           1.0  1.0  0.0  0.041415\n",
      "canada         1.0  1.0  0.0  0.016688\n",
      "AskReddit      1.0  1.0  0.0  0.099836\n",
      "entertainment  1.0  1.0  0.0  0.249799\n",
      "nsfw           1.0  1.0  0.0  0.098759\n",
      "reddit.com     1.0  1.0  0.0  0.379798\n",
      "linux          1.0  1.0  0.0  0.044794\n",
      "geek           1.0  1.0  0.0  0.078092\n",
      "bestof         1.0  1.0  0.0  0.046846\n",
      "Health         1.0  1.0  0.0  0.031594\n",
      "math           1.0  1.0  0.0  0.024053\n",
      "business       1.0  1.0  0.0  0.221316\n",
      "software       1.0  1.0  0.0  0.008314\n",
      "obama          1.0  1.0  0.0  0.069399\n",
      "atheism        1.0  1.0  0.0  0.114426\n",
      "gadgets        1.0  1.0  0.0  0.084706\n",
      "ideas          1.0  1.0  0.0  0.002385\n",
      "joel           1.0  1.0  0.0  0.003211\n",
      "cogsci         1.0  1.0  0.0  0.028776\n",
      "comics         1.0  1.0  0.0  0.102462\n",
      "environment    1.0  1.0  0.0  0.083422\n",
      "history        1.0  1.0  0.0  0.016967\n",
      "philosophy     1.0  1.0  0.0  0.025238\n"
     ]
    }
   ],
   "source": [
    "#Analiza različitih tipova centralnosti\n",
    "def calculate_centralities(G):\n",
    "\n",
    "    DC_dict = nx.degree_centrality(G) #centr. po stepenu\n",
    "    CC_dict = nx.closeness_centrality(G) #centr. po blizini\n",
    "    BC_dict = nx.betweenness_centrality(G) #relaciona centr.\n",
    "    EVC_dict = nx.eigenvector_centrality(G, weight='weight') #po svojstvenom vektoru\n",
    "\n",
    "    df1 = pd.DataFrame.from_dict(DC_dict, orient='index', columns=['DC'])\n",
    "    df2 = pd.DataFrame.from_dict(CC_dict, orient='index', columns=['CC'])\n",
    "    df3 = pd.DataFrame.from_dict(BC_dict, orient='index', columns=['BC'])\n",
    "    df4 = pd.DataFrame.from_dict(EVC_dict, orient='index', columns=['EVC'])\n",
    "    df = pd.concat([df1, df2, df3, df4], axis=1)\n",
    "    return df\n",
    "\n",
    "dataCentralitiesSNet=[]\n",
    "dataCentralitiesSNet = calculate_centralities(G)\n",
    "print(dataCentralitiesSNet)"
   ]
  },
  {
   "cell_type": "code",
   "execution_count": 35,
   "id": "3eee0571",
   "metadata": {},
   "outputs": [
    {
     "name": "stdout",
     "output_type": "stream",
     "text": [
      "            DC\n",
      "Economics  1.0\n",
      "obama      1.0\n",
      "linux      1.0\n",
      "geek       1.0\n",
      "bestof     1.0\n",
      "Health     1.0\n",
      "math       1.0\n",
      "business   1.0\n",
      "software   1.0\n",
      "atheism    1.0\n"
     ]
    }
   ],
   "source": [
    "#Centralnost po stepenu - stepen čvora normalizovan maksimalnim mogućim stepenom čvora tj n-1. \n",
    "#U slučaju usmerenog grafa, ulazni i izlazni stepen čvora odgovaraju ulaznoj i izlaznoj centralnosti po stepenu. \n",
    "df_dc = pd.DataFrame({'DC':dataCentralitiesSNet['DC']})\n",
    "df_dc.sort_values(by='DC', ascending=False, inplace = True)\n",
    "print(df_dc.head(10)) #najvecih 10 uzimamo da analiziramo"
   ]
  },
  {
   "cell_type": "code",
   "execution_count": 36,
   "id": "778869c4",
   "metadata": {},
   "outputs": [
    {
     "name": "stdout",
     "output_type": "stream",
     "text": [
      "            CC\n",
      "Economics  1.0\n",
      "obama      1.0\n",
      "linux      1.0\n",
      "geek       1.0\n",
      "bestof     1.0\n",
      "Health     1.0\n",
      "math       1.0\n",
      "business   1.0\n",
      "software   1.0\n",
      "atheism    1.0\n"
     ]
    }
   ],
   "source": [
    "#Centralnost po bliskosti - koliko je čvor *udaljen* od drugih u mreži. Čvorovi koji su centralniji su bolji izvori širenja informacija.  \n",
    "#recipročna vrednost sume najkraćih rastojanja od posmatranog čvora do ostalih sa kojima je povezan, normalizovana sa N-1\n",
    "df_cc = pd.DataFrame({'CC':dataCentralitiesSNet['CC']})\n",
    "df_cc.sort_values(by='CC', ascending=False, inplace = True)\n",
    "print(df_cc.head(10)) #dovoljno je da budu povezani sa jednim cvorom koji je blizak sa dosta njih i imace dobru centr., br hopova +1"
   ]
  },
  {
   "cell_type": "code",
   "execution_count": 37,
   "id": "f2961b27",
   "metadata": {},
   "outputs": [
    {
     "name": "stdout",
     "output_type": "stream",
     "text": [
      "            BC\n",
      "Economics  0.0\n",
      "obama      0.0\n",
      "linux      0.0\n",
      "geek       0.0\n",
      "bestof     0.0\n",
      "Health     0.0\n",
      "math       0.0\n",
      "business   0.0\n",
      "software   0.0\n",
      "atheism    0.0\n"
     ]
    }
   ],
   "source": [
    "#Relaciona centralnost (betweenness centrality) govori na koliko se najkraćih putanja između drugih čvorova neki čvor nalazi\n",
    "# u odnosu na ukupan broj takvih najkraćih puteva\n",
    "#U slučaju socijalne mreže, akter sa visokom relacionom centralnošću kontrološe tok informacija i predstavlja kandidata za brokerski čvor\n",
    "df_bc = pd.DataFrame({'BC':dataCentralitiesSNet['BC']})\n",
    "df_bc.sort_values(by='BC', ascending=False, inplace = True)\n",
    "print(df_bc.head(10)) #povezani su sa subredditima iz raznih drugih oblasti, i onda ako drugi nisu povezani sa ostalima svi najkraci putevi idu preko njih"
   ]
  },
  {
   "cell_type": "markdown",
   "id": "39f545e9",
   "metadata": {},
   "source": [
    "Mreža je potpuno povezani graf pa svi imaju iste vrednosti prethodnih centralnosti i svi su podjednako bitni."
   ]
  },
  {
   "cell_type": "code",
   "execution_count": 38,
   "id": "2ca7a2b9",
   "metadata": {},
   "outputs": [
    {
     "name": "stdout",
     "output_type": "stream",
     "text": [
      "                    EVC\n",
      "reddit.com     0.379798\n",
      "politics       0.316795\n",
      "pics           0.295383\n",
      "funny          0.282876\n",
      "science        0.276321\n",
      "technology     0.267162\n",
      "worldnews      0.262058\n",
      "WTF            0.260283\n",
      "entertainment  0.249799\n",
      "programming    0.223552\n"
     ]
    }
   ],
   "source": [
    "#Centralnost po sopstvenom vektoru - koliko je uticajan čvor u mreži. \n",
    "#Ideja je da su čvorovi povezani sa manje uticajnim susedima više uticajni (//bitniji su od njih, ovo je alternativna verzija(bonacich//) \n",
    "#i da je uticajnost čvora proporcionalna zbiru uticajnosti njegovih suseda (//vise uticajan, mocan ako su oni vise uticajni, kontradiktorno malo u odnosu na onaj prvi deo..//)\n",
    "df_evc = pd.DataFrame({'EVC':dataCentralitiesSNet['EVC']})\n",
    "df_evc.sort_values(by='EVC', ascending=False, inplace = True)\n",
    "print(df_evc.head(10)) #puno se pojavljuju i medjusobno su povezani"
   ]
  },
  {
   "cell_type": "code",
   "execution_count": 39,
   "id": "86314311",
   "metadata": {},
   "outputs": [
    {
     "name": "stdout",
     "output_type": "stream",
     "text": [
      "(5.566353396409633e-06+0j)\n"
     ]
    }
   ],
   "source": [
    "#Katz centralnost\n",
    "\n",
    "#Katz centralnost uzima u obzir putanje svih mogućih dužina koje spajaju dva čvora i uvodi podesivi parametar slabljenja  𝛼\n",
    "#nedirektni susedi i ta povezanost treba da doprinosi centralnosti ali sa nekim koef. slabljenja\n",
    "#Ako je G usmeren, vraća ulazne Katz centralnosti, za izlazne Katz centralnosti treba prvo uraditi G.reverse().\n",
    "#Da bi vrednost centralnosti konvergirala, mora važiti 0 < alpha < 1/lambda_max, gde je lambda_max najveća sopstvena vrednost matrice susednosti. \n",
    "#ove centralnosti pogotovo poslednje dve ne rade kada ima ovako vise od jedne povezane komponente!!\n",
    "\n",
    "lambda_max =  max(nx.adjacency_spectrum(G))\n",
    "print(1/lambda_max)"
   ]
  },
  {
   "cell_type": "code",
   "execution_count": 53,
   "id": "9574790e",
   "metadata": {},
   "outputs": [
    {
     "name": "stdout",
     "output_type": "stream",
     "text": [
      "                   Katz\n",
      "reddit.com     0.361722\n",
      "politics       0.304730\n",
      "pics           0.285821\n",
      "funny          0.274594\n",
      "science        0.268861\n",
      "technology     0.260549\n",
      "worldnews      0.255887\n",
      "WTF            0.254480\n",
      "entertainment  0.244919\n",
      "programming    0.221450\n"
     ]
    }
   ],
   "source": [
    "#Katz, svi subredditi imaju parametar beta=1\n",
    "\n",
    "#dataCentralitiesSNet.drop('Katz_Beta', inplace=True, axis=1)\n",
    "\n",
    "betadict={}\n",
    "for subreddit in G.nodes():\n",
    "    betadict[subreddit] = 1\n",
    "    \n",
    "KatzC_dictBeta = nx.katz_centrality(G, alpha=0.000005, beta=betadict, max_iter=1000, tol=1e-06, nstart=None, normalized=True, weight='weight')\n",
    "df_katzc = pd.DataFrame.from_dict(KatzC_dictBeta, orient='index', columns=['Katz'])\n",
    "dataCentralitiesSNet['Katz']=df_katzc\n",
    "\n",
    "df_katzc = pd.DataFrame({'Katz':dataCentralitiesSNet['Katz']})\n",
    "df_katzc.sort_values(by='Katz', ascending=False, inplace = True)\n",
    "print(df_katzc.head(10))"
   ]
  },
  {
   "cell_type": "code",
   "execution_count": 47,
   "id": "9bd2644d",
   "metadata": {},
   "outputs": [
    {
     "name": "stdout",
     "output_type": "stream",
     "text": [
      "               Katz_Beta\n",
      "reddit.com      0.453031\n",
      "politics        0.299495\n",
      "pics            0.278568\n",
      "funny           0.267059\n",
      "science         0.261091\n",
      "technology      0.253347\n",
      "worldnews       0.248100\n",
      "WTF             0.246293\n",
      "entertainment   0.237752\n",
      "programming     0.213624\n"
     ]
    }
   ],
   "source": [
    "#Katz sa razlicitim beta za reddit.com, sa weight\n",
    "\n",
    "#dataCentralitiesSNet.drop('Katz_Beta', inplace=True, axis=1)\n",
    "\n",
    "betadict={}\n",
    "for subreddit in G.nodes():\n",
    "    betadict[subreddit] = 0.1\n",
    "    \n",
    "betadict['reddit.com'] = 1\n",
    "KatzC_dictBeta = nx.katz_centrality(G, alpha=0.000005, beta=betadict, max_iter=1000, tol=1e-06, nstart=None, normalized=True, weight='weight')\n",
    "df_katzc = pd.DataFrame.from_dict(KatzC_dictBeta, orient='index', columns=['Katz_Beta'])\n",
    "dataCentralitiesSNet['Katz_Beta']=df_katzc\n",
    "\n",
    "df_katzc = pd.DataFrame({'Katz_Beta':dataCentralitiesSNet['Katz_Beta']})\n",
    "df_katzc.sort_values(by='Katz_Beta', ascending=False, inplace = True)\n",
    "print(df_katzc.head(10))"
   ]
  },
  {
   "cell_type": "code",
   "execution_count": 48,
   "id": "023616fc",
   "metadata": {},
   "outputs": [
    {
     "name": "stdout",
     "output_type": "stream",
     "text": [
      "               Katz_Beta\n",
      "reddit.com      0.842735\n",
      "politics        0.095008\n",
      "pics            0.093595\n",
      "funny           0.093070\n",
      "science         0.092815\n",
      "technology      0.092714\n",
      "worldnews       0.092276\n",
      "entertainment   0.092142\n",
      "WTF             0.092133\n",
      "business        0.091244\n"
     ]
    }
   ],
   "source": [
    "#Katz sa razlicitim beta za reddit.com, sa weight, alfa=0.00000025\n",
    "\n",
    "dataCentralitiesSNet.drop('Katz_Beta', inplace=True, axis=1)\n",
    "\n",
    "betadict={}\n",
    "for subreddit in G.nodes():\n",
    "    betadict[subreddit] = 0.1\n",
    "    \n",
    "betadict['reddit.com'] = 1 \n",
    "KatzC_dictBeta = nx.katz_centrality(G, alpha=0.00000025, beta=betadict, max_iter=1000, tol=1e-06, nstart=None, normalized=True, weight='weight')\n",
    "df_katzc = pd.DataFrame.from_dict(KatzC_dictBeta, orient='index', columns=['Katz_Beta'])\n",
    "dataCentralitiesSNet['Katz_Beta']=df_katzc\n",
    "\n",
    "df_katzc = pd.DataFrame({'Katz_Beta':dataCentralitiesSNet['Katz_Beta']})\n",
    "df_katzc.sort_values(by='Katz_Beta', ascending=False, inplace = True)\n",
    "print(df_katzc.head(10))"
   ]
  },
  {
   "cell_type": "code",
   "execution_count": 54,
   "id": "f6b093e5",
   "metadata": {},
   "outputs": [
    {
     "name": "stdout",
     "output_type": "stream",
     "text": [
      "                DC   CC   BC       EVC  Katz_Beta  DC_rank  CC_rank  BC_rank  \\\n",
      "reddit.com     1.0  1.0  0.0  0.379798   0.361722     20.0     20.0     20.0   \n",
      "politics       1.0  1.0  0.0  0.316795   0.304730     20.0     20.0     20.0   \n",
      "pics           1.0  1.0  0.0  0.295383   0.285821     20.0     20.0     20.0   \n",
      "funny          1.0  1.0  0.0  0.282876   0.274594     20.0     20.0     20.0   \n",
      "science        1.0  1.0  0.0  0.276321   0.268861     20.0     20.0     20.0   \n",
      "technology     1.0  1.0  0.0  0.267162   0.260549     20.0     20.0     20.0   \n",
      "worldnews      1.0  1.0  0.0  0.262058   0.255887     20.0     20.0     20.0   \n",
      "WTF            1.0  1.0  0.0  0.260283   0.254480     20.0     20.0     20.0   \n",
      "entertainment  1.0  1.0  0.0  0.249799   0.244919     20.0     20.0     20.0   \n",
      "programming    1.0  1.0  0.0  0.223552   0.221450     20.0     20.0     20.0   \n",
      "\n",
      "               EVC_rank      Katz  Katz_rank  composite_rank  \n",
      "reddit.com          1.0  0.361722        1.0          8000.0  \n",
      "politics            2.0  0.304730        2.0         32000.0  \n",
      "pics                3.0  0.285821        3.0         72000.0  \n",
      "funny               4.0  0.274594        4.0        128000.0  \n",
      "science             5.0  0.268861        5.0        200000.0  \n",
      "technology          6.0  0.260549        6.0        288000.0  \n",
      "worldnews           7.0  0.255887        7.0        392000.0  \n",
      "WTF                 8.0  0.254480        8.0        512000.0  \n",
      "entertainment       9.0  0.244919        9.0        648000.0  \n",
      "programming        10.0  0.221450       10.0        800000.0  \n"
     ]
    }
   ],
   "source": [
    "#Kompozitni rang\n",
    "#𝑐𝑜𝑚𝑝𝑜𝑠𝑖𝑡𝑒_𝑟𝑎𝑛𝑘=𝐷𝐶_𝑟𝑎𝑛𝑘∗𝐶𝐶_𝑟𝑎𝑛𝑘∗𝐵𝐶_𝑟𝑎𝑛𝑘∗𝐸𝑉𝐶_𝑟𝑎𝑛𝑘*Katz_rank\n",
    "df_ = dataCentralitiesSNet\n",
    "labele = ['DC', 'CC', 'BC', 'EVC','Katz']\n",
    "for metric in labele:\n",
    "    df_[f\"{metric}_rank\"] = dataCentralitiesSNet[f\"{metric}\"].rank(ascending=False) \n",
    "    \n",
    "df_['composite_rank'] = df_['DC_rank'] * df_['CC_rank'] * df_['BC_rank'] * df_['EVC_rank'] * df_['Katz_rank']\n",
    "\n",
    "df_=df_.sort_values(['composite_rank'], ascending = True)\n",
    "print(df_.head(10))"
   ]
  },
  {
   "cell_type": "code",
   "execution_count": 55,
   "id": "c96779d2",
   "metadata": {},
   "outputs": [],
   "source": [
    "#SPEKTRALNA ANALIZA\n",
    "from scipy import linalg\n",
    "#from docx import Document #//baca gresku ovo\n",
    "import math #?\n",
    "import sympy\n",
    "from sklearn.cluster import SpectralClustering"
   ]
  },
  {
   "cell_type": "code",
   "execution_count": 56,
   "id": "22cb7429",
   "metadata": {},
   "outputs": [],
   "source": [
    "def plot_scatterplot(x_data, y_data, x_label, y_label, title):\n",
    "    fig, ax = plt.subplots()\n",
    "    ax.scatter(x_data, y_data) \n",
    "    ax.set_ylabel(y_label, fontsize=15)\n",
    "    ax.set_xlabel(x_label, fontsize=15)\n",
    "    ax.set_title(title)\n",
    "    plt.savefig(f\"{title}.svg\")\n",
    "    plt.show() \n",
    "\n",
    "def plot_scatterplot2(x_data, y_data, x_label, y_label, title, file_name):\n",
    "    fig, ax = plt.subplots()\n",
    "    ax.scatter(x_data, y_data) \n",
    "    ax.set_ylabel(y_label, fontsize=15)\n",
    "    ax.set_xlabel(x_label, fontsize=15)\n",
    "    ax.set_title(title)\n",
    "    plt.savefig(f\"{file_name}.svg\")\n",
    "    plt.show() "
   ]
  },
  {
   "cell_type": "code",
   "execution_count": 59,
   "id": "d895d69b",
   "metadata": {},
   "outputs": [],
   "source": [
    "G2 = G"
   ]
  },
  {
   "cell_type": "code",
   "execution_count": 60,
   "id": "1cc1f8f8",
   "metadata": {},
   "outputs": [],
   "source": [
    "def in_range(value, target, tolerated_error):\n",
    "    return abs(value-target) < tolerated_error\n",
    "\n",
    "def filter_matrix(m, tolerated_error):\n",
    "    new_matrix = []\n",
    "    for row in m:\n",
    "        new_row = []\n",
    "        for value in row:\n",
    "            if in_range(0 , value, tolerated_error):\n",
    "                new_row.append(0.0)\n",
    "            else:\n",
    "                new_row.append(value)\n",
    "        new_matrix.append(new_row)\n",
    "    return new_matrix"
   ]
  },
  {
   "cell_type": "code",
   "execution_count": 61,
   "id": "796fb0bc",
   "metadata": {},
   "outputs": [
    {
     "name": "stderr",
     "output_type": "stream",
     "text": [
      "C:\\Users\\Marina\\anaconda3\\lib\\site-packages\\pandas\\core\\dtypes\\cast.py:1201: ComplexWarning: Casting complex values to real discards the imaginary part\n",
      "  return arr.astype(dtype, copy=True)\n",
      "C:\\Users\\Marina\\anaconda3\\lib\\site-packages\\numpy\\core\\_asarray.py:171: ComplexWarning: Casting complex values to real discards the imaginary part\n",
      "  return array(a, dtype, copy=False, order=order, subok=True)\n"
     ]
    },
    {
     "name": "stdout",
     "output_type": "stream",
     "text": [
      "     k      lambda_k\n",
      "0    1 -1.858304e-11\n",
      "1    2  2.593206e+03\n",
      "2    3  2.824891e+03\n",
      "3    4  8.432546e+03\n",
      "4    5  8.823825e+03\n",
      "5    6  1.524433e+04\n",
      "6    7  1.596722e+04\n",
      "7    8  1.769244e+04\n",
      "8    9  2.282898e+04\n",
      "9   10  2.379916e+04\n",
      "10  11  2.580509e+04\n",
      "11  12  2.911986e+04\n",
      "12  13  3.091964e+04\n",
      "13  14  3.256181e+04\n",
      "14  15  4.065288e+04\n",
      "15  16  4.281336e+04\n",
      "16  17  4.719897e+04\n",
      "17  18  6.254127e+04\n",
      "18  19  7.430149e+04\n",
      "19  20  7.705810e+04\n",
      "20  21  7.884517e+04\n",
      "21  22  8.232869e+04\n",
      "22  23  8.676823e+04\n",
      "23  24  8.983975e+04\n",
      "24  25  9.292494e+04\n",
      "25  26  9.791051e+04\n",
      "26  27  1.108138e+05\n",
      "27  28  1.337856e+05\n",
      "28  29  1.436964e+05\n",
      "29  30  1.891735e+05\n"
     ]
    },
    {
     "data": {
      "image/png": "[encoded data removed]",
      "text/plain": [
       "<Figure size 700x500 with 1 Axes>"
      ]
     },
     "metadata": {
      "needs_background": "light"
     },
     "output_type": "display_data"
    },
    {
     "data": {
      "image/png": "[encoded data removed]",
      "text/plain": [
       "<Figure size 700x500 with 1 Axes>"
      ]
     },
     "metadata": {
      "needs_background": "light"
     },
     "output_type": "display_data"
    }
   ],
   "source": [
    "dominant_component = G2 #vec je dominantna\n",
    "\n",
    "L_dom = nx.laplacian_matrix(dominant_component).toarray()\n",
    "\n",
    "eigenvalues = linalg.eigvals(L_dom) # TODO: change to .eigenvalsh because we know the matrix is symmetric\n",
    "eigenvalues.sort()\n",
    "enumerator = np.array(range(1, len(eigenvalues)+1))\n",
    "df_eig = pd.DataFrame(list(zip(enumerator, eigenvalues)))\n",
    "\n",
    "# write eigenvalue table\n",
    "df_eig30 = df_eig[:30]\n",
    "df_eig30.columns = ['k', 'lambda_k']\n",
    "df_eig30 = df_eig30.astype({'k': 'int32', 'lambda_k':'float'})\n",
    "print(df_eig30)\n",
    "\n",
    "\n",
    "plot_scatterplot(enumerator, eigenvalues, r'$k$', r'$\\lambda_k$', 'Ceo spektar graf laplasijana dominantne komponente')\n",
    "\n",
    "df_eig_30 = df_eig[:30]\n",
    "plot_scatterplot(df_eig_30.iloc[:,0], df_eig_30.iloc[:,1], r'$k$', r'$\\lambda_k$', 'Prvih 30 sopstvenih vrednosti graf laplasijana dom. komponente')\n"
   ]
  },
  {
   "cell_type": "code",
   "execution_count": 62,
   "id": "61e786b6",
   "metadata": {},
   "outputs": [
    {
     "name": "stderr",
     "output_type": "stream",
     "text": [
      "C:\\Users\\Marina\\anaconda3\\lib\\site-packages\\pandas\\core\\dtypes\\cast.py:1201: ComplexWarning: Casting complex values to real discards the imaginary part\n",
      "  return arr.astype(dtype, copy=True)\n"
     ]
    },
    {
     "data": {
      "image/png": "[encoded data removed]",
      "text/plain": [
       "<Figure size 700x500 with 1 Axes>"
      ]
     },
     "metadata": {
      "needs_background": "light"
     },
     "output_type": "display_data"
    },
    {
     "data": {
      "image/png": "[encoded data removed]",
      "text/plain": [
       "<Figure size 700x500 with 1 Axes>"
      ]
     },
     "metadata": {
      "needs_background": "light"
     },
     "output_type": "display_data"
    }
   ],
   "source": [
    "# eigengap\n",
    "\n",
    "df_gap = df_eig.iloc[:,1].diff()\n",
    "df_gap = df_gap.astype(np.float64)\n",
    "\n",
    "df_gap = df_gap[1:]\n",
    "enumerator_column = np.array(range(1, len(df_gap)+1))\n",
    "\n",
    "df_gap = pd.DataFrame(list(zip(enumerator_column, df_gap)))\n",
    "  \n",
    "plot_scatterplot(df_gap.iloc[:,0], df_gap.iloc[:,1], r'$k$', r'$\\lambda_{k+1}-\\lambda_k$','Eigengap dominantne komponente')\n",
    "\n",
    "plot_scatterplot2(df_gap.iloc[:30,0], df_gap.iloc[:30,1], r'$k$', r'$\\lambda_{k+1}-\\lambda_k$','Eigengap prvih 30 sopstvenih vrednosti \\n graf laplasijana dominantne komponente', 'Eigengap prvih 30 sopstvenih vrednosti graf laplasijana dominantne komponente')"
   ]
  },
  {
   "cell_type": "code",
   "execution_count": 63,
   "id": "12d2ad62",
   "metadata": {},
   "outputs": [
    {
     "name": "stdout",
     "output_type": "stream",
     "text": [
      "Podela na 2: velicine komponenata su [21. 18.]\n",
      "Podela na 3: velicine komponenata su [ 5. 18. 16.]\n",
      "Podela na 4: velicine komponenata su [11. 11.  5. 12.]\n",
      "Podela na 5: velicine komponenata su [ 9. 11.  4.  4. 11.]\n",
      "Podela na 6: velicine komponenata su [14.  4.  4. 10.  7.  0.]\n",
      "Podela na 7: velicine komponenata su [16.  1.  1. 15.  6.  0.  0.]\n",
      "Podela na 8: velicine komponenata su [ 6.  1. 11.  1.  1.  1.  6. 12.]\n",
      "Podela na 9: velicine komponenata su [18.  1.  1.  1. 12.  2.  3.  0.  1.]\n",
      "Podela na 10: velicine komponenata su [11.  1.  1.  1. 11.  2.  1.  1.  5.  5.]\n",
      "Podela na 11: velicine komponenata su [ 1. 14.  2.  1.  1.  1.  1.  4. 11.  1.  2.]\n",
      "Podela na 12: velicine komponenata su [10.  1.  1.  1.  1. 11.  1.  1.  3.  5.  4.  0.]\n",
      "Podela na 13: velicine komponenata su [ 3.  9.  1.  1.  1.  1.  1.  5.  1. 12.  1.  3.  0.]\n",
      "Podela na 14: velicine komponenata su [ 3.  7.  1.  1.  1.  2. 13.  1.  1.  1.  4.  1.  2.  1.]\n",
      "Podela na 15: velicine komponenata su [ 1.  9.  1.  1.  1.  1.  2.  2.  5.  1.  1. 11.  2.  1.  0.]\n",
      "Podela na 16: velicine komponenata su [13.  1.  1.  1.  3.  1.  2.  1.  1.  2.  1.  7.  3.  1.  1.  0.]\n",
      "Podela na 17: velicine komponenata su [ 1.  1.  4.  1.  1.  2.  1.  0.  1.  1.  1. 11.  1.  1.  3.  8.  1.]\n",
      "Podela na 18: velicine komponenata su [15.  1.  1.  2.  1.  1.  1.  1.  2.  2.  4.  1.  1.  5.  1.  0.  0.  0.]\n",
      "Podela na 19: velicine komponenata su [ 9.  1.  3.  1.  1.  1.  1.  1.  1.  1.  2.  1.  2.  1. 11.  1.  1.  0.\n",
      "  0.]\n",
      "Podela na 20: velicine komponenata su [ 1.  1.  1.  2.  1.  5.  0. 15.  1.  1.  1.  2.  2.  1.  1.  1.  1.  1.\n",
      "  0.  1.]\n",
      "Podela na 21: velicine komponenata su [ 1.  2.  1.  1.  2.  1.  1.  1.  1.  4.  2.  1.  1.  1.  1.  1. 12.  1.\n",
      "  2.  2.  0.]\n",
      "Podela na 22: velicine komponenata su [ 2.  1.  1.  1.  2.  4.  1.  2.  1.  1.  1.  2.  1.  1.  1.  1.  1. 12.\n",
      "  1.  1.  1.  0.]\n",
      "Podela na 23: velicine komponenata su [ 2.  1.  1.  1.  1.  2.  2. 12.  1.  1.  1.  1.  1.  1.  2.  1.  1.  2.\n",
      "  1.  1.  0.  3.  0.]\n",
      "Podela na 24: velicine komponenata su [ 1.  1.  1.  1.  1.  1.  1.  1. 13.  1.  1.  2.  1.  2.  1.  1.  1.  1.\n",
      "  2.  1.  0.  2.  1.  1.]\n",
      "Podela na 25: velicine komponenata su [ 2.  1.  1.  1.  1.  1.  2.  1.  2.  1.  1. 13.  1.  2.  1.  1.  1.  1.\n",
      "  1.  1.  1.  1.  1.  0.  0.]\n",
      "Podela na 26: velicine komponenata su [ 1.  1.  1.  1.  1.  1.  1.  1.  1.  1. 12.  1.  1.  1.  1.  1.  1.  1.\n",
      "  1.  1.  1.  1.  1.  2.  2.  1.]\n",
      "Podela na 27: velicine komponenata su [ 1.  2.  2.  1. 12.  1.  1.  1.  1.  1.  1.  1.  1.  2.  1.  1.  1.  1.\n",
      "  1.  1.  1.  1.  2.  1.  0.  0.  0.]\n",
      "Podela na 28: velicine komponenata su [12.  1.  1.  1.  2.  1.  1.  1.  1.  1.  1.  1.  1.  1.  1.  1.  1.  1.\n",
      "  1.  1.  1.  2.  1.  1.  1.  1.  0.  0.]\n",
      "Podela na 29: velicine komponenata su [ 1.  1.  1.  1.  1.  1.  1.  2.  1.  1.  1.  1.  1.  1.  1.  1.  1.  1.\n",
      "  1.  1.  1.  1.  2.  1.  1.  1. 11.  0.  0.]\n"
     ]
    }
   ],
   "source": [
    "#//deo koji radi klasterisanje!!\n",
    "\n",
    "for k in range(2, 30):\n",
    "    \n",
    "    #//prima broj klastera (n_cluster), a fit matricu slicnosti, odn. ako su tezine u pitanju matricu susednosti iz networkx\n",
    "    clustering = SpectralClustering(n_clusters=k,\n",
    "    assign_labels=\"discretize\", affinity=\"precomputed\").fit(nx.adjacency_matrix(dominant_component))\n",
    "\n",
    "    colors = clustering.labels_\n",
    "    c_string = []\n",
    "    for c in colors:\n",
    "        c_string.append(str(c))\n",
    "\n",
    "    G = nx.Graph()\n",
    "    for c, label in zip(c_string, dominant_component.nodes()):\n",
    "        G.add_node(label, color=c)\n",
    "\n",
    "    for edge in dominant_component.edges(data=True):\n",
    "        #print(edge)\n",
    "        G.add_edge(edge[0], edge[1], weight=edge[2]['weight'])\n",
    "\n",
    "    nx.write_gml(G, \"spectral.gml\")\n",
    "    \n",
    "    csizes = np.zeros(k)\n",
    "    for c in colors:\n",
    "        csizes[int(c)] += 1\n",
    "    \n",
    "    print(f\"Podela na {k}: velicine komponenata su {csizes}\")\n",
    "    "
   ]
  },
  {
   "cell_type": "markdown",
   "id": "68b79413",
   "metadata": {},
   "source": [
    "Na osnovu spektralne analize procenjujemo da je dobar izbor za broj komuna 5, 14, 17, 18, 28 i 29."
   ]
  },
  {
   "cell_type": "markdown",
   "id": "e380dd10",
   "metadata": {},
   "source": [
    "Sprovesti klasterisanje Luvenskom metodom (maksimizacijom modularnosti) u alatu \n",
    "Gephi za tri različite vrednosti parametra rezolucije. Konstruisati vizuelizacije i \n",
    "diskutovati izbor parametra rezolucije na dobijeno klasterisanje (broj i veličina klastera).\n",
    "\n",
    "Resolution: 0.1\n",
    "Modularity: -0.042\n",
    "Modularity with resolution: -0.077\n",
    "Number of Communities: 17\n",
    "Ima 17 klastera, od toga se veličinom ističe jedan klaster sa 4 čvora u njemu\n",
    "    \n",
    "Resolution: 1.0\n",
    "Modularity: 0.034\n",
    "Modularity with resolution: 0.034\n",
    "Number of Communities: 2\n",
    "Ima 2 klastera, veličine 13 i 26 čvorova u njemu \n",
    "    \n",
    "Resolution: 2.0\n",
    "Modularity: 0.000\n",
    "Modularity with resolution: 1.000\n",
    "Number of Communities: 1\n",
    "Ima samo  klaster, sa svih 39 čvorova u njemu\n"
   ]
  },
  {
   "cell_type": "markdown",
   "id": "752a2dee",
   "metadata": {},
   "source": [
    "Čvorovi sa najvećim stepenom za dva najveća klastera za rezoluciju 1.0 putem Luvenske metode prikazana su na sledećim slikama:\n"
   ]
  },
  {
   "cell_type": "markdown",
   "id": "bde25602",
   "metadata": {},
   "source": [
    "Ko su akteri koji se mogu okarakterisati kao ključni brokeri (mostovi) u mreži? Šta ih čini brokerima?\n",
    "\n",
    "S obzirom da je graf potpuno povezan i da svi čvorovi imaju istu relacionu centralnost, ne mogu se izdvojiti čvorovi koji predstavljaju brokere."
   ]
  }
 ],
 "metadata": {
  "kernelspec": {
   "display_name": "Python 3 (ipykernel)",
   "language": "python",
   "name": "python3"
  },
  "language_info": {
   "codemirror_mode": {
    "name": "ipython",
    "version": 3
   },
   "file_extension": ".py",
   "mimetype": "text/x-python",
   "name": "python",
   "nbconvert_exporter": "python",
   "pygments_lexer": "ipython3",
   "version": "3.9.7"
  }
 },
 "nbformat": 4,
 "nbformat_minor": 5
}
